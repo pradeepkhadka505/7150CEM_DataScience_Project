{
 "cells": [
  {
   "cell_type": "markdown",
   "id": "9490b36f-e3b7-49db-8271-befda3ac7891",
   "metadata": {},
   "source": [
    "Lungs Cancer ? "
   ]
  },
  {
   "cell_type": "markdown",
   "id": "ebc94dbd-8f4a-4510-aecc-12a655a6624d",
   "metadata": {},
   "source": [
    "Problem Satement "
   ]
  },
  {
   "cell_type": "markdown",
   "id": "2144c9e7-342b-4483-9622-d47c5258f9a5",
   "metadata": {},
   "source": [
    "About Data Sets "
   ]
  },
  {
   "cell_type": "markdown",
   "id": "a247652c-1f43-457c-9161-4983e6fa3246",
   "metadata": {},
   "source": [
    "Aims and Objective "
   ]
  },
  {
   "cell_type": "code",
   "execution_count": 1,
   "id": "90550c78-1160-4d89-8f86-738116a6e7dd",
   "metadata": {},
   "outputs": [],
   "source": [
    "# Essential Library"
   ]
  },
  {
   "cell_type": "code",
   "execution_count": 2,
   "id": "2c14d9ef-6792-41e2-bc5c-34795c90e54f",
   "metadata": {},
   "outputs": [],
   "source": [
    "import os \n",
    "import numpy as np\n",
    "import pandas as pd \n",
    "import matplotlib.pyplot as plt \n",
    "import plotly.express as px\n",
    "import plotly.graph_objects as go\n",
    "from plotly.subplots import make_subplots\n",
    "#Sklearn -libraries \n",
    "from sklearn.model_selection import train_test_split\n",
    "#To balance datasets \n",
    "from sklearn.utils import class_weight\n",
    "#Open CV\n",
    "import cv2\n",
    "#Tensorflow and keras Library\n",
    "import tensorflow as tf\n",
    "from tensorflow.keras.preprocessing.image import ImageDataGenerator\n",
    "from tensorflow.keras.models import Sequential\n",
    "from tensorflow.keras.layers import Conv2D, MaxPooling2D, BatchNormalization\n",
    "from tensorflow.keras.layers import GlobalAveragePooling2D, Dense, Dropout, Input\n",
    "from tensorflow.keras.optimizers import Adam\n",
    "from tensorflow.keras.callbacks import Callback, EarlyStopping, ModelCheckpoint, ReduceLROnPlateau\n",
    "from tensorflow.keras.applications import InceptionV3\n",
    "from tensorflow.keras.applications import VGG16\n",
    "import warnings\n",
    "warnings.filterwarnings('ignore')"
   ]
  },
  {
   "cell_type": "code",
   "execution_count": 3,
   "id": "c136b17c-8e5b-4678-bce9-ff342dbd5561",
   "metadata": {},
   "outputs": [],
   "source": [
    "bengin_path = r'./NIDCH-Dhaka-Lungs-Cancer-Datasets/Dataset/Bengin cases'\n",
    "malignant_path = r'./NIDCH-Dhaka-Lungs-Cancer-Datasets/Dataset/Malignant cases'\n",
    "normal_path = r'./NIDCH-Dhaka-Lungs-Cancer-Datasets/Dataset/Normal cases'\n",
    "\n",
    "img_classes = [\"Bengin cases\", \"Malignant cases\", \"Normal cases\"] # Categories \n",
    "path_list = [bengin_path, malignant_path, normal_path]"
   ]
  },
  {
   "cell_type": "code",
   "execution_count": 4,
   "id": "9529b3a9-d2ab-430c-bee7-d2b9d0430446",
   "metadata": {},
   "outputs": [
    {
     "data": {
      "text/html": [
       "<div>\n",
       "<style scoped>\n",
       "    .dataframe tbody tr th:only-of-type {\n",
       "        vertical-align: middle;\n",
       "    }\n",
       "\n",
       "    .dataframe tbody tr th {\n",
       "        vertical-align: top;\n",
       "    }\n",
       "\n",
       "    .dataframe thead th {\n",
       "        text-align: right;\n",
       "    }\n",
       "</style>\n",
       "<table border=\"1\" class=\"dataframe\">\n",
       "  <thead>\n",
       "    <tr style=\"text-align: right;\">\n",
       "      <th></th>\n",
       "      <th>img_path</th>\n",
       "      <th>label</th>\n",
       "    </tr>\n",
       "  </thead>\n",
       "  <tbody>\n",
       "    <tr>\n",
       "      <th>0</th>\n",
       "      <td>./NIDCH-Dhaka-Lungs-Cancer-Datasets/Dataset/Be...</td>\n",
       "      <td>Bengin cases</td>\n",
       "    </tr>\n",
       "    <tr>\n",
       "      <th>1</th>\n",
       "      <td>./NIDCH-Dhaka-Lungs-Cancer-Datasets/Dataset/Be...</td>\n",
       "      <td>Bengin cases</td>\n",
       "    </tr>\n",
       "    <tr>\n",
       "      <th>2</th>\n",
       "      <td>./NIDCH-Dhaka-Lungs-Cancer-Datasets/Dataset/Be...</td>\n",
       "      <td>Bengin cases</td>\n",
       "    </tr>\n",
       "    <tr>\n",
       "      <th>3</th>\n",
       "      <td>./NIDCH-Dhaka-Lungs-Cancer-Datasets/Dataset/Be...</td>\n",
       "      <td>Bengin cases</td>\n",
       "    </tr>\n",
       "    <tr>\n",
       "      <th>4</th>\n",
       "      <td>./NIDCH-Dhaka-Lungs-Cancer-Datasets/Dataset/Be...</td>\n",
       "      <td>Bengin cases</td>\n",
       "    </tr>\n",
       "  </tbody>\n",
       "</table>\n",
       "</div>"
      ],
      "text/plain": [
       "                                            img_path         label\n",
       "0  ./NIDCH-Dhaka-Lungs-Cancer-Datasets/Dataset/Be...  Bengin cases\n",
       "1  ./NIDCH-Dhaka-Lungs-Cancer-Datasets/Dataset/Be...  Bengin cases\n",
       "2  ./NIDCH-Dhaka-Lungs-Cancer-Datasets/Dataset/Be...  Bengin cases\n",
       "3  ./NIDCH-Dhaka-Lungs-Cancer-Datasets/Dataset/Be...  Bengin cases\n",
       "4  ./NIDCH-Dhaka-Lungs-Cancer-Datasets/Dataset/Be...  Bengin cases"
      ]
     },
     "execution_count": 4,
     "metadata": {},
     "output_type": "execute_result"
    }
   ],
   "source": [
    "img_path = []\n",
    "class_labels = []\n",
    "for i, dir_list in enumerate(path_list):\n",
    "    name_img = os.listdir(dir_list)\n",
    "    for name_file in name_img:\n",
    "        img = os.path.join(dir_list,name_file)\n",
    "        img_path.append(img)\n",
    "        class_labels.append(img_classes[i])\n",
    "\n",
    "df = pd.DataFrame({\"img_path\" : img_path,\n",
    "                  \"label\" : class_labels})\n",
    "\n",
    "df.head()\n"
   ]
  },
  {
   "cell_type": "code",
   "execution_count": 5,
   "id": "3e89fb66-5f03-497e-9f86-4fe41683b899",
   "metadata": {},
   "outputs": [
    {
     "data": {
      "text/html": [
       "<div>\n",
       "<style scoped>\n",
       "    .dataframe tbody tr th:only-of-type {\n",
       "        vertical-align: middle;\n",
       "    }\n",
       "\n",
       "    .dataframe tbody tr th {\n",
       "        vertical-align: top;\n",
       "    }\n",
       "\n",
       "    .dataframe thead th {\n",
       "        text-align: right;\n",
       "    }\n",
       "</style>\n",
       "<table border=\"1\" class=\"dataframe\">\n",
       "  <thead>\n",
       "    <tr style=\"text-align: right;\">\n",
       "      <th></th>\n",
       "      <th>img_path</th>\n",
       "      <th>label</th>\n",
       "    </tr>\n",
       "  </thead>\n",
       "  <tbody>\n",
       "    <tr>\n",
       "      <th>count</th>\n",
       "      <td>1933</td>\n",
       "      <td>1933</td>\n",
       "    </tr>\n",
       "    <tr>\n",
       "      <th>unique</th>\n",
       "      <td>1933</td>\n",
       "      <td>3</td>\n",
       "    </tr>\n",
       "    <tr>\n",
       "      <th>top</th>\n",
       "      <td>./NIDCH-Dhaka-Lungs-Cancer-Datasets/Dataset/Be...</td>\n",
       "      <td>Malignant cases</td>\n",
       "    </tr>\n",
       "    <tr>\n",
       "      <th>freq</th>\n",
       "      <td>1</td>\n",
       "      <td>1050</td>\n",
       "    </tr>\n",
       "  </tbody>\n",
       "</table>\n",
       "</div>"
      ],
      "text/plain": [
       "                                                 img_path            label\n",
       "count                                                1933             1933\n",
       "unique                                               1933                3\n",
       "top     ./NIDCH-Dhaka-Lungs-Cancer-Datasets/Dataset/Be...  Malignant cases\n",
       "freq                                                    1             1050"
      ]
     },
     "execution_count": 5,
     "metadata": {},
     "output_type": "execute_result"
    }
   ],
   "source": [
    "df.describe()"
   ]
  },
  {
   "cell_type": "code",
   "execution_count": 6,
   "id": "031f7259-d6fb-462b-bd47-ed0ecbae78d6",
   "metadata": {},
   "outputs": [
    {
     "data": {
      "image/png": "[encoded data removed]",
      "text/plain": [
       "<Figure size 700x700 with 3 Axes>"
      ]
     },
     "metadata": {},
     "output_type": "display_data"
    },
    {
     "data": {
      "image/png": "[encoded data removed]",
      "text/plain": [
       "<Figure size 700x700 with 3 Axes>"
      ]
     },
     "metadata": {},
     "output_type": "display_data"
    },
    {
     "data": {
      "image/png": "[encoded data removed]",
      "text/plain": [
       "<Figure size 700x700 with 3 Axes>"
      ]
     },
     "metadata": {},
     "output_type": "display_data"
    }
   ],
   "source": [
    "for category, group in df.groupby(\"label\"):\n",
    "    fig, ax = plt.subplots(1,3, figsize = (7,7))\n",
    "    ax = ax.ravel()\n",
    "    for i, (_,r) in enumerate(group.sample(3).iterrows()):\n",
    "        img = cv2.imread(r.img_path)\n",
    "        ax[i].imshow(img)\n",
    "        ax[i].axis(\"off\")\n",
    "        ax[i].set_title(r.label)\n",
    "    plt.show()"
   ]
  },
  {
   "cell_type": "markdown",
   "id": "f4725ad4-1cf9-4ab3-b469-8f083222d34d",
   "metadata": {},
   "source": [
    "#### Exploratory Data Analysis "
   ]
  },
  {
   "cell_type": "code",
   "execution_count": 7,
   "id": "f38fc5ad-5647-42b7-b523-d505fbe068e7",
   "metadata": {},
   "outputs": [
    {
     "data": {
      "application/vnd.plotly.v1+json": {
       "config": {
        "plotlyServerURL": "https://plot.ly"
       },
       "data": [
        {
         "bingroup": "x",
         "histfunc": "sum",
         "hovertemplate": "label=%{x}<br>sum of count=%{y}<extra></extra>",
         "legendgroup": "",
         "marker": {
          "color": "#636efa",
          "pattern": {
           "shape": ""
          }
         },
         "name": "",
         "orientation": "v",
         "showlegend": false,
         "type": "histogram",
         "x": [
          "Malignant cases",
          "Bengin cases",
          "Normal cases"
         ],
         "xaxis": "x",
         "y": {
          "_inputArray": {
           "0": 1050,
           "1": 467,
           "2": 416,
           "bdata": "GgTTAaAB",
           "dtype": "i2",
           "shape": "3"
          },
          "bdata": "GgTTAaAB",
          "dtype": "i2"
         },
         "yaxis": "y"
        }
       ],
       "layout": {
        "barmode": "relative",
        "height": 400,
        "legend": {
         "tracegroupgap": 0
        },
        "template": {
         "data": {
          "bar": [
           {
            "error_x": {
             "color": "#2a3f5f"
            },
            "error_y": {
             "color": "#2a3f5f"
            },
            "marker": {
             "line": {
              "color": "#E5ECF6",
              "width": 0.5
             },
             "pattern": {
              "fillmode": "overlay",
              "size": 10,
              "solidity": 0.2
             }
            },
            "type": "bar"
           }
          ],
          "barpolar": [
           {
            "marker": {
             "line": {
              "color": "#E5ECF6",
              "width": 0.5
             },
             "pattern": {
              "fillmode": "overlay",
              "size": 10,
              "solidity": 0.2
             }
            },
            "type": "barpolar"
           }
          ],
          "carpet": [
           {
            "aaxis": {
             "endlinecolor": "#2a3f5f",
             "gridcolor": "white",
             "linecolor": "white",
             "minorgridcolor": "white",
             "startlinecolor": "#2a3f5f"
            },
            "baxis": {
             "endlinecolor": "#2a3f5f",
             "gridcolor": "white",
             "linecolor": "white",
             "minorgridcolor": "white",
             "startlinecolor": "#2a3f5f"
            },
            "type": "carpet"
           }
          ],
          "choropleth": [
           {
            "colorbar": {
             "outlinewidth": 0,
             "ticks": ""
            },
            "type": "choropleth"
           }
          ],
          "contour": [
           {
            "colorbar": {
             "outlinewidth": 0,
             "ticks": ""
            },
            "colorscale": [
             [
              0,
              "#0d0887"
             ],
             [
              0.1111111111111111,
              "#46039f"
             ],
             [
              0.2222222222222222,
              "#7201a8"
             ],
             [
              0.3333333333333333,
              "#9c179e"
             ],
             [
              0.4444444444444444,
              "#bd3786"
             ],
             [
              0.5555555555555556,
              "#d8576b"
             ],
             [
              0.6666666666666666,
              "#ed7953"
             ],
             [
              0.7777777777777778,
              "#fb9f3a"
             ],
             [
              0.8888888888888888,
              "#fdca26"
             ],
             [
              1,
              "#f0f921"
             ]
            ],
            "type": "contour"
           }
          ],
          "contourcarpet": [
           {
            "colorbar": {
             "outlinewidth": 0,
             "ticks": ""
            },
            "type": "contourcarpet"
           }
          ],
          "heatmap": [
           {
            "colorbar": {
             "outlinewidth": 0,
             "ticks": ""
            },
            "colorscale": [
             [
              0,
              "#0d0887"
             ],
             [
              0.1111111111111111,
              "#46039f"
             ],
             [
              0.2222222222222222,
              "#7201a8"
             ],
             [
              0.3333333333333333,
              "#9c179e"
             ],
             [
              0.4444444444444444,
              "#bd3786"
             ],
             [
              0.5555555555555556,
              "#d8576b"
             ],
             [
              0.6666666666666666,
              "#ed7953"
             ],
             [
              0.7777777777777778,
              "#fb9f3a"
             ],
             [
              0.8888888888888888,
              "#fdca26"
             ],
             [
              1,
              "#f0f921"
             ]
            ],
            "type": "heatmap"
           }
          ],
          "histogram": [
           {
            "marker": {
             "pattern": {
              "fillmode": "overlay",
              "size": 10,
              "solidity": 0.2
             }
            },
            "type": "histogram"
           }
          ],
          "histogram2d": [
           {
            "colorbar": {
             "outlinewidth": 0,
             "ticks": ""
            },
            "colorscale": [
             [
              0,
              "#0d0887"
             ],
             [
              0.1111111111111111,
              "#46039f"
             ],
             [
              0.2222222222222222,
              "#7201a8"
             ],
             [
              0.3333333333333333,
              "#9c179e"
             ],
             [
              0.4444444444444444,
              "#bd3786"
             ],
             [
              0.5555555555555556,
              "#d8576b"
             ],
             [
              0.6666666666666666,
              "#ed7953"
             ],
             [
              0.7777777777777778,
              "#fb9f3a"
             ],
             [
              0.8888888888888888,
              "#fdca26"
             ],
             [
              1,
              "#f0f921"
             ]
            ],
            "type": "histogram2d"
           }
          ],
          "histogram2dcontour": [
           {
            "colorbar": {
             "outlinewidth": 0,
             "ticks": ""
            },
            "colorscale": [
             [
              0,
              "#0d0887"
             ],
             [
              0.1111111111111111,
              "#46039f"
             ],
             [
              0.2222222222222222,
              "#7201a8"
             ],
             [
              0.3333333333333333,
              "#9c179e"
             ],
             [
              0.4444444444444444,
              "#bd3786"
             ],
             [
              0.5555555555555556,
              "#d8576b"
             ],
             [
              0.6666666666666666,
              "#ed7953"
             ],
             [
              0.7777777777777778,
              "#fb9f3a"
             ],
             [
              0.8888888888888888,
              "#fdca26"
             ],
             [
              1,
              "#f0f921"
             ]
            ],
            "type": "histogram2dcontour"
           }
          ],
          "mesh3d": [
           {
            "colorbar": {
             "outlinewidth": 0,
             "ticks": ""
            },
            "type": "mesh3d"
           }
          ],
          "parcoords": [
           {
            "line": {
             "colorbar": {
              "outlinewidth": 0,
              "ticks": ""
             }
            },
            "type": "parcoords"
           }
          ],
          "pie": [
           {
            "automargin": true,
            "type": "pie"
           }
          ],
          "scatter": [
           {
            "fillpattern": {
             "fillmode": "overlay",
             "size": 10,
             "solidity": 0.2
            },
            "type": "scatter"
           }
          ],
          "scatter3d": [
           {
            "line": {
             "colorbar": {
              "outlinewidth": 0,
              "ticks": ""
             }
            },
            "marker": {
             "colorbar": {
              "outlinewidth": 0,
              "ticks": ""
             }
            },
            "type": "scatter3d"
           }
          ],
          "scattercarpet": [
           {
            "marker": {
             "colorbar": {
              "outlinewidth": 0,
              "ticks": ""
             }
            },
            "type": "scattercarpet"
           }
          ],
          "scattergeo": [
           {
            "marker": {
             "colorbar": {
              "outlinewidth": 0,
              "ticks": ""
             }
            },
            "type": "scattergeo"
           }
          ],
          "scattergl": [
           {
            "marker": {
             "colorbar": {
              "outlinewidth": 0,
              "ticks": ""
             }
            },
            "type": "scattergl"
           }
          ],
          "scattermap": [
           {
            "marker": {
             "colorbar": {
              "outlinewidth": 0,
              "ticks": ""
             }
            },
            "type": "scattermap"
           }
          ],
          "scattermapbox": [
           {
            "marker": {
             "colorbar": {
              "outlinewidth": 0,
              "ticks": ""
             }
            },
            "type": "scattermapbox"
           }
          ],
          "scatterpolar": [
           {
            "marker": {
             "colorbar": {
              "outlinewidth": 0,
              "ticks": ""
             }
            },
            "type": "scatterpolar"
           }
          ],
          "scatterpolargl": [
           {
            "marker": {
             "colorbar": {
              "outlinewidth": 0,
              "ticks": ""
             }
            },
            "type": "scatterpolargl"
           }
          ],
          "scatterternary": [
           {
            "marker": {
             "colorbar": {
              "outlinewidth": 0,
              "ticks": ""
             }
            },
            "type": "scatterternary"
           }
          ],
          "surface": [
           {
            "colorbar": {
             "outlinewidth": 0,
             "ticks": ""
            },
            "colorscale": [
             [
              0,
              "#0d0887"
             ],
             [
              0.1111111111111111,
              "#46039f"
             ],
             [
              0.2222222222222222,
              "#7201a8"
             ],
             [
              0.3333333333333333,
              "#9c179e"
             ],
             [
              0.4444444444444444,
              "#bd3786"
             ],
             [
              0.5555555555555556,
              "#d8576b"
             ],
             [
              0.6666666666666666,
              "#ed7953"
             ],
             [
              0.7777777777777778,
              "#fb9f3a"
             ],
             [
              0.8888888888888888,
              "#fdca26"
             ],
             [
              1,
              "#f0f921"
             ]
            ],
            "type": "surface"
           }
          ],
          "table": [
           {
            "cells": {
             "fill": {
              "color": "#EBF0F8"
             },
             "line": {
              "color": "white"
             }
            },
            "header": {
             "fill": {
              "color": "#C8D4E3"
             },
             "line": {
              "color": "white"
             }
            },
            "type": "table"
           }
          ]
         },
         "layout": {
          "annotationdefaults": {
           "arrowcolor": "#2a3f5f",
           "arrowhead": 0,
           "arrowwidth": 1
          },
          "autotypenumbers": "strict",
          "coloraxis": {
           "colorbar": {
            "outlinewidth": 0,
            "ticks": ""
           }
          },
          "colorscale": {
           "diverging": [
            [
             0,
             "#8e0152"
            ],
            [
             0.1,
             "#c51b7d"
            ],
            [
             0.2,
             "#de77ae"
            ],
            [
             0.3,
             "#f1b6da"
            ],
            [
             0.4,
             "#fde0ef"
            ],
            [
             0.5,
             "#f7f7f7"
            ],
            [
             0.6,
             "#e6f5d0"
            ],
            [
             0.7,
             "#b8e186"
            ],
            [
             0.8,
             "#7fbc41"
            ],
            [
             0.9,
             "#4d9221"
            ],
            [
             1,
             "#276419"
            ]
           ],
           "sequential": [
            [
             0,
             "#0d0887"
            ],
            [
             0.1111111111111111,
             "#46039f"
            ],
            [
             0.2222222222222222,
             "#7201a8"
            ],
            [
             0.3333333333333333,
             "#9c179e"
            ],
            [
             0.4444444444444444,
             "#bd3786"
            ],
            [
             0.5555555555555556,
             "#d8576b"
            ],
            [
             0.6666666666666666,
             "#ed7953"
            ],
            [
             0.7777777777777778,
             "#fb9f3a"
            ],
            [
             0.8888888888888888,
             "#fdca26"
            ],
            [
             1,
             "#f0f921"
            ]
           ],
           "sequentialminus": [
            [
             0,
             "#0d0887"
            ],
            [
             0.1111111111111111,
             "#46039f"
            ],
            [
             0.2222222222222222,
             "#7201a8"
            ],
            [
             0.3333333333333333,
             "#9c179e"
            ],
            [
             0.4444444444444444,
             "#bd3786"
            ],
            [
             0.5555555555555556,
             "#d8576b"
            ],
            [
             0.6666666666666666,
             "#ed7953"
            ],
            [
             0.7777777777777778,
             "#fb9f3a"
            ],
            [
             0.8888888888888888,
             "#fdca26"
            ],
            [
             1,
             "#f0f921"
            ]
           ]
          },
          "colorway": [
           "#636efa",
           "#EF553B",
           "#00cc96",
           "#ab63fa",
           "#FFA15A",
           "#19d3f3",
           "#FF6692",
           "#B6E880",
           "#FF97FF",
           "#FECB52"
          ],
          "font": {
           "color": "#2a3f5f"
          },
          "geo": {
           "bgcolor": "white",
           "lakecolor": "white",
           "landcolor": "#E5ECF6",
           "showlakes": true,
           "showland": true,
           "subunitcolor": "white"
          },
          "hoverlabel": {
           "align": "left"
          },
          "hovermode": "closest",
          "mapbox": {
           "style": "light"
          },
          "paper_bgcolor": "white",
          "plot_bgcolor": "#E5ECF6",
          "polar": {
           "angularaxis": {
            "gridcolor": "white",
            "linecolor": "white",
            "ticks": ""
           },
           "bgcolor": "#E5ECF6",
           "radialaxis": {
            "gridcolor": "white",
            "linecolor": "white",
            "ticks": ""
           }
          },
          "scene": {
           "xaxis": {
            "backgroundcolor": "#E5ECF6",
            "gridcolor": "white",
            "gridwidth": 2,
            "linecolor": "white",
            "showbackground": true,
            "ticks": "",
            "zerolinecolor": "white"
           },
           "yaxis": {
            "backgroundcolor": "#E5ECF6",
            "gridcolor": "white",
            "gridwidth": 2,
            "linecolor": "white",
            "showbackground": true,
            "ticks": "",
            "zerolinecolor": "white"
           },
           "zaxis": {
            "backgroundcolor": "#E5ECF6",
            "gridcolor": "white",
            "gridwidth": 2,
            "linecolor": "white",
            "showbackground": true,
            "ticks": "",
            "zerolinecolor": "white"
           }
          },
          "shapedefaults": {
           "line": {
            "color": "#2a3f5f"
           }
          },
          "ternary": {
           "aaxis": {
            "gridcolor": "white",
            "linecolor": "white",
            "ticks": ""
           },
           "baxis": {
            "gridcolor": "white",
            "linecolor": "white",
            "ticks": ""
           },
           "bgcolor": "#E5ECF6",
           "caxis": {
            "gridcolor": "white",
            "linecolor": "white",
            "ticks": ""
           }
          },
          "title": {
           "x": 0.05
          },
          "xaxis": {
           "automargin": true,
           "gridcolor": "white",
           "linecolor": "white",
           "ticks": "",
           "title": {
            "standoff": 15
           },
           "zerolinecolor": "white",
           "zerolinewidth": 2
          },
          "yaxis": {
           "automargin": true,
           "gridcolor": "white",
           "linecolor": "white",
           "ticks": "",
           "title": {
            "standoff": 15
           },
           "zerolinecolor": "white",
           "zerolinewidth": 2
          }
         }
        },
        "title": {
         "text": "Count of Labels by Category"
        },
        "width": 600,
        "xaxis": {
         "anchor": "y",
         "autorange": true,
         "domain": [
          0,
          1
         ],
         "range": [
          -0.5,
          2.5
         ],
         "title": {
          "text": "label"
         },
         "type": "category"
        },
        "yaxis": {
         "anchor": "x",
         "autorange": true,
         "domain": [
          0,
          1
         ],
         "range": [
          0,
          1105.2631578947369
         ],
         "title": {
          "text": "sum of count"
         },
         "type": "linear"
        }
       }
      }
     },
     "metadata": {},
     "output_type": "display_data"
    }
   ],
   "source": [
    "countData = df[\"label\"].value_counts().reset_index()\n",
    "fig = px.histogram(data_frame = countData, x = \"label\", y = \"count\", width=600,\n",
    "    height=400,\n",
    "    title=\"Count of Labels by Category\")\n",
    "fig.show()"
   ]
  },
  {
   "cell_type": "markdown",
   "id": "705897ec-f1f1-442c-af73-7f91b5b9593d",
   "metadata": {},
   "source": [
    "#### Analyzing the Image properties "
   ]
  },
  {
   "cell_type": "code",
   "execution_count": 8,
   "id": "ae7673f2-5ec0-4a12-8303-ceb1e0bd9d94",
   "metadata": {},
   "outputs": [],
   "source": [
    "sizes = []\n",
    "resolutions = []\n",
    "color_distributions = []\n",
    "\n",
    "for img_path in df [\"img_path\"]:\n",
    "    # load image \n",
    "    img = cv2.imread(img_path)\n",
    "    img = cv2.cvtColor(img, cv2.COLOR_BGR2RGB)\n",
    "    #code to get image size\n",
    "    size = os.path.getsize(img_path)\n",
    "    sizes.append(size)\n",
    "    #Extract the resolutions of images\n",
    "    resolution = img.shape[:2]\n",
    "    resolutions.append(resolution)\n",
    "    #Extract color distribution\n",
    "    mean_color_distributions = np.bincount(img.flatten(), minlength= 256)\n",
    "    color_distributions.append(mean_color_distributions)\n",
    "sizes = np.array(sizes)\n",
    "resolutions = np.array(resolutions)\n",
    "color_distributions = np.array(color_distributions)"
   ]
  },
  {
   "cell_type": "markdown",
   "id": "1a259714-bfaa-4824-8216-846240d52824",
   "metadata": {},
   "source": [
    "#### Distributions Size of image"
   ]
  },
  {
   "cell_type": "code",
   "execution_count": 9,
   "id": "ceeb3cf9-f9f8-4f8d-9547-7dc8c3349e2e",
   "metadata": {},
   "outputs": [
    {
     "data": {
      "application/vnd.plotly.v1+json": {
       "config": {
        "plotlyServerURL": "https://plot.ly"
       },
       "data": [
        {
         "bingroup": "x",
         "hovertemplate": "x=%{x}<br>count=%{y}<extra></extra>",
         "legendgroup": "",
         "marker": {
          "color": "green",
          "pattern": {
           "shape": ""
          }
         },
         "name": "",
         "nbinsx": 50,
         "orientation": "v",
         "showlegend": false,
         "type": "histogram",
         "x": {
          "_inputArray": {
           "0": 0.71129,
           "1": 0.70713,
           "10": 0.75857,
           "100": 0.72572,
           "1000": 0.68013,
           "1001": 0.6935,
           "1002": 0.71409,
           "1003": 0.72496,
           "1004": 0.7365,
           "1005": 0.73446,
           "1006": 0.7319,
           "1007": 0.71732,
           "1008": 0.7289,
           "1009": 0.7243,
           "101": 0.9125,
           "1010": 0.7159,
           "1011": 0.70674,
           "1012": 0.69688,
           "1013": 0.68452,
           "1014": 0.68052,
           "1015": 0.67294,
           "1016": 0.6717,
           "1017": 0.66889,
           "1018": 0.71748,
           "1019": 0.67203,
           "102": 0.91038,
           "1020": 0.66953,
           "1021": 0.66034,
           "1022": 0.93805,
           "1023": 0.92695,
           "1024": 0.93402,
           "1025": 0.93122,
           "1026": 0.93541,
           "1027": 0.93976,
           "1028": 0.94267,
           "1029": 0.72187,
           "103": 0.91405,
           "1030": 0.94509,
           "1031": 0.94721,
           "1032": 0.95235,
           "1033": 0.95986,
           "1034": 0.96132,
           "1035": 0.9582,
           "1036": 0.95602,
           "1037": 0.96318,
           "1038": 0.9611,
           "1039": 0.96659,
           "104": 0.91861,
           "1040": 0.72394,
           "1041": 0.96055,
           "1042": 0.95456,
           "1043": 0.96288,
           "1044": 0.9659,
           "1045": 0.97024,
           "1046": 0.96322,
           "1047": 0.95748,
           "1048": 0.95326,
           "1049": 0.95155,
           "105": 0.92595,
           "1050": 0.9479,
           "1051": 0.72227,
           "1052": 0.94123,
           "1053": 0.73922,
           "1054": 0.74898,
           "1055": 0.75746,
           "1056": 0.7647,
           "1057": 0.76885,
           "1058": 0.77041,
           "1059": 0.7677,
           "106": 0.93243,
           "1060": 0.75876,
           "1061": 0.75981,
           "1062": 0.72053,
           "1063": 0.75288,
           "1064": 0.76139,
           "1065": 0.76694,
           "1066": 0.78151,
           "1067": 0.78988,
           "1068": 0.79584,
           "1069": 0.80609,
           "107": 0.93024,
           "1070": 0.80836,
           "1071": 0.80634,
           "1072": 0.80039,
           "1073": 0.63527,
           "1074": 0.62695,
           "1075": 0.8016,
           "1076": 0.7962,
           "1077": 0.79866,
           "1078": 0.79402,
           "1079": 0.79268,
           "108": 0.93151,
           "1080": 0.78498,
           "1081": 0.77791,
           "1082": 0.69535,
           "1083": 0.70264,
           "1084": 0.69713,
           "1085": 0.6302,
           "1086": 0.69835,
           "1087": 0.68919,
           "1088": 0.68927,
           "1089": 0.68334,
           "109": 0.92883,
           "1090": 0.67295,
           "1091": 0.67263,
           "1092": 0.67772,
           "1093": 0.68503,
           "1094": 0.67692,
           "1095": 0.68574,
           "1096": 0.62841,
           "1097": 0.69049,
           "1098": 0.69835,
           "1099": 0.69901,
           "11": 0.78658,
           "110": 0.93553,
           "1100": 0.70142,
           "1101": 0.7088,
           "1102": 0.70225,
           "1103": 0.69295,
           "1104": 0.69375,
           "1105": 0.69781,
           "1106": 0.70385,
           "1107": 0.64096,
           "1108": 0.70256,
           "1109": 0.7068,
           "111": 0.70682,
           "1110": 0.70666,
           "1111": 0.70171,
           "1112": 0.6804,
           "1113": 0.67051,
           "1114": 0.68071,
           "1115": 0.81003,
           "1116": 0.7786,
           "1117": 0.78688,
           "1118": 0.64356,
           "1119": 0.78741,
           "112": 0.73647,
           "1120": 0.79271,
           "1121": 0.80732,
           "1122": 0.80423,
           "1123": 0.80889,
           "1124": 0.81419,
           "1125": 0.8207,
           "1126": 0.82012,
           "1127": 0.82125,
           "1128": 0.82261,
           "1129": 0.65753,
           "113": 0.93376,
           "1130": 0.81371,
           "1131": 0.81762,
           "1132": 0.81587,
           "1133": 0.81871,
           "1134": 0.81677,
           "1135": 0.82311,
           "1136": 0.81941,
           "1137": 0.8137,
           "1138": 0.81242,
           "1139": 0.81239,
           "114": 0.93433,
           "1140": 0.65695,
           "1141": 0.81577,
           "1142": 0.77448,
           "1143": 0.78077,
           "1144": 0.78532,
           "1145": 0.79145,
           "1146": 0.7956,
           "1147": 0.79463,
           "1148": 0.80115,
           "1149": 0.79915,
           "115": 0.93353,
           "1150": 0.80348,
           "1151": 0.65811,
           "1152": 0.80872,
           "1153": 0.81743,
           "1154": 0.81469,
           "1155": 0.81709,
           "1156": 0.81557,
           "1157": 0.81545,
           "1158": 0.71426,
           "1159": 0.67245,
           "116": 0.93201,
           "1160": 0.67081,
           "1161": 0.66403,
           "1162": 0.6672,
           "1163": 0.66695,
           "1164": 0.67053,
           "1165": 0.68067,
           "1166": 0.68405,
           "1167": 0.69043,
           "1168": 0.69117,
           "1169": 0.69537,
           "117": 0.94108,
           "1170": 0.6878,
           "1171": 0.6953,
           "1172": 0.69712,
           "1173": 0.6704,
           "1174": 0.69863,
           "1175": 0.69869,
           "1176": 0.69695,
           "1177": 0.70328,
           "1178": 0.69612,
           "1179": 0.70205,
           "118": 0.93943,
           "1180": 0.70556,
           "1181": 0.70348,
           "1182": 0.71281,
           "1183": 0.71331,
           "1184": 0.65092,
           "1185": 0.66361,
           "1186": 0.71904,
           "1187": 0.71688,
           "1188": 0.72494,
           "1189": 0.68431,
           "119": 0.93255,
           "1190": 0.68841,
           "1191": 0.69367,
           "1192": 0.70502,
           "1193": 0.7153,
           "1194": 0.72058,
           "1195": 0.73318,
           "1196": 0.66291,
           "1197": 0.73949,
           "1198": 0.74595,
           "1199": 0.74697,
           "12": 0.70339,
           "120": 0.92936,
           "1200": 0.75508,
           "1201": 0.75845,
           "1202": 0.76053,
           "1203": 0.76248,
           "1204": 0.76213,
           "1205": 0.76185,
           "1206": 0.7548,
           "1207": 0.6588,
           "1208": 0.75716,
           "1209": 0.75113,
           "121": 0.93826,
           "1210": 0.7467,
           "1211": 0.73859,
           "1212": 0.73505,
           "1213": 0.66266,
           "1214": 0.67027,
           "1215": 0.6697,
           "1216": 0.67458,
           "1217": 0.68051,
           "1218": 0.64356,
           "1219": 0.68407,
           "122": 0.93964,
           "1220": 0.68405,
           "1221": 0.67436,
           "1222": 0.67808,
           "1223": 0.67328,
           "1224": 0.67919,
           "1225": 0.68148,
           "1226": 0.68179,
           "1227": 0.6776,
           "1228": 0.66845,
           "1229": 0.64724,
           "123": 0.74617,
           "1230": 0.67173,
           "1231": 0.66755,
           "1232": 0.66882,
           "1233": 0.67049,
           "1234": 0.66647,
           "1235": 0.82354,
           "1236": 0.81201,
           "1237": 0.75156,
           "1238": 0.75679,
           "1239": 0.77469,
           "124": 0.93831,
           "1240": 0.65485,
           "1241": 0.78359,
           "1242": 0.79222,
           "1243": 0.80528,
           "1244": 0.8197,
           "1245": 0.81658,
           "1246": 0.81743,
           "1247": 0.82627,
           "1248": 0.82593,
           "1249": 0.82283,
           "125": 0.94298,
           "1250": 0.82049,
           "1251": 0.65753,
           "1252": 0.83033,
           "1253": 0.82072,
           "1254": 0.81999,
           "1255": 0.8283,
           "1256": 0.82926,
           "1257": 0.83223,
           "1258": 0.82804,
           "1259": 0.83464,
           "126": 0.93805,
           "1260": 0.82966,
           "1261": 0.82685,
           "1262": 0.65695,
           "1263": 0.82385,
           "1264": 0.78885,
           "1265": 0.74788,
           "1266": 0.75218,
           "1267": 0.75747,
           "1268": 0.76157,
           "1269": 0.7793,
           "127": 0.94142,
           "1270": 0.78131,
           "1271": 0.78473,
           "1272": 0.78842,
           "1273": 0.65811,
           "1274": 0.79479,
           "1275": 0.78876,
           "1276": 0.78336,
           "1277": 0.7916,
           "1278": 0.79866,
           "1279": 0.79925,
           "128": 0.93765,
           "1280": 0.79021,
           "1281": 0.79806,
           "1282": 0.80008,
           "1283": 0.79264,
           "1284": 0.6672,
           "1285": 0.79907,
           "1286": 0.80137,
           "1287": 0.80307,
           "1288": 0.80262,
           "1289": 0.80209,
           "129": 0.93205,
           "1290": 0.79895,
           "1291": 0.78808,
           "1292": 0.79034,
           "1293": 0.78952,
           "1294": 0.71324,
           "1295": 0.65451,
           "1296": 0.6704,
           "1297": 0.70325,
           "1298": 0.70143,
           "1299": 0.70117,
           "13": 0.78888,
           "130": 0.93205,
           "1300": 0.70269,
           "1301": 0.70524,
           "1302": 0.70831,
           "1303": 0.71332,
           "1304": 0.71403,
           "1305": 0.71407,
           "1306": 0.71943,
           "1307": 0.66361,
           "1308": 0.72349,
           "1309": 0.73095,
           "131": 0.93271,
           "1310": 0.73224,
           "1311": 0.73388,
           "1312": 0.73599,
           "1313": 0.73514,
           "1314": 0.73459,
           "1315": 0.73036,
           "1316": 0.73285,
           "1317": 0.72698,
           "1318": 0.65737,
           "1319": 0.67453,
           "132": 0.92709,
           "1320": 0.66141,
           "1321": 0.65972,
           "1322": 0.66426,
           "1323": 0.67318,
           "1324": 0.67385,
           "1325": 0.67194,
           "1326": 0.6785,
           "1327": 0.67332,
           "1328": 0.67265,
           "1329": 0.65838,
           "133": 0.92643,
           "1330": 0.6771,
           "1331": 0.68583,
           "1332": 0.68144,
           "1333": 0.67551,
           "1334": 0.67992,
           "1335": 0.68473,
           "1336": 0.67905,
           "1337": 0.76683,
           "1338": 0.676,
           "1339": 0.67878,
           "134": 0.6588,
           "1340": 0.65977,
           "1341": 0.679,
           "1342": 0.67923,
           "1343": 0.67303,
           "1344": 0.68444,
           "1345": 0.6944,
           "1346": 0.70653,
           "1347": 0.70486,
           "1348": 0.72179,
           "1349": 0.74033,
           "135": 0.91939,
           "1350": 0.74124,
           "1351": 0.65598,
           "1352": 0.74698,
           "1353": 0.75085,
           "1354": 0.75767,
           "1355": 0.75664,
           "1356": 0.76127,
           "1357": 0.76498,
           "1358": 0.76341,
           "1359": 0.75925,
           "136": 0.91308,
           "1360": 0.76351,
           "1361": 0.6894,
           "1362": 0.65909,
           "1363": 0.65001,
           "1364": 0.65396,
           "1365": 0.6527,
           "1366": 0.66178,
           "1367": 0.67532,
           "1368": 0.67482,
           "1369": 0.66981,
           "137": 0.91349,
           "1370": 0.67355,
           "1371": 0.68597,
           "1372": 0.6883,
           "1373": 0.6648,
           "1374": 0.69294,
           "1375": 0.69818,
           "1376": 0.7055,
           "1377": 0.7021,
           "1378": 0.69955,
           "1379": 0.70381,
           "138": 0.91169,
           "1380": 0.70333,
           "1381": 0.70136,
           "1382": 0.86356,
           "1383": 0.82121,
           "1384": 0.66421,
           "1385": 0.8274,
           "1386": 0.83282,
           "1387": 0.84052,
           "1388": 0.8443,
           "1389": 0.8526,
           "139": 0.652,
           "1390": 0.85621,
           "1391": 0.86416,
           "1392": 0.86459,
           "1393": 0.86784,
           "1394": 0.87021,
           "1395": 0.657,
           "1396": 0.86895,
           "1397": 0.86755,
           "1398": 0.86453,
           "1399": 0.86671,
           "14": 0.79506,
           "140": 0.65208,
           "1400": 0.86324,
           "1401": 0.86138,
           "1402": 0.86291,
           "1403": 0.96448,
           "1404": 0.93448,
           "1405": 0.94327,
           "1406": 0.65109,
           "1407": 0.65828,
           "1408": 0.94786,
           "1409": 0.96018,
           "141": 0.65707,
           "1410": 0.96269,
           "1411": 0.96493,
           "1412": 0.96825,
           "1413": 0.97202,
           "1414": 0.98028,
           "1415": 0.98173,
           "1416": 0.97812,
           "1417": 0.97613,
           "1418": 0.65579,
           "1419": 0.97302,
           "142": 0.65657,
           "1420": 0.97376,
           "1421": 0.96741,
           "1422": 0.74416,
           "1423": 0.74417,
           "1424": 0.7568,
           "1425": 0.75976,
           "1426": 0.76834,
           "1427": 0.77045,
           "1428": 0.77991,
           "1429": 0.65376,
           "143": 0.6618,
           "1430": 0.78523,
           "1431": 0.78764,
           "1432": 0.79304,
           "1433": 0.79614,
           "1434": 0.79789,
           "1435": 0.79993,
           "1436": 0.80902,
           "1437": 0.80622,
           "1438": 0.7245,
           "1439": 0.70216,
           "144": 0.66695,
           "1440": 0.64874,
           "1441": 0.71417,
           "1442": 0.72552,
           "1443": 0.73623,
           "1444": 0.75066,
           "1445": 0.75496,
           "1446": 0.75777,
           "1447": 0.77031,
           "1448": 0.77185,
           "1449": 0.77858,
           "145": 0.65434,
           "1450": 0.77587,
           "1451": 0.65191,
           "1452": 0.77455,
           "1453": 0.77259,
           "1454": 0.77001,
           "1455": 0.7622,
           "1456": 0.75277,
           "1457": 0.7433,
           "1458": 0.82571,
           "1459": 0.79985,
           "146": 0.66819,
           "1460": 0.79346,
           "1461": 0.79902,
           "1462": 0.78179,
           "1463": 0.80156,
           "1464": 0.81162,
           "1465": 0.80542,
           "1466": 0.81526,
           "1467": 0.82079,
           "1468": 0.81712,
           "1469": 0.81533,
           "147": 0.67054,
           "1470": 0.82237,
           "1471": 0.66445,
           "1472": 0.66153,
           "1473": 0.78756,
           "1474": 0.6672,
           "1475": 0.66665,
           "1476": 0.66598,
           "1477": 0.66642,
           "1478": 0.66886,
           "1479": 0.67248,
           "148": 0.67615,
           "1480": 0.67702,
           "1481": 0.68142,
           "1482": 0.69058,
           "1483": 0.68376,
           "1484": 0.79243,
           "1485": 0.68275,
           "1486": 0.68202,
           "1487": 0.68647,
           "1488": 0.68018,
           "1489": 0.67038,
           "149": 0.68183,
           "1490": 0.67217,
           "1491": 0.6662,
           "1492": 0.66118,
           "1493": 0.66317,
           "1494": 0.66768,
           "1495": 0.79657,
           "1496": 0.66842,
           "1497": 0.66405,
           "1498": 0.65713,
           "1499": 0.65726,
           "15": 0.79595,
           "150": 0.6822,
           "1500": 0.65167,
           "1501": 0.6609,
           "1502": 0.66124,
           "1503": 0.66099,
           "1504": 0.65778,
           "1505": 0.65574,
           "1506": 0.80779,
           "1507": 0.6574,
           "1508": 0.66085,
           "1509": 0.66604,
           "151": 0.68544,
           "1510": 0.65565,
           "1511": 0.65762,
           "1512": 0.65668,
           "1513": 0.65443,
           "1514": 0.65342,
           "1515": 0.65253,
           "1516": 0.64592,
           "1517": 1.51178,
           "1518": 1.47897,
           "1519": 2.43476,
           "152": 0.69073,
           "1520": 2.47322,
           "1521": 2.47006,
           "1522": 2.46236,
           "1523": 2.48273,
           "1524": 2.46878,
           "1525": 2.47503,
           "1526": 2.42375,
           "1527": 2.35052,
           "1528": 2.38008,
           "1529": 1.46495,
           "153": 0.69525,
           "1530": 2.39301,
           "1531": 2.38305,
           "1532": 1.43804,
           "1533": 1.47637,
           "1534": 1.4898,
           "1535": 1.49612,
           "1536": 1.49316,
           "1537": 1.49386,
           "1538": 1.49999,
           "1539": 1.48992,
           "154": 0.69526,
           "1540": 1.47219,
           "1541": 1.46902,
           "1542": 1.42575,
           "1543": 1.4827,
           "1544": 1.48069,
           "1545": 1.49366,
           "1546": 1.497,
           "1547": 1.46973,
           "1548": 1.46708,
           "1549": 1.47598,
           "155": 0.89944,
           "1550": 1.48512,
           "1551": 1.43738,
           "1552": 1.48988,
           "1553": 1.4341,
           "1554": 1.40617,
           "1555": 1.39817,
           "1556": 1.39198,
           "1557": 1.4072,
           "1558": 1.40916,
           "1559": 1.42231,
           "156": 0.65194,
           "1560": 1.41608,
           "1561": 1.4173,
           "1562": 1.48199,
           "1563": 1.40043,
           "1564": 1.4141,
           "1565": 1.40201,
           "1566": 1.41117,
           "1567": 1.41584,
           "1568": 1.40166,
           "1569": 1.41885,
           "157": 0.8947,
           "1570": 1.41058,
           "1571": 1.41267,
           "1572": 1.42205,
           "1573": 1.4875,
           "1574": 1.42548,
           "1575": 1.43236,
           "1576": 1.42618,
           "1577": 1.42972,
           "1578": 1.42174,
           "1579": 1.43148,
           "158": 0.8986,
           "1580": 1.41732,
           "1581": 1.42621,
           "1582": 2.98177,
           "1583": 2.95902,
           "1584": 1.50527,
           "1585": 2.93716,
           "1586": 2.93821,
           "1587": 2.96596,
           "1588": 2.95427,
           "1589": 2.98071,
           "159": 0.90373,
           "1590": 2.98994,
           "1591": 2.974,
           "1592": 2.96698,
           "1593": 1.39733,
           "1594": 1.43075,
           "1595": 1.49466,
           "1596": 1.50235,
           "1597": 1.49984,
           "1598": 1.50516,
           "1599": 1.52644,
           "16": 0.79868,
           "160": 0.90849,
           "1600": 1.38209,
           "1601": 1.35046,
           "1602": 1.34202,
           "1603": 1.35233,
           "1604": 1.35271,
           "1605": 1.35531,
           "1606": 1.49482,
           "1607": 1.36449,
           "1608": 1.35748,
           "1609": 1.35852,
           "161": 0.9035,
           "1610": 1.35599,
           "1611": 1.36795,
           "1612": 1.36112,
           "1613": 1.45986,
           "1614": 1.44463,
           "1615": 1.42673,
           "1616": 1.42709,
           "1617": 1.49691,
           "1618": 1.41999,
           "1619": 1.42486,
           "162": 0.90708,
           "1620": 1.44275,
           "1621": 1.44659,
           "1622": 2.59369,
           "1623": 2.58367,
           "1624": 2.55462,
           "1625": 2.57564,
           "1626": 2.60002,
           "1627": 2.62198,
           "1628": 1.49791,
           "1629": 1.50703,
           "163": 0.91405,
           "1630": 1.47872,
           "1631": 1.47125,
           "1632": 1.47927,
           "1633": 1.48926,
           "1634": 1.50875,
           "1635": 1.51126,
           "1636": 1.50989,
           "1637": 1.49222,
           "1638": 1.50548,
           "1639": 1.48649,
           "164": 0.89768,
           "1640": 1.49577,
           "1641": 2.86568,
           "1642": 2.93459,
           "1643": 2.95926,
           "1644": 2.92066,
           "1645": 2.91554,
           "1646": 2.90181,
           "1647": 2.89389,
           "1648": 2.89394,
           "1649": 2.90271,
           "165": 0.90205,
           "1650": 2.93749,
           "1651": 1.50576,
           "1652": 1.87005,
           "1653": 1.88419,
           "1654": 1.85756,
           "1655": 1.84867,
           "1656": 1.83817,
           "1657": 1.85561,
           "1658": 1.85533,
           "1659": 1.83142,
           "166": 0.90502,
           "1660": 1.8412,
           "1661": 1.82282,
           "1662": 1.49285,
           "1663": 1.52181,
           "1664": 1.50304,
           "1665": 1.49165,
           "1666": 1.50528,
           "1667": 1.4969,
           "1668": 1.50087,
           "1669": 1.51309,
           "167": 0.65459,
           "1670": 1.49938,
           "1671": 1.49358,
           "1672": 1.50594,
           "1673": 1.48386,
           "1674": 1.50937,
           "1675": 1.51473,
           "1676": 1.51265,
           "1677": 1.49538,
           "1678": 2.99652,
           "1679": 2.99736,
           "168": 0.65015,
           "1680": 3.01856,
           "1681": 3.02604,
           "1682": 3.02192,
           "1683": 3.06113,
           "1684": 1.54498,
           "1685": 3.04167,
           "1686": 3.05367,
           "1687": 3.06849,
           "1688": 3.03657,
           "1689": 1.52633,
           "169": 0.65405,
           "1690": 1.52894,
           "1691": 1.53017,
           "1692": 1.52837,
           "1693": 1.52901,
           "1694": 1.52977,
           "1695": 0.98842,
           "1696": 1.54785,
           "1697": 1.53228,
           "1698": 1.5352,
           "1699": 1.53132,
           "17": 0.79743,
           "170": 0.65343,
           "1700": 1.5332,
           "1701": 1.53802,
           "1702": 1.54036,
           "1703": 1.55525,
           "1704": 1.54411,
           "1705": 1.53768,
           "1706": 1.48652,
           "1707": 1.73328,
           "1708": 1.73893,
           "1709": 1.73316,
           "171": 0.64743,
           "1710": 1.75633,
           "1711": 1.75707,
           "1712": 1.75986,
           "1713": 1.73818,
           "1714": 1.75697,
           "1715": 1.74244,
           "1716": 1.44614,
           "1717": 1.49263,
           "1718": 1.42288,
           "1719": 1.42324,
           "172": 0.65032,
           "1720": 1.42836,
           "1721": 1.44275,
           "1722": 1.43249,
           "1723": 1.43967,
           "1724": 1.45354,
           "1725": 1.45159,
           "1726": 1.45513,
           "1727": 1.46222,
           "1728": 1.46799,
           "1729": 1.48069,
           "173": 0.65585,
           "1730": 1.52373,
           "1731": 1.55414,
           "1732": 1.5214,
           "1733": 1.5148,
           "1734": 1.50573,
           "1735": 1.53125,
           "1736": 1.47754,
           "1737": 1.48102,
           "1738": 1.49892,
           "1739": 1.49816,
           "174": 0.65678,
           "1740": 1.45869,
           "1741": 1.50266,
           "1742": 1.49934,
           "1743": 1.50178,
           "1744": 1.5164,
           "1745": 1.52668,
           "1746": 1.49787,
           "1747": 1.50822,
           "1748": 1.48458,
           "1749": 1.47718,
           "175": 0.65087,
           "1750": 1.47762,
           "1751": 1.42819,
           "1752": 1.47818,
           "1753": 1.48043,
           "1754": 1.48161,
           "1755": 2.89321,
           "1756": 2.8454,
           "1757": 2.82926,
           "1758": 2.80061,
           "1759": 2.88487,
           "176": 0.65407,
           "1760": 2.86703,
           "1761": 2.88969,
           "1762": 1.42075,
           "1763": 2.87846,
           "1764": 2.85238,
           "1765": 2.83566,
           "1766": 2.84387,
           "1767": 1.42296,
           "1768": 1.37907,
           "1769": 1.38895,
           "177": 0.65931,
           "1770": 1.37804,
           "1771": 1.48199,
           "1772": 1.48354,
           "1773": 1.5229,
           "1774": 1.49631,
           "1775": 1.48426,
           "1776": 1.49733,
           "1777": 1.47759,
           "1778": 1.46305,
           "1779": 1.46286,
           "178": 0.64567,
           "1780": 1.36225,
           "1781": 1.35652,
           "1782": 1.35328,
           "1783": 1.40278,
           "1784": 1.49225,
           "1785": 1.40713,
           "1786": 1.40551,
           "1787": 1.40357,
           "1788": 1.40065,
           "1789": 0.69204,
           "179": 0.6492,
           "1790": 1.55976,
           "1791": 1.57217,
           "1792": 1.5716,
           "1793": 1.56154,
           "1794": 1.59086,
           "1795": 1.49951,
           "1796": 2.72765,
           "1797": 2.68612,
           "1798": 2.69117,
           "1799": 2.70034,
           "18": 0.79855,
           "180": 0.64923,
           "1800": 2.70557,
           "1801": 1.53393,
           "1802": 1.5271,
           "1803": 1.52157,
           "1804": 1.49578,
           "1805": 1.50961,
           "1806": 1.4845,
           "1807": 1.50032,
           "1808": 1.5022,
           "1809": 1.50149,
           "181": 0.66267,
           "1810": 1.50303,
           "1811": 1.51358,
           "1812": 1.50135,
           "1813": 1.50278,
           "1814": 1.51406,
           "1815": 1.497,
           "1816": 1.49762,
           "1817": 1.53613,
           "1818": 1.50937,
           "1819": 1.50189,
           "182": 0.67175,
           "1820": 1.4933,
           "1821": 1.50573,
           "1822": 1.49508,
           "1823": 1.51088,
           "1824": 1.50087,
           "1825": 1.51619,
           "1826": 1.50741,
           "1827": 1.51479,
           "1828": 1.52608,
           "1829": 1.51862,
           "183": 0.67067,
           "1830": 1.52565,
           "1831": 1.52599,
           "1832": 1.51619,
           "1833": 1.52407,
           "1834": 1.53776,
           "1835": 1.51404,
           "1836": 1.505,
           "1837": 1.51912,
           "1838": 1.51461,
           "1839": 1.49968,
           "184": 0.67231,
           "1840": 1.52991,
           "1841": 1.52898,
           "1842": 1.52506,
           "1843": 1.52297,
           "1844": 1.53142,
           "1845": 1.51764,
           "1846": 1.53501,
           "1847": 1.52948,
           "1848": 1.53535,
           "1849": 1.40664,
           "185": 0.67803,
           "1850": 1.5162,
           "1851": 1.51012,
           "1852": 1.44307,
           "1853": 1.42558,
           "1854": 1.3828,
           "1855": 1.38459,
           "1856": 1.39529,
           "1857": 1.38439,
           "1858": 1.50303,
           "1859": 1.50135,
           "186": 0.67713,
           "1860": 1.497,
           "1861": 1.51088,
           "1862": 1.50046,
           "1863": 1.40551,
           "1864": 1.48426,
           "1865": 1.46495,
           "1866": 1.49691,
           "1867": 1.39198,
           "1868": 1.40166,
           "1869": 1.42205,
           "187": 0.67472,
           "1870": 1.52769,
           "1871": 1.51193,
           "1872": 1.50604,
           "1873": 1.52319,
           "1874": 1.53396,
           "1875": 1.52815,
           "1876": 1.46645,
           "1877": 1.46476,
           "1878": 1.50475,
           "1879": 1.50088,
           "188": 0.75196,
           "1880": 1.50787,
           "1881": 1.51034,
           "1882": 1.5089,
           "1883": 1.51771,
           "1884": 1.49482,
           "1885": 1.49714,
           "1886": 1.49905,
           "1887": 1.51766,
           "1888": 1.5144,
           "1889": 1.50641,
           "189": 0.62731,
           "1890": 1.54748,
           "1891": 1.55739,
           "1892": 1.48215,
           "1893": 1.50109,
           "1894": 2.63958,
           "1895": 2.66678,
           "1896": 2.67395,
           "1897": 2.6352,
           "1898": 2.64003,
           "1899": 2.62258,
           "19": 0.79033,
           "190": 0.75414,
           "1900": 1.50739,
           "1901": 2.6455,
           "1902": 2.64778,
           "1903": 2.61378,
           "1904": 1.53233,
           "1905": 1.52342,
           "1906": 1.52839,
           "1907": 1.52624,
           "1908": 1.53432,
           "1909": 1.53196,
           "191": 0.75519,
           "1910": 1.55606,
           "1911": 1.47797,
           "1912": 1.55284,
           "1913": 1.54228,
           "1914": 1.53879,
           "1915": 1.53878,
           "1916": 1.54666,
           "1917": 1.56345,
           "1918": 1.56887,
           "1919": 1.56375,
           "192": 0.75519,
           "1920": 1.52595,
           "1921": 1.51457,
           "1922": 1.46839,
           "1923": 1.5147,
           "1924": 1.51969,
           "1925": 1.49159,
           "1926": 1.49093,
           "1927": 1.49178,
           "1928": 1.48976,
           "1929": 1.48086,
           "193": 0.75736,
           "1930": 1.48395,
           "1931": 2.51377,
           "1932": 2.45316,
           "194": 0.75714,
           "195": 0.74719,
           "196": 0.74473,
           "197": 0.73869,
           "198": 0.7403,
           "199": 0.7429,
           "2": 0.6798,
           "20": 0.79407,
           "200": 0.62148,
           "201": 0.74239,
           "202": 0.74732,
           "203": 0.75501,
           "204": 0.76115,
           "205": 0.7602,
           "206": 0.75386,
           "207": 0.75042,
           "208": 0.74331,
           "209": 0.74473,
           "21": 0.79554,
           "210": 0.74767,
           "211": 0.62852,
           "212": 0.75165,
           "213": 0.74734,
           "214": 0.74264,
           "215": 0.73789,
           "216": 0.73019,
           "217": 0.73435,
           "218": 0.71032,
           "219": 0.7127,
           "22": 0.79903,
           "220": 0.71707,
           "221": 0.72073,
           "222": 0.70989,
           "223": 0.62966,
           "224": 0.72347,
           "225": 0.72887,
           "226": 0.7335,
           "227": 0.74231,
           "228": 0.74501,
           "229": 0.74426,
           "23": 0.71063,
           "230": 0.74334,
           "231": 0.7456,
           "232": 0.74776,
           "233": 0.75014,
           "234": 0.6329,
           "235": 0.75275,
           "236": 0.7507,
           "237": 0.75073,
           "238": 0.74842,
           "239": 0.74422,
           "24": 0.79869,
           "240": 0.74264,
           "241": 0.67376,
           "242": 0.66993,
           "243": 0.66867,
           "244": 0.67022,
           "245": 0.63067,
           "246": 0.67582,
           "247": 0.67148,
           "248": 0.67282,
           "249": 0.67856,
           "25": 0.80106,
           "250": 0.68572,
           "251": 0.68774,
           "252": 0.6911,
           "253": 0.69908,
           "254": 0.69768,
           "255": 0.6954,
           "256": 0.6298,
           "257": 0.69528,
           "258": 0.69322,
           "259": 0.69172,
           "26": 0.80754,
           "260": 0.69459,
           "261": 0.69168,
           "262": 0.69137,
           "263": 0.6854,
           "264": 0.67786,
           "265": 0.66789,
           "266": 0.66162,
           "267": 0.64021,
           "268": 0.60826,
           "269": 0.60426,
           "27": 0.80117,
           "270": 0.60501,
           "271": 0.61241,
           "272": 0.61328,
           "273": 0.62173,
           "274": 0.63289,
           "275": 0.63951,
           "276": 0.63484,
           "277": 0.63994,
           "278": 0.64379,
           "279": 0.68266,
           "28": 0.80029,
           "280": 0.67804,
           "281": 0.67404,
           "282": 0.67172,
           "283": 0.66973,
           "284": 0.6676,
           "285": 0.66756,
           "286": 0.66897,
           "287": 0.67358,
           "288": 0.67818,
           "289": 0.64037,
           "29": 0.80183,
           "290": 0.66695,
           "291": 0.67752,
           "292": 0.78643,
           "293": 0.81078,
           "294": 0.72334,
           "295": 0.89651,
           "296": 0.90711,
           "297": 0.70281,
           "298": 0.71085,
           "299": 0.71461,
           "3": 0.676,
           "30": 0.81126,
           "300": 0.6399,
           "301": 0.71127,
           "302": 0.71478,
           "303": 0.71613,
           "304": 0.70631,
           "305": 0.71731,
           "306": 0.72229,
           "307": 0.7299,
           "308": 0.72833,
           "309": 0.66531,
           "31": 0.8036,
           "310": 0.66772,
           "311": 0.83424,
           "312": 0.66307,
           "313": 0.66191,
           "314": 0.65552,
           "315": 0.65584,
           "316": 0.65207,
           "317": 0.65172,
           "318": 0.67337,
           "319": 0.6683,
           "32": 0.7161,
           "320": 0.67093,
           "321": 0.66524,
           "322": 0.8292,
           "323": 0.76393,
           "324": 0.76462,
           "325": 0.75949,
           "326": 0.76321,
           "327": 0.76206,
           "328": 0.66873,
           "329": 0.66726,
           "33": 0.71753,
           "330": 0.67011,
           "331": 0.64048,
           "332": 0.63614,
           "333": 0.70443,
           "334": 0.83225,
           "335": 0.63518,
           "336": 0.63227,
           "337": 0.62771,
           "338": 0.63897,
           "339": 0.64419,
           "34": 0.7176,
           "340": 0.64483,
           "341": 0.65447,
           "342": 0.66476,
           "343": 0.66324,
           "344": 0.6553,
           "345": 0.83155,
           "346": 0.65523,
           "347": 0.65034,
           "348": 0.64378,
           "349": 0.65295,
           "35": 0.73187,
           "350": 0.6548,
           "351": 0.65289,
           "352": 0.64837,
           "353": 0.6441,
           "354": 0.64218,
           "355": 0.63862,
           "356": 0.8402,
           "357": 0.63506,
           "358": 0.63169,
           "359": 0.63612,
           "36": 0.73701,
           "360": 0.64367,
           "361": 0.64426,
           "362": 0.81641,
           "363": 0.79177,
           "364": 0.79466,
           "365": 0.80062,
           "366": 0.80079,
           "367": 0.84171,
           "368": 0.81044,
           "369": 0.64319,
           "37": 0.73949,
           "370": 0.79177,
           "371": 0.79466,
           "372": 0.80062,
           "373": 0.80079,
           "374": 0.81044,
           "375": 0.8879,
           "376": 0.77047,
           "377": 0.79803,
           "378": 0.84403,
           "379": 0.88924,
           "38": 0.7467,
           "380": 0.89886,
           "381": 0.90917,
           "382": 0.91097,
           "383": 0.9125,
           "384": 0.91813,
           "385": 0.92598,
           "386": 0.92889,
           "387": 0.68543,
           "388": 0.68018,
           "389": 0.84769,
           "39": 0.75131,
           "390": 0.72145,
           "391": 0.74186,
           "392": 0.74549,
           "393": 0.75473,
           "394": 0.76788,
           "395": 0.77675,
           "396": 0.78004,
           "397": 0.78675,
           "398": 0.72532,
           "399": 0.70202,
           "4": 0.67878,
           "40": 0.75469,
           "400": 0.85463,
           "401": 0.67698,
           "402": 0.67781,
           "403": 0.68032,
           "404": 0.68345,
           "405": 0.68816,
           "406": 0.68666,
           "407": 0.69315,
           "408": 0.65108,
           "409": 0.86451,
           "41": 0.74997,
           "410": 0.86813,
           "411": 0.86342,
           "412": 0.706,
           "413": 0.86242,
           "414": 0.86088,
           "415": 0.85881,
           "416": 0.84626,
           "417": 0.84298,
           "418": 0.64263,
           "419": 0.6376,
           "42": 0.75778,
           "420": 0.64929,
           "421": 0.65335,
           "422": 0.65862,
           "423": 0.71504,
           "424": 0.67231,
           "425": 0.66352,
           "426": 0.66025,
           "427": 0.66223,
           "428": 0.66427,
           "429": 0.66579,
           "43": 0.75665,
           "430": 0.66408,
           "431": 0.6658,
           "432": 0.66993,
           "433": 0.66962,
           "434": 0.70437,
           "435": 0.66731,
           "436": 0.67146,
           "437": 0.67354,
           "438": 0.67277,
           "439": 0.67722,
           "44": 0.75879,
           "440": 0.66699,
           "441": 0.66907,
           "442": 0.66878,
           "443": 0.67262,
           "444": 0.67633,
           "445": 0.69979,
           "446": 0.67559,
           "447": 0.67362,
           "448": 0.67315,
           "449": 0.67197,
           "45": 0.72031,
           "450": 0.67439,
           "451": 0.67999,
           "452": 0.65621,
           "453": 0.66711,
           "454": 0.68084,
           "455": 0.68399,
           "456": 0.7049,
           "457": 0.69238,
           "458": 0.7,
           "459": 0.71025,
           "46": 0.75698,
           "460": 0.71034,
           "461": 0.70795,
           "462": 0.71774,
           "463": 0.7195,
           "464": 0.71948,
           "465": 0.79104,
           "466": 0.7947,
           "467": 0.71847,
           "468": 0.6518,
           "469": 0.82049,
           "47": 0.75389,
           "470": 0.64477,
           "471": 0.65032,
           "472": 0.65395,
           "473": 0.65771,
           "474": 0.87691,
           "475": 0.82557,
           "476": 0.83378,
           "477": 0.8462,
           "478": 0.85477,
           "479": 0.86573,
           "48": 0.75701,
           "480": 0.81837,
           "481": 0.86809,
           "482": 0.87096,
           "483": 0.88137,
           "484": 0.97497,
           "485": 0.97033,
           "486": 0.89237,
           "487": 0.90877,
           "488": 0.91948,
           "489": 0.92259,
           "49": 0.75412,
           "490": 0.92904,
           "491": 0.81625,
           "492": 0.93852,
           "493": 0.95242,
           "494": 0.94993,
           "495": 0.94856,
           "496": 0.95415,
           "497": 0.96092,
           "498": 0.97428,
           "499": 0.9666,
           "5": 0.679,
           "50": 0.75488,
           "500": 0.96593,
           "501": 0.96716,
           "502": 0.81119,
           "503": 0.97423,
           "504": 0.97733,
           "505": 0.97006,
           "506": 0.96673,
           "507": 0.96979,
           "508": 0.97895,
           "509": 0.98514,
           "51": 0.66572,
           "510": 0.67265,
           "511": 0.67254,
           "512": 0.66184,
           "513": 0.81826,
           "514": 0.65728,
           "515": 0.66517,
           "516": 0.66217,
           "517": 0.66144,
           "518": 0.663,
           "519": 0.66454,
           "52": 0.66322,
           "520": 0.6662,
           "521": 0.67329,
           "522": 0.6693,
           "523": 0.66529,
           "524": 0.82354,
           "525": 0.66255,
           "526": 0.82092,
           "527": 0.82559,
           "528": 0.83076,
           "529": 0.8365,
           "53": 0.66024,
           "530": 0.65778,
           "531": 0.83573,
           "532": 0.8364,
           "533": 0.83499,
           "534": 0.82761,
           "535": 0.81952,
           "536": 0.81042,
           "537": 0.68266,
           "538": 0.68265,
           "539": 0.6944,
           "54": 0.66644,
           "540": 0.70669,
           "541": 0.6584,
           "542": 0.70816,
           "543": 0.70965,
           "544": 0.70934,
           "545": 0.71244,
           "546": 0.70775,
           "547": 0.71033,
           "548": 0.70521,
           "549": 0.69874,
           "55": 0.6603,
           "550": 0.69328,
           "551": 0.68665,
           "552": 0.66533,
           "553": 0.69646,
           "554": 0.69099,
           "555": 0.68954,
           "556": 0.69066,
           "557": 0.68887,
           "558": 0.69062,
           "559": 0.69559,
           "56": 0.71586,
           "560": 0.69074,
           "561": 0.68136,
           "562": 0.67985,
           "563": 0.67331,
           "564": 0.68039,
           "565": 0.68045,
           "566": 0.67554,
           "567": 0.68075,
           "568": 0.68036,
           "569": 0.69884,
           "57": 0.65827,
           "570": 0.91039,
           "571": 0.91119,
           "572": 0.9171,
           "573": 0.9236,
           "574": 0.66994,
           "575": 0.92036,
           "576": 0.92252,
           "577": 0.92348,
           "578": 0.92771,
           "579": 0.92681,
           "58": 0.65725,
           "580": 0.92452,
           "581": 0.92727,
           "582": 0.92591,
           "583": 0.92368,
           "584": 0.91947,
           "585": 0.67201,
           "586": 0.91361,
           "587": 0.91404,
           "588": 0.91334,
           "589": 0.91427,
           "59": 0.65973,
           "590": 0.91479,
           "591": 0.91622,
           "592": 0.92344,
           "593": 0.70812,
           "594": 0.70295,
           "595": 0.6999,
           "596": 0.677,
           "597": 0.70697,
           "598": 0.70827,
           "599": 0.71179,
           "6": 0.72469,
           "60": 0.66269,
           "600": 0.71699,
           "601": 0.7133,
           "602": 0.7112,
           "603": 0.70611,
           "604": 0.71585,
           "605": 0.71672,
           "606": 0.71839,
           "607": 0.66874,
           "608": 0.71987,
           "609": 0.71672,
           "61": 0.66884,
           "610": 0.71561,
           "611": 0.7055,
           "612": 0.71607,
           "613": 0.72502,
           "614": 0.72913,
           "615": 0.73729,
           "616": 0.74554,
           "617": 0.74683,
           "618": 0.65992,
           "619": 0.75161,
           "62": 0.66588,
           "620": 0.75232,
           "621": 0.75708,
           "622": 0.76085,
           "623": 0.76335,
           "624": 0.78011,
           "625": 0.77832,
           "626": 0.65054,
           "627": 0.65752,
           "628": 0.667,
           "629": 0.72597,
           "63": 0.63758,
           "630": 0.66492,
           "631": 0.67576,
           "632": 0.68041,
           "633": 0.67535,
           "634": 0.67833,
           "635": 0.67956,
           "636": 0.68367,
           "637": 0.68149,
           "638": 0.68787,
           "639": 0.69516,
           "64": 0.63701,
           "640": 0.70183,
           "641": 0.67287,
           "642": 0.70301,
           "643": 0.70462,
           "644": 0.70552,
           "645": 0.70916,
           "646": 0.71556,
           "647": 0.71284,
           "648": 0.70984,
           "649": 0.7058,
           "65": 0.63949,
           "650": 0.70858,
           "651": 0.70496,
           "652": 0.67416,
           "653": 0.70439,
           "654": 0.70701,
           "655": 0.70248,
           "656": 0.70031,
           "657": 0.70226,
           "658": 0.70229,
           "659": 0.65006,
           "66": 0.6439,
           "660": 0.65495,
           "661": 0.65453,
           "662": 0.65415,
           "663": 0.66552,
           "664": 0.66189,
           "665": 0.66722,
           "666": 0.66543,
           "667": 0.66698,
           "668": 0.67272,
           "669": 0.67803,
           "67": 0.71879,
           "670": 0.6836,
           "671": 0.69132,
           "672": 0.69565,
           "673": 0.69663,
           "674": 0.66096,
           "675": 0.69945,
           "676": 0.697,
           "677": 0.70166,
           "678": 0.69549,
           "679": 0.69539,
           "68": 0.66049,
           "680": 0.68917,
           "681": 0.68964,
           "682": 0.69094,
           "683": 0.6933,
           "684": 0.68971,
           "685": 0.66025,
           "686": 0.68426,
           "687": 0.68769,
           "688": 0.68925,
           "689": 0.68936,
           "69": 0.66468,
           "690": 0.65447,
           "691": 0.66379,
           "692": 0.69194,
           "693": 0.68778,
           "694": 0.68431,
           "695": 0.68827,
           "696": 0.66479,
           "697": 0.68688,
           "698": 0.68901,
           "699": 0.68712,
           "7": 0.73034,
           "70": 0.66992,
           "700": 0.85479,
           "701": 0.86092,
           "702": 0.86829,
           "703": 0.87852,
           "704": 0.88602,
           "705": 0.88535,
           "706": 0.8898,
           "707": 0.67022,
           "708": 0.90003,
           "709": 0.90433,
           "71": 0.68968,
           "710": 0.90715,
           "711": 0.9066,
           "712": 0.90913,
           "713": 0.90376,
           "714": 0.90441,
           "715": 0.90839,
           "716": 0.90501,
           "717": 0.90655,
           "718": 0.67471,
           "719": 0.90258,
           "72": 0.67507,
           "720": 0.90791,
           "721": 0.90167,
           "722": 0.90062,
           "723": 0.7404,
           "724": 0.74836,
           "725": 0.75863,
           "726": 0.75499,
           "727": 0.76437,
           "728": 0.77013,
           "729": 0.67878,
           "73": 0.68339,
           "730": 0.77046,
           "731": 0.76402,
           "732": 0.77608,
           "733": 0.78225,
           "734": 0.78198,
           "735": 0.78402,
           "736": 0.78357,
           "737": 0.78023,
           "738": 0.77906,
           "739": 0.7748,
           "74": 0.68865,
           "740": 0.72602,
           "741": 0.68315,
           "742": 0.76774,
           "743": 0.73177,
           "744": 0.74374,
           "745": 0.75043,
           "746": 0.75544,
           "747": 0.76019,
           "748": 0.75812,
           "749": 0.75702,
           "75": 0.68592,
           "750": 0.75447,
           "751": 0.79437,
           "752": 0.67965,
           "753": 0.80268,
           "754": 0.80791,
           "755": 0.82047,
           "756": 0.82918,
           "757": 0.83659,
           "758": 0.84096,
           "759": 0.84435,
           "76": 0.692,
           "760": 0.84245,
           "761": 0.83905,
           "762": 0.84662,
           "763": 0.68239,
           "764": 0.84353,
           "765": 0.84548,
           "766": 0.84791,
           "767": 0.85078,
           "768": 0.85138,
           "769": 0.85052,
           "77": 0.693,
           "770": 0.85169,
           "771": 0.84305,
           "772": 0.84513,
           "773": 0.83891,
           "774": 0.68333,
           "775": 0.84464,
           "776": 0.67923,
           "777": 0.67303,
           "778": 0.68444,
           "779": 0.6944,
           "78": 0.71789,
           "780": 0.70653,
           "781": 0.70486,
           "782": 0.72179,
           "783": 0.74033,
           "784": 0.74124,
           "785": 0.68893,
           "786": 0.74698,
           "787": 0.75085,
           "788": 0.75767,
           "789": 0.75664,
           "79": 0.69023,
           "790": 0.76127,
           "791": 0.76498,
           "792": 0.76341,
           "793": 0.75925,
           "794": 0.76351,
           "795": 0.76683,
           "796": 0.68638,
           "797": 0.76485,
           "798": 0.77776,
           "799": 0.78227,
           "8": 0.73832,
           "80": 0.68581,
           "800": 0.77909,
           "801": 0.78906,
           "802": 0.76639,
           "803": 0.76661,
           "804": 0.75941,
           "805": 0.76308,
           "806": 0.7556,
           "807": 0.68629,
           "808": 0.7514,
           "809": 0.70323,
           "81": 0.68663,
           "810": 0.69466,
           "811": 0.69489,
           "812": 0.69754,
           "813": 0.69733,
           "814": 0.69173,
           "815": 0.69183,
           "816": 0.69253,
           "817": 0.68375,
           "818": 0.69066,
           "819": 0.67781,
           "82": 0.69,
           "820": 0.67595,
           "821": 0.67424,
           "822": 0.71646,
           "823": 0.72585,
           "824": 0.74183,
           "825": 0.74952,
           "826": 0.76084,
           "827": 0.76633,
           "828": 0.77564,
           "829": 0.68904,
           "83": 0.68179,
           "830": 0.78227,
           "831": 0.78762,
           "832": 0.79395,
           "833": 0.79449,
           "834": 0.79901,
           "835": 0.79811,
           "836": 0.80089,
           "837": 0.80134,
           "838": 0.80532,
           "839": 0.80931,
           "84": 0.7536,
           "840": 0.68223,
           "841": 0.80707,
           "842": 0.80738,
           "843": 0.8059,
           "844": 0.80734,
           "845": 0.80384,
           "846": 0.80452,
           "847": 0.64679,
           "848": 0.64422,
           "849": 0.64657,
           "85": 0.75292,
           "850": 0.65331,
           "851": 0.73937,
           "852": 0.67681,
           "853": 0.68262,
           "854": 0.67901,
           "855": 0.68567,
           "856": 0.6933,
           "857": 0.69772,
           "858": 0.64567,
           "859": 0.65129,
           "86": 0.75855,
           "860": 0.65459,
           "861": 0.65937,
           "862": 0.6672,
           "863": 0.68147,
           "864": 0.67227,
           "865": 0.67065,
           "866": 0.67014,
           "867": 0.83825,
           "868": 0.85066,
           "869": 0.8616,
           "87": 0.75955,
           "870": 0.87095,
           "871": 0.88229,
           "872": 0.88654,
           "873": 0.89147,
           "874": 0.68612,
           "875": 0.89873,
           "876": 0.90621,
           "877": 0.90762,
           "878": 0.91076,
           "879": 0.91327,
           "88": 0.76731,
           "880": 0.91529,
           "881": 0.9165,
           "882": 0.91829,
           "883": 0.91942,
           "884": 0.77416,
           "885": 0.68273,
           "886": 0.77539,
           "887": 0.77657,
           "888": 0.77908,
           "889": 0.78193,
           "89": 0.72218,
           "890": 0.78585,
           "891": 0.7899,
           "892": 0.7949,
           "893": 0.78499,
           "894": 0.9197,
           "895": 0.92278,
           "896": 0.68546,
           "897": 0.93065,
           "898": 0.93737,
           "899": 0.70887,
           "9": 0.74659,
           "90": 0.76927,
           "900": 0.71094,
           "901": 0.71324,
           "902": 0.71149,
           "903": 0.71624,
           "904": 0.71753,
           "905": 0.71292,
           "906": 0.71205,
           "907": 0.68546,
           "908": 0.71833,
           "909": 0.71814,
           "91": 0.77292,
           "910": 0.71379,
           "911": 0.71444,
           "912": 0.71629,
           "913": 0.71487,
           "914": 0.71488,
           "915": 0.71925,
           "916": 0.71758,
           "917": 0.71128,
           "918": 0.68367,
           "919": 0.71344,
           "92": 0.77123,
           "920": 0.71867,
           "921": 0.7176,
           "922": 0.71214,
           "923": 0.71336,
           "924": 0.70845,
           "925": 0.70162,
           "926": 0.7004,
           "927": 0.70184,
           "928": 0.70238,
           "929": 0.67805,
           "93": 0.86263,
           "930": 0.69758,
           "931": 0.67714,
           "932": 0.6875,
           "933": 0.69242,
           "934": 0.69742,
           "935": 0.70208,
           "936": 0.7077,
           "937": 0.71063,
           "938": 0.71324,
           "939": 0.72229,
           "94": 0.87446,
           "940": 0.68044,
           "941": 0.72313,
           "942": 0.72808,
           "943": 0.73677,
           "944": 0.74145,
           "945": 0.7353,
           "946": 0.73574,
           "947": 0.73822,
           "948": 0.73855,
           "949": 0.73332,
           "95": 0.88622,
           "950": 0.73226,
           "951": 0.68148,
           "952": 0.7324,
           "953": 0.72575,
           "954": 0.70171,
           "955": 0.70006,
           "956": 0.69961,
           "957": 0.69541,
           "958": 0.69759,
           "959": 0.69805,
           "96": 0.88927,
           "960": 0.70098,
           "961": 0.70467,
           "962": 0.74545,
           "963": 0.68396,
           "964": 0.71158,
           "965": 0.71406,
           "966": 0.71482,
           "967": 0.71953,
           "968": 0.7177,
           "969": 0.71652,
           "97": 0.89303,
           "970": 0.71785,
           "971": 0.7197,
           "972": 0.72061,
           "973": 0.72169,
           "974": 0.71334,
           "975": 0.63289,
           "976": 0.64289,
           "977": 0.64936,
           "978": 0.65474,
           "979": 0.66352,
           "98": 0.89789,
           "980": 0.67515,
           "981": 0.68623,
           "982": 0.6933,
           "983": 0.69447,
           "984": 0.69742,
           "985": 0.72075,
           "986": 0.69484,
           "987": 0.6946,
           "988": 0.6989,
           "989": 0.6958,
           "99": 0.90639,
           "990": 0.69192,
           "991": 0.68907,
           "992": 0.69011,
           "993": 0.69063,
           "994": 0.68232,
           "995": 0.68002,
           "996": 0.71951,
           "997": 0.68225,
           "998": 0.68247,
           "999": 0.68052,
           "bdata": "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",
           "dtype": "f8",
           "shape": "1933"
          },
          "bdata": "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",
          "dtype": "f8"
         },
         "xaxis": "x",
         "yaxis": "y"
        }
       ],
       "layout": {
        "bargap": 0.1,
        "bargroupgap": 0.1,
        "barmode": "relative",
        "height": 400,
        "legend": {
         "tracegroupgap": 0
        },
        "showlegend": false,
        "template": {
         "data": {
          "bar": [
           {
            "error_x": {
             "color": "#2a3f5f"
            },
            "error_y": {
             "color": "#2a3f5f"
            },
            "marker": {
             "line": {
              "color": "#E5ECF6",
              "width": 0.5
             },
             "pattern": {
              "fillmode": "overlay",
              "size": 10,
              "solidity": 0.2
             }
            },
            "type": "bar"
           }
          ],
          "barpolar": [
           {
            "marker": {
             "line": {
              "color": "#E5ECF6",
              "width": 0.5
             },
             "pattern": {
              "fillmode": "overlay",
              "size": 10,
              "solidity": 0.2
             }
            },
            "type": "barpolar"
           }
          ],
          "carpet": [
           {
            "aaxis": {
             "endlinecolor": "#2a3f5f",
             "gridcolor": "white",
             "linecolor": "white",
             "minorgridcolor": "white",
             "startlinecolor": "#2a3f5f"
            },
            "baxis": {
             "endlinecolor": "#2a3f5f",
             "gridcolor": "white",
             "linecolor": "white",
             "minorgridcolor": "white",
             "startlinecolor": "#2a3f5f"
            },
            "type": "carpet"
           }
          ],
          "choropleth": [
           {
            "colorbar": {
             "outlinewidth": 0,
             "ticks": ""
            },
            "type": "choropleth"
           }
          ],
          "contour": [
           {
            "colorbar": {
             "outlinewidth": 0,
             "ticks": ""
            },
            "colorscale": [
             [
              0,
              "#0d0887"
             ],
             [
              0.1111111111111111,
              "#46039f"
             ],
             [
              0.2222222222222222,
              "#7201a8"
             ],
             [
              0.3333333333333333,
              "#9c179e"
             ],
             [
              0.4444444444444444,
              "#bd3786"
             ],
             [
              0.5555555555555556,
              "#d8576b"
             ],
             [
              0.6666666666666666,
              "#ed7953"
             ],
             [
              0.7777777777777778,
              "#fb9f3a"
             ],
             [
              0.8888888888888888,
              "#fdca26"
             ],
             [
              1,
              "#f0f921"
             ]
            ],
            "type": "contour"
           }
          ],
          "contourcarpet": [
           {
            "colorbar": {
             "outlinewidth": 0,
             "ticks": ""
            },
            "type": "contourcarpet"
           }
          ],
          "heatmap": [
           {
            "colorbar": {
             "outlinewidth": 0,
             "ticks": ""
            },
            "colorscale": [
             [
              0,
              "#0d0887"
             ],
             [
              0.1111111111111111,
              "#46039f"
             ],
             [
              0.2222222222222222,
              "#7201a8"
             ],
             [
              0.3333333333333333,
              "#9c179e"
             ],
             [
              0.4444444444444444,
              "#bd3786"
             ],
             [
              0.5555555555555556,
              "#d8576b"
             ],
             [
              0.6666666666666666,
              "#ed7953"
             ],
             [
              0.7777777777777778,
              "#fb9f3a"
             ],
             [
              0.8888888888888888,
              "#fdca26"
             ],
             [
              1,
              "#f0f921"
             ]
            ],
            "type": "heatmap"
           }
          ],
          "histogram": [
           {
            "marker": {
             "pattern": {
              "fillmode": "overlay",
              "size": 10,
              "solidity": 0.2
             }
            },
            "type": "histogram"
           }
          ],
          "histogram2d": [
           {
            "colorbar": {
             "outlinewidth": 0,
             "ticks": ""
            },
            "colorscale": [
             [
              0,
              "#0d0887"
             ],
             [
              0.1111111111111111,
              "#46039f"
             ],
             [
              0.2222222222222222,
              "#7201a8"
             ],
             [
              0.3333333333333333,
              "#9c179e"
             ],
             [
              0.4444444444444444,
              "#bd3786"
             ],
             [
              0.5555555555555556,
              "#d8576b"
             ],
             [
              0.6666666666666666,
              "#ed7953"
             ],
             [
              0.7777777777777778,
              "#fb9f3a"
             ],
             [
              0.8888888888888888,
              "#fdca26"
             ],
             [
              1,
              "#f0f921"
             ]
            ],
            "type": "histogram2d"
           }
          ],
          "histogram2dcontour": [
           {
            "colorbar": {
             "outlinewidth": 0,
             "ticks": ""
            },
            "colorscale": [
             [
              0,
              "#0d0887"
             ],
             [
              0.1111111111111111,
              "#46039f"
             ],
             [
              0.2222222222222222,
              "#7201a8"
             ],
             [
              0.3333333333333333,
              "#9c179e"
             ],
             [
              0.4444444444444444,
              "#bd3786"
             ],
             [
              0.5555555555555556,
              "#d8576b"
             ],
             [
              0.6666666666666666,
              "#ed7953"
             ],
             [
              0.7777777777777778,
              "#fb9f3a"
             ],
             [
              0.8888888888888888,
              "#fdca26"
             ],
             [
              1,
              "#f0f921"
             ]
            ],
            "type": "histogram2dcontour"
           }
          ],
          "mesh3d": [
           {
            "colorbar": {
             "outlinewidth": 0,
             "ticks": ""
            },
            "type": "mesh3d"
           }
          ],
          "parcoords": [
           {
            "line": {
             "colorbar": {
              "outlinewidth": 0,
              "ticks": ""
             }
            },
            "type": "parcoords"
           }
          ],
          "pie": [
           {
            "automargin": true,
            "type": "pie"
           }
          ],
          "scatter": [
           {
            "fillpattern": {
             "fillmode": "overlay",
             "size": 10,
             "solidity": 0.2
            },
            "type": "scatter"
           }
          ],
          "scatter3d": [
           {
            "line": {
             "colorbar": {
              "outlinewidth": 0,
              "ticks": ""
             }
            },
            "marker": {
             "colorbar": {
              "outlinewidth": 0,
              "ticks": ""
             }
            },
            "type": "scatter3d"
           }
          ],
          "scattercarpet": [
           {
            "marker": {
             "colorbar": {
              "outlinewidth": 0,
              "ticks": ""
             }
            },
            "type": "scattercarpet"
           }
          ],
          "scattergeo": [
           {
            "marker": {
             "colorbar": {
              "outlinewidth": 0,
              "ticks": ""
             }
            },
            "type": "scattergeo"
           }
          ],
          "scattergl": [
           {
            "marker": {
             "colorbar": {
              "outlinewidth": 0,
              "ticks": ""
             }
            },
            "type": "scattergl"
           }
          ],
          "scattermap": [
           {
            "marker": {
             "colorbar": {
              "outlinewidth": 0,
              "ticks": ""
             }
            },
            "type": "scattermap"
           }
          ],
          "scattermapbox": [
           {
            "marker": {
             "colorbar": {
              "outlinewidth": 0,
              "ticks": ""
             }
            },
            "type": "scattermapbox"
           }
          ],
          "scatterpolar": [
           {
            "marker": {
             "colorbar": {
              "outlinewidth": 0,
              "ticks": ""
             }
            },
            "type": "scatterpolar"
           }
          ],
          "scatterpolargl": [
           {
            "marker": {
             "colorbar": {
              "outlinewidth": 0,
              "ticks": ""
             }
            },
            "type": "scatterpolargl"
           }
          ],
          "scatterternary": [
           {
            "marker": {
             "colorbar": {
              "outlinewidth": 0,
              "ticks": ""
             }
            },
            "type": "scatterternary"
           }
          ],
          "surface": [
           {
            "colorbar": {
             "outlinewidth": 0,
             "ticks": ""
            },
            "colorscale": [
             [
              0,
              "#0d0887"
             ],
             [
              0.1111111111111111,
              "#46039f"
             ],
             [
              0.2222222222222222,
              "#7201a8"
             ],
             [
              0.3333333333333333,
              "#9c179e"
             ],
             [
              0.4444444444444444,
              "#bd3786"
             ],
             [
              0.5555555555555556,
              "#d8576b"
             ],
             [
              0.6666666666666666,
              "#ed7953"
             ],
             [
              0.7777777777777778,
              "#fb9f3a"
             ],
             [
              0.8888888888888888,
              "#fdca26"
             ],
             [
              1,
              "#f0f921"
             ]
            ],
            "type": "surface"
           }
          ],
          "table": [
           {
            "cells": {
             "fill": {
              "color": "#EBF0F8"
             },
             "line": {
              "color": "white"
             }
            },
            "header": {
             "fill": {
              "color": "#C8D4E3"
             },
             "line": {
              "color": "white"
             }
            },
            "type": "table"
           }
          ]
         },
         "layout": {
          "annotationdefaults": {
           "arrowcolor": "#2a3f5f",
           "arrowhead": 0,
           "arrowwidth": 1
          },
          "autotypenumbers": "strict",
          "coloraxis": {
           "colorbar": {
            "outlinewidth": 0,
            "ticks": ""
           }
          },
          "colorscale": {
           "diverging": [
            [
             0,
             "#8e0152"
            ],
            [
             0.1,
             "#c51b7d"
            ],
            [
             0.2,
             "#de77ae"
            ],
            [
             0.3,
             "#f1b6da"
            ],
            [
             0.4,
             "#fde0ef"
            ],
            [
             0.5,
             "#f7f7f7"
            ],
            [
             0.6,
             "#e6f5d0"
            ],
            [
             0.7,
             "#b8e186"
            ],
            [
             0.8,
             "#7fbc41"
            ],
            [
             0.9,
             "#4d9221"
            ],
            [
             1,
             "#276419"
            ]
           ],
           "sequential": [
            [
             0,
             "#0d0887"
            ],
            [
             0.1111111111111111,
             "#46039f"
            ],
            [
             0.2222222222222222,
             "#7201a8"
            ],
            [
             0.3333333333333333,
             "#9c179e"
            ],
            [
             0.4444444444444444,
             "#bd3786"
            ],
            [
             0.5555555555555556,
             "#d8576b"
            ],
            [
             0.6666666666666666,
             "#ed7953"
            ],
            [
             0.7777777777777778,
             "#fb9f3a"
            ],
            [
             0.8888888888888888,
             "#fdca26"
            ],
            [
             1,
             "#f0f921"
            ]
           ],
           "sequentialminus": [
            [
             0,
             "#0d0887"
            ],
            [
             0.1111111111111111,
             "#46039f"
            ],
            [
             0.2222222222222222,
             "#7201a8"
            ],
            [
             0.3333333333333333,
             "#9c179e"
            ],
            [
             0.4444444444444444,
             "#bd3786"
            ],
            [
             0.5555555555555556,
             "#d8576b"
            ],
            [
             0.6666666666666666,
             "#ed7953"
            ],
            [
             0.7777777777777778,
             "#fb9f3a"
            ],
            [
             0.8888888888888888,
             "#fdca26"
            ],
            [
             1,
             "#f0f921"
            ]
           ]
          },
          "colorway": [
           "#636efa",
           "#EF553B",
           "#00cc96",
           "#ab63fa",
           "#FFA15A",
           "#19d3f3",
           "#FF6692",
           "#B6E880",
           "#FF97FF",
           "#FECB52"
          ],
          "font": {
           "color": "#2a3f5f"
          },
          "geo": {
           "bgcolor": "white",
           "lakecolor": "white",
           "landcolor": "#E5ECF6",
           "showlakes": true,
           "showland": true,
           "subunitcolor": "white"
          },
          "hoverlabel": {
           "align": "left"
          },
          "hovermode": "closest",
          "mapbox": {
           "style": "light"
          },
          "paper_bgcolor": "white",
          "plot_bgcolor": "#E5ECF6",
          "polar": {
           "angularaxis": {
            "gridcolor": "white",
            "linecolor": "white",
            "ticks": ""
           },
           "bgcolor": "#E5ECF6",
           "radialaxis": {
            "gridcolor": "white",
            "linecolor": "white",
            "ticks": ""
           }
          },
          "scene": {
           "xaxis": {
            "backgroundcolor": "#E5ECF6",
            "gridcolor": "white",
            "gridwidth": 2,
            "linecolor": "white",
            "showbackground": true,
            "ticks": "",
            "zerolinecolor": "white"
           },
           "yaxis": {
            "backgroundcolor": "#E5ECF6",
            "gridcolor": "white",
            "gridwidth": 2,
            "linecolor": "white",
            "showbackground": true,
            "ticks": "",
            "zerolinecolor": "white"
           },
           "zaxis": {
            "backgroundcolor": "#E5ECF6",
            "gridcolor": "white",
            "gridwidth": 2,
            "linecolor": "white",
            "showbackground": true,
            "ticks": "",
            "zerolinecolor": "white"
           }
          },
          "shapedefaults": {
           "line": {
            "color": "#2a3f5f"
           }
          },
          "ternary": {
           "aaxis": {
            "gridcolor": "white",
            "linecolor": "white",
            "ticks": ""
           },
           "baxis": {
            "gridcolor": "white",
            "linecolor": "white",
            "ticks": ""
           },
           "bgcolor": "#E5ECF6",
           "caxis": {
            "gridcolor": "white",
            "linecolor": "white",
            "ticks": ""
           }
          },
          "title": {
           "x": 0.05
          },
          "xaxis": {
           "automargin": true,
           "gridcolor": "white",
           "linecolor": "white",
           "ticks": "",
           "title": {
            "standoff": 15
           },
           "zerolinecolor": "white",
           "zerolinewidth": 2
          },
          "yaxis": {
           "automargin": true,
           "gridcolor": "white",
           "linecolor": "white",
           "ticks": "",
           "title": {
            "standoff": 15
           },
           "zerolinecolor": "white",
           "zerolinewidth": 2
          }
         }
        },
        "title": {
         "text": "Distribution size of Image"
        },
        "width": 600,
        "xaxis": {
         "anchor": "y",
         "autorange": true,
         "domain": [
          0,
          1
         ],
         "range": [
          0.6000000000000001,
          3.1
         ],
         "title": {
          "text": "File Size (MB)"
         },
         "type": "linear"
        },
        "yaxis": {
         "anchor": "x",
         "autorange": true,
         "domain": [
          0,
          1
         ],
         "range": [
          0,
          565.2631578947369
         ],
         "title": {
          "text": "Number of Images"
         }
        }
       }
      }
     },
     "metadata": {},
     "output_type": "display_data"
    }
   ],
   "source": [
    "#Image sizes in MB\n",
    "sizes_MB = []\n",
    "for img_path in df[\"img_path\"]:\n",
    "    #code to load image\n",
    "    img = cv2.imread(img_path)\n",
    "    #code to get imge size \n",
    "    size = os.path.getsize(img_path)\n",
    "    sizes_MB.append(size/1_00_000)\n",
    "\n",
    "fig = px.histogram(x=sizes_MB, nbins = 50, title = \"Distribution size of Image\", width=600,\n",
    "    height=400)\n",
    "fig.update_layout(xaxis_title = \"File Size (MB)\",\n",
    "                  yaxis_title = \"Number of Images\",\n",
    "                  showlegend = False,\n",
    "                  bargap = 0.1,\n",
    "                  bargroupgap = 0.1)\n",
    "fig.update_traces(marker = dict(color=\"green\"))\n",
    "fig.show()"
   ]
  },
  {
   "cell_type": "markdown",
   "id": "0c1580ab-ed19-4e2b-b69d-6c168171abb3",
   "metadata": {},
   "source": [
    "#### Distributions of image Resulations "
   ]
  },
  {
   "cell_type": "code",
   "execution_count": 10,
   "id": "32bf1ee9-fb1c-4c95-85df-b67c9d915bc1",
   "metadata": {},
   "outputs": [
    {
     "data": {
      "application/vnd.plotly.v1+json": {
       "config": {
        "plotlyServerURL": "https://plot.ly"
       },
       "data": [
        {
         "hovertemplate": "x=%{x}<br>y=%{y}<extra></extra>",
         "legendgroup": "",
         "marker": {
          "color": "red",
          "symbol": "circle"
         },
         "mode": "markers",
         "name": "",
         "showlegend": false,
         "type": "scattergl",
         "x": {
          "_inputArray": {
           "0": 512,
           "1": 512,
           "10": 512,
           "100": 512,
           "1000": 512,
           "1001": 512,
           "1002": 512,
           "1003": 512,
           "1004": 512,
           "1005": 512,
           "1006": 512,
           "1007": 512,
           "1008": 512,
           "1009": 512,
           "101": 512,
           "1010": 512,
           "1011": 512,
           "1012": 512,
           "1013": 512,
           "1014": 512,
           "1015": 512,
           "1016": 512,
           "1017": 512,
           "1018": 512,
           "1019": 512,
           "102": 512,
           "1020": 512,
           "1021": 512,
           "1022": 512,
           "1023": 512,
           "1024": 512,
           "1025": 512,
           "1026": 512,
           "1027": 512,
           "1028": 512,
           "1029": 512,
           "103": 512,
           "1030": 512,
           "1031": 512,
           "1032": 512,
           "1033": 512,
           "1034": 512,
           "1035": 512,
           "1036": 512,
           "1037": 512,
           "1038": 512,
           "1039": 512,
           "104": 512,
           "1040": 512,
           "1041": 512,
           "1042": 512,
           "1043": 512,
           "1044": 512,
           "1045": 512,
           "1046": 512,
           "1047": 512,
           "1048": 512,
           "1049": 512,
           "105": 512,
           "1050": 512,
           "1051": 512,
           "1052": 512,
           "1053": 512,
           "1054": 512,
           "1055": 512,
           "1056": 512,
           "1057": 512,
           "1058": 512,
           "1059": 512,
           "106": 512,
           "1060": 512,
           "1061": 512,
           "1062": 512,
           "1063": 512,
           "1064": 512,
           "1065": 512,
           "1066": 512,
           "1067": 512,
           "1068": 512,
           "1069": 512,
           "107": 512,
           "1070": 512,
           "1071": 512,
           "1072": 512,
           "1073": 512,
           "1074": 512,
           "1075": 512,
           "1076": 512,
           "1077": 512,
           "1078": 512,
           "1079": 512,
           "108": 512,
           "1080": 512,
           "1081": 512,
           "1082": 512,
           "1083": 512,
           "1084": 512,
           "1085": 512,
           "1086": 512,
           "1087": 512,
           "1088": 512,
           "1089": 512,
           "109": 512,
           "1090": 512,
           "1091": 512,
           "1092": 512,
           "1093": 512,
           "1094": 512,
           "1095": 512,
           "1096": 512,
           "1097": 512,
           "1098": 512,
           "1099": 512,
           "11": 512,
           "110": 512,
           "1100": 512,
           "1101": 512,
           "1102": 512,
           "1103": 512,
           "1104": 512,
           "1105": 512,
           "1106": 512,
           "1107": 512,
           "1108": 512,
           "1109": 512,
           "111": 512,
           "1110": 512,
           "1111": 512,
           "1112": 512,
           "1113": 512,
           "1114": 512,
           "1115": 512,
           "1116": 512,
           "1117": 512,
           "1118": 512,
           "1119": 512,
           "112": 512,
           "1120": 512,
           "1121": 512,
           "1122": 512,
           "1123": 512,
           "1124": 512,
           "1125": 512,
           "1126": 512,
           "1127": 512,
           "1128": 512,
           "1129": 512,
           "113": 512,
           "1130": 512,
           "1131": 512,
           "1132": 512,
           "1133": 512,
           "1134": 512,
           "1135": 512,
           "1136": 512,
           "1137": 512,
           "1138": 512,
           "1139": 512,
           "114": 512,
           "1140": 512,
           "1141": 512,
           "1142": 512,
           "1143": 512,
           "1144": 512,
           "1145": 512,
           "1146": 512,
           "1147": 512,
           "1148": 512,
           "1149": 512,
           "115": 512,
           "1150": 512,
           "1151": 512,
           "1152": 512,
           "1153": 512,
           "1154": 512,
           "1155": 512,
           "1156": 512,
           "1157": 512,
           "1158": 512,
           "1159": 512,
           "116": 512,
           "1160": 512,
           "1161": 512,
           "1162": 512,
           "1163": 512,
           "1164": 512,
           "1165": 512,
           "1166": 512,
           "1167": 512,
           "1168": 512,
           "1169": 512,
           "117": 512,
           "1170": 512,
           "1171": 512,
           "1172": 512,
           "1173": 512,
           "1174": 512,
           "1175": 512,
           "1176": 512,
           "1177": 512,
           "1178": 512,
           "1179": 512,
           "118": 512,
           "1180": 512,
           "1181": 512,
           "1182": 512,
           "1183": 512,
           "1184": 512,
           "1185": 512,
           "1186": 512,
           "1187": 512,
           "1188": 512,
           "1189": 512,
           "119": 512,
           "1190": 512,
           "1191": 512,
           "1192": 512,
           "1193": 512,
           "1194": 512,
           "1195": 512,
           "1196": 512,
           "1197": 512,
           "1198": 512,
           "1199": 512,
           "12": 512,
           "120": 512,
           "1200": 512,
           "1201": 512,
           "1202": 512,
           "1203": 512,
           "1204": 512,
           "1205": 512,
           "1206": 512,
           "1207": 512,
           "1208": 512,
           "1209": 512,
           "121": 512,
           "1210": 512,
           "1211": 512,
           "1212": 512,
           "1213": 512,
           "1214": 512,
           "1215": 512,
           "1216": 512,
           "1217": 512,
           "1218": 512,
           "1219": 512,
           "122": 512,
           "1220": 512,
           "1221": 512,
           "1222": 512,
           "1223": 512,
           "1224": 512,
           "1225": 512,
           "1226": 512,
           "1227": 512,
           "1228": 512,
           "1229": 512,
           "123": 512,
           "1230": 512,
           "1231": 512,
           "1232": 512,
           "1233": 512,
           "1234": 512,
           "1235": 512,
           "1236": 512,
           "1237": 512,
           "1238": 512,
           "1239": 512,
           "124": 512,
           "1240": 512,
           "1241": 512,
           "1242": 512,
           "1243": 512,
           "1244": 512,
           "1245": 512,
           "1246": 512,
           "1247": 512,
           "1248": 512,
           "1249": 512,
           "125": 512,
           "1250": 512,
           "1251": 512,
           "1252": 512,
           "1253": 512,
           "1254": 512,
           "1255": 512,
           "1256": 512,
           "1257": 512,
           "1258": 512,
           "1259": 512,
           "126": 512,
           "1260": 512,
           "1261": 512,
           "1262": 512,
           "1263": 512,
           "1264": 512,
           "1265": 512,
           "1266": 512,
           "1267": 512,
           "1268": 512,
           "1269": 512,
           "127": 512,
           "1270": 512,
           "1271": 512,
           "1272": 512,
           "1273": 512,
           "1274": 512,
           "1275": 512,
           "1276": 512,
           "1277": 512,
           "1278": 512,
           "1279": 512,
           "128": 512,
           "1280": 512,
           "1281": 512,
           "1282": 512,
           "1283": 512,
           "1284": 512,
           "1285": 512,
           "1286": 512,
           "1287": 512,
           "1288": 512,
           "1289": 512,
           "129": 512,
           "1290": 512,
           "1291": 512,
           "1292": 512,
           "1293": 512,
           "1294": 512,
           "1295": 512,
           "1296": 512,
           "1297": 512,
           "1298": 512,
           "1299": 512,
           "13": 512,
           "130": 512,
           "1300": 512,
           "1301": 512,
           "1302": 512,
           "1303": 512,
           "1304": 512,
           "1305": 512,
           "1306": 512,
           "1307": 512,
           "1308": 512,
           "1309": 512,
           "131": 512,
           "1310": 512,
           "1311": 512,
           "1312": 512,
           "1313": 512,
           "1314": 512,
           "1315": 512,
           "1316": 512,
           "1317": 512,
           "1318": 512,
           "1319": 512,
           "132": 512,
           "1320": 512,
           "1321": 512,
           "1322": 512,
           "1323": 512,
           "1324": 512,
           "1325": 512,
           "1326": 512,
           "1327": 512,
           "1328": 512,
           "1329": 512,
           "133": 512,
           "1330": 512,
           "1331": 512,
           "1332": 512,
           "1333": 512,
           "1334": 512,
           "1335": 512,
           "1336": 512,
           "1337": 512,
           "1338": 512,
           "1339": 512,
           "134": 512,
           "1340": 512,
           "1341": 512,
           "1342": 512,
           "1343": 512,
           "1344": 512,
           "1345": 512,
           "1346": 512,
           "1347": 512,
           "1348": 512,
           "1349": 512,
           "135": 512,
           "1350": 512,
           "1351": 512,
           "1352": 512,
           "1353": 512,
           "1354": 512,
           "1355": 512,
           "1356": 512,
           "1357": 512,
           "1358": 512,
           "1359": 512,
           "136": 512,
           "1360": 512,
           "1361": 512,
           "1362": 512,
           "1363": 512,
           "1364": 512,
           "1365": 512,
           "1366": 512,
           "1367": 512,
           "1368": 512,
           "1369": 512,
           "137": 512,
           "1370": 512,
           "1371": 512,
           "1372": 512,
           "1373": 512,
           "1374": 512,
           "1375": 512,
           "1376": 512,
           "1377": 512,
           "1378": 512,
           "1379": 512,
           "138": 512,
           "1380": 512,
           "1381": 512,
           "1382": 512,
           "1383": 512,
           "1384": 512,
           "1385": 512,
           "1386": 512,
           "1387": 512,
           "1388": 512,
           "1389": 512,
           "139": 512,
           "1390": 512,
           "1391": 512,
           "1392": 512,
           "1393": 512,
           "1394": 512,
           "1395": 512,
           "1396": 512,
           "1397": 512,
           "1398": 512,
           "1399": 512,
           "14": 512,
           "140": 512,
           "1400": 512,
           "1401": 512,
           "1402": 512,
           "1403": 512,
           "1404": 512,
           "1405": 512,
           "1406": 512,
           "1407": 512,
           "1408": 512,
           "1409": 512,
           "141": 512,
           "1410": 512,
           "1411": 512,
           "1412": 512,
           "1413": 512,
           "1414": 512,
           "1415": 512,
           "1416": 512,
           "1417": 512,
           "1418": 512,
           "1419": 512,
           "142": 512,
           "1420": 512,
           "1421": 512,
           "1422": 512,
           "1423": 512,
           "1424": 512,
           "1425": 512,
           "1426": 512,
           "1427": 512,
           "1428": 512,
           "1429": 512,
           "143": 512,
           "1430": 512,
           "1431": 512,
           "1432": 512,
           "1433": 512,
           "1434": 512,
           "1435": 512,
           "1436": 512,
           "1437": 512,
           "1438": 512,
           "1439": 512,
           "144": 512,
           "1440": 512,
           "1441": 512,
           "1442": 512,
           "1443": 512,
           "1444": 512,
           "1445": 512,
           "1446": 512,
           "1447": 512,
           "1448": 512,
           "1449": 512,
           "145": 512,
           "1450": 512,
           "1451": 512,
           "1452": 512,
           "1453": 512,
           "1454": 512,
           "1455": 512,
           "1456": 512,
           "1457": 512,
           "1458": 512,
           "1459": 512,
           "146": 512,
           "1460": 512,
           "1461": 512,
           "1462": 512,
           "1463": 512,
           "1464": 512,
           "1465": 512,
           "1466": 512,
           "1467": 512,
           "1468": 512,
           "1469": 512,
           "147": 512,
           "1470": 512,
           "1471": 512,
           "1472": 512,
           "1473": 512,
           "1474": 512,
           "1475": 512,
           "1476": 512,
           "1477": 512,
           "1478": 512,
           "1479": 512,
           "148": 512,
           "1480": 512,
           "1481": 512,
           "1482": 512,
           "1483": 512,
           "1484": 512,
           "1485": 512,
           "1486": 512,
           "1487": 512,
           "1488": 512,
           "1489": 512,
           "149": 512,
           "1490": 512,
           "1491": 512,
           "1492": 512,
           "1493": 512,
           "1494": 512,
           "1495": 512,
           "1496": 512,
           "1497": 512,
           "1498": 512,
           "1499": 512,
           "15": 512,
           "150": 512,
           "1500": 512,
           "1501": 512,
           "1502": 512,
           "1503": 512,
           "1504": 512,
           "1505": 512,
           "1506": 512,
           "1507": 512,
           "1508": 512,
           "1509": 512,
           "151": 512,
           "1510": 512,
           "1511": 512,
           "1512": 512,
           "1513": 512,
           "1514": 512,
           "1515": 512,
           "1516": 512,
           "1517": 512,
           "1518": 512,
           "1519": 512,
           "152": 512,
           "1520": 512,
           "1521": 512,
           "1522": 512,
           "1523": 512,
           "1524": 512,
           "1525": 512,
           "1526": 512,
           "1527": 512,
           "1528": 512,
           "1529": 512,
           "153": 512,
           "1530": 512,
           "1531": 512,
           "1532": 512,
           "1533": 512,
           "1534": 512,
           "1535": 512,
           "1536": 512,
           "1537": 512,
           "1538": 512,
           "1539": 512,
           "154": 512,
           "1540": 512,
           "1541": 512,
           "1542": 512,
           "1543": 512,
           "1544": 512,
           "1545": 512,
           "1546": 512,
           "1547": 512,
           "1548": 512,
           "1549": 512,
           "155": 512,
           "1550": 512,
           "1551": 512,
           "1552": 512,
           "1553": 512,
           "1554": 512,
           "1555": 512,
           "1556": 512,
           "1557": 512,
           "1558": 512,
           "1559": 512,
           "156": 512,
           "1560": 512,
           "1561": 512,
           "1562": 512,
           "1563": 512,
           "1564": 512,
           "1565": 512,
           "1566": 512,
           "1567": 512,
           "1568": 512,
           "1569": 512,
           "157": 512,
           "1570": 512,
           "1571": 512,
           "1572": 512,
           "1573": 512,
           "1574": 512,
           "1575": 512,
           "1576": 512,
           "1577": 512,
           "1578": 512,
           "1579": 512,
           "158": 512,
           "1580": 512,
           "1581": 512,
           "1582": 512,
           "1583": 512,
           "1584": 512,
           "1585": 512,
           "1586": 512,
           "1587": 512,
           "1588": 512,
           "1589": 512,
           "159": 512,
           "1590": 512,
           "1591": 512,
           "1592": 512,
           "1593": 512,
           "1594": 512,
           "1595": 512,
           "1596": 512,
           "1597": 512,
           "1598": 512,
           "1599": 512,
           "16": 512,
           "160": 512,
           "1600": 512,
           "1601": 512,
           "1602": 512,
           "1603": 512,
           "1604": 512,
           "1605": 512,
           "1606": 512,
           "1607": 512,
           "1608": 512,
           "1609": 512,
           "161": 512,
           "1610": 512,
           "1611": 512,
           "1612": 512,
           "1613": 512,
           "1614": 512,
           "1615": 512,
           "1616": 512,
           "1617": 512,
           "1618": 512,
           "1619": 512,
           "162": 512,
           "1620": 512,
           "1621": 512,
           "1622": 512,
           "1623": 512,
           "1624": 512,
           "1625": 512,
           "1626": 512,
           "1627": 512,
           "1628": 512,
           "1629": 512,
           "163": 512,
           "1630": 512,
           "1631": 512,
           "1632": 512,
           "1633": 512,
           "1634": 512,
           "1635": 512,
           "1636": 512,
           "1637": 512,
           "1638": 512,
           "1639": 512,
           "164": 512,
           "1640": 512,
           "1641": 512,
           "1642": 512,
           "1643": 512,
           "1644": 512,
           "1645": 512,
           "1646": 512,
           "1647": 512,
           "1648": 512,
           "1649": 512,
           "165": 512,
           "1650": 512,
           "1651": 512,
           "1652": 512,
           "1653": 512,
           "1654": 512,
           "1655": 512,
           "1656": 512,
           "1657": 512,
           "1658": 512,
           "1659": 512,
           "166": 512,
           "1660": 512,
           "1661": 512,
           "1662": 512,
           "1663": 512,
           "1664": 512,
           "1665": 512,
           "1666": 512,
           "1667": 512,
           "1668": 512,
           "1669": 512,
           "167": 512,
           "1670": 512,
           "1671": 512,
           "1672": 512,
           "1673": 512,
           "1674": 512,
           "1675": 512,
           "1676": 512,
           "1677": 512,
           "1678": 512,
           "1679": 512,
           "168": 512,
           "1680": 512,
           "1681": 512,
           "1682": 512,
           "1683": 512,
           "1684": 512,
           "1685": 512,
           "1686": 512,
           "1687": 512,
           "1688": 512,
           "1689": 512,
           "169": 512,
           "1690": 512,
           "1691": 512,
           "1692": 512,
           "1693": 512,
           "1694": 512,
           "1695": 512,
           "1696": 512,
           "1697": 512,
           "1698": 512,
           "1699": 512,
           "17": 512,
           "170": 512,
           "1700": 512,
           "1701": 512,
           "1702": 512,
           "1703": 512,
           "1704": 512,
           "1705": 512,
           "1706": 512,
           "1707": 512,
           "1708": 512,
           "1709": 512,
           "171": 512,
           "1710": 512,
           "1711": 512,
           "1712": 512,
           "1713": 512,
           "1714": 512,
           "1715": 512,
           "1716": 512,
           "1717": 512,
           "1718": 512,
           "1719": 512,
           "172": 512,
           "1720": 512,
           "1721": 512,
           "1722": 512,
           "1723": 512,
           "1724": 512,
           "1725": 512,
           "1726": 512,
           "1727": 512,
           "1728": 512,
           "1729": 512,
           "173": 512,
           "1730": 512,
           "1731": 512,
           "1732": 512,
           "1733": 512,
           "1734": 512,
           "1735": 512,
           "1736": 512,
           "1737": 512,
           "1738": 512,
           "1739": 512,
           "174": 512,
           "1740": 512,
           "1741": 512,
           "1742": 512,
           "1743": 512,
           "1744": 512,
           "1745": 512,
           "1746": 512,
           "1747": 512,
           "1748": 512,
           "1749": 512,
           "175": 512,
           "1750": 512,
           "1751": 512,
           "1752": 512,
           "1753": 512,
           "1754": 512,
           "1755": 512,
           "1756": 512,
           "1757": 512,
           "1758": 512,
           "1759": 512,
           "176": 512,
           "1760": 512,
           "1761": 512,
           "1762": 512,
           "1763": 512,
           "1764": 512,
           "1765": 512,
           "1766": 512,
           "1767": 512,
           "1768": 512,
           "1769": 512,
           "177": 512,
           "1770": 512,
           "1771": 512,
           "1772": 512,
           "1773": 512,
           "1774": 512,
           "1775": 512,
           "1776": 512,
           "1777": 512,
           "1778": 512,
           "1779": 512,
           "178": 512,
           "1780": 512,
           "1781": 512,
           "1782": 512,
           "1783": 512,
           "1784": 512,
           "1785": 512,
           "1786": 512,
           "1787": 512,
           "1788": 512,
           "1789": 331,
           "179": 512,
           "1790": 512,
           "1791": 512,
           "1792": 512,
           "1793": 512,
           "1794": 512,
           "1795": 512,
           "1796": 512,
           "1797": 512,
           "1798": 512,
           "1799": 512,
           "18": 512,
           "180": 512,
           "1800": 512,
           "1801": 512,
           "1802": 512,
           "1803": 512,
           "1804": 512,
           "1805": 512,
           "1806": 512,
           "1807": 512,
           "1808": 512,
           "1809": 512,
           "181": 512,
           "1810": 512,
           "1811": 512,
           "1812": 512,
           "1813": 512,
           "1814": 512,
           "1815": 512,
           "1816": 512,
           "1817": 512,
           "1818": 512,
           "1819": 512,
           "182": 512,
           "1820": 512,
           "1821": 512,
           "1822": 512,
           "1823": 512,
           "1824": 512,
           "1825": 512,
           "1826": 512,
           "1827": 512,
           "1828": 512,
           "1829": 512,
           "183": 512,
           "1830": 512,
           "1831": 512,
           "1832": 512,
           "1833": 512,
           "1834": 512,
           "1835": 512,
           "1836": 512,
           "1837": 512,
           "1838": 512,
           "1839": 512,
           "184": 512,
           "1840": 512,
           "1841": 512,
           "1842": 512,
           "1843": 512,
           "1844": 512,
           "1845": 512,
           "1846": 512,
           "1847": 512,
           "1848": 512,
           "1849": 512,
           "185": 512,
           "1850": 512,
           "1851": 512,
           "1852": 512,
           "1853": 512,
           "1854": 512,
           "1855": 512,
           "1856": 512,
           "1857": 512,
           "1858": 512,
           "1859": 512,
           "186": 512,
           "1860": 512,
           "1861": 512,
           "1862": 512,
           "1863": 512,
           "1864": 512,
           "1865": 512,
           "1866": 512,
           "1867": 512,
           "1868": 512,
           "1869": 512,
           "187": 512,
           "1870": 512,
           "1871": 512,
           "1872": 512,
           "1873": 512,
           "1874": 512,
           "1875": 512,
           "1876": 512,
           "1877": 512,
           "1878": 512,
           "1879": 512,
           "188": 512,
           "1880": 512,
           "1881": 512,
           "1882": 512,
           "1883": 512,
           "1884": 512,
           "1885": 512,
           "1886": 512,
           "1887": 512,
           "1888": 512,
           "1889": 512,
           "189": 512,
           "1890": 512,
           "1891": 512,
           "1892": 512,
           "1893": 512,
           "1894": 512,
           "1895": 512,
           "1896": 512,
           "1897": 512,
           "1898": 512,
           "1899": 512,
           "19": 512,
           "190": 512,
           "1900": 512,
           "1901": 512,
           "1902": 512,
           "1903": 512,
           "1904": 512,
           "1905": 512,
           "1906": 512,
           "1907": 512,
           "1908": 512,
           "1909": 512,
           "191": 512,
           "1910": 512,
           "1911": 512,
           "1912": 512,
           "1913": 512,
           "1914": 512,
           "1915": 512,
           "1916": 512,
           "1917": 512,
           "1918": 512,
           "1919": 512,
           "192": 512,
           "1920": 512,
           "1921": 512,
           "1922": 512,
           "1923": 512,
           "1924": 512,
           "1925": 512,
           "1926": 512,
           "1927": 512,
           "1928": 512,
           "1929": 512,
           "193": 512,
           "1930": 512,
           "1931": 512,
           "1932": 512,
           "194": 512,
           "195": 512,
           "196": 512,
           "197": 512,
           "198": 512,
           "199": 512,
           "2": 512,
           "20": 512,
           "200": 512,
           "201": 512,
           "202": 512,
           "203": 512,
           "204": 512,
           "205": 512,
           "206": 512,
           "207": 512,
           "208": 512,
           "209": 512,
           "21": 512,
           "210": 512,
           "211": 512,
           "212": 512,
           "213": 512,
           "214": 512,
           "215": 512,
           "216": 512,
           "217": 512,
           "218": 512,
           "219": 512,
           "22": 512,
           "220": 512,
           "221": 512,
           "222": 512,
           "223": 512,
           "224": 512,
           "225": 512,
           "226": 512,
           "227": 512,
           "228": 512,
           "229": 512,
           "23": 512,
           "230": 512,
           "231": 512,
           "232": 512,
           "233": 512,
           "234": 512,
           "235": 512,
           "236": 512,
           "237": 512,
           "238": 512,
           "239": 512,
           "24": 512,
           "240": 512,
           "241": 512,
           "242": 512,
           "243": 512,
           "244": 512,
           "245": 512,
           "246": 512,
           "247": 512,
           "248": 512,
           "249": 512,
           "25": 512,
           "250": 512,
           "251": 512,
           "252": 512,
           "253": 512,
           "254": 512,
           "255": 512,
           "256": 512,
           "257": 512,
           "258": 512,
           "259": 512,
           "26": 512,
           "260": 512,
           "261": 512,
           "262": 512,
           "263": 512,
           "264": 512,
           "265": 512,
           "266": 512,
           "267": 512,
           "268": 512,
           "269": 512,
           "27": 512,
           "270": 512,
           "271": 512,
           "272": 512,
           "273": 512,
           "274": 512,
           "275": 512,
           "276": 512,
           "277": 512,
           "278": 512,
           "279": 512,
           "28": 512,
           "280": 512,
           "281": 512,
           "282": 512,
           "283": 512,
           "284": 512,
           "285": 512,
           "286": 512,
           "287": 512,
           "288": 512,
           "289": 512,
           "29": 512,
           "290": 512,
           "291": 512,
           "292": 512,
           "293": 512,
           "294": 512,
           "295": 512,
           "296": 512,
           "297": 512,
           "298": 512,
           "299": 512,
           "3": 512,
           "30": 512,
           "300": 512,
           "301": 512,
           "302": 512,
           "303": 512,
           "304": 512,
           "305": 512,
           "306": 512,
           "307": 512,
           "308": 512,
           "309": 512,
           "31": 512,
           "310": 512,
           "311": 512,
           "312": 512,
           "313": 512,
           "314": 512,
           "315": 512,
           "316": 512,
           "317": 512,
           "318": 512,
           "319": 512,
           "32": 512,
           "320": 512,
           "321": 512,
           "322": 512,
           "323": 512,
           "324": 512,
           "325": 512,
           "326": 512,
           "327": 512,
           "328": 512,
           "329": 512,
           "33": 512,
           "330": 512,
           "331": 512,
           "332": 512,
           "333": 512,
           "334": 512,
           "335": 512,
           "336": 512,
           "337": 512,
           "338": 512,
           "339": 512,
           "34": 512,
           "340": 512,
           "341": 512,
           "342": 512,
           "343": 512,
           "344": 512,
           "345": 512,
           "346": 512,
           "347": 512,
           "348": 512,
           "349": 512,
           "35": 512,
           "350": 512,
           "351": 512,
           "352": 512,
           "353": 512,
           "354": 512,
           "355": 512,
           "356": 512,
           "357": 512,
           "358": 512,
           "359": 512,
           "36": 512,
           "360": 512,
           "361": 512,
           "362": 512,
           "363": 512,
           "364": 512,
           "365": 512,
           "366": 512,
           "367": 512,
           "368": 512,
           "369": 512,
           "37": 512,
           "370": 512,
           "371": 512,
           "372": 512,
           "373": 512,
           "374": 512,
           "375": 512,
           "376": 512,
           "377": 512,
           "378": 512,
           "379": 512,
           "38": 512,
           "380": 512,
           "381": 512,
           "382": 512,
           "383": 512,
           "384": 512,
           "385": 512,
           "386": 512,
           "387": 512,
           "388": 512,
           "389": 512,
           "39": 512,
           "390": 512,
           "391": 512,
           "392": 512,
           "393": 512,
           "394": 512,
           "395": 512,
           "396": 512,
           "397": 512,
           "398": 512,
           "399": 512,
           "4": 512,
           "40": 512,
           "400": 512,
           "401": 512,
           "402": 512,
           "403": 512,
           "404": 512,
           "405": 512,
           "406": 512,
           "407": 512,
           "408": 512,
           "409": 512,
           "41": 512,
           "410": 512,
           "411": 512,
           "412": 512,
           "413": 512,
           "414": 512,
           "415": 512,
           "416": 512,
           "417": 512,
           "418": 512,
           "419": 512,
           "42": 512,
           "420": 512,
           "421": 512,
           "422": 512,
           "423": 512,
           "424": 512,
           "425": 512,
           "426": 512,
           "427": 512,
           "428": 512,
           "429": 512,
           "43": 512,
           "430": 512,
           "431": 512,
           "432": 512,
           "433": 512,
           "434": 512,
           "435": 512,
           "436": 512,
           "437": 512,
           "438": 512,
           "439": 512,
           "44": 512,
           "440": 512,
           "441": 512,
           "442": 512,
           "443": 512,
           "444": 512,
           "445": 512,
           "446": 512,
           "447": 512,
           "448": 512,
           "449": 512,
           "45": 512,
           "450": 512,
           "451": 512,
           "452": 512,
           "453": 512,
           "454": 512,
           "455": 512,
           "456": 512,
           "457": 512,
           "458": 512,
           "459": 512,
           "46": 512,
           "460": 512,
           "461": 512,
           "462": 512,
           "463": 512,
           "464": 512,
           "465": 512,
           "466": 512,
           "467": 512,
           "468": 512,
           "469": 512,
           "47": 512,
           "470": 512,
           "471": 512,
           "472": 512,
           "473": 512,
           "474": 512,
           "475": 512,
           "476": 512,
           "477": 512,
           "478": 512,
           "479": 512,
           "48": 512,
           "480": 512,
           "481": 512,
           "482": 512,
           "483": 512,
           "484": 512,
           "485": 512,
           "486": 512,
           "487": 512,
           "488": 512,
           "489": 512,
           "49": 512,
           "490": 512,
           "491": 512,
           "492": 512,
           "493": 512,
           "494": 512,
           "495": 512,
           "496": 512,
           "497": 512,
           "498": 512,
           "499": 512,
           "5": 512,
           "50": 512,
           "500": 512,
           "501": 512,
           "502": 512,
           "503": 512,
           "504": 512,
           "505": 512,
           "506": 512,
           "507": 512,
           "508": 512,
           "509": 512,
           "51": 512,
           "510": 512,
           "511": 512,
           "512": 512,
           "513": 512,
           "514": 512,
           "515": 512,
           "516": 512,
           "517": 512,
           "518": 512,
           "519": 512,
           "52": 512,
           "520": 512,
           "521": 512,
           "522": 512,
           "523": 512,
           "524": 512,
           "525": 512,
           "526": 512,
           "527": 512,
           "528": 512,
           "529": 512,
           "53": 512,
           "530": 512,
           "531": 512,
           "532": 512,
           "533": 512,
           "534": 512,
           "535": 512,
           "536": 512,
           "537": 512,
           "538": 512,
           "539": 512,
           "54": 512,
           "540": 512,
           "541": 512,
           "542": 512,
           "543": 512,
           "544": 512,
           "545": 512,
           "546": 512,
           "547": 512,
           "548": 512,
           "549": 512,
           "55": 512,
           "550": 512,
           "551": 512,
           "552": 512,
           "553": 512,
           "554": 512,
           "555": 512,
           "556": 512,
           "557": 512,
           "558": 512,
           "559": 512,
           "56": 512,
           "560": 512,
           "561": 512,
           "562": 512,
           "563": 512,
           "564": 512,
           "565": 512,
           "566": 512,
           "567": 512,
           "568": 512,
           "569": 512,
           "57": 512,
           "570": 512,
           "571": 512,
           "572": 512,
           "573": 512,
           "574": 512,
           "575": 512,
           "576": 512,
           "577": 512,
           "578": 512,
           "579": 512,
           "58": 512,
           "580": 512,
           "581": 512,
           "582": 512,
           "583": 512,
           "584": 512,
           "585": 512,
           "586": 512,
           "587": 512,
           "588": 512,
           "589": 512,
           "59": 512,
           "590": 512,
           "591": 512,
           "592": 512,
           "593": 512,
           "594": 512,
           "595": 512,
           "596": 512,
           "597": 512,
           "598": 512,
           "599": 512,
           "6": 512,
           "60": 512,
           "600": 512,
           "601": 512,
           "602": 512,
           "603": 512,
           "604": 512,
           "605": 512,
           "606": 512,
           "607": 512,
           "608": 512,
           "609": 512,
           "61": 512,
           "610": 512,
           "611": 512,
           "612": 512,
           "613": 512,
           "614": 512,
           "615": 512,
           "616": 512,
           "617": 512,
           "618": 512,
           "619": 512,
           "62": 512,
           "620": 512,
           "621": 512,
           "622": 512,
           "623": 512,
           "624": 512,
           "625": 512,
           "626": 512,
           "627": 512,
           "628": 512,
           "629": 512,
           "63": 512,
           "630": 512,
           "631": 512,
           "632": 512,
           "633": 512,
           "634": 512,
           "635": 512,
           "636": 512,
           "637": 512,
           "638": 512,
           "639": 512,
           "64": 512,
           "640": 512,
           "641": 512,
           "642": 512,
           "643": 512,
           "644": 512,
           "645": 512,
           "646": 512,
           "647": 512,
           "648": 512,
           "649": 512,
           "65": 512,
           "650": 512,
           "651": 512,
           "652": 512,
           "653": 512,
           "654": 512,
           "655": 512,
           "656": 512,
           "657": 512,
           "658": 512,
           "659": 512,
           "66": 512,
           "660": 512,
           "661": 512,
           "662": 512,
           "663": 512,
           "664": 512,
           "665": 512,
           "666": 512,
           "667": 512,
           "668": 512,
           "669": 512,
           "67": 512,
           "670": 512,
           "671": 512,
           "672": 512,
           "673": 512,
           "674": 512,
           "675": 512,
           "676": 512,
           "677": 512,
           "678": 512,
           "679": 512,
           "68": 512,
           "680": 512,
           "681": 512,
           "682": 512,
           "683": 512,
           "684": 512,
           "685": 512,
           "686": 512,
           "687": 512,
           "688": 512,
           "689": 512,
           "69": 512,
           "690": 512,
           "691": 512,
           "692": 512,
           "693": 512,
           "694": 512,
           "695": 512,
           "696": 512,
           "697": 512,
           "698": 512,
           "699": 512,
           "7": 512,
           "70": 512,
           "700": 512,
           "701": 512,
           "702": 512,
           "703": 512,
           "704": 512,
           "705": 512,
           "706": 512,
           "707": 512,
           "708": 512,
           "709": 512,
           "71": 512,
           "710": 512,
           "711": 512,
           "712": 512,
           "713": 512,
           "714": 512,
           "715": 512,
           "716": 512,
           "717": 512,
           "718": 512,
           "719": 512,
           "72": 512,
           "720": 512,
           "721": 512,
           "722": 512,
           "723": 512,
           "724": 512,
           "725": 512,
           "726": 512,
           "727": 512,
           "728": 512,
           "729": 512,
           "73": 512,
           "730": 512,
           "731": 512,
           "732": 512,
           "733": 512,
           "734": 512,
           "735": 512,
           "736": 512,
           "737": 512,
           "738": 512,
           "739": 512,
           "74": 512,
           "740": 512,
           "741": 512,
           "742": 512,
           "743": 512,
           "744": 512,
           "745": 512,
           "746": 512,
           "747": 512,
           "748": 512,
           "749": 512,
           "75": 512,
           "750": 512,
           "751": 512,
           "752": 512,
           "753": 512,
           "754": 512,
           "755": 512,
           "756": 512,
           "757": 512,
           "758": 512,
           "759": 512,
           "76": 512,
           "760": 512,
           "761": 512,
           "762": 512,
           "763": 512,
           "764": 512,
           "765": 512,
           "766": 512,
           "767": 512,
           "768": 512,
           "769": 512,
           "77": 512,
           "770": 512,
           "771": 512,
           "772": 512,
           "773": 512,
           "774": 512,
           "775": 512,
           "776": 512,
           "777": 512,
           "778": 512,
           "779": 512,
           "78": 512,
           "780": 512,
           "781": 512,
           "782": 512,
           "783": 512,
           "784": 512,
           "785": 512,
           "786": 512,
           "787": 512,
           "788": 512,
           "789": 512,
           "79": 512,
           "790": 512,
           "791": 512,
           "792": 512,
           "793": 512,
           "794": 512,
           "795": 512,
           "796": 512,
           "797": 512,
           "798": 512,
           "799": 512,
           "8": 512,
           "80": 512,
           "800": 512,
           "801": 512,
           "802": 512,
           "803": 512,
           "804": 512,
           "805": 512,
           "806": 512,
           "807": 512,
           "808": 512,
           "809": 512,
           "81": 512,
           "810": 512,
           "811": 512,
           "812": 512,
           "813": 512,
           "814": 512,
           "815": 512,
           "816": 512,
           "817": 512,
           "818": 512,
           "819": 512,
           "82": 512,
           "820": 512,
           "821": 512,
           "822": 512,
           "823": 512,
           "824": 512,
           "825": 512,
           "826": 512,
           "827": 512,
           "828": 512,
           "829": 512,
           "83": 512,
           "830": 512,
           "831": 512,
           "832": 512,
           "833": 512,
           "834": 512,
           "835": 512,
           "836": 512,
           "837": 512,
           "838": 512,
           "839": 512,
           "84": 512,
           "840": 512,
           "841": 512,
           "842": 512,
           "843": 512,
           "844": 512,
           "845": 512,
           "846": 512,
           "847": 512,
           "848": 512,
           "849": 512,
           "85": 512,
           "850": 512,
           "851": 512,
           "852": 512,
           "853": 512,
           "854": 512,
           "855": 512,
           "856": 512,
           "857": 512,
           "858": 512,
           "859": 512,
           "86": 512,
           "860": 512,
           "861": 512,
           "862": 512,
           "863": 512,
           "864": 512,
           "865": 512,
           "866": 512,
           "867": 512,
           "868": 512,
           "869": 512,
           "87": 512,
           "870": 512,
           "871": 512,
           "872": 512,
           "873": 512,
           "874": 512,
           "875": 512,
           "876": 512,
           "877": 512,
           "878": 512,
           "879": 512,
           "88": 512,
           "880": 512,
           "881": 512,
           "882": 512,
           "883": 512,
           "884": 512,
           "885": 512,
           "886": 512,
           "887": 512,
           "888": 512,
           "889": 512,
           "89": 512,
           "890": 512,
           "891": 512,
           "892": 512,
           "893": 512,
           "894": 512,
           "895": 512,
           "896": 512,
           "897": 512,
           "898": 512,
           "899": 512,
           "9": 512,
           "90": 512,
           "900": 512,
           "901": 512,
           "902": 512,
           "903": 512,
           "904": 512,
           "905": 512,
           "906": 512,
           "907": 512,
           "908": 512,
           "909": 512,
           "91": 512,
           "910": 512,
           "911": 512,
           "912": 512,
           "913": 512,
           "914": 512,
           "915": 512,
           "916": 512,
           "917": 512,
           "918": 512,
           "919": 512,
           "92": 512,
           "920": 512,
           "921": 512,
           "922": 512,
           "923": 512,
           "924": 512,
           "925": 512,
           "926": 512,
           "927": 512,
           "928": 512,
           "929": 512,
           "93": 512,
           "930": 512,
           "931": 512,
           "932": 512,
           "933": 512,
           "934": 512,
           "935": 512,
           "936": 512,
           "937": 512,
           "938": 512,
           "939": 512,
           "94": 512,
           "940": 512,
           "941": 512,
           "942": 512,
           "943": 512,
           "944": 512,
           "945": 512,
           "946": 512,
           "947": 512,
           "948": 512,
           "949": 512,
           "95": 512,
           "950": 512,
           "951": 512,
           "952": 512,
           "953": 512,
           "954": 512,
           "955": 512,
           "956": 512,
           "957": 512,
           "958": 512,
           "959": 512,
           "96": 512,
           "960": 512,
           "961": 512,
           "962": 512,
           "963": 512,
           "964": 512,
           "965": 512,
           "966": 512,
           "967": 512,
           "968": 512,
           "969": 512,
           "97": 512,
           "970": 512,
           "971": 512,
           "972": 512,
           "973": 512,
           "974": 512,
           "975": 512,
           "976": 512,
           "977": 512,
           "978": 512,
           "979": 512,
           "98": 512,
           "980": 512,
           "981": 512,
           "982": 512,
           "983": 512,
           "984": 512,
           "985": 512,
           "986": 512,
           "987": 512,
           "988": 512,
           "989": 512,
           "99": 512,
           "990": 512,
           "991": 512,
           "992": 512,
           "993": 512,
           "994": 512,
           "995": 512,
           "996": 512,
           "997": 512,
           "998": 512,
           "999": 512,
           "bdata": "AAIAAAACAAAAAgAAAAIAAAACAAAAAgAAAAIAAAACAAAAAgAAAAIAAAACAAAAAgAAAAIAAAACAAAAAgAAAAIAAAACAAAAAgAAAAIAAAACAAAAAgAAAAIAAAACAAAAAgAAAAIAAAACAAAAAgAAAAIAAAACAAAAAgAAAAIAAAACAAAAAgAAAAIAAAACAAAAAgAAAAIAAAACAAAAAgAAAAIAAAACAAAAAgAAAAIAAAACAAAAAgAAAAIAAAACAAAAAgAAAAIAAAACAAAAAgAAAAIAAAACAAAAAgAAAAIAAAACAAAAAgAAAAIAAAACAAAAAgAAAAIAAAACAAAAAgAAAAIAAAACAAAAAgAAAAIAAAACAAAAAgAAAAIAAAACAAAAAgAAAAIAAAACAAAAAgAAAAIAAAACAAAAAgAAAAIAAAACAAAAAgAAAAIAAAACAAAAAgAAAAIAAAACAAAAAgAAAAIAAAACAAAAAgAAAAIAAAACAAAAAgAAAAIAAAACAAAAAgAAAAIAAAACAAAAAgAAAAIAAAACAAAAAgAAAAIAAAACAAAAAgAAAAIAAAACAAAAAgAAAAIAAAACAAAAAgAAAAIAAAACAAAAAgAAAAIAAAACAAAAAgAAAAIAAAACAAAAAgAAAAIAAAACAAAAAgAAAAIAAAACAAAAAgAAAAIAAAACAAAAAgAAAAIAAAACAAAAAgAAAAIAAAACAAAAAgAAAAIAAAACAAAAAgAAAAIAAAACAAAAAgAAAAIAAAACAAAAAgAAAAIAAAACAAAAAgAAAAIAAAACAAAAAgAAAAIAAAACAAAAAgAAAAIAAAACAAAAAgAAAAIAAAACAAAAAgAAAAIAAAACAAAAAgAAAAIAAAACAAAAAgAAAAIAAAACAAAAAgAAAAIAAAACAAAAAgAAAAIAAAACAAAAAgAAAAIAAAACAAAAAgAAAAIAAAACAAAAAgAAAAIAAAACAAAAAgAAAAIAAAACAAAAAgAAAAIAAAACAAAAAgAAAAIAAAACAAAAAgAAAAIAAAACAAAAAgAAAAIAAAACAAAAAgAAAAIAAAACAAAAAgAAAAIAAAACAAAAAgAAAAIAAAACAAAAAgAAAAIAAAACAAAAAgAAAAIAAAACAAAAAgAAAAIAAAACAAAAAgAAAAIAAAACAAAAAgAAAAIAAAACAAAAAgAAAAIAAAACAAAAAgAAAAIAAAACAAAAAgAAAAIAAAACAAAAAgAAAAIAAAACAAAAAgAAAAIAAAACAAAAAgAAAAIAAAACAAAAAgAAAAIAAAACAAAAAgAAAAIAAAACAAAAAgAAAAIAAAACAAAAAgAAAAIAAAACAAAAAgAAAAIAAAACAAAAAgAAAAIAAAACAAAAAgAAAAIAAAACAAAAAgAAAAIAAAACAAAAAgAAAAIAAAACAAAAAgAAAAIAAAACAAAAAgAAAAIAAAACAAAAAgAAAAIAAAACAAAAAgAAAAIAAAACAAAAAgAAAAIAAAACAAAAAgAAAAIAAAACAAAAAgAAAAIAAAACAAAAAgAAAAIAAAACAAAAAgAAAAIAAAACAAAAAgAAAAIAAAACAAAAAgAAAAIAAAACAAAAAgAAAAIAAAACAAAAAgAAAAIAAAACAAAAAgAAAAIAAAACAAAAAgAAAAIAAAACAAAAAgAAAAIAAAACAAAAAgAAAAIAAAACAAAAAgAAAAIAAAACAAAAAgAAAAIAAAACAAAAAgAAAAIAAAACAAAAAgAAAAIAAAACAAAAAgAAAAIAAAACAAAAAgAAAAIAAAACAAAAAgAAAAIAAAACAAAAAgAAAAIAAAACAAAAAgAAAAIAAAACAAAAAgAAAAIAAAACAAAAAgAAAAIAAAACAAAAAgAAAAIAAAACAAAAAgAAAAIAAAACAAAAAgAAAAIAAAACAAAAAgAAAAIAAAACAAAAAgAAAAIAAAACAAAAAgAAAAIAAAACAAAAAgAAAAIAAAACAAAAAgAAAAIAAAACAAAAAgAAAAIAAAACAAAAAgAAAAIAAAACAAAAAgAAAAIAAAACAAAAAgAAAAIAAAACAAAAAgAAAAIAAAACAAAAAgAAAAIAAAACAAAAAgAAAAIAAAACAAAAAgAAAAIAAAACAAAAAgAAAAIAAAACAAAAAgAAAAIAAAACAAAAAgAAAAIAAAACAAAAAgAAAAIAAAACAAAAAgAAAAIAAAACAAAAAgAAAAIAAAACAAAAAgAAAAIAAAACAAAAAgAAAAIAAAACAAAAAgAAAAIAAAACAAAAAgAAAAIAAAACAAAAAgAAAAIAAAACAAAAAgAAAAIAAAACAAAAAgAAAAIAAAACAAAAAgAAAAIAAAACAAAAAgAAAAIAAAACAAAAAgAAAAIAAAACAAAAAgAAAAIAAAACAAAAAgAAAAIAAAACAAAAAgAAAAIAAAACAAAAAgAAAAIAAAACAAAAAgAAAAIAAAACAAAAAgAAAAIAAAACAAAAAgAAAAIAAAACAAAAAgAAAAIAAAACAAAAAgAAAAIAAAACAAAAAgAAAAIAAAACAAAAAgAAAAIAAAACAAAAAgAAAAIAAAACAAAAAgAAAAIAAAACAAAAAgAAAAIAAAACAAAAAgAAAAIAAAACAAAAAgAAAAIAAAACAAAAAgAAAAIAAAACAAAAAgAAAAIAAAACAAAAAgAAAAIAAAACAAAAAgAAAAIAAAACAAAAAgAAAAIAAAACAAAAAgAAAAIAAAACAAAAAgAAAAIAAAACAAAAAgAAAAIAAAACAAAAAgAAAAIAAAACAAAAAgAAAAIAAAACAAAAAgAAAAIAAAACAAAAAgAAAAIAAAACAAAAAgAAAAIAAAACAAAAAgAAAAIAAAACAAAAAgAAAAIAAAACAAAAAgAAAAIAAAACAAAAAgAAAAIAAAACAAAAAgAAAAIAAAACAAAAAgAAAAIAAAACAAAAAgAAAAIAAAACAAAAAgAAAAIAAAACAAAAAgAAAAIAAAACAAAAAgAAAAIAAAACAAAAAgAAAAIAAAACAAAAAgAAAAIAAAACAAAAAgAAAAIAAAACAAAAAgAAAAIAAAACAAAAAgAAAAIAAAACAAAAAgAAAAIAAAACAAAAAgAAAAIAAAACAAAAAgAAAAIAAAACAAAAAgAAAAIAAAACAAAAAgAAAAIAAAACAAAAAgAAAAIAAAACAAAAAgAAAAIAAAACAAAAAgAAAAIAAAACAAAAAgAAAAIAAAACAAAAAgAAAAIAAAACAAAAAgAAAAIAAAACAAAAAgAAAAIAAAACAAAAAgAAAAIAAAACAAAAAgAAAAIAAAACAAAAAgAAAAIAAAACAAAAAgAAAAIAAAACAAAAAgAAAAIAAAACAAAAAgAAAAIAAAACAAAAAgAAAAIAAAACAAAAAgAAAAIAAAACAAAAAgAAAAIAAAACAAAAAgAAAAIAAAACAAAAAgAAAAIAAAACAAAAAgAAAAIAAAACAAAAAgAAAAIAAAACAAAAAgAAAAIAAAACAAAAAgAAAAIAAAACAAAAAgAAAAIAAAACAAAAAgAAAAIAAAACAAAAAgAAAAIAAAACAAAAAgAAAAIAAAACAAAAAgAAAAIAAAACAAAAAgAAAAIAAAACAAAAAgAAAAIAAAACAAAAAgAAAAIAAAACAAAAAgAAAAIAAAACAAAAAgAAAAIAAAACAAAAAgAAAAIAAAACAAAAAgAAAAIAAAACAAAAAgAAAAIAAAACAAAAAgAAAAIAAAACAAAAAgAAAAIAAAACAAAAAgAAAAIAAAACAAAAAgAAAAIAAAACAAAAAgAAAAIAAAACAAAAAgAAAAIAAAACAAAAAgAAAAIAAAACAAAAAgAAAAIAAAACAAAAAgAAAAIAAAACAAAAAgAAAAIAAAACAAAAAgAAAAIAAAACAAAAAgAAAAIAAAACAAAAAgAAAAIAAAACAAAAAgAAAAIAAAACAAAAAgAAAAIAAAACAAAAAgAAAAIAAAACAAAAAgAAAAIAAAACAAAAAgAAAAIAAAACAAAAAgAAAAIAAAACAAAAAgAAAAIAAAACAAAAAgAAAAIAAAACAAAAAgAAAAIAAAACAAAAAgAAAAIAAAACAAAAAgAAAAIAAAACAAAAAgAAAAIAAAACAAAAAgAAAAIAAAACAAAAAgAAAAIAAAACAAAAAgAAAAIAAAACAAAAAgAAAAIAAAACAAAAAgAAAAIAAAACAAAAAgAAAAIAAAACAAAAAgAAAAIAAAACAAAAAgAAAAIAAAACAAAAAgAAAAIAAAACAAAAAgAAAAIAAAACAAAAAgAAAAIAAAACAAAAAgAAAAIAAAACAAAAAgAAAAIAAAACAAAAAgAAAAIAAAACAAAAAgAAAAIAAAACAAAAAgAAAAIAAAACAAAAAgAAAAIAAAACAAAAAgAAAAIAAAACAAAAAgAAAAIAAAACAAAAAgAAAAIAAAACAAAAAgAAAAIAAAACAAAAAgAAAAIAAAACAAAAAgAAAAIAAAACAAAAAgAAAAIAAAACAAAAAgAAAAIAAAACAAAAAgAAAAIAAAACAAAAAgAAAAIAAAACAAAAAgAAAAIAAAACAAAAAgAAAAIAAAACAAAAAgAAAAIAAAACAAAAAgAAAAIAAAACAAAAAgAAAAIAAAACAAAAAgAAAAIAAAACAAAAAgAAAAIAAAACAAAAAgAAAAIAAAACAAAAAgAAAAIAAAACAAAAAgAAAAIAAAACAAAAAgAAAAIAAAACAAAAAgAAAAIAAAACAAAAAgAAAAIAAAACAAAAAgAAAAIAAAACAAAAAgAAAAIAAAACAAAAAgAAAAIAAAACAAAAAgAAAAIAAAACAAAAAgAAAAIAAAACAAAAAgAAAAIAAAACAAAAAgAAAAIAAAACAAAAAgAAAAIAAAACAAAAAgAAAAIAAAACAAAAAgAAAAIAAAACAAAAAgAAAAIAAAACAAAAAgAAAAIAAAACAAAAAgAAAAIAAAACAAAAAgAAAAIAAAACAAAAAgAAAAIAAAACAAAAAgAAAAIAAAACAAAAAgAAAAIAAAACAAAAAgAAAAIAAAACAAAAAgAAAAIAAAACAAAAAgAAAAIAAAACAAAAAgAAAAIAAAACAAAAAgAAAAIAAAACAAAAAgAAAAIAAAACAAAAAgAAAAIAAAACAAAAAgAAAAIAAAACAAAAAgAAAAIAAAACAAAAAgAAAAIAAAACAAAAAgAAAAIAAAACAAAAAgAAAAIAAAACAAAAAgAAAAIAAAACAAAAAgAAAAIAAAACAAAAAgAAAAIAAAACAAAAAgAAAAIAAAACAAAAAgAAAAIAAAACAAAAAgAAAAIAAAACAAAAAgAAAAIAAAACAAAAAgAAAAIAAAACAAAAAgAAAAIAAAACAAAAAgAAAAIAAAACAAAAAgAAAAIAAAACAAAAAgAAAAIAAAACAAAAAgAAAAIAAAACAAAAAgAAAAIAAAACAAAAAgAAAAIAAAACAAAAAgAAAAIAAAACAAAAAgAAAAIAAAACAAAAAgAAAAIAAAACAAAAAgAAAAIAAAACAAAAAgAAAAIAAAACAAAAAgAAAAIAAAACAAAAAgAAAAIAAAACAAAAAgAAAAIAAAACAAAAAgAAAAIAAAACAAAAAgAAAAIAAAACAAAAAgAAAAIAAAACAAAAAgAAAAIAAAACAAAAAgAAAAIAAAACAAAAAgAAAAIAAAACAAAAAgAAAAIAAAACAAAAAgAAAAIAAAACAAAAAgAAAAIAAAACAAAAAgAAAAIAAAACAAAAAgAAAAIAAAACAAAAAgAAAAIAAAACAAAAAgAAAAIAAAACAAAAAgAAAAIAAAACAAAAAgAAAAIAAAACAAAAAgAAAAIAAAACAAAAAgAAAAIAAAACAAAAAgAAAAIAAAACAAAAAgAAAAIAAAACAAAAAgAAAAIAAAACAAAAAgAAAAIAAAACAAAAAgAAAAIAAAACAAAAAgAAAAIAAAACAAAAAgAAAAIAAAACAAAAAgAAAAIAAAACAAAAAgAAAAIAAAACAAAAAgAAAAIAAAACAAAAAgAAAAIAAAACAAAAAgAAAAIAAAACAAAAAgAAAAIAAAACAAAAAgAAAAIAAAACAAAAAgAAAAIAAAACAAAAAgAAAAIAAAACAAAAAgAAAAIAAAACAAAAAgAAAAIAAAACAAAAAgAAAAIAAAACAAAAAgAAAAIAAAACAAAAAgAAAAIAAAACAAAAAgAAAAIAAAACAAAAAgAAAAIAAAACAAAAAgAAAAIAAAACAAAAAgAAAAIAAAACAAAAAgAAAAIAAAACAAAAAgAAAAIAAAACAAAAAgAAAAIAAAACAAAAAgAAAAIAAAACAAAAAgAAAAIAAAACAAAAAgAAAAIAAAACAAAAAgAAAAIAAAACAAAAAgAAAAIAAAACAAAAAgAAAAIAAAACAAAAAgAAAAIAAAACAAAAAgAAAAIAAAACAAAAAgAAAAIAAAACAAAAAgAAAAIAAAACAAAAAgAAAAIAAAACAAAAAgAAAAIAAAACAAAAAgAAAAIAAAACAAAAAgAAAAIAAAACAAAAAgAAAAIAAAACAAAAAgAAAAIAAAACAAAAAgAAAAIAAAACAAAAAgAAAAIAAAACAAAAAgAAAAIAAAACAAAAAgAAAAIAAAACAAAAAgAAAAIAAAACAAAAAgAAAAIAAAACAAAAAgAAAAIAAAACAAAAAgAAAAIAAAACAAAAAgAAAAIAAAACAAAAAgAAAAIAAAACAAAAAgAAAAIAAAACAAAAAgAAAAIAAAACAAAAAgAAAAIAAAACAAAAAgAAAAIAAAACAAAAAgAAAAIAAAACAAAAAgAAAAIAAAACAAAAAgAAAAIAAAACAAAAAgAAAAIAAAACAAAAAgAAAAIAAAACAAAAAgAAAAIAAAACAAAAAgAAAAIAAAACAAAAAgAAAAIAAAACAAAAAgAAAAIAAAACAAAAAgAAAAIAAAACAAAAAgAAAAIAAAACAAAAAgAAAAIAAAACAAAAAgAAAAIAAAACAAAAAgAAAAIAAAACAAAAAgAAAAIAAAACAAAAAgAAAAIAAAACAAAAAgAAAAIAAAACAAAAAgAAAAIAAAACAAAAAgAAAAIAAAACAAAAAgAAAAIAAAACAAAAAgAAAAIAAAACAAAAAgAAAAIAAAACAAAAAgAAAAIAAAACAAAAAgAAAAIAAAACAAAAAgAAAAIAAAACAAAAAgAAAAIAAAACAAAAAgAAAAIAAAACAAAAAgAAAAIAAAACAAAAAgAAAAIAAAACAAAAAgAAAAIAAAACAAAAAgAAAAIAAAACAAAAAgAAAAIAAAACAAAAAgAAAAIAAAACAAAAAgAAAAIAAAACAAAAAgAAAAIAAAACAAAAAgAAAAIAAAACAAAAAgAAAAIAAAACAAAAAgAAAAIAAAACAAAAAgAAAAIAAAACAAAAAgAAAAIAAAACAAAAAgAAAAIAAAACAAAAAgAAAAIAAAACAAAAAgAAAAIAAAACAAAAAgAAAAIAAAACAAAAAgAAAAIAAAACAAAAAgAAAAIAAAACAAAAAgAAAAIAAAACAAAAAgAAAAIAAAACAAAAAgAAAAIAAAACAAAAAgAAAAIAAAACAAAAAgAAAAIAAAACAAAAAgAAAAIAAAACAAAAAgAAAAIAAAACAAAAAgAAAAIAAAACAAAAAgAAAAIAAAACAAAAAgAAAAIAAAACAAAAAgAAAAIAAAACAAAAAgAAAAIAAAACAAAAAgAAAAIAAAACAAAAAgAAAAIAAAACAAAAAgAAAAIAAAACAAAAAgAAAAIAAAACAAAAAgAAAAIAAAACAAAAAgAAAAIAAAACAAAAAgAAAAIAAAACAAAAAgAAAAIAAAACAAAAAgAAAAIAAAACAAAAAgAAAAIAAAACAAAAAgAAAAIAAAACAAAAAgAAAAIAAAACAAAAAgAAAAIAAAACAAAAAgAAAAIAAAACAAAAAgAAAAIAAAACAAAAAgAAAAIAAAACAAAAAgAAAAIAAAACAAAAAgAAAAIAAAACAAAAAgAAAAIAAAACAAAAAgAAAAIAAAACAAAAAgAAAAIAAAACAAAAAgAAAAIAAAACAAAAAgAAAAIAAAACAAAAAgAAAAIAAAACAAAAAgAAAAIAAAACAAAAAgAAAAIAAAACAAAAAgAAAAIAAAACAAAAAgAAAAIAAAACAAAAAgAAAAIAAAACAAAAAgAAAAIAAAACAAAAAgAAAAIAAAACAAAAAgAAAAIAAAACAAAAAgAAAAIAAAACAAAAAgAAAAIAAAACAAAAAgAAAAIAAAACAAAAAgAAAAIAAAACAAAAAgAAAAIAAAACAAAAAgAAAAIAAAACAAAAAgAAAAIAAAACAAAAAgAAAAIAAAACAAAAAgAAAAIAAAACAAAAAgAAAAIAAAACAAAAAgAAAAIAAAACAAAAAgAAAAIAAAACAAAAAgAAAAIAAAACAAAAAgAAAAIAAAACAAAAAgAAAAIAAAACAAAAAgAAAAIAAAACAAAAAgAAAAIAAAACAAAAAgAAAAIAAAACAAAAAgAAAAIAAAACAAAAAgAAAAIAAAACAAAAAgAAAAIAAAACAAAAAgAAAAIAAAACAAAAAgAAAAIAAAACAAAAAgAAAAIAAAACAAAAAgAAAAIAAAACAAAAAgAAAAIAAAACAAAAAgAAAAIAAAACAAAAAgAAAAIAAAACAAAAAgAAAAIAAAACAAAAAgAAAAIAAAACAAAAAgAAAAIAAAACAAAAAgAAAAIAAAACAAAAAgAAAAIAAAACAAAAAgAAAAIAAAACAAAAAgAAAAIAAAACAAAAAgAAAAIAAAACAAAAAgAAAAIAAAACAAAAAgAAAAIAAAACAAAAAgAAAAIAAAACAAAAAgAAAAIAAAACAAAAAgAAAAIAAAACAAAAAgAAAAIAAAACAAAAAgAAAAIAAAACAAAAAgAAAAIAAAACAAAAAgAAAAIAAAACAAAAAgAAAAIAAAACAAAAAgAAAAIAAAACAAAAAgAAAAIAAAACAAAAAgAAAAIAAAACAAAAAgAAAAIAAAACAAAAAgAAAAIAAAACAAAAAgAAAAIAAAACAAAAAgAAAAIAAAACAAAAAgAAAAIAAAACAAAAAgAAAAIAAAACAAAAAgAAAAIAAAACAAAAAgAAAAIAAAACAAAAAgAAAAIAAAACAAAAAgAAAAIAAAACAAAAAgAAAAIAAAACAAAAAgAAAAIAAAACAAAAAgAAAAIAAAACAAAAAgAAAAIAAAACAAAAAgAAAAIAAAACAAAAAgAAAAIAAAACAAAAAgAAAAIAAAACAAAAAgAAAAIAAAACAAAAAgAAAAIAAAACAAAAAgAAAAIAAAACAAAAAgAAAAIAAAACAAAAAgAAAAIAAAACAAAAAgAAAAIAAAACAAAAAgAAAAIAAAACAAAAAgAAAAIAAAACAAAAAgAAAAIAAAACAAAAAgAAAAIAAAACAAAAAgAAAAIAAAACAAAAAgAAAAIAAAACAAAAAgAAAAIAAAACAAAAAgAAAAIAAAACAAAAAgAAAAIAAAACAAAAAgAAAAIAAEsBAAAAAgAAAAIAAAACAAAAAgAAAAIAAAACAAAAAgAAAAIAAAACAAAAAgAAAAIAAAACAAAAAgAAAAIAAAACAAAAAgAAAAIAAAACAAAAAgAAAAIAAAACAAAAAgAAAAIAAAACAAAAAgAAAAIAAAACAAAAAgAAAAIAAAACAAAAAgAAAAIAAAACAAAAAgAAAAIAAAACAAAAAgAAAAIAAAACAAAAAgAAAAIAAAACAAAAAgAAAAIAAAACAAAAAgAAAAIAAAACAAAAAgAAAAIAAAACAAAAAgAAAAIAAAACAAAAAgAAAAIAAAACAAAAAgAAAAIAAAACAAAAAgAAAAIAAAACAAAAAgAAAAIAAAACAAAAAgAAAAIAAAACAAAAAgAAAAIAAAACAAAAAgAAAAIAAAACAAAAAgAAAAIAAAACAAAAAgAAAAIAAAACAAAAAgAAAAIAAAACAAAAAgAAAAIAAAACAAAAAgAAAAIAAAACAAAAAgAAAAIAAAACAAAAAgAAAAIAAAACAAAAAgAAAAIAAAACAAAAAgAAAAIAAAACAAAAAgAAAAIAAAACAAAAAgAAAAIAAAACAAAAAgAAAAIAAAACAAAAAgAAAAIAAAACAAAAAgAAAAIAAAACAAAAAgAAAAIAAAACAAAAAgAAAAIAAAACAAAAAgAAAAIAAAACAAAAAgAAAAIAAAACAAAAAgAAAAIAAAACAAAAAgAAAAIAAAACAAAAAgAAAAIAAAACAAAAAgAAAAIAAAACAAAAAgAAAAIAAA==",
           "dtype": "i4",
           "shape": "1933"
          },
          "bdata": "AAIAAAACAAAAAgAAAAIAAAACAAAAAgAAAAIAAAACAAAAAgAAAAIAAAACAAAAAgAAAAIAAAACAAAAAgAAAAIAAAACAAAAAgAAAAIAAAACAAAAAgAAAAIAAAACAAAAAgAAAAIAAAACAAAAAgAAAAIAAAACAAAAAgAAAAIAAAACAAAAAgAAAAIAAAACAAAAAgAAAAIAAAACAAAAAgAAAAIAAAACAAAAAgAAAAIAAAACAAAAAgAAAAIAAAACAAAAAgAAAAIAAAACAAAAAgAAAAIAAAACAAAAAgAAAAIAAAACAAAAAgAAAAIAAAACAAAAAgAAAAIAAAACAAAAAgAAAAIAAAACAAAAAgAAAAIAAAACAAAAAgAAAAIAAAACAAAAAgAAAAIAAAACAAAAAgAAAAIAAAACAAAAAgAAAAIAAAACAAAAAgAAAAIAAAACAAAAAgAAAAIAAAACAAAAAgAAAAIAAAACAAAAAgAAAAIAAAACAAAAAgAAAAIAAAACAAAAAgAAAAIAAAACAAAAAgAAAAIAAAACAAAAAgAAAAIAAAACAAAAAgAAAAIAAAACAAAAAgAAAAIAAAACAAAAAgAAAAIAAAACAAAAAgAAAAIAAAACAAAAAgAAAAIAAAACAAAAAgAAAAIAAAACAAAAAgAAAAIAAAACAAAAAgAAAAIAAAACAAAAAgAAAAIAAAACAAAAAgAAAAIAAAACAAAAAgAAAAIAAAACAAAAAgAAAAIAAAACAAAAAgAAAAIAAAACAAAAAgAAAAIAAAACAAAAAgAAAAIAAAACAAAAAgAAAAIAAAACAAAAAgAAAAIAAAACAAAAAgAAAAIAAAACAAAAAgAAAAIAAAACAAAAAgAAAAIAAAACAAAAAgAAAAIAAAACAAAAAgAAAAIAAAACAAAAAgAAAAIAAAACAAAAAgAAAAIAAAACAAAAAgAAAAIAAAACAAAAAgAAAAIAAAACAAAAAgAAAAIAAAACAAAAAgAAAAIAAAACAAAAAgAAAAIAAAACAAAAAgAAAAIAAAACAAAAAgAAAAIAAAACAAAAAgAAAAIAAAACAAAAAgAAAAIAAAACAAAAAgAAAAIAAAACAAAAAgAAAAIAAAACAAAAAgAAAAIAAAACAAAAAgAAAAIAAAACAAAAAgAAAAIAAAACAAAAAgAAAAIAAAACAAAAAgAAAAIAAAACAAAAAgAAAAIAAAACAAAAAgAAAAIAAAACAAAAAgAAAAIAAAACAAAAAgAAAAIAAAACAAAAAgAAAAIAAAACAAAAAgAAAAIAAAACAAAAAgAAAAIAAAACAAAAAgAAAAIAAAACAAAAAgAAAAIAAAACAAAAAgAAAAIAAAACAAAAAgAAAAIAAAACAAAAAgAAAAIAAAACAAAAAgAAAAIAAAACAAAAAgAAAAIAAAACAAAAAgAAAAIAAAACAAAAAgAAAAIAAAACAAAAAgAAAAIAAAACAAAAAgAAAAIAAAACAAAAAgAAAAIAAAACAAAAAgAAAAIAAAACAAAAAgAAAAIAAAACAAAAAgAAAAIAAAACAAAAAgAAAAIAAAACAAAAAgAAAAIAAAACAAAAAgAAAAIAAAACAAAAAgAAAAIAAAACAAAAAgAAAAIAAAACAAAAAgAAAAIAAAACAAAAAgAAAAIAAAACAAAAAgAAAAIAAAACAAAAAgAAAAIAAAACAAAAAgAAAAIAAAACAAAAAgAAAAIAAAACAAAAAgAAAAIAAAACAAAAAgAAAAIAAAACAAAAAgAAAAIAAAACAAAAAgAAAAIAAAACAAAAAgAAAAIAAAACAAAAAgAAAAIAAAACAAAAAgAAAAIAAAACAAAAAgAAAAIAAAACAAAAAgAAAAIAAAACAAAAAgAAAAIAAAACAAAAAgAAAAIAAAACAAAAAgAAAAIAAAACAAAAAgAAAAIAAAACAAAAAgAAAAIAAAACAAAAAgAAAAIAAAACAAAAAgAAAAIAAAACAAAAAgAAAAIAAAACAAAAAgAAAAIAAAACAAAAAgAAAAIAAAACAAAAAgAAAAIAAAACAAAAAgAAAAIAAAACAAAAAgAAAAIAAAACAAAAAgAAAAIAAAACAAAAAgAAAAIAAAACAAAAAgAAAAIAAAACAAAAAgAAAAIAAAACAAAAAgAAAAIAAAACAAAAAgAAAAIAAAACAAAAAgAAAAIAAAACAAAAAgAAAAIAAAACAAAAAgAAAAIAAAACAAAAAgAAAAIAAAACAAAAAgAAAAIAAAACAAAAAgAAAAIAAAACAAAAAgAAAAIAAAACAAAAAgAAAAIAAAACAAAAAgAAAAIAAAACAAAAAgAAAAIAAAACAAAAAgAAAAIAAAACAAAAAgAAAAIAAAACAAAAAgAAAAIAAAACAAAAAgAAAAIAAAACAAAAAgAAAAIAAAACAAAAAgAAAAIAAAACAAAAAgAAAAIAAAACAAAAAgAAAAIAAAACAAAAAgAAAAIAAAACAAAAAgAAAAIAAAACAAAAAgAAAAIAAAACAAAAAgAAAAIAAAACAAAAAgAAAAIAAAACAAAAAgAAAAIAAAACAAAAAgAAAAIAAAACAAAAAgAAAAIAAAACAAAAAgAAAAIAAAACAAAAAgAAAAIAAAACAAAAAgAAAAIAAAACAAAAAgAAAAIAAAACAAAAAgAAAAIAAAACAAAAAgAAAAIAAAACAAAAAgAAAAIAAAACAAAAAgAAAAIAAAACAAAAAgAAAAIAAAACAAAAAgAAAAIAAAACAAAAAgAAAAIAAAACAAAAAgAAAAIAAAACAAAAAgAAAAIAAAACAAAAAgAAAAIAAAACAAAAAgAAAAIAAAACAAAAAgAAAAIAAAACAAAAAgAAAAIAAAACAAAAAgAAAAIAAAACAAAAAgAAAAIAAAACAAAAAgAAAAIAAAACAAAAAgAAAAIAAAACAAAAAgAAAAIAAAACAAAAAgAAAAIAAAACAAAAAgAAAAIAAAACAAAAAgAAAAIAAAACAAAAAgAAAAIAAAACAAAAAgAAAAIAAAACAAAAAgAAAAIAAAACAAAAAgAAAAIAAAACAAAAAgAAAAIAAAACAAAAAgAAAAIAAAACAAAAAgAAAAIAAAACAAAAAgAAAAIAAAACAAAAAgAAAAIAAAACAAAAAgAAAAIAAAACAAAAAgAAAAIAAAACAAAAAgAAAAIAAAACAAAAAgAAAAIAAAACAAAAAgAAAAIAAAACAAAAAgAAAAIAAAACAAAAAgAAAAIAAAACAAAAAgAAAAIAAAACAAAAAgAAAAIAAAACAAAAAgAAAAIAAAACAAAAAgAAAAIAAAACAAAAAgAAAAIAAAACAAAAAgAAAAIAAAACAAAAAgAAAAIAAAACAAAAAgAAAAIAAAACAAAAAgAAAAIAAAACAAAAAgAAAAIAAAACAAAAAgAAAAIAAAACAAAAAgAAAAIAAAACAAAAAgAAAAIAAAACAAAAAgAAAAIAAAACAAAAAgAAAAIAAAACAAAAAgAAAAIAAAACAAAAAgAAAAIAAAACAAAAAgAAAAIAAAACAAAAAgAAAAIAAAACAAAAAgAAAAIAAAACAAAAAgAAAAIAAAACAAAAAgAAAAIAAAACAAAAAgAAAAIAAAACAAAAAgAAAAIAAAACAAAAAgAAAAIAAAACAAAAAgAAAAIAAAACAAAAAgAAAAIAAAACAAAAAgAAAAIAAAACAAAAAgAAAAIAAAACAAAAAgAAAAIAAAACAAAAAgAAAAIAAAACAAAAAgAAAAIAAAACAAAAAgAAAAIAAAACAAAAAgAAAAIAAAACAAAAAgAAAAIAAAACAAAAAgAAAAIAAAACAAAAAgAAAAIAAAACAAAAAgAAAAIAAAACAAAAAgAAAAIAAAACAAAAAgAAAAIAAAACAAAAAgAAAAIAAAACAAAAAgAAAAIAAAACAAAAAgAAAAIAAAACAAAAAgAAAAIAAAACAAAAAgAAAAIAAAACAAAAAgAAAAIAAAACAAAAAgAAAAIAAAACAAAAAgAAAAIAAAACAAAAAgAAAAIAAAACAAAAAgAAAAIAAAACAAAAAgAAAAIAAAACAAAAAgAAAAIAAAACAAAAAgAAAAIAAAACAAAAAgAAAAIAAAACAAAAAgAAAAIAAAACAAAAAgAAAAIAAAACAAAAAgAAAAIAAAACAAAAAgAAAAIAAAACAAAAAgAAAAIAAAACAAAAAgAAAAIAAAACAAAAAgAAAAIAAAACAAAAAgAAAAIAAAACAAAAAgAAAAIAAAACAAAAAgAAAAIAAAACAAAAAgAAAAIAAAACAAAAAgAAAAIAAAACAAAAAgAAAAIAAAACAAAAAgAAAAIAAAACAAAAAgAAAAIAAAACAAAAAgAAAAIAAAACAAAAAgAAAAIAAAACAAAAAgAAAAIAAAACAAAAAgAAAAIAAAACAAAAAgAAAAIAAAACAAAAAgAAAAIAAAACAAAAAgAAAAIAAAACAAAAAgAAAAIAAAACAAAAAgAAAAIAAAACAAAAAgAAAAIAAAACAAAAAgAAAAIAAAACAAAAAgAAAAIAAAACAAAAAgAAAAIAAAACAAAAAgAAAAIAAAACAAAAAgAAAAIAAAACAAAAAgAAAAIAAAACAAAAAgAAAAIAAAACAAAAAgAAAAIAAAACAAAAAgAAAAIAAAACAAAAAgAAAAIAAAACAAAAAgAAAAIAAAACAAAAAgAAAAIAAAACAAAAAgAAAAIAAAACAAAAAgAAAAIAAAACAAAAAgAAAAIAAAACAAAAAgAAAAIAAAACAAAAAgAAAAIAAAACAAAAAgAAAAIAAAACAAAAAgAAAAIAAAACAAAAAgAAAAIAAAACAAAAAgAAAAIAAAACAAAAAgAAAAIAAAACAAAAAgAAAAIAAAACAAAAAgAAAAIAAAACAAAAAgAAAAIAAAACAAAAAgAAAAIAAAACAAAAAgAAAAIAAAACAAAAAgAAAAIAAAACAAAAAgAAAAIAAAACAAAAAgAAAAIAAAACAAAAAgAAAAIAAAACAAAAAgAAAAIAAAACAAAAAgAAAAIAAAACAAAAAgAAAAIAAAACAAAAAgAAAAIAAAACAAAAAgAAAAIAAAACAAAAAgAAAAIAAAACAAAAAgAAAAIAAAACAAAAAgAAAAIAAAACAAAAAgAAAAIAAAACAAAAAgAAAAIAAAACAAAAAgAAAAIAAAACAAAAAgAAAAIAAAACAAAAAgAAAAIAAAACAAAAAgAAAAIAAAACAAAAAgAAAAIAAAACAAAAAgAAAAIAAAACAAAAAgAAAAIAAAACAAAAAgAAAAIAAAACAAAAAgAAAAIAAAACAAAAAgAAAAIAAAACAAAAAgAAAAIAAAACAAAAAgAAAAIAAAACAAAAAgAAAAIAAAACAAAAAgAAAAIAAAACAAAAAgAAAAIAAAACAAAAAgAAAAIAAAACAAAAAgAAAAIAAAACAAAAAgAAAAIAAAACAAAAAgAAAAIAAAACAAAAAgAAAAIAAAACAAAAAgAAAAIAAAACAAAAAgAAAAIAAAACAAAAAgAAAAIAAAACAAAAAgAAAAIAAAACAAAAAgAAAAIAAAACAAAAAgAAAAIAAAACAAAAAgAAAAIAAAACAAAAAgAAAAIAAAACAAAAAgAAAAIAAAACAAAAAgAAAAIAAAACAAAAAgAAAAIAAAACAAAAAgAAAAIAAAACAAAAAgAAAAIAAAACAAAAAgAAAAIAAAACAAAAAgAAAAIAAAACAAAAAgAAAAIAAAACAAAAAgAAAAIAAAACAAAAAgAAAAIAAAACAAAAAgAAAAIAAAACAAAAAgAAAAIAAAACAAAAAgAAAAIAAAACAAAAAgAAAAIAAAACAAAAAgAAAAIAAAACAAAAAgAAAAIAAAACAAAAAgAAAAIAAAACAAAAAgAAAAIAAAACAAAAAgAAAAIAAAACAAAAAgAAAAIAAAACAAAAAgAAAAIAAAACAAAAAgAAAAIAAAACAAAAAgAAAAIAAAACAAAAAgAAAAIAAAACAAAAAgAAAAIAAAACAAAAAgAAAAIAAAACAAAAAgAAAAIAAAACAAAAAgAAAAIAAAACAAAAAgAAAAIAAAACAAAAAgAAAAIAAAACAAAAAgAAAAIAAAACAAAAAgAAAAIAAAACAAAAAgAAAAIAAAACAAAAAgAAAAIAAAACAAAAAgAAAAIAAAACAAAAAgAAAAIAAAACAAAAAgAAAAIAAAACAAAAAgAAAAIAAAACAAAAAgAAAAIAAAACAAAAAgAAAAIAAAACAAAAAgAAAAIAAAACAAAAAgAAAAIAAAACAAAAAgAAAAIAAAACAAAAAgAAAAIAAAACAAAAAgAAAAIAAAACAAAAAgAAAAIAAAACAAAAAgAAAAIAAAACAAAAAgAAAAIAAAACAAAAAgAAAAIAAAACAAAAAgAAAAIAAAACAAAAAgAAAAIAAAACAAAAAgAAAAIAAAACAAAAAgAAAAIAAAACAAAAAgAAAAIAAAACAAAAAgAAAAIAAAACAAAAAgAAAAIAAAACAAAAAgAAAAIAAAACAAAAAgAAAAIAAAACAAAAAgAAAAIAAAACAAAAAgAAAAIAAAACAAAAAgAAAAIAAAACAAAAAgAAAAIAAAACAAAAAgAAAAIAAAACAAAAAgAAAAIAAAACAAAAAgAAAAIAAAACAAAAAgAAAAIAAAACAAAAAgAAAAIAAAACAAAAAgAAAAIAAAACAAAAAgAAAAIAAAACAAAAAgAAAAIAAAACAAAAAgAAAAIAAAACAAAAAgAAAAIAAAACAAAAAgAAAAIAAAACAAAAAgAAAAIAAAACAAAAAgAAAAIAAAACAAAAAgAAAAIAAAACAAAAAgAAAAIAAAACAAAAAgAAAAIAAAACAAAAAgAAAAIAAAACAAAAAgAAAAIAAAACAAAAAgAAAAIAAAACAAAAAgAAAAIAAAACAAAAAgAAAAIAAAACAAAAAgAAAAIAAAACAAAAAgAAAAIAAAACAAAAAgAAAAIAAAACAAAAAgAAAAIAAAACAAAAAgAAAAIAAAACAAAAAgAAAAIAAAACAAAAAgAAAAIAAAACAAAAAgAAAAIAAAACAAAAAgAAAAIAAAACAAAAAgAAAAIAAAACAAAAAgAAAAIAAAACAAAAAgAAAAIAAAACAAAAAgAAAAIAAAACAAAAAgAAAAIAAAACAAAAAgAAAAIAAAACAAAAAgAAAAIAAAACAAAAAgAAAAIAAAACAAAAAgAAAAIAAAACAAAAAgAAAAIAAAACAAAAAgAAAAIAAAACAAAAAgAAAAIAAAACAAAAAgAAAAIAAAACAAAAAgAAAAIAAAACAAAAAgAAAAIAAAACAAAAAgAAAAIAAAACAAAAAgAAAAIAAAACAAAAAgAAAAIAAAACAAAAAgAAAAIAAAACAAAAAgAAAAIAAAACAAAAAgAAAAIAAAACAAAAAgAAAAIAAAACAAAAAgAAAAIAAAACAAAAAgAAAAIAAAACAAAAAgAAAAIAAAACAAAAAgAAAAIAAAACAAAAAgAAAAIAAAACAAAAAgAAAAIAAAACAAAAAgAAAAIAAAACAAAAAgAAAAIAAAACAAAAAgAAAAIAAAACAAAAAgAAAAIAAAACAAAAAgAAAAIAAAACAAAAAgAAAAIAAAACAAAAAgAAAAIAAAACAAAAAgAAAAIAAAACAAAAAgAAAAIAAAACAAAAAgAAAAIAAAACAAAAAgAAAAIAAAACAAAAAgAAAAIAAAACAAAAAgAAAAIAAAACAAAAAgAAAAIAAAACAAAAAgAAAAIAAAACAAAAAgAAAAIAAAACAAAAAgAAAAIAAAACAAAAAgAAAAIAAAACAAAAAgAAAAIAAAACAAAAAgAAAAIAAAACAAAAAgAAAAIAAAACAAAAAgAAAAIAAAACAAAAAgAAAAIAAAACAAAAAgAAAAIAAAACAAAAAgAAAAIAAAACAAAAAgAAAAIAAAACAAAAAgAAAAIAAAACAAAAAgAAAAIAAAACAAAAAgAAAAIAAAACAAAAAgAAAAIAAAACAAAAAgAAAAIAAAACAAAAAgAAAAIAAAACAAAAAgAAAAIAAAACAAAAAgAAAAIAAAACAAAAAgAAAAIAAAACAAAAAgAAAAIAAAACAAAAAgAAAAIAAAACAAAAAgAAAAIAAAACAAAAAgAAAAIAAAACAAAAAgAAAAIAAAACAAAAAgAAAAIAAAACAAAAAgAAAAIAAAACAAAAAgAAAAIAAAACAAAAAgAAAAIAAAACAAAAAgAAAAIAAAACAAAAAgAAAAIAAAACAAAAAgAAAAIAAAACAAAAAgAAAAIAAAACAAAAAgAAAAIAAAACAAAAAgAAAAIAAAACAAAAAgAAAAIAAAACAAAAAgAAAAIAAAACAAAAAgAAAAIAAAACAAAAAgAAAAIAAAACAAAAAgAAAAIAAAACAAAAAgAAAAIAAAACAAAAAgAAAAIAAAACAAAAAgAAAAIAAAACAAAAAgAAAAIAAAACAAAAAgAAAAIAAAACAAAAAgAAAAIAAAACAAAAAgAAAAIAAAACAAAAAgAAAAIAAAACAAAAAgAAAAIAAAACAAAAAgAAAAIAAAACAAAAAgAAAAIAAAACAAAAAgAAAAIAAAACAAAAAgAAAAIAAAACAAAAAgAAAAIAAAACAAAAAgAAAAIAAAACAAAAAgAAAAIAAAACAAAAAgAAAAIAAAACAAAAAgAAAAIAAAACAAAAAgAAAAIAAAACAAAAAgAAAAIAAAACAAAAAgAAAAIAAAACAAAAAgAAAAIAAAACAAAAAgAAAAIAAAACAAAAAgAAAAIAAAACAAAAAgAAAAIAAAACAAAAAgAAAAIAAAACAAAAAgAAAAIAAAACAAAAAgAAAAIAAAACAAAAAgAAAAIAAAACAAAAAgAAAAIAAAACAAAAAgAAAAIAAAACAAAAAgAAAAIAAAACAAAAAgAAAAIAAAACAAAAAgAAAAIAAAACAAAAAgAAAAIAAAACAAAAAgAAAAIAAAACAAAAAgAAAAIAAAACAAAAAgAAAAIAAAACAAAAAgAAAAIAAAACAAAAAgAAAAIAAAACAAAAAgAAAAIAAAACAAAAAgAAAAIAAAACAAAAAgAAAAIAAAACAAAAAgAAAAIAAAACAAAAAgAAAAIAAAACAAAAAgAAAAIAAAACAAAAAgAAAAIAAAACAAAAAgAAAAIAAAACAAAAAgAAAAIAAAACAAAAAgAAAAIAAAACAAAAAgAAAAIAAAACAAAAAgAAAAIAAAACAAAAAgAAAAIAAAACAAAAAgAAAAIAAAACAAAAAgAAAAIAAAACAAAAAgAAAAIAAAACAAAAAgAAAAIAAAACAAAAAgAAAAIAAAACAAAAAgAAAAIAAAACAAAAAgAAAAIAAAACAAAAAgAAAAIAAAACAAAAAgAAAAIAAAACAAAAAgAAAAIAAAACAAAAAgAAAAIAAAACAAAAAgAAAAIAAAACAAAAAgAAAAIAAAACAAAAAgAAAAIAAAACAAAAAgAAAAIAAAACAAAAAgAAAAIAAAACAAAAAgAAAAIAAAACAAAAAgAAAAIAAEsBAAAAAgAAAAIAAAACAAAAAgAAAAIAAAACAAAAAgAAAAIAAAACAAAAAgAAAAIAAAACAAAAAgAAAAIAAAACAAAAAgAAAAIAAAACAAAAAgAAAAIAAAACAAAAAgAAAAIAAAACAAAAAgAAAAIAAAACAAAAAgAAAAIAAAACAAAAAgAAAAIAAAACAAAAAgAAAAIAAAACAAAAAgAAAAIAAAACAAAAAgAAAAIAAAACAAAAAgAAAAIAAAACAAAAAgAAAAIAAAACAAAAAgAAAAIAAAACAAAAAgAAAAIAAAACAAAAAgAAAAIAAAACAAAAAgAAAAIAAAACAAAAAgAAAAIAAAACAAAAAgAAAAIAAAACAAAAAgAAAAIAAAACAAAAAgAAAAIAAAACAAAAAgAAAAIAAAACAAAAAgAAAAIAAAACAAAAAgAAAAIAAAACAAAAAgAAAAIAAAACAAAAAgAAAAIAAAACAAAAAgAAAAIAAAACAAAAAgAAAAIAAAACAAAAAgAAAAIAAAACAAAAAgAAAAIAAAACAAAAAgAAAAIAAAACAAAAAgAAAAIAAAACAAAAAgAAAAIAAAACAAAAAgAAAAIAAAACAAAAAgAAAAIAAAACAAAAAgAAAAIAAAACAAAAAgAAAAIAAAACAAAAAgAAAAIAAAACAAAAAgAAAAIAAAACAAAAAgAAAAIAAAACAAAAAgAAAAIAAAACAAAAAgAAAAIAAAACAAAAAgAAAAIAAAACAAAAAgAAAAIAAAACAAAAAgAAAAIAAA==",
          "dtype": "i4"
         },
         "xaxis": "x",
         "y": {
          "_inputArray": {
           "0": 512,
           "1": 512,
           "10": 512,
           "100": 512,
           "1000": 512,
           "1001": 512,
           "1002": 512,
           "1003": 512,
           "1004": 512,
           "1005": 512,
           "1006": 512,
           "1007": 512,
           "1008": 512,
           "1009": 512,
           "101": 512,
           "1010": 512,
           "1011": 512,
           "1012": 512,
           "1013": 512,
           "1014": 512,
           "1015": 512,
           "1016": 512,
           "1017": 512,
           "1018": 512,
           "1019": 512,
           "102": 512,
           "1020": 512,
           "1021": 512,
           "1022": 512,
           "1023": 512,
           "1024": 512,
           "1025": 512,
           "1026": 512,
           "1027": 512,
           "1028": 512,
           "1029": 512,
           "103": 512,
           "1030": 512,
           "1031": 512,
           "1032": 512,
           "1033": 512,
           "1034": 512,
           "1035": 512,
           "1036": 512,
           "1037": 512,
           "1038": 512,
           "1039": 512,
           "104": 512,
           "1040": 512,
           "1041": 512,
           "1042": 512,
           "1043": 512,
           "1044": 512,
           "1045": 512,
           "1046": 512,
           "1047": 512,
           "1048": 512,
           "1049": 512,
           "105": 512,
           "1050": 512,
           "1051": 512,
           "1052": 512,
           "1053": 512,
           "1054": 512,
           "1055": 512,
           "1056": 512,
           "1057": 512,
           "1058": 512,
           "1059": 512,
           "106": 512,
           "1060": 512,
           "1061": 512,
           "1062": 512,
           "1063": 512,
           "1064": 512,
           "1065": 512,
           "1066": 512,
           "1067": 512,
           "1068": 512,
           "1069": 512,
           "107": 512,
           "1070": 512,
           "1071": 512,
           "1072": 512,
           "1073": 512,
           "1074": 512,
           "1075": 512,
           "1076": 512,
           "1077": 512,
           "1078": 512,
           "1079": 512,
           "108": 512,
           "1080": 512,
           "1081": 512,
           "1082": 512,
           "1083": 512,
           "1084": 512,
           "1085": 512,
           "1086": 512,
           "1087": 512,
           "1088": 512,
           "1089": 512,
           "109": 512,
           "1090": 512,
           "1091": 512,
           "1092": 512,
           "1093": 512,
           "1094": 512,
           "1095": 512,
           "1096": 512,
           "1097": 512,
           "1098": 512,
           "1099": 512,
           "11": 512,
           "110": 512,
           "1100": 512,
           "1101": 512,
           "1102": 512,
           "1103": 512,
           "1104": 512,
           "1105": 512,
           "1106": 512,
           "1107": 512,
           "1108": 512,
           "1109": 512,
           "111": 512,
           "1110": 512,
           "1111": 512,
           "1112": 512,
           "1113": 512,
           "1114": 512,
           "1115": 512,
           "1116": 512,
           "1117": 512,
           "1118": 512,
           "1119": 512,
           "112": 512,
           "1120": 512,
           "1121": 512,
           "1122": 512,
           "1123": 512,
           "1124": 512,
           "1125": 512,
           "1126": 512,
           "1127": 512,
           "1128": 512,
           "1129": 512,
           "113": 512,
           "1130": 512,
           "1131": 512,
           "1132": 512,
           "1133": 512,
           "1134": 512,
           "1135": 512,
           "1136": 512,
           "1137": 512,
           "1138": 512,
           "1139": 512,
           "114": 512,
           "1140": 512,
           "1141": 512,
           "1142": 512,
           "1143": 512,
           "1144": 512,
           "1145": 512,
           "1146": 512,
           "1147": 512,
           "1148": 512,
           "1149": 512,
           "115": 512,
           "1150": 512,
           "1151": 512,
           "1152": 512,
           "1153": 512,
           "1154": 512,
           "1155": 512,
           "1156": 512,
           "1157": 512,
           "1158": 512,
           "1159": 512,
           "116": 512,
           "1160": 512,
           "1161": 512,
           "1162": 512,
           "1163": 512,
           "1164": 512,
           "1165": 512,
           "1166": 512,
           "1167": 512,
           "1168": 512,
           "1169": 512,
           "117": 512,
           "1170": 512,
           "1171": 512,
           "1172": 512,
           "1173": 512,
           "1174": 512,
           "1175": 512,
           "1176": 512,
           "1177": 512,
           "1178": 512,
           "1179": 512,
           "118": 512,
           "1180": 512,
           "1181": 512,
           "1182": 512,
           "1183": 512,
           "1184": 512,
           "1185": 512,
           "1186": 512,
           "1187": 512,
           "1188": 512,
           "1189": 512,
           "119": 512,
           "1190": 512,
           "1191": 512,
           "1192": 512,
           "1193": 512,
           "1194": 512,
           "1195": 512,
           "1196": 512,
           "1197": 512,
           "1198": 512,
           "1199": 512,
           "12": 512,
           "120": 512,
           "1200": 512,
           "1201": 512,
           "1202": 512,
           "1203": 512,
           "1204": 512,
           "1205": 512,
           "1206": 512,
           "1207": 512,
           "1208": 512,
           "1209": 512,
           "121": 512,
           "1210": 512,
           "1211": 512,
           "1212": 512,
           "1213": 512,
           "1214": 512,
           "1215": 512,
           "1216": 512,
           "1217": 512,
           "1218": 512,
           "1219": 512,
           "122": 512,
           "1220": 512,
           "1221": 512,
           "1222": 512,
           "1223": 512,
           "1224": 512,
           "1225": 512,
           "1226": 512,
           "1227": 512,
           "1228": 512,
           "1229": 512,
           "123": 512,
           "1230": 512,
           "1231": 512,
           "1232": 512,
           "1233": 512,
           "1234": 512,
           "1235": 512,
           "1236": 512,
           "1237": 512,
           "1238": 512,
           "1239": 512,
           "124": 512,
           "1240": 512,
           "1241": 512,
           "1242": 512,
           "1243": 512,
           "1244": 512,
           "1245": 512,
           "1246": 512,
           "1247": 512,
           "1248": 512,
           "1249": 512,
           "125": 512,
           "1250": 512,
           "1251": 512,
           "1252": 512,
           "1253": 512,
           "1254": 512,
           "1255": 512,
           "1256": 512,
           "1257": 512,
           "1258": 512,
           "1259": 512,
           "126": 512,
           "1260": 512,
           "1261": 512,
           "1262": 512,
           "1263": 512,
           "1264": 512,
           "1265": 512,
           "1266": 512,
           "1267": 512,
           "1268": 512,
           "1269": 512,
           "127": 512,
           "1270": 512,
           "1271": 512,
           "1272": 512,
           "1273": 512,
           "1274": 512,
           "1275": 512,
           "1276": 512,
           "1277": 512,
           "1278": 512,
           "1279": 512,
           "128": 512,
           "1280": 512,
           "1281": 512,
           "1282": 512,
           "1283": 512,
           "1284": 512,
           "1285": 512,
           "1286": 512,
           "1287": 512,
           "1288": 512,
           "1289": 512,
           "129": 512,
           "1290": 512,
           "1291": 512,
           "1292": 512,
           "1293": 512,
           "1294": 512,
           "1295": 512,
           "1296": 512,
           "1297": 512,
           "1298": 512,
           "1299": 512,
           "13": 512,
           "130": 512,
           "1300": 512,
           "1301": 512,
           "1302": 512,
           "1303": 512,
           "1304": 512,
           "1305": 512,
           "1306": 512,
           "1307": 512,
           "1308": 512,
           "1309": 512,
           "131": 512,
           "1310": 512,
           "1311": 512,
           "1312": 512,
           "1313": 512,
           "1314": 512,
           "1315": 512,
           "1316": 512,
           "1317": 512,
           "1318": 512,
           "1319": 512,
           "132": 512,
           "1320": 512,
           "1321": 512,
           "1322": 512,
           "1323": 512,
           "1324": 512,
           "1325": 512,
           "1326": 512,
           "1327": 512,
           "1328": 512,
           "1329": 512,
           "133": 512,
           "1330": 512,
           "1331": 512,
           "1332": 512,
           "1333": 512,
           "1334": 512,
           "1335": 512,
           "1336": 512,
           "1337": 512,
           "1338": 512,
           "1339": 512,
           "134": 512,
           "1340": 512,
           "1341": 512,
           "1342": 512,
           "1343": 512,
           "1344": 512,
           "1345": 512,
           "1346": 512,
           "1347": 512,
           "1348": 512,
           "1349": 512,
           "135": 512,
           "1350": 512,
           "1351": 512,
           "1352": 512,
           "1353": 512,
           "1354": 512,
           "1355": 512,
           "1356": 512,
           "1357": 512,
           "1358": 512,
           "1359": 512,
           "136": 512,
           "1360": 512,
           "1361": 512,
           "1362": 512,
           "1363": 512,
           "1364": 512,
           "1365": 512,
           "1366": 512,
           "1367": 512,
           "1368": 512,
           "1369": 512,
           "137": 512,
           "1370": 512,
           "1371": 512,
           "1372": 512,
           "1373": 512,
           "1374": 512,
           "1375": 512,
           "1376": 512,
           "1377": 512,
           "1378": 512,
           "1379": 512,
           "138": 512,
           "1380": 512,
           "1381": 512,
           "1382": 512,
           "1383": 512,
           "1384": 512,
           "1385": 512,
           "1386": 512,
           "1387": 512,
           "1388": 512,
           "1389": 512,
           "139": 512,
           "1390": 512,
           "1391": 512,
           "1392": 512,
           "1393": 512,
           "1394": 512,
           "1395": 512,
           "1396": 512,
           "1397": 512,
           "1398": 512,
           "1399": 512,
           "14": 512,
           "140": 512,
           "1400": 512,
           "1401": 512,
           "1402": 512,
           "1403": 512,
           "1404": 512,
           "1405": 512,
           "1406": 512,
           "1407": 512,
           "1408": 512,
           "1409": 512,
           "141": 512,
           "1410": 512,
           "1411": 512,
           "1412": 512,
           "1413": 512,
           "1414": 512,
           "1415": 512,
           "1416": 512,
           "1417": 512,
           "1418": 512,
           "1419": 512,
           "142": 512,
           "1420": 512,
           "1421": 512,
           "1422": 512,
           "1423": 512,
           "1424": 512,
           "1425": 512,
           "1426": 512,
           "1427": 512,
           "1428": 512,
           "1429": 512,
           "143": 512,
           "1430": 512,
           "1431": 512,
           "1432": 512,
           "1433": 512,
           "1434": 512,
           "1435": 512,
           "1436": 512,
           "1437": 512,
           "1438": 512,
           "1439": 512,
           "144": 512,
           "1440": 512,
           "1441": 512,
           "1442": 512,
           "1443": 512,
           "1444": 512,
           "1445": 512,
           "1446": 512,
           "1447": 512,
           "1448": 512,
           "1449": 512,
           "145": 512,
           "1450": 512,
           "1451": 512,
           "1452": 512,
           "1453": 512,
           "1454": 512,
           "1455": 512,
           "1456": 512,
           "1457": 512,
           "1458": 512,
           "1459": 512,
           "146": 512,
           "1460": 512,
           "1461": 512,
           "1462": 512,
           "1463": 512,
           "1464": 512,
           "1465": 512,
           "1466": 512,
           "1467": 512,
           "1468": 512,
           "1469": 512,
           "147": 512,
           "1470": 512,
           "1471": 512,
           "1472": 512,
           "1473": 512,
           "1474": 512,
           "1475": 512,
           "1476": 512,
           "1477": 512,
           "1478": 512,
           "1479": 512,
           "148": 512,
           "1480": 512,
           "1481": 512,
           "1482": 512,
           "1483": 512,
           "1484": 512,
           "1485": 512,
           "1486": 512,
           "1487": 512,
           "1488": 512,
           "1489": 512,
           "149": 512,
           "1490": 512,
           "1491": 512,
           "1492": 512,
           "1493": 512,
           "1494": 512,
           "1495": 512,
           "1496": 512,
           "1497": 512,
           "1498": 512,
           "1499": 512,
           "15": 512,
           "150": 512,
           "1500": 512,
           "1501": 512,
           "1502": 512,
           "1503": 512,
           "1504": 512,
           "1505": 512,
           "1506": 512,
           "1507": 512,
           "1508": 512,
           "1509": 512,
           "151": 512,
           "1510": 512,
           "1511": 512,
           "1512": 512,
           "1513": 512,
           "1514": 512,
           "1515": 512,
           "1516": 512,
           "1517": 512,
           "1518": 512,
           "1519": 512,
           "152": 512,
           "1520": 512,
           "1521": 512,
           "1522": 512,
           "1523": 512,
           "1524": 512,
           "1525": 512,
           "1526": 512,
           "1527": 512,
           "1528": 512,
           "1529": 512,
           "153": 512,
           "1530": 512,
           "1531": 512,
           "1532": 512,
           "1533": 512,
           "1534": 512,
           "1535": 512,
           "1536": 512,
           "1537": 512,
           "1538": 512,
           "1539": 512,
           "154": 512,
           "1540": 512,
           "1541": 512,
           "1542": 512,
           "1543": 512,
           "1544": 512,
           "1545": 512,
           "1546": 512,
           "1547": 512,
           "1548": 512,
           "1549": 512,
           "155": 512,
           "1550": 512,
           "1551": 512,
           "1552": 512,
           "1553": 512,
           "1554": 512,
           "1555": 512,
           "1556": 512,
           "1557": 512,
           "1558": 512,
           "1559": 512,
           "156": 512,
           "1560": 512,
           "1561": 512,
           "1562": 512,
           "1563": 512,
           "1564": 512,
           "1565": 512,
           "1566": 512,
           "1567": 512,
           "1568": 512,
           "1569": 512,
           "157": 512,
           "1570": 512,
           "1571": 512,
           "1572": 512,
           "1573": 512,
           "1574": 512,
           "1575": 512,
           "1576": 512,
           "1577": 512,
           "1578": 512,
           "1579": 512,
           "158": 512,
           "1580": 512,
           "1581": 512,
           "1582": 512,
           "1583": 512,
           "1584": 512,
           "1585": 512,
           "1586": 512,
           "1587": 512,
           "1588": 512,
           "1589": 512,
           "159": 512,
           "1590": 512,
           "1591": 512,
           "1592": 512,
           "1593": 512,
           "1594": 512,
           "1595": 512,
           "1596": 512,
           "1597": 512,
           "1598": 512,
           "1599": 512,
           "16": 512,
           "160": 512,
           "1600": 512,
           "1601": 512,
           "1602": 512,
           "1603": 512,
           "1604": 512,
           "1605": 512,
           "1606": 512,
           "1607": 512,
           "1608": 512,
           "1609": 512,
           "161": 512,
           "1610": 512,
           "1611": 512,
           "1612": 512,
           "1613": 512,
           "1614": 512,
           "1615": 512,
           "1616": 512,
           "1617": 512,
           "1618": 512,
           "1619": 512,
           "162": 512,
           "1620": 512,
           "1621": 512,
           "1622": 512,
           "1623": 512,
           "1624": 512,
           "1625": 512,
           "1626": 512,
           "1627": 512,
           "1628": 512,
           "1629": 512,
           "163": 512,
           "1630": 512,
           "1631": 512,
           "1632": 512,
           "1633": 512,
           "1634": 512,
           "1635": 512,
           "1636": 512,
           "1637": 512,
           "1638": 512,
           "1639": 512,
           "164": 512,
           "1640": 512,
           "1641": 512,
           "1642": 512,
           "1643": 512,
           "1644": 512,
           "1645": 512,
           "1646": 512,
           "1647": 512,
           "1648": 512,
           "1649": 512,
           "165": 512,
           "1650": 512,
           "1651": 512,
           "1652": 512,
           "1653": 512,
           "1654": 512,
           "1655": 512,
           "1656": 512,
           "1657": 512,
           "1658": 512,
           "1659": 512,
           "166": 512,
           "1660": 512,
           "1661": 512,
           "1662": 512,
           "1663": 512,
           "1664": 512,
           "1665": 512,
           "1666": 512,
           "1667": 512,
           "1668": 512,
           "1669": 512,
           "167": 512,
           "1670": 512,
           "1671": 512,
           "1672": 512,
           "1673": 512,
           "1674": 512,
           "1675": 512,
           "1676": 512,
           "1677": 512,
           "1678": 512,
           "1679": 512,
           "168": 512,
           "1680": 512,
           "1681": 512,
           "1682": 512,
           "1683": 512,
           "1684": 512,
           "1685": 512,
           "1686": 512,
           "1687": 512,
           "1688": 512,
           "1689": 512,
           "169": 512,
           "1690": 512,
           "1691": 512,
           "1692": 512,
           "1693": 512,
           "1694": 512,
           "1695": 512,
           "1696": 512,
           "1697": 512,
           "1698": 512,
           "1699": 512,
           "17": 512,
           "170": 512,
           "1700": 512,
           "1701": 512,
           "1702": 512,
           "1703": 512,
           "1704": 512,
           "1705": 512,
           "1706": 512,
           "1707": 512,
           "1708": 512,
           "1709": 512,
           "171": 512,
           "1710": 512,
           "1711": 512,
           "1712": 512,
           "1713": 512,
           "1714": 512,
           "1715": 512,
           "1716": 512,
           "1717": 512,
           "1718": 512,
           "1719": 512,
           "172": 512,
           "1720": 512,
           "1721": 512,
           "1722": 512,
           "1723": 512,
           "1724": 512,
           "1725": 512,
           "1726": 512,
           "1727": 512,
           "1728": 512,
           "1729": 512,
           "173": 512,
           "1730": 512,
           "1731": 512,
           "1732": 512,
           "1733": 512,
           "1734": 512,
           "1735": 512,
           "1736": 512,
           "1737": 512,
           "1738": 512,
           "1739": 512,
           "174": 512,
           "1740": 512,
           "1741": 512,
           "1742": 512,
           "1743": 512,
           "1744": 512,
           "1745": 512,
           "1746": 512,
           "1747": 512,
           "1748": 512,
           "1749": 512,
           "175": 512,
           "1750": 512,
           "1751": 512,
           "1752": 512,
           "1753": 512,
           "1754": 512,
           "1755": 512,
           "1756": 512,
           "1757": 512,
           "1758": 512,
           "1759": 512,
           "176": 512,
           "1760": 512,
           "1761": 512,
           "1762": 512,
           "1763": 512,
           "1764": 512,
           "1765": 512,
           "1766": 512,
           "1767": 512,
           "1768": 512,
           "1769": 512,
           "177": 512,
           "1770": 512,
           "1771": 512,
           "1772": 512,
           "1773": 512,
           "1774": 512,
           "1775": 512,
           "1776": 512,
           "1777": 512,
           "1778": 512,
           "1779": 512,
           "178": 512,
           "1780": 512,
           "1781": 512,
           "1782": 512,
           "1783": 512,
           "1784": 512,
           "1785": 512,
           "1786": 512,
           "1787": 512,
           "1788": 512,
           "1789": 506,
           "179": 512,
           "1790": 512,
           "1791": 512,
           "1792": 512,
           "1793": 512,
           "1794": 512,
           "1795": 512,
           "1796": 512,
           "1797": 512,
           "1798": 512,
           "1799": 512,
           "18": 512,
           "180": 512,
           "1800": 512,
           "1801": 512,
           "1802": 512,
           "1803": 512,
           "1804": 512,
           "1805": 512,
           "1806": 512,
           "1807": 512,
           "1808": 512,
           "1809": 512,
           "181": 512,
           "1810": 512,
           "1811": 512,
           "1812": 512,
           "1813": 512,
           "1814": 512,
           "1815": 512,
           "1816": 512,
           "1817": 512,
           "1818": 512,
           "1819": 512,
           "182": 512,
           "1820": 512,
           "1821": 512,
           "1822": 512,
           "1823": 512,
           "1824": 512,
           "1825": 512,
           "1826": 512,
           "1827": 512,
           "1828": 512,
           "1829": 512,
           "183": 512,
           "1830": 512,
           "1831": 512,
           "1832": 512,
           "1833": 512,
           "1834": 512,
           "1835": 512,
           "1836": 512,
           "1837": 512,
           "1838": 512,
           "1839": 512,
           "184": 512,
           "1840": 512,
           "1841": 512,
           "1842": 512,
           "1843": 512,
           "1844": 512,
           "1845": 512,
           "1846": 512,
           "1847": 512,
           "1848": 512,
           "1849": 512,
           "185": 512,
           "1850": 512,
           "1851": 512,
           "1852": 512,
           "1853": 512,
           "1854": 512,
           "1855": 512,
           "1856": 512,
           "1857": 512,
           "1858": 512,
           "1859": 512,
           "186": 512,
           "1860": 512,
           "1861": 512,
           "1862": 512,
           "1863": 512,
           "1864": 512,
           "1865": 512,
           "1866": 512,
           "1867": 512,
           "1868": 512,
           "1869": 512,
           "187": 512,
           "1870": 512,
           "1871": 512,
           "1872": 512,
           "1873": 512,
           "1874": 512,
           "1875": 512,
           "1876": 512,
           "1877": 512,
           "1878": 512,
           "1879": 512,
           "188": 512,
           "1880": 512,
           "1881": 512,
           "1882": 512,
           "1883": 512,
           "1884": 512,
           "1885": 512,
           "1886": 512,
           "1887": 512,
           "1888": 512,
           "1889": 512,
           "189": 512,
           "1890": 512,
           "1891": 512,
           "1892": 512,
           "1893": 512,
           "1894": 512,
           "1895": 512,
           "1896": 512,
           "1897": 512,
           "1898": 512,
           "1899": 512,
           "19": 512,
           "190": 512,
           "1900": 512,
           "1901": 512,
           "1902": 512,
           "1903": 512,
           "1904": 512,
           "1905": 512,
           "1906": 512,
           "1907": 512,
           "1908": 512,
           "1909": 512,
           "191": 512,
           "1910": 512,
           "1911": 512,
           "1912": 512,
           "1913": 512,
           "1914": 512,
           "1915": 512,
           "1916": 512,
           "1917": 512,
           "1918": 512,
           "1919": 512,
           "192": 512,
           "1920": 512,
           "1921": 512,
           "1922": 512,
           "1923": 512,
           "1924": 512,
           "1925": 512,
           "1926": 512,
           "1927": 512,
           "1928": 512,
           "1929": 512,
           "193": 512,
           "1930": 512,
           "1931": 512,
           "1932": 512,
           "194": 512,
           "195": 512,
           "196": 512,
           "197": 512,
           "198": 512,
           "199": 512,
           "2": 512,
           "20": 512,
           "200": 512,
           "201": 512,
           "202": 512,
           "203": 512,
           "204": 512,
           "205": 512,
           "206": 512,
           "207": 512,
           "208": 512,
           "209": 512,
           "21": 512,
           "210": 512,
           "211": 512,
           "212": 512,
           "213": 512,
           "214": 512,
           "215": 512,
           "216": 512,
           "217": 512,
           "218": 512,
           "219": 512,
           "22": 512,
           "220": 512,
           "221": 512,
           "222": 512,
           "223": 512,
           "224": 512,
           "225": 512,
           "226": 512,
           "227": 512,
           "228": 512,
           "229": 512,
           "23": 512,
           "230": 512,
           "231": 512,
           "232": 512,
           "233": 512,
           "234": 512,
           "235": 512,
           "236": 512,
           "237": 512,
           "238": 512,
           "239": 512,
           "24": 512,
           "240": 512,
           "241": 512,
           "242": 512,
           "243": 512,
           "244": 512,
           "245": 512,
           "246": 512,
           "247": 512,
           "248": 512,
           "249": 512,
           "25": 512,
           "250": 512,
           "251": 512,
           "252": 512,
           "253": 512,
           "254": 512,
           "255": 512,
           "256": 512,
           "257": 512,
           "258": 512,
           "259": 512,
           "26": 512,
           "260": 512,
           "261": 512,
           "262": 512,
           "263": 512,
           "264": 512,
           "265": 512,
           "266": 512,
           "267": 512,
           "268": 512,
           "269": 512,
           "27": 512,
           "270": 512,
           "271": 512,
           "272": 512,
           "273": 512,
           "274": 512,
           "275": 512,
           "276": 512,
           "277": 512,
           "278": 512,
           "279": 512,
           "28": 512,
           "280": 512,
           "281": 512,
           "282": 512,
           "283": 512,
           "284": 512,
           "285": 512,
           "286": 512,
           "287": 512,
           "288": 512,
           "289": 512,
           "29": 512,
           "290": 512,
           "291": 512,
           "292": 512,
           "293": 512,
           "294": 512,
           "295": 512,
           "296": 512,
           "297": 512,
           "298": 512,
           "299": 512,
           "3": 512,
           "30": 512,
           "300": 512,
           "301": 512,
           "302": 512,
           "303": 512,
           "304": 512,
           "305": 512,
           "306": 512,
           "307": 512,
           "308": 512,
           "309": 512,
           "31": 512,
           "310": 512,
           "311": 512,
           "312": 512,
           "313": 512,
           "314": 512,
           "315": 512,
           "316": 512,
           "317": 512,
           "318": 512,
           "319": 512,
           "32": 512,
           "320": 512,
           "321": 512,
           "322": 512,
           "323": 512,
           "324": 512,
           "325": 512,
           "326": 512,
           "327": 512,
           "328": 512,
           "329": 512,
           "33": 512,
           "330": 512,
           "331": 512,
           "332": 512,
           "333": 512,
           "334": 512,
           "335": 512,
           "336": 512,
           "337": 512,
           "338": 512,
           "339": 512,
           "34": 512,
           "340": 512,
           "341": 512,
           "342": 512,
           "343": 512,
           "344": 512,
           "345": 512,
           "346": 512,
           "347": 512,
           "348": 512,
           "349": 512,
           "35": 512,
           "350": 512,
           "351": 512,
           "352": 512,
           "353": 512,
           "354": 512,
           "355": 512,
           "356": 512,
           "357": 512,
           "358": 512,
           "359": 512,
           "36": 512,
           "360": 512,
           "361": 512,
           "362": 512,
           "363": 512,
           "364": 512,
           "365": 512,
           "366": 512,
           "367": 512,
           "368": 512,
           "369": 512,
           "37": 512,
           "370": 512,
           "371": 512,
           "372": 512,
           "373": 512,
           "374": 512,
           "375": 512,
           "376": 512,
           "377": 512,
           "378": 512,
           "379": 512,
           "38": 512,
           "380": 512,
           "381": 512,
           "382": 512,
           "383": 512,
           "384": 512,
           "385": 512,
           "386": 512,
           "387": 512,
           "388": 512,
           "389": 512,
           "39": 512,
           "390": 512,
           "391": 512,
           "392": 512,
           "393": 512,
           "394": 512,
           "395": 512,
           "396": 512,
           "397": 512,
           "398": 512,
           "399": 512,
           "4": 512,
           "40": 512,
           "400": 512,
           "401": 512,
           "402": 512,
           "403": 512,
           "404": 512,
           "405": 512,
           "406": 512,
           "407": 512,
           "408": 512,
           "409": 512,
           "41": 512,
           "410": 512,
           "411": 512,
           "412": 512,
           "413": 512,
           "414": 512,
           "415": 512,
           "416": 512,
           "417": 512,
           "418": 512,
           "419": 512,
           "42": 512,
           "420": 512,
           "421": 512,
           "422": 512,
           "423": 512,
           "424": 512,
           "425": 512,
           "426": 512,
           "427": 512,
           "428": 512,
           "429": 512,
           "43": 512,
           "430": 512,
           "431": 512,
           "432": 512,
           "433": 512,
           "434": 512,
           "435": 512,
           "436": 512,
           "437": 512,
           "438": 512,
           "439": 512,
           "44": 512,
           "440": 512,
           "441": 512,
           "442": 512,
           "443": 512,
           "444": 512,
           "445": 512,
           "446": 512,
           "447": 512,
           "448": 512,
           "449": 512,
           "45": 512,
           "450": 512,
           "451": 512,
           "452": 512,
           "453": 512,
           "454": 512,
           "455": 512,
           "456": 512,
           "457": 512,
           "458": 512,
           "459": 512,
           "46": 512,
           "460": 512,
           "461": 512,
           "462": 512,
           "463": 512,
           "464": 512,
           "465": 512,
           "466": 512,
           "467": 512,
           "468": 512,
           "469": 512,
           "47": 512,
           "470": 512,
           "471": 512,
           "472": 512,
           "473": 512,
           "474": 512,
           "475": 512,
           "476": 512,
           "477": 512,
           "478": 512,
           "479": 512,
           "48": 512,
           "480": 512,
           "481": 512,
           "482": 512,
           "483": 512,
           "484": 512,
           "485": 512,
           "486": 512,
           "487": 512,
           "488": 512,
           "489": 512,
           "49": 512,
           "490": 512,
           "491": 512,
           "492": 512,
           "493": 512,
           "494": 512,
           "495": 512,
           "496": 512,
           "497": 512,
           "498": 512,
           "499": 512,
           "5": 512,
           "50": 512,
           "500": 512,
           "501": 512,
           "502": 512,
           "503": 512,
           "504": 512,
           "505": 512,
           "506": 512,
           "507": 512,
           "508": 512,
           "509": 512,
           "51": 512,
           "510": 512,
           "511": 512,
           "512": 512,
           "513": 512,
           "514": 512,
           "515": 512,
           "516": 512,
           "517": 512,
           "518": 512,
           "519": 512,
           "52": 512,
           "520": 512,
           "521": 512,
           "522": 512,
           "523": 512,
           "524": 512,
           "525": 512,
           "526": 512,
           "527": 512,
           "528": 512,
           "529": 512,
           "53": 512,
           "530": 512,
           "531": 512,
           "532": 512,
           "533": 512,
           "534": 512,
           "535": 512,
           "536": 512,
           "537": 512,
           "538": 512,
           "539": 512,
           "54": 512,
           "540": 512,
           "541": 512,
           "542": 512,
           "543": 512,
           "544": 512,
           "545": 512,
           "546": 512,
           "547": 512,
           "548": 512,
           "549": 512,
           "55": 512,
           "550": 512,
           "551": 512,
           "552": 512,
           "553": 512,
           "554": 512,
           "555": 512,
           "556": 512,
           "557": 512,
           "558": 512,
           "559": 512,
           "56": 512,
           "560": 512,
           "561": 512,
           "562": 512,
           "563": 512,
           "564": 512,
           "565": 512,
           "566": 512,
           "567": 512,
           "568": 512,
           "569": 512,
           "57": 512,
           "570": 512,
           "571": 512,
           "572": 512,
           "573": 512,
           "574": 512,
           "575": 512,
           "576": 512,
           "577": 512,
           "578": 512,
           "579": 512,
           "58": 512,
           "580": 512,
           "581": 512,
           "582": 512,
           "583": 512,
           "584": 512,
           "585": 512,
           "586": 512,
           "587": 512,
           "588": 512,
           "589": 512,
           "59": 512,
           "590": 512,
           "591": 512,
           "592": 512,
           "593": 512,
           "594": 512,
           "595": 512,
           "596": 512,
           "597": 512,
           "598": 512,
           "599": 512,
           "6": 512,
           "60": 512,
           "600": 512,
           "601": 512,
           "602": 512,
           "603": 512,
           "604": 512,
           "605": 512,
           "606": 512,
           "607": 512,
           "608": 512,
           "609": 512,
           "61": 512,
           "610": 512,
           "611": 512,
           "612": 512,
           "613": 512,
           "614": 512,
           "615": 512,
           "616": 512,
           "617": 512,
           "618": 512,
           "619": 512,
           "62": 512,
           "620": 512,
           "621": 512,
           "622": 512,
           "623": 512,
           "624": 512,
           "625": 512,
           "626": 512,
           "627": 512,
           "628": 512,
           "629": 512,
           "63": 512,
           "630": 512,
           "631": 512,
           "632": 512,
           "633": 512,
           "634": 512,
           "635": 512,
           "636": 512,
           "637": 512,
           "638": 512,
           "639": 512,
           "64": 512,
           "640": 512,
           "641": 512,
           "642": 512,
           "643": 512,
           "644": 512,
           "645": 512,
           "646": 512,
           "647": 512,
           "648": 512,
           "649": 512,
           "65": 512,
           "650": 512,
           "651": 512,
           "652": 512,
           "653": 512,
           "654": 512,
           "655": 512,
           "656": 512,
           "657": 512,
           "658": 512,
           "659": 512,
           "66": 512,
           "660": 512,
           "661": 512,
           "662": 512,
           "663": 512,
           "664": 512,
           "665": 512,
           "666": 512,
           "667": 512,
           "668": 512,
           "669": 512,
           "67": 512,
           "670": 512,
           "671": 512,
           "672": 512,
           "673": 512,
           "674": 512,
           "675": 512,
           "676": 512,
           "677": 512,
           "678": 512,
           "679": 512,
           "68": 512,
           "680": 512,
           "681": 512,
           "682": 512,
           "683": 512,
           "684": 512,
           "685": 512,
           "686": 512,
           "687": 512,
           "688": 512,
           "689": 512,
           "69": 512,
           "690": 512,
           "691": 512,
           "692": 512,
           "693": 512,
           "694": 512,
           "695": 512,
           "696": 512,
           "697": 512,
           "698": 512,
           "699": 512,
           "7": 512,
           "70": 512,
           "700": 512,
           "701": 512,
           "702": 512,
           "703": 512,
           "704": 512,
           "705": 512,
           "706": 512,
           "707": 512,
           "708": 512,
           "709": 512,
           "71": 512,
           "710": 512,
           "711": 512,
           "712": 512,
           "713": 512,
           "714": 512,
           "715": 512,
           "716": 512,
           "717": 512,
           "718": 512,
           "719": 512,
           "72": 512,
           "720": 512,
           "721": 512,
           "722": 512,
           "723": 512,
           "724": 512,
           "725": 512,
           "726": 512,
           "727": 512,
           "728": 512,
           "729": 512,
           "73": 512,
           "730": 512,
           "731": 512,
           "732": 512,
           "733": 512,
           "734": 512,
           "735": 512,
           "736": 512,
           "737": 512,
           "738": 512,
           "739": 512,
           "74": 512,
           "740": 512,
           "741": 512,
           "742": 512,
           "743": 512,
           "744": 512,
           "745": 512,
           "746": 512,
           "747": 512,
           "748": 512,
           "749": 512,
           "75": 512,
           "750": 512,
           "751": 512,
           "752": 512,
           "753": 512,
           "754": 512,
           "755": 512,
           "756": 512,
           "757": 512,
           "758": 512,
           "759": 512,
           "76": 512,
           "760": 512,
           "761": 512,
           "762": 512,
           "763": 512,
           "764": 512,
           "765": 512,
           "766": 512,
           "767": 512,
           "768": 512,
           "769": 512,
           "77": 512,
           "770": 512,
           "771": 512,
           "772": 512,
           "773": 512,
           "774": 512,
           "775": 512,
           "776": 512,
           "777": 512,
           "778": 512,
           "779": 512,
           "78": 512,
           "780": 512,
           "781": 512,
           "782": 512,
           "783": 512,
           "784": 512,
           "785": 512,
           "786": 512,
           "787": 512,
           "788": 512,
           "789": 512,
           "79": 512,
           "790": 512,
           "791": 512,
           "792": 512,
           "793": 512,
           "794": 512,
           "795": 512,
           "796": 512,
           "797": 512,
           "798": 512,
           "799": 512,
           "8": 512,
           "80": 512,
           "800": 512,
           "801": 512,
           "802": 512,
           "803": 512,
           "804": 512,
           "805": 512,
           "806": 512,
           "807": 512,
           "808": 512,
           "809": 512,
           "81": 512,
           "810": 512,
           "811": 512,
           "812": 512,
           "813": 512,
           "814": 512,
           "815": 512,
           "816": 512,
           "817": 512,
           "818": 512,
           "819": 512,
           "82": 512,
           "820": 512,
           "821": 512,
           "822": 512,
           "823": 512,
           "824": 512,
           "825": 512,
           "826": 512,
           "827": 512,
           "828": 512,
           "829": 512,
           "83": 512,
           "830": 512,
           "831": 512,
           "832": 512,
           "833": 512,
           "834": 512,
           "835": 512,
           "836": 512,
           "837": 512,
           "838": 512,
           "839": 512,
           "84": 512,
           "840": 512,
           "841": 512,
           "842": 512,
           "843": 512,
           "844": 512,
           "845": 512,
           "846": 512,
           "847": 512,
           "848": 512,
           "849": 512,
           "85": 512,
           "850": 512,
           "851": 512,
           "852": 512,
           "853": 512,
           "854": 512,
           "855": 512,
           "856": 512,
           "857": 512,
           "858": 512,
           "859": 512,
           "86": 512,
           "860": 512,
           "861": 512,
           "862": 512,
           "863": 512,
           "864": 512,
           "865": 512,
           "866": 512,
           "867": 512,
           "868": 512,
           "869": 512,
           "87": 512,
           "870": 512,
           "871": 512,
           "872": 512,
           "873": 512,
           "874": 512,
           "875": 512,
           "876": 512,
           "877": 512,
           "878": 512,
           "879": 512,
           "88": 512,
           "880": 512,
           "881": 512,
           "882": 512,
           "883": 512,
           "884": 512,
           "885": 512,
           "886": 512,
           "887": 512,
           "888": 512,
           "889": 512,
           "89": 512,
           "890": 512,
           "891": 512,
           "892": 512,
           "893": 512,
           "894": 512,
           "895": 512,
           "896": 512,
           "897": 512,
           "898": 512,
           "899": 512,
           "9": 512,
           "90": 512,
           "900": 512,
           "901": 512,
           "902": 512,
           "903": 512,
           "904": 512,
           "905": 512,
           "906": 512,
           "907": 512,
           "908": 512,
           "909": 512,
           "91": 512,
           "910": 512,
           "911": 512,
           "912": 512,
           "913": 512,
           "914": 512,
           "915": 512,
           "916": 512,
           "917": 512,
           "918": 512,
           "919": 512,
           "92": 512,
           "920": 512,
           "921": 512,
           "922": 512,
           "923": 512,
           "924": 512,
           "925": 512,
           "926": 512,
           "927": 512,
           "928": 512,
           "929": 512,
           "93": 512,
           "930": 512,
           "931": 512,
           "932": 512,
           "933": 512,
           "934": 512,
           "935": 512,
           "936": 512,
           "937": 512,
           "938": 512,
           "939": 512,
           "94": 512,
           "940": 512,
           "941": 512,
           "942": 512,
           "943": 512,
           "944": 512,
           "945": 512,
           "946": 512,
           "947": 512,
           "948": 512,
           "949": 512,
           "95": 512,
           "950": 512,
           "951": 512,
           "952": 512,
           "953": 512,
           "954": 512,
           "955": 512,
           "956": 512,
           "957": 512,
           "958": 512,
           "959": 512,
           "96": 512,
           "960": 512,
           "961": 512,
           "962": 512,
           "963": 512,
           "964": 512,
           "965": 512,
           "966": 512,
           "967": 512,
           "968": 512,
           "969": 512,
           "97": 512,
           "970": 512,
           "971": 512,
           "972": 512,
           "973": 512,
           "974": 512,
           "975": 512,
           "976": 512,
           "977": 512,
           "978": 512,
           "979": 512,
           "98": 512,
           "980": 512,
           "981": 512,
           "982": 512,
           "983": 512,
           "984": 512,
           "985": 512,
           "986": 512,
           "987": 512,
           "988": 512,
           "989": 512,
           "99": 512,
           "990": 512,
           "991": 512,
           "992": 512,
           "993": 512,
           "994": 512,
           "995": 512,
           "996": 512,
           "997": 512,
           "998": 512,
           "999": 512,
           "bdata": "AAIAAAACAAAAAgAAAAIAAAACAAAAAgAAAAIAAAACAAAAAgAAAAIAAAACAAAAAgAAAAIAAAACAAAAAgAAAAIAAAACAAAAAgAAAAIAAAACAAAAAgAAAAIAAAACAAAAAgAAAAIAAAACAAAAAgAAAAIAAAACAAAAAgAAAAIAAAACAAAAAgAAAAIAAAACAAAAAgAAAAIAAAACAAAAAgAAAAIAAAACAAAAAgAAAAIAAAACAAAAAgAAAAIAAAACAAAAAgAAAAIAAAACAAAAAgAAAAIAAAACAAAAAgAAAAIAAAACAAAAAgAAAAIAAAACAAAAAgAAAAIAAAACAAAAAgAAAAIAAAACAAAAAgAAAAIAAAACAAAAAgAAAAIAAAACAAAAAgAAAAIAAAACAAAAAgAAAAIAAAACAAAAAgAAAAIAAAACAAAAAgAAAAIAAAACAAAAAgAAAAIAAAACAAAAAgAAAAIAAAACAAAAAgAAAAIAAAACAAAAAgAAAAIAAAACAAAAAgAAAAIAAAACAAAAAgAAAAIAAAACAAAAAgAAAAIAAAACAAAAAgAAAAIAAAACAAAAAgAAAAIAAAACAAAAAgAAAAIAAAACAAAAAgAAAAIAAAACAAAAAgAAAAIAAAACAAAAAgAAAAIAAAACAAAAAgAAAAIAAAACAAAAAgAAAAIAAAACAAAAAgAAAAIAAAACAAAAAgAAAAIAAAACAAAAAgAAAAIAAAACAAAAAgAAAAIAAAACAAAAAgAAAAIAAAACAAAAAgAAAAIAAAACAAAAAgAAAAIAAAACAAAAAgAAAAIAAAACAAAAAgAAAAIAAAACAAAAAgAAAAIAAAACAAAAAgAAAAIAAAACAAAAAgAAAAIAAAACAAAAAgAAAAIAAAACAAAAAgAAAAIAAAACAAAAAgAAAAIAAAACAAAAAgAAAAIAAAACAAAAAgAAAAIAAAACAAAAAgAAAAIAAAACAAAAAgAAAAIAAAACAAAAAgAAAAIAAAACAAAAAgAAAAIAAAACAAAAAgAAAAIAAAACAAAAAgAAAAIAAAACAAAAAgAAAAIAAAACAAAAAgAAAAIAAAACAAAAAgAAAAIAAAACAAAAAgAAAAIAAAACAAAAAgAAAAIAAAACAAAAAgAAAAIAAAACAAAAAgAAAAIAAAACAAAAAgAAAAIAAAACAAAAAgAAAAIAAAACAAAAAgAAAAIAAAACAAAAAgAAAAIAAAACAAAAAgAAAAIAAAACAAAAAgAAAAIAAAACAAAAAgAAAAIAAAACAAAAAgAAAAIAAAACAAAAAgAAAAIAAAACAAAAAgAAAAIAAAACAAAAAgAAAAIAAAACAAAAAgAAAAIAAAACAAAAAgAAAAIAAAACAAAAAgAAAAIAAAACAAAAAgAAAAIAAAACAAAAAgAAAAIAAAACAAAAAgAAAAIAAAACAAAAAgAAAAIAAAACAAAAAgAAAAIAAAACAAAAAgAAAAIAAAACAAAAAgAAAAIAAAACAAAAAgAAAAIAAAACAAAAAgAAAAIAAAACAAAAAgAAAAIAAAACAAAAAgAAAAIAAAACAAAAAgAAAAIAAAACAAAAAgAAAAIAAAACAAAAAgAAAAIAAAACAAAAAgAAAAIAAAACAAAAAgAAAAIAAAACAAAAAgAAAAIAAAACAAAAAgAAAAIAAAACAAAAAgAAAAIAAAACAAAAAgAAAAIAAAACAAAAAgAAAAIAAAACAAAAAgAAAAIAAAACAAAAAgAAAAIAAAACAAAAAgAAAAIAAAACAAAAAgAAAAIAAAACAAAAAgAAAAIAAAACAAAAAgAAAAIAAAACAAAAAgAAAAIAAAACAAAAAgAAAAIAAAACAAAAAgAAAAIAAAACAAAAAgAAAAIAAAACAAAAAgAAAAIAAAACAAAAAgAAAAIAAAACAAAAAgAAAAIAAAACAAAAAgAAAAIAAAACAAAAAgAAAAIAAAACAAAAAgAAAAIAAAACAAAAAgAAAAIAAAACAAAAAgAAAAIAAAACAAAAAgAAAAIAAAACAAAAAgAAAAIAAAACAAAAAgAAAAIAAAACAAAAAgAAAAIAAAACAAAAAgAAAAIAAAACAAAAAgAAAAIAAAACAAAAAgAAAAIAAAACAAAAAgAAAAIAAAACAAAAAgAAAAIAAAACAAAAAgAAAAIAAAACAAAAAgAAAAIAAAACAAAAAgAAAAIAAAACAAAAAgAAAAIAAAACAAAAAgAAAAIAAAACAAAAAgAAAAIAAAACAAAAAgAAAAIAAAACAAAAAgAAAAIAAAACAAAAAgAAAAIAAAACAAAAAgAAAAIAAAACAAAAAgAAAAIAAAACAAAAAgAAAAIAAAACAAAAAgAAAAIAAAACAAAAAgAAAAIAAAACAAAAAgAAAAIAAAACAAAAAgAAAAIAAAACAAAAAgAAAAIAAAACAAAAAgAAAAIAAAACAAAAAgAAAAIAAAACAAAAAgAAAAIAAAACAAAAAgAAAAIAAAACAAAAAgAAAAIAAAACAAAAAgAAAAIAAAACAAAAAgAAAAIAAAACAAAAAgAAAAIAAAACAAAAAgAAAAIAAAACAAAAAgAAAAIAAAACAAAAAgAAAAIAAAACAAAAAgAAAAIAAAACAAAAAgAAAAIAAAACAAAAAgAAAAIAAAACAAAAAgAAAAIAAAACAAAAAgAAAAIAAAACAAAAAgAAAAIAAAACAAAAAgAAAAIAAAACAAAAAgAAAAIAAAACAAAAAgAAAAIAAAACAAAAAgAAAAIAAAACAAAAAgAAAAIAAAACAAAAAgAAAAIAAAACAAAAAgAAAAIAAAACAAAAAgAAAAIAAAACAAAAAgAAAAIAAAACAAAAAgAAAAIAAAACAAAAAgAAAAIAAAACAAAAAgAAAAIAAAACAAAAAgAAAAIAAAACAAAAAgAAAAIAAAACAAAAAgAAAAIAAAACAAAAAgAAAAIAAAACAAAAAgAAAAIAAAACAAAAAgAAAAIAAAACAAAAAgAAAAIAAAACAAAAAgAAAAIAAAACAAAAAgAAAAIAAAACAAAAAgAAAAIAAAACAAAAAgAAAAIAAAACAAAAAgAAAAIAAAACAAAAAgAAAAIAAAACAAAAAgAAAAIAAAACAAAAAgAAAAIAAAACAAAAAgAAAAIAAAACAAAAAgAAAAIAAAACAAAAAgAAAAIAAAACAAAAAgAAAAIAAAACAAAAAgAAAAIAAAACAAAAAgAAAAIAAAACAAAAAgAAAAIAAAACAAAAAgAAAAIAAAACAAAAAgAAAAIAAAACAAAAAgAAAAIAAAACAAAAAgAAAAIAAAACAAAAAgAAAAIAAAACAAAAAgAAAAIAAAACAAAAAgAAAAIAAAACAAAAAgAAAAIAAAACAAAAAgAAAAIAAAACAAAAAgAAAAIAAAACAAAAAgAAAAIAAAACAAAAAgAAAAIAAAACAAAAAgAAAAIAAAACAAAAAgAAAAIAAAACAAAAAgAAAAIAAAACAAAAAgAAAAIAAAACAAAAAgAAAAIAAAACAAAAAgAAAAIAAAACAAAAAgAAAAIAAAACAAAAAgAAAAIAAAACAAAAAgAAAAIAAAACAAAAAgAAAAIAAAACAAAAAgAAAAIAAAACAAAAAgAAAAIAAAACAAAAAgAAAAIAAAACAAAAAgAAAAIAAAACAAAAAgAAAAIAAAACAAAAAgAAAAIAAAACAAAAAgAAAAIAAAACAAAAAgAAAAIAAAACAAAAAgAAAAIAAAACAAAAAgAAAAIAAAACAAAAAgAAAAIAAAACAAAAAgAAAAIAAAACAAAAAgAAAAIAAAACAAAAAgAAAAIAAAACAAAAAgAAAAIAAAACAAAAAgAAAAIAAAACAAAAAgAAAAIAAAACAAAAAgAAAAIAAAACAAAAAgAAAAIAAAACAAAAAgAAAAIAAAACAAAAAgAAAAIAAAACAAAAAgAAAAIAAAACAAAAAgAAAAIAAAACAAAAAgAAAAIAAAACAAAAAgAAAAIAAAACAAAAAgAAAAIAAAACAAAAAgAAAAIAAAACAAAAAgAAAAIAAAACAAAAAgAAAAIAAAACAAAAAgAAAAIAAAACAAAAAgAAAAIAAAACAAAAAgAAAAIAAAACAAAAAgAAAAIAAAACAAAAAgAAAAIAAAACAAAAAgAAAAIAAAACAAAAAgAAAAIAAAACAAAAAgAAAAIAAAACAAAAAgAAAAIAAAACAAAAAgAAAAIAAAACAAAAAgAAAAIAAAACAAAAAgAAAAIAAAACAAAAAgAAAAIAAAACAAAAAgAAAAIAAAACAAAAAgAAAAIAAAACAAAAAgAAAAIAAAACAAAAAgAAAAIAAAACAAAAAgAAAAIAAAACAAAAAgAAAAIAAAACAAAAAgAAAAIAAAACAAAAAgAAAAIAAAACAAAAAgAAAAIAAAACAAAAAgAAAAIAAAACAAAAAgAAAAIAAAACAAAAAgAAAAIAAAACAAAAAgAAAAIAAAACAAAAAgAAAAIAAAACAAAAAgAAAAIAAAACAAAAAgAAAAIAAAACAAAAAgAAAAIAAAACAAAAAgAAAAIAAAACAAAAAgAAAAIAAAACAAAAAgAAAAIAAAACAAAAAgAAAAIAAAACAAAAAgAAAAIAAAACAAAAAgAAAAIAAAACAAAAAgAAAAIAAAACAAAAAgAAAAIAAAACAAAAAgAAAAIAAAACAAAAAgAAAAIAAAACAAAAAgAAAAIAAAACAAAAAgAAAAIAAAACAAAAAgAAAAIAAAACAAAAAgAAAAIAAAACAAAAAgAAAAIAAAACAAAAAgAAAAIAAAACAAAAAgAAAAIAAAACAAAAAgAAAAIAAAACAAAAAgAAAAIAAAACAAAAAgAAAAIAAAACAAAAAgAAAAIAAAACAAAAAgAAAAIAAAACAAAAAgAAAAIAAAACAAAAAgAAAAIAAAACAAAAAgAAAAIAAAACAAAAAgAAAAIAAAACAAAAAgAAAAIAAAACAAAAAgAAAAIAAAACAAAAAgAAAAIAAAACAAAAAgAAAAIAAAACAAAAAgAAAAIAAAACAAAAAgAAAAIAAAACAAAAAgAAAAIAAAACAAAAAgAAAAIAAAACAAAAAgAAAAIAAAACAAAAAgAAAAIAAAACAAAAAgAAAAIAAAACAAAAAgAAAAIAAAACAAAAAgAAAAIAAAACAAAAAgAAAAIAAAACAAAAAgAAAAIAAAACAAAAAgAAAAIAAAACAAAAAgAAAAIAAAACAAAAAgAAAAIAAAACAAAAAgAAAAIAAAACAAAAAgAAAAIAAAACAAAAAgAAAAIAAAACAAAAAgAAAAIAAAACAAAAAgAAAAIAAAACAAAAAgAAAAIAAAACAAAAAgAAAAIAAAACAAAAAgAAAAIAAAACAAAAAgAAAAIAAAACAAAAAgAAAAIAAAACAAAAAgAAAAIAAAACAAAAAgAAAAIAAAACAAAAAgAAAAIAAAACAAAAAgAAAAIAAAACAAAAAgAAAAIAAAACAAAAAgAAAAIAAAACAAAAAgAAAAIAAAACAAAAAgAAAAIAAAACAAAAAgAAAAIAAAACAAAAAgAAAAIAAAACAAAAAgAAAAIAAAACAAAAAgAAAAIAAAACAAAAAgAAAAIAAAACAAAAAgAAAAIAAAACAAAAAgAAAAIAAAACAAAAAgAAAAIAAAACAAAAAgAAAAIAAAACAAAAAgAAAAIAAAACAAAAAgAAAAIAAAACAAAAAgAAAAIAAAACAAAAAgAAAAIAAAACAAAAAgAAAAIAAAACAAAAAgAAAAIAAAACAAAAAgAAAAIAAAACAAAAAgAAAAIAAAACAAAAAgAAAAIAAAACAAAAAgAAAAIAAAACAAAAAgAAAAIAAAACAAAAAgAAAAIAAAACAAAAAgAAAAIAAAACAAAAAgAAAAIAAAACAAAAAgAAAAIAAAACAAAAAgAAAAIAAAACAAAAAgAAAAIAAAACAAAAAgAAAAIAAAACAAAAAgAAAAIAAAACAAAAAgAAAAIAAAACAAAAAgAAAAIAAAACAAAAAgAAAAIAAAACAAAAAgAAAAIAAAACAAAAAgAAAAIAAAACAAAAAgAAAAIAAAACAAAAAgAAAAIAAAACAAAAAgAAAAIAAAACAAAAAgAAAAIAAAACAAAAAgAAAAIAAAACAAAAAgAAAAIAAAACAAAAAgAAAAIAAAACAAAAAgAAAAIAAAACAAAAAgAAAAIAAAACAAAAAgAAAAIAAAACAAAAAgAAAAIAAAACAAAAAgAAAAIAAAACAAAAAgAAAAIAAAACAAAAAgAAAAIAAAACAAAAAgAAAAIAAAACAAAAAgAAAAIAAAACAAAAAgAAAAIAAAACAAAAAgAAAAIAAAACAAAAAgAAAAIAAAACAAAAAgAAAAIAAAACAAAAAgAAAAIAAAACAAAAAgAAAAIAAAACAAAAAgAAAAIAAAACAAAAAgAAAAIAAAACAAAAAgAAAAIAAAACAAAAAgAAAAIAAAACAAAAAgAAAAIAAAACAAAAAgAAAAIAAAACAAAAAgAAAAIAAAACAAAAAgAAAAIAAAACAAAAAgAAAAIAAAACAAAAAgAAAAIAAAACAAAAAgAAAAIAAAACAAAAAgAAAAIAAAACAAAAAgAAAAIAAAACAAAAAgAAAAIAAAACAAAAAgAAAAIAAAACAAAAAgAAAAIAAAACAAAAAgAAAAIAAAACAAAAAgAAAAIAAAACAAAAAgAAAAIAAAACAAAAAgAAAAIAAAACAAAAAgAAAAIAAAACAAAAAgAAAAIAAAACAAAAAgAAAAIAAAACAAAAAgAAAAIAAAACAAAAAgAAAAIAAAACAAAAAgAAAAIAAAACAAAAAgAAAAIAAAACAAAAAgAAAAIAAAACAAAAAgAAAAIAAAACAAAAAgAAAAIAAAACAAAAAgAAAAIAAAACAAAAAgAAAAIAAAACAAAAAgAAAAIAAAACAAAAAgAAAAIAAAACAAAAAgAAAAIAAAACAAAAAgAAAAIAAAACAAAAAgAAAAIAAAACAAAAAgAAAAIAAAACAAAAAgAAAAIAAAACAAAAAgAAAAIAAAACAAAAAgAAAAIAAAACAAAAAgAAAAIAAAACAAAAAgAAAAIAAAACAAAAAgAAAAIAAAACAAAAAgAAAAIAAAACAAAAAgAAAAIAAAACAAAAAgAAAAIAAAACAAAAAgAAAAIAAAACAAAAAgAAAAIAAAACAAAAAgAAAAIAAAACAAAAAgAAAAIAAAACAAAAAgAAAAIAAAACAAAAAgAAAAIAAAACAAAAAgAAAAIAAAACAAAAAgAAAAIAAAACAAAAAgAAAAIAAAACAAAAAgAAAAIAAAACAAAAAgAAAAIAAAACAAAAAgAAAAIAAAACAAAAAgAAAAIAAAACAAAAAgAAAAIAAAACAAAAAgAAAAIAAAACAAAAAgAAAAIAAAACAAAAAgAAAAIAAAACAAAAAgAAAAIAAAACAAAAAgAAAAIAAAACAAAAAgAAAAIAAAACAAAAAgAAAAIAAAACAAAAAgAAAAIAAAACAAAAAgAAAAIAAAACAAAAAgAAAAIAAAACAAAAAgAAAAIAAAACAAAAAgAAAAIAAAACAAAAAgAAAAIAAAACAAAAAgAAAAIAAAACAAAAAgAAAAIAAAACAAAAAgAAAAIAAAACAAAAAgAAAAIAAAACAAAAAgAAAAIAAAACAAAAAgAAAAIAAAACAAAAAgAAAAIAAAACAAAAAgAAAAIAAAACAAAAAgAAAAIAAAACAAAAAgAAAAIAAAACAAAAAgAAAAIAAAACAAAAAgAAAAIAAAACAAAAAgAAAAIAAAACAAAAAgAAAAIAAAACAAAAAgAAAAIAAAACAAAAAgAAAAIAAAACAAAAAgAAAAIAAAACAAAAAgAAAAIAAAACAAAAAgAAAAIAAAACAAAAAgAAAAIAAAACAAAAAgAAAAIAAAACAAAAAgAAAAIAAAACAAAAAgAAAAIAAAACAAAAAgAAAAIAAAACAAAAAgAAAAIAAAACAAAAAgAAAAIAAAACAAAAAgAAAAIAAAACAAAAAgAAAAIAAAACAAAAAgAAAAIAAAACAAAAAgAAAAIAAAACAAAAAgAAAAIAAAACAAAAAgAAAAIAAAACAAAAAgAAAAIAAAACAAAAAgAAAAIAAAACAAAAAgAAAAIAAAACAAAAAgAAAAIAAAACAAAAAgAAAAIAAAACAAAAAgAAAAIAAAACAAAAAgAAAAIAAAACAAAAAgAAAAIAAAACAAAAAgAAAAIAAAACAAAAAgAAAAIAAAACAAAAAgAAAAIAAAACAAAAAgAAAAIAAAACAAAAAgAAAAIAAAACAAAAAgAAAAIAAAACAAAAAgAAAAIAAAACAAAAAgAAAAIAAAACAAAAAgAAAAIAAAACAAAAAgAAAAIAAAACAAAAAgAAAAIAAAACAAAAAgAAAAIAAAACAAAAAgAAAAIAAAACAAAAAgAAAAIAAAACAAAAAgAAAAIAAAACAAAAAgAAAAIAAAACAAAAAgAAAAIAAAACAAAAAgAAAAIAAAACAAAAAgAAAAIAAAACAAAAAgAAAAIAAAACAAAAAgAAAAIAAAACAAAAAgAAAAIAAAACAAAAAgAAAAIAAAACAAAAAgAAAAIAAAACAAAAAgAAAAIAAAACAAAAAgAAAAIAAAACAAAAAgAAAAIAAAACAAAAAgAAAAIAAAACAAAAAgAAAAIAAAACAAAAAgAAAAIAAAACAAAAAgAAAAIAAAACAAAAAgAAAAIAAAACAAAAAgAAAAIAAAACAAAAAgAAAAIAAAACAAAAAgAAAAIAAAACAAAAAgAAAAIAAAACAAAAAgAAAAIAAAACAAAAAgAAAAIAAAACAAAAAgAAAAIAAAACAAAAAgAAAAIAAAACAAAAAgAAAAIAAAACAAAAAgAAAAIAAAACAAAAAgAAAAIAAAACAAAAAgAAAAIAAAACAAAAAgAAAAIAAAACAAAAAgAAAAIAAAACAAAAAgAAAAIAAAACAAAAAgAAAAIAAAACAAAAAgAAAAIAAAACAAAAAgAAAAIAAAACAAAAAgAAAAIAAAACAAAAAgAAAAIAAAACAAAAAgAAAAIAAAACAAAAAgAAAAIAAAACAAAAAgAAAAIAAAACAAAAAgAAAAIAAAACAAAAAgAAAAIAAAACAAAAAgAAAAIAAAACAAAAAgAAAAIAAAACAAAAAgAAAAIAAAACAAAAAgAAAAIAAAACAAAAAgAAAAIAAAACAAAAAgAAAAIAAAACAAAAAgAAAAIAAAACAAAAAgAAAAIAAAACAAAAAgAAAAIAAAACAAAAAgAAAAIAAAACAAAAAgAAAAIAAAACAAAAAgAAAAIAAAACAAAAAgAAAAIAAAACAAAAAgAAAAIAAAACAAAAAgAAAAIAAAACAAAAAgAAAAIAAAACAAAAAgAAAAIAAAACAAAAAgAAAAIAAAACAAAAAgAAAAIAAAACAAAAAgAAAAIAAAACAAAAAgAAAAIAAAACAAAAAgAAAAIAAAACAAAAAgAAAAIAAAACAAAAAgAAAAIAAAACAAAAAgAAAAIAAPoBAAAAAgAAAAIAAAACAAAAAgAAAAIAAAACAAAAAgAAAAIAAAACAAAAAgAAAAIAAAACAAAAAgAAAAIAAAACAAAAAgAAAAIAAAACAAAAAgAAAAIAAAACAAAAAgAAAAIAAAACAAAAAgAAAAIAAAACAAAAAgAAAAIAAAACAAAAAgAAAAIAAAACAAAAAgAAAAIAAAACAAAAAgAAAAIAAAACAAAAAgAAAAIAAAACAAAAAgAAAAIAAAACAAAAAgAAAAIAAAACAAAAAgAAAAIAAAACAAAAAgAAAAIAAAACAAAAAgAAAAIAAAACAAAAAgAAAAIAAAACAAAAAgAAAAIAAAACAAAAAgAAAAIAAAACAAAAAgAAAAIAAAACAAAAAgAAAAIAAAACAAAAAgAAAAIAAAACAAAAAgAAAAIAAAACAAAAAgAAAAIAAAACAAAAAgAAAAIAAAACAAAAAgAAAAIAAAACAAAAAgAAAAIAAAACAAAAAgAAAAIAAAACAAAAAgAAAAIAAAACAAAAAgAAAAIAAAACAAAAAgAAAAIAAAACAAAAAgAAAAIAAAACAAAAAgAAAAIAAAACAAAAAgAAAAIAAAACAAAAAgAAAAIAAAACAAAAAgAAAAIAAAACAAAAAgAAAAIAAAACAAAAAgAAAAIAAAACAAAAAgAAAAIAAAACAAAAAgAAAAIAAAACAAAAAgAAAAIAAAACAAAAAgAAAAIAAAACAAAAAgAAAAIAAAACAAAAAgAAAAIAAAACAAAAAgAAAAIAAA==",
           "dtype": "i4",
           "shape": "1933"
          },
          "bdata": "AAIAAAACAAAAAgAAAAIAAAACAAAAAgAAAAIAAAACAAAAAgAAAAIAAAACAAAAAgAAAAIAAAACAAAAAgAAAAIAAAACAAAAAgAAAAIAAAACAAAAAgAAAAIAAAACAAAAAgAAAAIAAAACAAAAAgAAAAIAAAACAAAAAgAAAAIAAAACAAAAAgAAAAIAAAACAAAAAgAAAAIAAAACAAAAAgAAAAIAAAACAAAAAgAAAAIAAAACAAAAAgAAAAIAAAACAAAAAgAAAAIAAAACAAAAAgAAAAIAAAACAAAAAgAAAAIAAAACAAAAAgAAAAIAAAACAAAAAgAAAAIAAAACAAAAAgAAAAIAAAACAAAAAgAAAAIAAAACAAAAAgAAAAIAAAACAAAAAgAAAAIAAAACAAAAAgAAAAIAAAACAAAAAgAAAAIAAAACAAAAAgAAAAIAAAACAAAAAgAAAAIAAAACAAAAAgAAAAIAAAACAAAAAgAAAAIAAAACAAAAAgAAAAIAAAACAAAAAgAAAAIAAAACAAAAAgAAAAIAAAACAAAAAgAAAAIAAAACAAAAAgAAAAIAAAACAAAAAgAAAAIAAAACAAAAAgAAAAIAAAACAAAAAgAAAAIAAAACAAAAAgAAAAIAAAACAAAAAgAAAAIAAAACAAAAAgAAAAIAAAACAAAAAgAAAAIAAAACAAAAAgAAAAIAAAACAAAAAgAAAAIAAAACAAAAAgAAAAIAAAACAAAAAgAAAAIAAAACAAAAAgAAAAIAAAACAAAAAgAAAAIAAAACAAAAAgAAAAIAAAACAAAAAgAAAAIAAAACAAAAAgAAAAIAAAACAAAAAgAAAAIAAAACAAAAAgAAAAIAAAACAAAAAgAAAAIAAAACAAAAAgAAAAIAAAACAAAAAgAAAAIAAAACAAAAAgAAAAIAAAACAAAAAgAAAAIAAAACAAAAAgAAAAIAAAACAAAAAgAAAAIAAAACAAAAAgAAAAIAAAACAAAAAgAAAAIAAAACAAAAAgAAAAIAAAACAAAAAgAAAAIAAAACAAAAAgAAAAIAAAACAAAAAgAAAAIAAAACAAAAAgAAAAIAAAACAAAAAgAAAAIAAAACAAAAAgAAAAIAAAACAAAAAgAAAAIAAAACAAAAAgAAAAIAAAACAAAAAgAAAAIAAAACAAAAAgAAAAIAAAACAAAAAgAAAAIAAAACAAAAAgAAAAIAAAACAAAAAgAAAAIAAAACAAAAAgAAAAIAAAACAAAAAgAAAAIAAAACAAAAAgAAAAIAAAACAAAAAgAAAAIAAAACAAAAAgAAAAIAAAACAAAAAgAAAAIAAAACAAAAAgAAAAIAAAACAAAAAgAAAAIAAAACAAAAAgAAAAIAAAACAAAAAgAAAAIAAAACAAAAAgAAAAIAAAACAAAAAgAAAAIAAAACAAAAAgAAAAIAAAACAAAAAgAAAAIAAAACAAAAAgAAAAIAAAACAAAAAgAAAAIAAAACAAAAAgAAAAIAAAACAAAAAgAAAAIAAAACAAAAAgAAAAIAAAACAAAAAgAAAAIAAAACAAAAAgAAAAIAAAACAAAAAgAAAAIAAAACAAAAAgAAAAIAAAACAAAAAgAAAAIAAAACAAAAAgAAAAIAAAACAAAAAgAAAAIAAAACAAAAAgAAAAIAAAACAAAAAgAAAAIAAAACAAAAAgAAAAIAAAACAAAAAgAAAAIAAAACAAAAAgAAAAIAAAACAAAAAgAAAAIAAAACAAAAAgAAAAIAAAACAAAAAgAAAAIAAAACAAAAAgAAAAIAAAACAAAAAgAAAAIAAAACAAAAAgAAAAIAAAACAAAAAgAAAAIAAAACAAAAAgAAAAIAAAACAAAAAgAAAAIAAAACAAAAAgAAAAIAAAACAAAAAgAAAAIAAAACAAAAAgAAAAIAAAACAAAAAgAAAAIAAAACAAAAAgAAAAIAAAACAAAAAgAAAAIAAAACAAAAAgAAAAIAAAACAAAAAgAAAAIAAAACAAAAAgAAAAIAAAACAAAAAgAAAAIAAAACAAAAAgAAAAIAAAACAAAAAgAAAAIAAAACAAAAAgAAAAIAAAACAAAAAgAAAAIAAAACAAAAAgAAAAIAAAACAAAAAgAAAAIAAAACAAAAAgAAAAIAAAACAAAAAgAAAAIAAAACAAAAAgAAAAIAAAACAAAAAgAAAAIAAAACAAAAAgAAAAIAAAACAAAAAgAAAAIAAAACAAAAAgAAAAIAAAACAAAAAgAAAAIAAAACAAAAAgAAAAIAAAACAAAAAgAAAAIAAAACAAAAAgAAAAIAAAACAAAAAgAAAAIAAAACAAAAAgAAAAIAAAACAAAAAgAAAAIAAAACAAAAAgAAAAIAAAACAAAAAgAAAAIAAAACAAAAAgAAAAIAAAACAAAAAgAAAAIAAAACAAAAAgAAAAIAAAACAAAAAgAAAAIAAAACAAAAAgAAAAIAAAACAAAAAgAAAAIAAAACAAAAAgAAAAIAAAACAAAAAgAAAAIAAAACAAAAAgAAAAIAAAACAAAAAgAAAAIAAAACAAAAAgAAAAIAAAACAAAAAgAAAAIAAAACAAAAAgAAAAIAAAACAAAAAgAAAAIAAAACAAAAAgAAAAIAAAACAAAAAgAAAAIAAAACAAAAAgAAAAIAAAACAAAAAgAAAAIAAAACAAAAAgAAAAIAAAACAAAAAgAAAAIAAAACAAAAAgAAAAIAAAACAAAAAgAAAAIAAAACAAAAAgAAAAIAAAACAAAAAgAAAAIAAAACAAAAAgAAAAIAAAACAAAAAgAAAAIAAAACAAAAAgAAAAIAAAACAAAAAgAAAAIAAAACAAAAAgAAAAIAAAACAAAAAgAAAAIAAAACAAAAAgAAAAIAAAACAAAAAgAAAAIAAAACAAAAAgAAAAIAAAACAAAAAgAAAAIAAAACAAAAAgAAAAIAAAACAAAAAgAAAAIAAAACAAAAAgAAAAIAAAACAAAAAgAAAAIAAAACAAAAAgAAAAIAAAACAAAAAgAAAAIAAAACAAAAAgAAAAIAAAACAAAAAgAAAAIAAAACAAAAAgAAAAIAAAACAAAAAgAAAAIAAAACAAAAAgAAAAIAAAACAAAAAgAAAAIAAAACAAAAAgAAAAIAAAACAAAAAgAAAAIAAAACAAAAAgAAAAIAAAACAAAAAgAAAAIAAAACAAAAAgAAAAIAAAACAAAAAgAAAAIAAAACAAAAAgAAAAIAAAACAAAAAgAAAAIAAAACAAAAAgAAAAIAAAACAAAAAgAAAAIAAAACAAAAAgAAAAIAAAACAAAAAgAAAAIAAAACAAAAAgAAAAIAAAACAAAAAgAAAAIAAAACAAAAAgAAAAIAAAACAAAAAgAAAAIAAAACAAAAAgAAAAIAAAACAAAAAgAAAAIAAAACAAAAAgAAAAIAAAACAAAAAgAAAAIAAAACAAAAAgAAAAIAAAACAAAAAgAAAAIAAAACAAAAAgAAAAIAAAACAAAAAgAAAAIAAAACAAAAAgAAAAIAAAACAAAAAgAAAAIAAAACAAAAAgAAAAIAAAACAAAAAgAAAAIAAAACAAAAAgAAAAIAAAACAAAAAgAAAAIAAAACAAAAAgAAAAIAAAACAAAAAgAAAAIAAAACAAAAAgAAAAIAAAACAAAAAgAAAAIAAAACAAAAAgAAAAIAAAACAAAAAgAAAAIAAAACAAAAAgAAAAIAAAACAAAAAgAAAAIAAAACAAAAAgAAAAIAAAACAAAAAgAAAAIAAAACAAAAAgAAAAIAAAACAAAAAgAAAAIAAAACAAAAAgAAAAIAAAACAAAAAgAAAAIAAAACAAAAAgAAAAIAAAACAAAAAgAAAAIAAAACAAAAAgAAAAIAAAACAAAAAgAAAAIAAAACAAAAAgAAAAIAAAACAAAAAgAAAAIAAAACAAAAAgAAAAIAAAACAAAAAgAAAAIAAAACAAAAAgAAAAIAAAACAAAAAgAAAAIAAAACAAAAAgAAAAIAAAACAAAAAgAAAAIAAAACAAAAAgAAAAIAAAACAAAAAgAAAAIAAAACAAAAAgAAAAIAAAACAAAAAgAAAAIAAAACAAAAAgAAAAIAAAACAAAAAgAAAAIAAAACAAAAAgAAAAIAAAACAAAAAgAAAAIAAAACAAAAAgAAAAIAAAACAAAAAgAAAAIAAAACAAAAAgAAAAIAAAACAAAAAgAAAAIAAAACAAAAAgAAAAIAAAACAAAAAgAAAAIAAAACAAAAAgAAAAIAAAACAAAAAgAAAAIAAAACAAAAAgAAAAIAAAACAAAAAgAAAAIAAAACAAAAAgAAAAIAAAACAAAAAgAAAAIAAAACAAAAAgAAAAIAAAACAAAAAgAAAAIAAAACAAAAAgAAAAIAAAACAAAAAgAAAAIAAAACAAAAAgAAAAIAAAACAAAAAgAAAAIAAAACAAAAAgAAAAIAAAACAAAAAgAAAAIAAAACAAAAAgAAAAIAAAACAAAAAgAAAAIAAAACAAAAAgAAAAIAAAACAAAAAgAAAAIAAAACAAAAAgAAAAIAAAACAAAAAgAAAAIAAAACAAAAAgAAAAIAAAACAAAAAgAAAAIAAAACAAAAAgAAAAIAAAACAAAAAgAAAAIAAAACAAAAAgAAAAIAAAACAAAAAgAAAAIAAAACAAAAAgAAAAIAAAACAAAAAgAAAAIAAAACAAAAAgAAAAIAAAACAAAAAgAAAAIAAAACAAAAAgAAAAIAAAACAAAAAgAAAAIAAAACAAAAAgAAAAIAAAACAAAAAgAAAAIAAAACAAAAAgAAAAIAAAACAAAAAgAAAAIAAAACAAAAAgAAAAIAAAACAAAAAgAAAAIAAAACAAAAAgAAAAIAAAACAAAAAgAAAAIAAAACAAAAAgAAAAIAAAACAAAAAgAAAAIAAAACAAAAAgAAAAIAAAACAAAAAgAAAAIAAAACAAAAAgAAAAIAAAACAAAAAgAAAAIAAAACAAAAAgAAAAIAAAACAAAAAgAAAAIAAAACAAAAAgAAAAIAAAACAAAAAgAAAAIAAAACAAAAAgAAAAIAAAACAAAAAgAAAAIAAAACAAAAAgAAAAIAAAACAAAAAgAAAAIAAAACAAAAAgAAAAIAAAACAAAAAgAAAAIAAAACAAAAAgAAAAIAAAACAAAAAgAAAAIAAAACAAAAAgAAAAIAAAACAAAAAgAAAAIAAAACAAAAAgAAAAIAAAACAAAAAgAAAAIAAAACAAAAAgAAAAIAAAACAAAAAgAAAAIAAAACAAAAAgAAAAIAAAACAAAAAgAAAAIAAAACAAAAAgAAAAIAAAACAAAAAgAAAAIAAAACAAAAAgAAAAIAAAACAAAAAgAAAAIAAAACAAAAAgAAAAIAAAACAAAAAgAAAAIAAAACAAAAAgAAAAIAAAACAAAAAgAAAAIAAAACAAAAAgAAAAIAAAACAAAAAgAAAAIAAAACAAAAAgAAAAIAAAACAAAAAgAAAAIAAAACAAAAAgAAAAIAAAACAAAAAgAAAAIAAAACAAAAAgAAAAIAAAACAAAAAgAAAAIAAAACAAAAAgAAAAIAAAACAAAAAgAAAAIAAAACAAAAAgAAAAIAAAACAAAAAgAAAAIAAAACAAAAAgAAAAIAAAACAAAAAgAAAAIAAAACAAAAAgAAAAIAAAACAAAAAgAAAAIAAAACAAAAAgAAAAIAAAACAAAAAgAAAAIAAAACAAAAAgAAAAIAAAACAAAAAgAAAAIAAAACAAAAAgAAAAIAAAACAAAAAgAAAAIAAAACAAAAAgAAAAIAAAACAAAAAgAAAAIAAAACAAAAAgAAAAIAAAACAAAAAgAAAAIAAAACAAAAAgAAAAIAAAACAAAAAgAAAAIAAAACAAAAAgAAAAIAAAACAAAAAgAAAAIAAAACAAAAAgAAAAIAAAACAAAAAgAAAAIAAAACAAAAAgAAAAIAAAACAAAAAgAAAAIAAAACAAAAAgAAAAIAAAACAAAAAgAAAAIAAAACAAAAAgAAAAIAAAACAAAAAgAAAAIAAAACAAAAAgAAAAIAAAACAAAAAgAAAAIAAAACAAAAAgAAAAIAAAACAAAAAgAAAAIAAAACAAAAAgAAAAIAAAACAAAAAgAAAAIAAAACAAAAAgAAAAIAAAACAAAAAgAAAAIAAAACAAAAAgAAAAIAAAACAAAAAgAAAAIAAAACAAAAAgAAAAIAAAACAAAAAgAAAAIAAAACAAAAAgAAAAIAAAACAAAAAgAAAAIAAAACAAAAAgAAAAIAAAACAAAAAgAAAAIAAAACAAAAAgAAAAIAAAACAAAAAgAAAAIAAAACAAAAAgAAAAIAAAACAAAAAgAAAAIAAAACAAAAAgAAAAIAAAACAAAAAgAAAAIAAAACAAAAAgAAAAIAAAACAAAAAgAAAAIAAAACAAAAAgAAAAIAAAACAAAAAgAAAAIAAAACAAAAAgAAAAIAAAACAAAAAgAAAAIAAAACAAAAAgAAAAIAAAACAAAAAgAAAAIAAAACAAAAAgAAAAIAAAACAAAAAgAAAAIAAAACAAAAAgAAAAIAAAACAAAAAgAAAAIAAAACAAAAAgAAAAIAAAACAAAAAgAAAAIAAAACAAAAAgAAAAIAAAACAAAAAgAAAAIAAAACAAAAAgAAAAIAAAACAAAAAgAAAAIAAAACAAAAAgAAAAIAAAACAAAAAgAAAAIAAAACAAAAAgAAAAIAAAACAAAAAgAAAAIAAAACAAAAAgAAAAIAAAACAAAAAgAAAAIAAAACAAAAAgAAAAIAAAACAAAAAgAAAAIAAAACAAAAAgAAAAIAAAACAAAAAgAAAAIAAAACAAAAAgAAAAIAAAACAAAAAgAAAAIAAAACAAAAAgAAAAIAAAACAAAAAgAAAAIAAAACAAAAAgAAAAIAAAACAAAAAgAAAAIAAAACAAAAAgAAAAIAAAACAAAAAgAAAAIAAAACAAAAAgAAAAIAAAACAAAAAgAAAAIAAAACAAAAAgAAAAIAAAACAAAAAgAAAAIAAAACAAAAAgAAAAIAAAACAAAAAgAAAAIAAAACAAAAAgAAAAIAAAACAAAAAgAAAAIAAAACAAAAAgAAAAIAAAACAAAAAgAAAAIAAAACAAAAAgAAAAIAAAACAAAAAgAAAAIAAAACAAAAAgAAAAIAAAACAAAAAgAAAAIAAAACAAAAAgAAAAIAAAACAAAAAgAAAAIAAAACAAAAAgAAAAIAAAACAAAAAgAAAAIAAAACAAAAAgAAAAIAAAACAAAAAgAAAAIAAAACAAAAAgAAAAIAAAACAAAAAgAAAAIAAAACAAAAAgAAAAIAAAACAAAAAgAAAAIAAAACAAAAAgAAAAIAAAACAAAAAgAAAAIAAAACAAAAAgAAAAIAAAACAAAAAgAAAAIAAAACAAAAAgAAAAIAAAACAAAAAgAAAAIAAAACAAAAAgAAAAIAAAACAAAAAgAAAAIAAAACAAAAAgAAAAIAAAACAAAAAgAAAAIAAAACAAAAAgAAAAIAAAACAAAAAgAAAAIAAAACAAAAAgAAAAIAAAACAAAAAgAAAAIAAAACAAAAAgAAAAIAAAACAAAAAgAAAAIAAAACAAAAAgAAAAIAAAACAAAAAgAAAAIAAAACAAAAAgAAAAIAAAACAAAAAgAAAAIAAAACAAAAAgAAAAIAAAACAAAAAgAAAAIAAAACAAAAAgAAAAIAAAACAAAAAgAAAAIAAAACAAAAAgAAAAIAAAACAAAAAgAAAAIAAAACAAAAAgAAAAIAAAACAAAAAgAAAAIAAAACAAAAAgAAAAIAAAACAAAAAgAAAAIAAAACAAAAAgAAAAIAAAACAAAAAgAAAAIAAAACAAAAAgAAAAIAAAACAAAAAgAAAAIAAAACAAAAAgAAAAIAAAACAAAAAgAAAAIAAAACAAAAAgAAAAIAAAACAAAAAgAAAAIAAAACAAAAAgAAAAIAAAACAAAAAgAAAAIAAAACAAAAAgAAAAIAAAACAAAAAgAAAAIAAAACAAAAAgAAAAIAAAACAAAAAgAAAAIAAAACAAAAAgAAAAIAAAACAAAAAgAAAAIAAAACAAAAAgAAAAIAAAACAAAAAgAAAAIAAAACAAAAAgAAAAIAAAACAAAAAgAAAAIAAAACAAAAAgAAAAIAAAACAAAAAgAAAAIAAAACAAAAAgAAAAIAAAACAAAAAgAAAAIAAAACAAAAAgAAAAIAAAACAAAAAgAAAAIAAAACAAAAAgAAAAIAAAACAAAAAgAAAAIAAAACAAAAAgAAAAIAAAACAAAAAgAAAAIAAAACAAAAAgAAAAIAAAACAAAAAgAAAAIAAAACAAAAAgAAAAIAAAACAAAAAgAAAAIAAAACAAAAAgAAAAIAAAACAAAAAgAAAAIAAAACAAAAAgAAAAIAAAACAAAAAgAAAAIAAAACAAAAAgAAAAIAAAACAAAAAgAAAAIAAAACAAAAAgAAAAIAAAACAAAAAgAAAAIAAAACAAAAAgAAAAIAAAACAAAAAgAAAAIAAAACAAAAAgAAAAIAAAACAAAAAgAAAAIAAAACAAAAAgAAAAIAAAACAAAAAgAAAAIAAAACAAAAAgAAAAIAAAACAAAAAgAAAAIAAAACAAAAAgAAAAIAAAACAAAAAgAAAAIAAAACAAAAAgAAAAIAAAACAAAAAgAAAAIAAAACAAAAAgAAAAIAAAACAAAAAgAAAAIAAAACAAAAAgAAAAIAAAACAAAAAgAAAAIAAAACAAAAAgAAAAIAAAACAAAAAgAAAAIAAAACAAAAAgAAAAIAAAACAAAAAgAAAAIAAAACAAAAAgAAAAIAAAACAAAAAgAAAAIAAAACAAAAAgAAAAIAAAACAAAAAgAAAAIAAAACAAAAAgAAAAIAAAACAAAAAgAAAAIAAAACAAAAAgAAAAIAAAACAAAAAgAAAAIAAAACAAAAAgAAAAIAAAACAAAAAgAAAAIAAAACAAAAAgAAAAIAAAACAAAAAgAAAAIAAAACAAAAAgAAAAIAAAACAAAAAgAAAAIAAAACAAAAAgAAAAIAAAACAAAAAgAAAAIAAAACAAAAAgAAAAIAAAACAAAAAgAAAAIAAAACAAAAAgAAAAIAAAACAAAAAgAAAAIAAAACAAAAAgAAAAIAAAACAAAAAgAAAAIAAAACAAAAAgAAAAIAAAACAAAAAgAAAAIAAAACAAAAAgAAAAIAAAACAAAAAgAAAAIAAAACAAAAAgAAAAIAAAACAAAAAgAAAAIAAAACAAAAAgAAAAIAAAACAAAAAgAAAAIAAAACAAAAAgAAAAIAAAACAAAAAgAAAAIAAAACAAAAAgAAAAIAAAACAAAAAgAAAAIAAAACAAAAAgAAAAIAAAACAAAAAgAAAAIAAAACAAAAAgAAAAIAAAACAAAAAgAAAAIAAAACAAAAAgAAAAIAAAACAAAAAgAAAAIAAAACAAAAAgAAAAIAAAACAAAAAgAAAAIAAAACAAAAAgAAAAIAAAACAAAAAgAAAAIAAAACAAAAAgAAAAIAAAACAAAAAgAAAAIAAPoBAAAAAgAAAAIAAAACAAAAAgAAAAIAAAACAAAAAgAAAAIAAAACAAAAAgAAAAIAAAACAAAAAgAAAAIAAAACAAAAAgAAAAIAAAACAAAAAgAAAAIAAAACAAAAAgAAAAIAAAACAAAAAgAAAAIAAAACAAAAAgAAAAIAAAACAAAAAgAAAAIAAAACAAAAAgAAAAIAAAACAAAAAgAAAAIAAAACAAAAAgAAAAIAAAACAAAAAgAAAAIAAAACAAAAAgAAAAIAAAACAAAAAgAAAAIAAAACAAAAAgAAAAIAAAACAAAAAgAAAAIAAAACAAAAAgAAAAIAAAACAAAAAgAAAAIAAAACAAAAAgAAAAIAAAACAAAAAgAAAAIAAAACAAAAAgAAAAIAAAACAAAAAgAAAAIAAAACAAAAAgAAAAIAAAACAAAAAgAAAAIAAAACAAAAAgAAAAIAAAACAAAAAgAAAAIAAAACAAAAAgAAAAIAAAACAAAAAgAAAAIAAAACAAAAAgAAAAIAAAACAAAAAgAAAAIAAAACAAAAAgAAAAIAAAACAAAAAgAAAAIAAAACAAAAAgAAAAIAAAACAAAAAgAAAAIAAAACAAAAAgAAAAIAAAACAAAAAgAAAAIAAAACAAAAAgAAAAIAAAACAAAAAgAAAAIAAAACAAAAAgAAAAIAAAACAAAAAgAAAAIAAAACAAAAAgAAAAIAAAACAAAAAgAAAAIAAAACAAAAAgAAAAIAAAACAAAAAgAAAAIAAAACAAAAAgAAAAIAAA==",
          "dtype": "i4"
         },
         "yaxis": "y"
        }
       ],
       "layout": {
        "height": 400,
        "hovermode": "closest",
        "legend": {
         "tracegroupgap": 0
        },
        "showlegend": false,
        "template": {
         "data": {
          "bar": [
           {
            "error_x": {
             "color": "#2a3f5f"
            },
            "error_y": {
             "color": "#2a3f5f"
            },
            "marker": {
             "line": {
              "color": "#E5ECF6",
              "width": 0.5
             },
             "pattern": {
              "fillmode": "overlay",
              "size": 10,
              "solidity": 0.2
             }
            },
            "type": "bar"
           }
          ],
          "barpolar": [
           {
            "marker": {
             "line": {
              "color": "#E5ECF6",
              "width": 0.5
             },
             "pattern": {
              "fillmode": "overlay",
              "size": 10,
              "solidity": 0.2
             }
            },
            "type": "barpolar"
           }
          ],
          "carpet": [
           {
            "aaxis": {
             "endlinecolor": "#2a3f5f",
             "gridcolor": "white",
             "linecolor": "white",
             "minorgridcolor": "white",
             "startlinecolor": "#2a3f5f"
            },
            "baxis": {
             "endlinecolor": "#2a3f5f",
             "gridcolor": "white",
             "linecolor": "white",
             "minorgridcolor": "white",
             "startlinecolor": "#2a3f5f"
            },
            "type": "carpet"
           }
          ],
          "choropleth": [
           {
            "colorbar": {
             "outlinewidth": 0,
             "ticks": ""
            },
            "type": "choropleth"
           }
          ],
          "contour": [
           {
            "colorbar": {
             "outlinewidth": 0,
             "ticks": ""
            },
            "colorscale": [
             [
              0,
              "#0d0887"
             ],
             [
              0.1111111111111111,
              "#46039f"
             ],
             [
              0.2222222222222222,
              "#7201a8"
             ],
             [
              0.3333333333333333,
              "#9c179e"
             ],
             [
              0.4444444444444444,
              "#bd3786"
             ],
             [
              0.5555555555555556,
              "#d8576b"
             ],
             [
              0.6666666666666666,
              "#ed7953"
             ],
             [
              0.7777777777777778,
              "#fb9f3a"
             ],
             [
              0.8888888888888888,
              "#fdca26"
             ],
             [
              1,
              "#f0f921"
             ]
            ],
            "type": "contour"
           }
          ],
          "contourcarpet": [
           {
            "colorbar": {
             "outlinewidth": 0,
             "ticks": ""
            },
            "type": "contourcarpet"
           }
          ],
          "heatmap": [
           {
            "colorbar": {
             "outlinewidth": 0,
             "ticks": ""
            },
            "colorscale": [
             [
              0,
              "#0d0887"
             ],
             [
              0.1111111111111111,
              "#46039f"
             ],
             [
              0.2222222222222222,
              "#7201a8"
             ],
             [
              0.3333333333333333,
              "#9c179e"
             ],
             [
              0.4444444444444444,
              "#bd3786"
             ],
             [
              0.5555555555555556,
              "#d8576b"
             ],
             [
              0.6666666666666666,
              "#ed7953"
             ],
             [
              0.7777777777777778,
              "#fb9f3a"
             ],
             [
              0.8888888888888888,
              "#fdca26"
             ],
             [
              1,
              "#f0f921"
             ]
            ],
            "type": "heatmap"
           }
          ],
          "histogram": [
           {
            "marker": {
             "pattern": {
              "fillmode": "overlay",
              "size": 10,
              "solidity": 0.2
             }
            },
            "type": "histogram"
           }
          ],
          "histogram2d": [
           {
            "colorbar": {
             "outlinewidth": 0,
             "ticks": ""
            },
            "colorscale": [
             [
              0,
              "#0d0887"
             ],
             [
              0.1111111111111111,
              "#46039f"
             ],
             [
              0.2222222222222222,
              "#7201a8"
             ],
             [
              0.3333333333333333,
              "#9c179e"
             ],
             [
              0.4444444444444444,
              "#bd3786"
             ],
             [
              0.5555555555555556,
              "#d8576b"
             ],
             [
              0.6666666666666666,
              "#ed7953"
             ],
             [
              0.7777777777777778,
              "#fb9f3a"
             ],
             [
              0.8888888888888888,
              "#fdca26"
             ],
             [
              1,
              "#f0f921"
             ]
            ],
            "type": "histogram2d"
           }
          ],
          "histogram2dcontour": [
           {
            "colorbar": {
             "outlinewidth": 0,
             "ticks": ""
            },
            "colorscale": [
             [
              0,
              "#0d0887"
             ],
             [
              0.1111111111111111,
              "#46039f"
             ],
             [
              0.2222222222222222,
              "#7201a8"
             ],
             [
              0.3333333333333333,
              "#9c179e"
             ],
             [
              0.4444444444444444,
              "#bd3786"
             ],
             [
              0.5555555555555556,
              "#d8576b"
             ],
             [
              0.6666666666666666,
              "#ed7953"
             ],
             [
              0.7777777777777778,
              "#fb9f3a"
             ],
             [
              0.8888888888888888,
              "#fdca26"
             ],
             [
              1,
              "#f0f921"
             ]
            ],
            "type": "histogram2dcontour"
           }
          ],
          "mesh3d": [
           {
            "colorbar": {
             "outlinewidth": 0,
             "ticks": ""
            },
            "type": "mesh3d"
           }
          ],
          "parcoords": [
           {
            "line": {
             "colorbar": {
              "outlinewidth": 0,
              "ticks": ""
             }
            },
            "type": "parcoords"
           }
          ],
          "pie": [
           {
            "automargin": true,
            "type": "pie"
           }
          ],
          "scatter": [
           {
            "fillpattern": {
             "fillmode": "overlay",
             "size": 10,
             "solidity": 0.2
            },
            "type": "scatter"
           }
          ],
          "scatter3d": [
           {
            "line": {
             "colorbar": {
              "outlinewidth": 0,
              "ticks": ""
             }
            },
            "marker": {
             "colorbar": {
              "outlinewidth": 0,
              "ticks": ""
             }
            },
            "type": "scatter3d"
           }
          ],
          "scattercarpet": [
           {
            "marker": {
             "colorbar": {
              "outlinewidth": 0,
              "ticks": ""
             }
            },
            "type": "scattercarpet"
           }
          ],
          "scattergeo": [
           {
            "marker": {
             "colorbar": {
              "outlinewidth": 0,
              "ticks": ""
             }
            },
            "type": "scattergeo"
           }
          ],
          "scattergl": [
           {
            "marker": {
             "colorbar": {
              "outlinewidth": 0,
              "ticks": ""
             }
            },
            "type": "scattergl"
           }
          ],
          "scattermap": [
           {
            "marker": {
             "colorbar": {
              "outlinewidth": 0,
              "ticks": ""
             }
            },
            "type": "scattermap"
           }
          ],
          "scattermapbox": [
           {
            "marker": {
             "colorbar": {
              "outlinewidth": 0,
              "ticks": ""
             }
            },
            "type": "scattermapbox"
           }
          ],
          "scatterpolar": [
           {
            "marker": {
             "colorbar": {
              "outlinewidth": 0,
              "ticks": ""
             }
            },
            "type": "scatterpolar"
           }
          ],
          "scatterpolargl": [
           {
            "marker": {
             "colorbar": {
              "outlinewidth": 0,
              "ticks": ""
             }
            },
            "type": "scatterpolargl"
           }
          ],
          "scatterternary": [
           {
            "marker": {
             "colorbar": {
              "outlinewidth": 0,
              "ticks": ""
             }
            },
            "type": "scatterternary"
           }
          ],
          "surface": [
           {
            "colorbar": {
             "outlinewidth": 0,
             "ticks": ""
            },
            "colorscale": [
             [
              0,
              "#0d0887"
             ],
             [
              0.1111111111111111,
              "#46039f"
             ],
             [
              0.2222222222222222,
              "#7201a8"
             ],
             [
              0.3333333333333333,
              "#9c179e"
             ],
             [
              0.4444444444444444,
              "#bd3786"
             ],
             [
              0.5555555555555556,
              "#d8576b"
             ],
             [
              0.6666666666666666,
              "#ed7953"
             ],
             [
              0.7777777777777778,
              "#fb9f3a"
             ],
             [
              0.8888888888888888,
              "#fdca26"
             ],
             [
              1,
              "#f0f921"
             ]
            ],
            "type": "surface"
           }
          ],
          "table": [
           {
            "cells": {
             "fill": {
              "color": "#EBF0F8"
             },
             "line": {
              "color": "white"
             }
            },
            "header": {
             "fill": {
              "color": "#C8D4E3"
             },
             "line": {
              "color": "white"
             }
            },
            "type": "table"
           }
          ]
         },
         "layout": {
          "annotationdefaults": {
           "arrowcolor": "#2a3f5f",
           "arrowhead": 0,
           "arrowwidth": 1
          },
          "autotypenumbers": "strict",
          "coloraxis": {
           "colorbar": {
            "outlinewidth": 0,
            "ticks": ""
           }
          },
          "colorscale": {
           "diverging": [
            [
             0,
             "#8e0152"
            ],
            [
             0.1,
             "#c51b7d"
            ],
            [
             0.2,
             "#de77ae"
            ],
            [
             0.3,
             "#f1b6da"
            ],
            [
             0.4,
             "#fde0ef"
            ],
            [
             0.5,
             "#f7f7f7"
            ],
            [
             0.6,
             "#e6f5d0"
            ],
            [
             0.7,
             "#b8e186"
            ],
            [
             0.8,
             "#7fbc41"
            ],
            [
             0.9,
             "#4d9221"
            ],
            [
             1,
             "#276419"
            ]
           ],
           "sequential": [
            [
             0,
             "#0d0887"
            ],
            [
             0.1111111111111111,
             "#46039f"
            ],
            [
             0.2222222222222222,
             "#7201a8"
            ],
            [
             0.3333333333333333,
             "#9c179e"
            ],
            [
             0.4444444444444444,
             "#bd3786"
            ],
            [
             0.5555555555555556,
             "#d8576b"
            ],
            [
             0.6666666666666666,
             "#ed7953"
            ],
            [
             0.7777777777777778,
             "#fb9f3a"
            ],
            [
             0.8888888888888888,
             "#fdca26"
            ],
            [
             1,
             "#f0f921"
            ]
           ],
           "sequentialminus": [
            [
             0,
             "#0d0887"
            ],
            [
             0.1111111111111111,
             "#46039f"
            ],
            [
             0.2222222222222222,
             "#7201a8"
            ],
            [
             0.3333333333333333,
             "#9c179e"
            ],
            [
             0.4444444444444444,
             "#bd3786"
            ],
            [
             0.5555555555555556,
             "#d8576b"
            ],
            [
             0.6666666666666666,
             "#ed7953"
            ],
            [
             0.7777777777777778,
             "#fb9f3a"
            ],
            [
             0.8888888888888888,
             "#fdca26"
            ],
            [
             1,
             "#f0f921"
            ]
           ]
          },
          "colorway": [
           "#636efa",
           "#EF553B",
           "#00cc96",
           "#ab63fa",
           "#FFA15A",
           "#19d3f3",
           "#FF6692",
           "#B6E880",
           "#FF97FF",
           "#FECB52"
          ],
          "font": {
           "color": "#2a3f5f"
          },
          "geo": {
           "bgcolor": "white",
           "lakecolor": "white",
           "landcolor": "#E5ECF6",
           "showlakes": true,
           "showland": true,
           "subunitcolor": "white"
          },
          "hoverlabel": {
           "align": "left"
          },
          "hovermode": "closest",
          "mapbox": {
           "style": "light"
          },
          "paper_bgcolor": "white",
          "plot_bgcolor": "#E5ECF6",
          "polar": {
           "angularaxis": {
            "gridcolor": "white",
            "linecolor": "white",
            "ticks": ""
           },
           "bgcolor": "#E5ECF6",
           "radialaxis": {
            "gridcolor": "white",
            "linecolor": "white",
            "ticks": ""
           }
          },
          "scene": {
           "xaxis": {
            "backgroundcolor": "#E5ECF6",
            "gridcolor": "white",
            "gridwidth": 2,
            "linecolor": "white",
            "showbackground": true,
            "ticks": "",
            "zerolinecolor": "white"
           },
           "yaxis": {
            "backgroundcolor": "#E5ECF6",
            "gridcolor": "white",
            "gridwidth": 2,
            "linecolor": "white",
            "showbackground": true,
            "ticks": "",
            "zerolinecolor": "white"
           },
           "zaxis": {
            "backgroundcolor": "#E5ECF6",
            "gridcolor": "white",
            "gridwidth": 2,
            "linecolor": "white",
            "showbackground": true,
            "ticks": "",
            "zerolinecolor": "white"
           }
          },
          "shapedefaults": {
           "line": {
            "color": "#2a3f5f"
           }
          },
          "ternary": {
           "aaxis": {
            "gridcolor": "white",
            "linecolor": "white",
            "ticks": ""
           },
           "baxis": {
            "gridcolor": "white",
            "linecolor": "white",
            "ticks": ""
           },
           "bgcolor": "#E5ECF6",
           "caxis": {
            "gridcolor": "white",
            "linecolor": "white",
            "ticks": ""
           }
          },
          "title": {
           "x": 0.05
          },
          "xaxis": {
           "automargin": true,
           "gridcolor": "white",
           "linecolor": "white",
           "ticks": "",
           "title": {
            "standoff": 15
           },
           "zerolinecolor": "white",
           "zerolinewidth": 2
          },
          "yaxis": {
           "automargin": true,
           "gridcolor": "white",
           "linecolor": "white",
           "ticks": "",
           "title": {
            "standoff": 15
           },
           "zerolinecolor": "white",
           "zerolinewidth": 2
          }
         }
        },
        "title": {
         "text": "Distribution of Image Resolution"
        },
        "width": 600,
        "xaxis": {
         "anchor": "y",
         "autorange": true,
         "domain": [
          0,
          1
         ],
         "range": [
          319.0032175032175,
          523.9967824967825
         ],
         "title": {
          "text": "Width (Pixel)"
         },
         "type": "linear"
        },
        "yaxis": {
         "anchor": "x",
         "autorange": true,
         "domain": [
          0,
          1
         ],
         "range": [
          505.53543307086613,
          512.4645669291339
         ],
         "title": {
          "text": "Height (Pixel)"
         },
         "type": "linear"
        }
       }
      }
     },
     "metadata": {},
     "output_type": "display_data"
    }
   ],
   "source": [
    "fig = px.scatter(x = resolutions[:,0],\n",
    "                 y = resolutions[:,1], \n",
    "                 title = \"Distribution of Image Resolution\", height= 400, width= 600)\n",
    "fig.update_layout(\n",
    "    xaxis_title = \"Width (Pixel)\",\n",
    "    yaxis_title = \"Height (Pixel)\",\n",
    "    showlegend = False,\n",
    "    hovermode = \"closest\"\n",
    ")\n",
    "fig.update_traces(marker = dict(color=\"red\"))\n",
    "fig.show()"
   ]
  },
  {
   "cell_type": "markdown",
   "id": "26bb6289-f772-4c42-9346-9a2c80ac4b68",
   "metadata": {},
   "source": [
    "### Mean Color Distributins "
   ]
  },
  {
   "cell_type": "code",
   "execution_count": 11,
   "id": "ba301bc9-730d-4976-95f3-8c25760ec900",
   "metadata": {},
   "outputs": [
    {
     "data": {
      "application/vnd.plotly.v1+json": {
       "config": {
        "plotlyServerURL": "https://plot.ly"
       },
       "data": [
        {
         "name": "Mean Color Distributions",
         "type": "bar",
         "x": {
          "_inputArray": {
           "0": 0,
           "1": 1,
           "10": 10,
           "100": 100,
           "101": 101,
           "102": 102,
           "103": 103,
           "104": 104,
           "105": 105,
           "106": 106,
           "107": 107,
           "108": 108,
           "109": 109,
           "11": 11,
           "110": 110,
           "111": 111,
           "112": 112,
           "113": 113,
           "114": 114,
           "115": 115,
           "116": 116,
           "117": 117,
           "118": 118,
           "119": 119,
           "12": 12,
           "120": 120,
           "121": 121,
           "122": 122,
           "123": 123,
           "124": 124,
           "125": 125,
           "126": 126,
           "127": 127,
           "128": 128,
           "129": 129,
           "13": 13,
           "130": 130,
           "131": 131,
           "132": 132,
           "133": 133,
           "134": 134,
           "135": 135,
           "136": 136,
           "137": 137,
           "138": 138,
           "139": 139,
           "14": 14,
           "140": 140,
           "141": 141,
           "142": 142,
           "143": 143,
           "144": 144,
           "145": 145,
           "146": 146,
           "147": 147,
           "148": 148,
           "149": 149,
           "15": 15,
           "150": 150,
           "151": 151,
           "152": 152,
           "153": 153,
           "154": 154,
           "155": 155,
           "156": 156,
           "157": 157,
           "158": 158,
           "159": 159,
           "16": 16,
           "160": 160,
           "161": 161,
           "162": 162,
           "163": 163,
           "164": 164,
           "165": 165,
           "166": 166,
           "167": 167,
           "168": 168,
           "169": 169,
           "17": 17,
           "170": 170,
           "171": 171,
           "172": 172,
           "173": 173,
           "174": 174,
           "175": 175,
           "176": 176,
           "177": 177,
           "178": 178,
           "179": 179,
           "18": 18,
           "180": 180,
           "181": 181,
           "182": 182,
           "183": 183,
           "184": 184,
           "185": 185,
           "186": 186,
           "187": 187,
           "188": 188,
           "189": 189,
           "19": 19,
           "190": 190,
           "191": 191,
           "192": 192,
           "193": 193,
           "194": 194,
           "195": 195,
           "196": 196,
           "197": 197,
           "198": 198,
           "199": 199,
           "2": 2,
           "20": 20,
           "200": 200,
           "201": 201,
           "202": 202,
           "203": 203,
           "204": 204,
           "205": 205,
           "206": 206,
           "207": 207,
           "208": 208,
           "209": 209,
           "21": 21,
           "210": 210,
           "211": 211,
           "212": 212,
           "213": 213,
           "214": 214,
           "215": 215,
           "216": 216,
           "217": 217,
           "218": 218,
           "219": 219,
           "22": 22,
           "220": 220,
           "221": 221,
           "222": 222,
           "223": 223,
           "224": 224,
           "225": 225,
           "226": 226,
           "227": 227,
           "228": 228,
           "229": 229,
           "23": 23,
           "230": 230,
           "231": 231,
           "232": 232,
           "233": 233,
           "234": 234,
           "235": 235,
           "236": 236,
           "237": 237,
           "238": 238,
           "239": 239,
           "24": 24,
           "240": 240,
           "241": 241,
           "242": 242,
           "243": 243,
           "244": 244,
           "245": 245,
           "246": 246,
           "247": 247,
           "248": 248,
           "249": 249,
           "25": 25,
           "250": 250,
           "251": 251,
           "252": 252,
           "253": 253,
           "254": 254,
           "255": 255,
           "26": 26,
           "27": 27,
           "28": 28,
           "29": 29,
           "3": 3,
           "30": 30,
           "31": 31,
           "32": 32,
           "33": 33,
           "34": 34,
           "35": 35,
           "36": 36,
           "37": 37,
           "38": 38,
           "39": 39,
           "4": 4,
           "40": 40,
           "41": 41,
           "42": 42,
           "43": 43,
           "44": 44,
           "45": 45,
           "46": 46,
           "47": 47,
           "48": 48,
           "49": 49,
           "5": 5,
           "50": 50,
           "51": 51,
           "52": 52,
           "53": 53,
           "54": 54,
           "55": 55,
           "56": 56,
           "57": 57,
           "58": 58,
           "59": 59,
           "6": 6,
           "60": 60,
           "61": 61,
           "62": 62,
           "63": 63,
           "64": 64,
           "65": 65,
           "66": 66,
           "67": 67,
           "68": 68,
           "69": 69,
           "7": 7,
           "70": 70,
           "71": 71,
           "72": 72,
           "73": 73,
           "74": 74,
           "75": 75,
           "76": 76,
           "77": 77,
           "78": 78,
           "79": 79,
           "8": 8,
           "80": 80,
           "81": 81,
           "82": 82,
           "83": 83,
           "84": 84,
           "85": 85,
           "86": 86,
           "87": 87,
           "88": 88,
           "89": 89,
           "9": 9,
           "90": 90,
           "91": 91,
           "92": 92,
           "93": 93,
           "94": 94,
           "95": 95,
           "96": 96,
           "97": 97,
           "98": 98,
           "99": 99,
           "bdata": "AAAAAAEAAAACAAAAAwAAAAQAAAAFAAAABgAAAAcAAAAIAAAACQAAAAoAAAALAAAADAAAAA0AAAAOAAAADwAAABAAAAARAAAAEgAAABMAAAAUAAAAFQAAABYAAAAXAAAAGAAAABkAAAAaAAAAGwAAABwAAAAdAAAAHgAAAB8AAAAgAAAAIQAAACIAAAAjAAAAJAAAACUAAAAmAAAAJwAAACgAAAApAAAAKgAAACsAAAAsAAAALQAAAC4AAAAvAAAAMAAAADEAAAAyAAAAMwAAADQAAAA1AAAANgAAADcAAAA4AAAAOQAAADoAAAA7AAAAPAAAAD0AAAA+AAAAPwAAAEAAAABBAAAAQgAAAEMAAABEAAAARQAAAEYAAABHAAAASAAAAEkAAABKAAAASwAAAEwAAABNAAAATgAAAE8AAABQAAAAUQAAAFIAAABTAAAAVAAAAFUAAABWAAAAVwAAAFgAAABZAAAAWgAAAFsAAABcAAAAXQAAAF4AAABfAAAAYAAAAGEAAABiAAAAYwAAAGQAAABlAAAAZgAAAGcAAABoAAAAaQAAAGoAAABrAAAAbAAAAG0AAABuAAAAbwAAAHAAAABxAAAAcgAAAHMAAAB0AAAAdQAAAHYAAAB3AAAAeAAAAHkAAAB6AAAAewAAAHwAAAB9AAAAfgAAAH8AAACAAAAAgQAAAIIAAACDAAAAhAAAAIUAAACGAAAAhwAAAIgAAACJAAAAigAAAIsAAACMAAAAjQAAAI4AAACPAAAAkAAAAJEAAACSAAAAkwAAAJQAAACVAAAAlgAAAJcAAACYAAAAmQAAAJoAAACbAAAAnAAAAJ0AAACeAAAAnwAAAKAAAAChAAAAogAAAKMAAACkAAAApQAAAKYAAACnAAAAqAAAAKkAAACqAAAAqwAAAKwAAACtAAAArgAAAK8AAACwAAAAsQAAALIAAACzAAAAtAAAALUAAAC2AAAAtwAAALgAAAC5AAAAugAAALsAAAC8AAAAvQAAAL4AAAC/AAAAwAAAAMEAAADCAAAAwwAAAMQAAADFAAAAxgAAAMcAAADIAAAAyQAAAMoAAADLAAAAzAAAAM0AAADOAAAAzwAAANAAAADRAAAA0gAAANMAAADUAAAA1QAAANYAAADXAAAA2AAAANkAAADaAAAA2wAAANwAAADdAAAA3gAAAN8AAADgAAAA4QAAAOIAAADjAAAA5AAAAOUAAADmAAAA5wAAAOgAAADpAAAA6gAAAOsAAADsAAAA7QAAAO4AAADvAAAA8AAAAPEAAADyAAAA8wAAAPQAAAD1AAAA9gAAAPcAAAD4AAAA+QAAAPoAAAD7AAAA/AAAAP0AAAD+AAAA/wAAAA==",
           "dtype": "i4",
           "shape": "256"
          },
          "bdata": "AAAAAAEAAAACAAAAAwAAAAQAAAAFAAAABgAAAAcAAAAIAAAACQAAAAoAAAALAAAADAAAAA0AAAAOAAAADwAAABAAAAARAAAAEgAAABMAAAAUAAAAFQAAABYAAAAXAAAAGAAAABkAAAAaAAAAGwAAABwAAAAdAAAAHgAAAB8AAAAgAAAAIQAAACIAAAAjAAAAJAAAACUAAAAmAAAAJwAAACgAAAApAAAAKgAAACsAAAAsAAAALQAAAC4AAAAvAAAAMAAAADEAAAAyAAAAMwAAADQAAAA1AAAANgAAADcAAAA4AAAAOQAAADoAAAA7AAAAPAAAAD0AAAA+AAAAPwAAAEAAAABBAAAAQgAAAEMAAABEAAAARQAAAEYAAABHAAAASAAAAEkAAABKAAAASwAAAEwAAABNAAAATgAAAE8AAABQAAAAUQAAAFIAAABTAAAAVAAAAFUAAABWAAAAVwAAAFgAAABZAAAAWgAAAFsAAABcAAAAXQAAAF4AAABfAAAAYAAAAGEAAABiAAAAYwAAAGQAAABlAAAAZgAAAGcAAABoAAAAaQAAAGoAAABrAAAAbAAAAG0AAABuAAAAbwAAAHAAAABxAAAAcgAAAHMAAAB0AAAAdQAAAHYAAAB3AAAAeAAAAHkAAAB6AAAAewAAAHwAAAB9AAAAfgAAAH8AAACAAAAAgQAAAIIAAACDAAAAhAAAAIUAAACGAAAAhwAAAIgAAACJAAAAigAAAIsAAACMAAAAjQAAAI4AAACPAAAAkAAAAJEAAACSAAAAkwAAAJQAAACVAAAAlgAAAJcAAACYAAAAmQAAAJoAAACbAAAAnAAAAJ0AAACeAAAAnwAAAKAAAAChAAAAogAAAKMAAACkAAAApQAAAKYAAACnAAAAqAAAAKkAAACqAAAAqwAAAKwAAACtAAAArgAAAK8AAACwAAAAsQAAALIAAACzAAAAtAAAALUAAAC2AAAAtwAAALgAAAC5AAAAugAAALsAAAC8AAAAvQAAAL4AAAC/AAAAwAAAAMEAAADCAAAAwwAAAMQAAADFAAAAxgAAAMcAAADIAAAAyQAAAMoAAADLAAAAzAAAAM0AAADOAAAAzwAAANAAAADRAAAA0gAAANMAAADUAAAA1QAAANYAAADXAAAA2AAAANkAAADaAAAA2wAAANwAAADdAAAA3gAAAN8AAADgAAAA4QAAAOIAAADjAAAA5AAAAOUAAADmAAAA5wAAAOgAAADpAAAA6gAAAOsAAADsAAAA7QAAAO4AAADvAAAA8AAAAPEAAADyAAAA8wAAAPQAAAD1AAAA9gAAAPcAAAD4AAAA+QAAAPoAAAD7AAAA/AAAAP0AAAD+AAAA/wAAAA==",
          "dtype": "i4"
         },
         "y": {
          "_inputArray": {
           "0": 123155.17951370926,
           "1": 1824.2188308329023,
           "10": 129.21572684945681,
           "100": 1602.8556647697878,
           "101": 1531.5256078634247,
           "102": 1435.1236420072426,
           "103": 1411.8587687532333,
           "104": 1354.90843248836,
           "105": 1304.384376616658,
           "106": 1249.8463528194516,
           "107": 1205.2829798241075,
           "108": 1157.556647697879,
           "109": 1106.7371960682876,
           "11": 103.96120020693223,
           "110": 1041.3481634764614,
           "111": 1024.941024314537,
           "112": 991.6368339368856,
           "113": 952.7480600103466,
           "114": 919.1826176927057,
           "115": 885.0739782721159,
           "116": 853.897568546301,
           "117": 825.3905845835488,
           "118": 798.4205897568546,
           "119": 751.3585100879462,
           "12": 65.33316088980858,
           "120": 743.8080703569581,
           "121": 722.0217278841179,
           "122": 700.8639420589757,
           "123": 680.9513709260217,
           "124": 659.5054319710295,
           "125": 643.6673564407656,
           "126": 620.0563890325918,
           "127": 587.9182617692705,
           "128": 588.3197102948784,
           "129": 573.6632177961718,
           "13": 66.07553026383859,
           "130": 559.9684428349716,
           "131": 544.3605794102432,
           "132": 533.7506466632178,
           "133": 516.7061562338334,
           "134": 507.19141231246766,
           "135": 492.91670977754785,
           "136": 473.5292291774444,
           "137": 471.3404035178479,
           "138": 464.83652353854114,
           "139": 454.7832384893947,
           "14": 68.70046559751681,
           "140": 447.61096740817385,
           "141": 441.2224521469219,
           "142": 432.35644076564927,
           "143": 423.45266425245734,
           "144": 416.7956544231764,
           "145": 397.21210553543716,
           "146": 402.74288670460425,
           "147": 398.4185204345577,
           "148": 393.95137092602175,
           "149": 385.78530781169167,
           "15": 63.15468184169684,
           "150": 379.8530781169167,
           "151": 377.9937920331092,
           "152": 373.7128815312985,
           "153": 354.16140713916195,
           "154": 361.375581996896,
           "155": 364.7392653905846,
           "156": 355.07346094154167,
           "157": 352.80755302638386,
           "158": 352.5809622348681,
           "159": 349.7490946714951,
           "16": 45.76151060527677,
           "160": 347.95292291774444,
           "161": 345.0062079668908,
           "162": 325.41800310398344,
           "163": 335.8473874806001,
           "164": 338.19089498189345,
           "165": 334.8654940506984,
           "166": 335.67770305225037,
           "167": 336.1314019658562,
           "168": 333.43610967408176,
           "169": 334.1174340403518,
           "17": 47.35695809622349,
           "170": 315.8391101914123,
           "171": 332.12778065183653,
           "172": 336.7237454733575,
           "173": 335.48111743404036,
           "174": 337.8375581996896,
           "175": 345.92240041386447,
           "176": 351.8556647697879,
           "177": 359.88722193481635,
           "178": 367.6259699948267,
           "179": 362.456285566477,
           "18": 49.739265390584585,
           "180": 401.0657009829281,
           "181": 425.93067770305225,
           "182": 455.79306777030524,
           "183": 492.11433005690634,
           "184": 535.1965856182101,
           "185": 583.2493533367822,
           "186": 635.3197102948784,
           "187": 634.069839627522,
           "188": 766.2602172788412,
           "189": 841.5778582514226,
           "19": 38.331608898085875,
           "190": 918.8991205380238,
           "191": 999.2219348163477,
           "192": 1075.6078634247283,
           "193": 1146.2917744438696,
           "194": 1214.360062079669,
           "195": 1257.207449560269,
           "196": 1171.3983445421625,
           "197": 1337.2312467666839,
           "198": 1374.8416968442834,
           "199": 1400.316606311433,
           "2": 1612.133471288153,
           "20": 45.06828763579927,
           "200": 1420.5949301603725,
           "201": 1445.6673564407656,
           "202": 1478.0781169167099,
           "203": 1516.663735126746,
           "204": 1443.9089498189344,
           "205": 1623.2834971546818,
           "206": 1706.9311950336264,
           "207": 1792.2741852043455,
           "208": 1902.2912571132954,
           "209": 2015.1567511639937,
           "21": 46.62959130884635,
           "210": 2150.174340403518,
           "211": 2295.4350750129333,
           "212": 2442.956544231764,
           "213": 2465.679772374547,
           "214": 2759.266425245732,
           "215": 2924.618210036213,
           "216": 3073.967408173823,
           "217": 3217.821520951888,
           "218": 3335.3047077082256,
           "219": 3437.75944128298,
           "22": 46.62493533367822,
           "220": 3508.1567511639937,
           "221": 3412.4045525090532,
           "222": 3613.0382824624935,
           "223": 3648.7516813243665,
           "224": 3657.0951888256595,
           "225": 3657.2736678737715,
           "226": 3658.1034661148474,
           "227": 3651.0579410243145,
           "228": 3658.5571650284533,
           "229": 3661.427832384894,
           "23": 35.59648215209519,
           "230": 3612.0739782721157,
           "231": 3724.6621831350235,
           "232": 3777.993274702535,
           "233": 3832.5147439213656,
           "234": 3896.973616140714,
           "235": 3974.382307294361,
           "236": 4057.3750646663216,
           "237": 4136.995344024832,
           "238": 4181.009829280911,
           "239": 4289.86083807553,
           "24": 32.36109674081738,
           "240": 4362.730988101397,
           "241": 4406.19658561821,
           "242": 4440.515778582514,
           "243": 4452.800310398345,
           "244": 4446.266942576306,
           "245": 4426.105535437145,
           "246": 4399.682359027419,
           "247": 4375.720641489912,
           "248": 4427.559751681324,
           "249": 4519.9937920331095,
           "25": 48.39110191412313,
           "250": 4700.65442317641,
           "251": 4979.5106052767715,
           "252": 5340.449560269012,
           "253": 5761.302638385929,
           "254": 6440.102948784273,
           "255": 29971.588204862906,
           "26": 29.004138644593894,
           "27": 30.542679772374548,
           "28": 30.868080703569582,
           "29": 35.30212105535437,
           "3": 1262.133471288153,
           "30": 30.519917227108124,
           "31": 36.06570098292809,
           "32": 49.220900155199175,
           "33": 46.29539575788929,
           "34": 49.54733574754268,
           "35": 55.11743404035178,
           "36": 63.40869115364718,
           "37": 272.91774443869633,
           "38": 19350.912571132954,
           "39": 4318.2674599068805,
           "4": 1004.4386963269529,
           "40": 5503.550957061562,
           "41": 6276.763062597,
           "42": 5637.588722193482,
           "43": 6436.391619244698,
           "44": 6039.736678737713,
           "45": 5431.292291774444,
           "46": 4800.159855147439,
           "47": 4250.519399896534,
           "48": 3858.7356440765648,
           "49": 3656.4599068804964,
           "5": 729.0832902224521,
           "50": 3632.917227108122,
           "51": 3545.153129849974,
           "52": 4219.75581996896,
           "53": 4817.794619762028,
           "54": 5614.364200724262,
           "55": 6609.988618727367,
           "56": 7843.166580444904,
           "57": 9231.799275737196,
           "58": 10714.168649767202,
           "59": 11954.086911536471,
           "6": 496.1541645111226,
           "60": 13207.300051733057,
           "61": 13690.050698396275,
           "62": 13450.42472840145,
           "63": 12640.783755819968,
           "64": 11506.790998448008,
           "65": 10276.054837040869,
           "66": 9119.513191929644,
           "67": 8134.801345059493,
           "68": 7218.949301603725,
           "69": 6722.949818934299,
           "7": 363.97361614071394,
           "70": 6258.157785825142,
           "71": 5946.321262286601,
           "72": 5745.906363166063,
           "73": 5621.541645111226,
           "74": 5561.625969994827,
           "75": 5521.475944128298,
           "76": 5405.5918261769275,
           "77": 5455.103983445421,
           "78": 5378.033109156751,
           "79": 5241.237454733575,
           "8": 243.19244697361614,
           "80": 5055.7459906880495,
           "81": 4833.557165028453,
           "82": 4597.136057941024,
           "83": 4330.743404035178,
           "84": 4057.3631660631145,
           "85": 3717.3766166580444,
           "86": 3529.190377651319,
           "87": 3280.2203828246247,
           "88": 3048.2721158820486,
           "89": 2844.412829798241,
           "9": 159.03414381789963,
           "90": 2654.9182617692704,
           "91": 2490.6337299534403,
           "92": 2347.8836006207966,
           "93": 2168.3704086911534,
           "94": 2104.296947749612,
           "95": 2011.076564924987,
           "96": 1917.7625452664251,
           "97": 1824.1453698913606,
           "98": 1750.6539058458354,
           "99": 1671.5835488877392,
           "bdata": "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",
           "dtype": "f8",
           "shape": "256"
          },
          "bdata": "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",
          "dtype": "f8"
         }
        }
       ],
       "layout": {
        "autosize": true,
        "template": {
         "data": {
          "bar": [
           {
            "error_x": {
             "color": "#2a3f5f"
            },
            "error_y": {
             "color": "#2a3f5f"
            },
            "marker": {
             "line": {
              "color": "#E5ECF6",
              "width": 0.5
             },
             "pattern": {
              "fillmode": "overlay",
              "size": 10,
              "solidity": 0.2
             }
            },
            "type": "bar"
           }
          ],
          "barpolar": [
           {
            "marker": {
             "line": {
              "color": "#E5ECF6",
              "width": 0.5
             },
             "pattern": {
              "fillmode": "overlay",
              "size": 10,
              "solidity": 0.2
             }
            },
            "type": "barpolar"
           }
          ],
          "carpet": [
           {
            "aaxis": {
             "endlinecolor": "#2a3f5f",
             "gridcolor": "white",
             "linecolor": "white",
             "minorgridcolor": "white",
             "startlinecolor": "#2a3f5f"
            },
            "baxis": {
             "endlinecolor": "#2a3f5f",
             "gridcolor": "white",
             "linecolor": "white",
             "minorgridcolor": "white",
             "startlinecolor": "#2a3f5f"
            },
            "type": "carpet"
           }
          ],
          "choropleth": [
           {
            "colorbar": {
             "outlinewidth": 0,
             "ticks": ""
            },
            "type": "choropleth"
           }
          ],
          "contour": [
           {
            "colorbar": {
             "outlinewidth": 0,
             "ticks": ""
            },
            "colorscale": [
             [
              0,
              "#0d0887"
             ],
             [
              0.1111111111111111,
              "#46039f"
             ],
             [
              0.2222222222222222,
              "#7201a8"
             ],
             [
              0.3333333333333333,
              "#9c179e"
             ],
             [
              0.4444444444444444,
              "#bd3786"
             ],
             [
              0.5555555555555556,
              "#d8576b"
             ],
             [
              0.6666666666666666,
              "#ed7953"
             ],
             [
              0.7777777777777778,
              "#fb9f3a"
             ],
             [
              0.8888888888888888,
              "#fdca26"
             ],
             [
              1,
              "#f0f921"
             ]
            ],
            "type": "contour"
           }
          ],
          "contourcarpet": [
           {
            "colorbar": {
             "outlinewidth": 0,
             "ticks": ""
            },
            "type": "contourcarpet"
           }
          ],
          "heatmap": [
           {
            "colorbar": {
             "outlinewidth": 0,
             "ticks": ""
            },
            "colorscale": [
             [
              0,
              "#0d0887"
             ],
             [
              0.1111111111111111,
              "#46039f"
             ],
             [
              0.2222222222222222,
              "#7201a8"
             ],
             [
              0.3333333333333333,
              "#9c179e"
             ],
             [
              0.4444444444444444,
              "#bd3786"
             ],
             [
              0.5555555555555556,
              "#d8576b"
             ],
             [
              0.6666666666666666,
              "#ed7953"
             ],
             [
              0.7777777777777778,
              "#fb9f3a"
             ],
             [
              0.8888888888888888,
              "#fdca26"
             ],
             [
              1,
              "#f0f921"
             ]
            ],
            "type": "heatmap"
           }
          ],
          "histogram": [
           {
            "marker": {
             "pattern": {
              "fillmode": "overlay",
              "size": 10,
              "solidity": 0.2
             }
            },
            "type": "histogram"
           }
          ],
          "histogram2d": [
           {
            "colorbar": {
             "outlinewidth": 0,
             "ticks": ""
            },
            "colorscale": [
             [
              0,
              "#0d0887"
             ],
             [
              0.1111111111111111,
              "#46039f"
             ],
             [
              0.2222222222222222,
              "#7201a8"
             ],
             [
              0.3333333333333333,
              "#9c179e"
             ],
             [
              0.4444444444444444,
              "#bd3786"
             ],
             [
              0.5555555555555556,
              "#d8576b"
             ],
             [
              0.6666666666666666,
              "#ed7953"
             ],
             [
              0.7777777777777778,
              "#fb9f3a"
             ],
             [
              0.8888888888888888,
              "#fdca26"
             ],
             [
              1,
              "#f0f921"
             ]
            ],
            "type": "histogram2d"
           }
          ],
          "histogram2dcontour": [
           {
            "colorbar": {
             "outlinewidth": 0,
             "ticks": ""
            },
            "colorscale": [
             [
              0,
              "#0d0887"
             ],
             [
              0.1111111111111111,
              "#46039f"
             ],
             [
              0.2222222222222222,
              "#7201a8"
             ],
             [
              0.3333333333333333,
              "#9c179e"
             ],
             [
              0.4444444444444444,
              "#bd3786"
             ],
             [
              0.5555555555555556,
              "#d8576b"
             ],
             [
              0.6666666666666666,
              "#ed7953"
             ],
             [
              0.7777777777777778,
              "#fb9f3a"
             ],
             [
              0.8888888888888888,
              "#fdca26"
             ],
             [
              1,
              "#f0f921"
             ]
            ],
            "type": "histogram2dcontour"
           }
          ],
          "mesh3d": [
           {
            "colorbar": {
             "outlinewidth": 0,
             "ticks": ""
            },
            "type": "mesh3d"
           }
          ],
          "parcoords": [
           {
            "line": {
             "colorbar": {
              "outlinewidth": 0,
              "ticks": ""
             }
            },
            "type": "parcoords"
           }
          ],
          "pie": [
           {
            "automargin": true,
            "type": "pie"
           }
          ],
          "scatter": [
           {
            "fillpattern": {
             "fillmode": "overlay",
             "size": 10,
             "solidity": 0.2
            },
            "type": "scatter"
           }
          ],
          "scatter3d": [
           {
            "line": {
             "colorbar": {
              "outlinewidth": 0,
              "ticks": ""
             }
            },
            "marker": {
             "colorbar": {
              "outlinewidth": 0,
              "ticks": ""
             }
            },
            "type": "scatter3d"
           }
          ],
          "scattercarpet": [
           {
            "marker": {
             "colorbar": {
              "outlinewidth": 0,
              "ticks": ""
             }
            },
            "type": "scattercarpet"
           }
          ],
          "scattergeo": [
           {
            "marker": {
             "colorbar": {
              "outlinewidth": 0,
              "ticks": ""
             }
            },
            "type": "scattergeo"
           }
          ],
          "scattergl": [
           {
            "marker": {
             "colorbar": {
              "outlinewidth": 0,
              "ticks": ""
             }
            },
            "type": "scattergl"
           }
          ],
          "scattermap": [
           {
            "marker": {
             "colorbar": {
              "outlinewidth": 0,
              "ticks": ""
             }
            },
            "type": "scattermap"
           }
          ],
          "scattermapbox": [
           {
            "marker": {
             "colorbar": {
              "outlinewidth": 0,
              "ticks": ""
             }
            },
            "type": "scattermapbox"
           }
          ],
          "scatterpolar": [
           {
            "marker": {
             "colorbar": {
              "outlinewidth": 0,
              "ticks": ""
             }
            },
            "type": "scatterpolar"
           }
          ],
          "scatterpolargl": [
           {
            "marker": {
             "colorbar": {
              "outlinewidth": 0,
              "ticks": ""
             }
            },
            "type": "scatterpolargl"
           }
          ],
          "scatterternary": [
           {
            "marker": {
             "colorbar": {
              "outlinewidth": 0,
              "ticks": ""
             }
            },
            "type": "scatterternary"
           }
          ],
          "surface": [
           {
            "colorbar": {
             "outlinewidth": 0,
             "ticks": ""
            },
            "colorscale": [
             [
              0,
              "#0d0887"
             ],
             [
              0.1111111111111111,
              "#46039f"
             ],
             [
              0.2222222222222222,
              "#7201a8"
             ],
             [
              0.3333333333333333,
              "#9c179e"
             ],
             [
              0.4444444444444444,
              "#bd3786"
             ],
             [
              0.5555555555555556,
              "#d8576b"
             ],
             [
              0.6666666666666666,
              "#ed7953"
             ],
             [
              0.7777777777777778,
              "#fb9f3a"
             ],
             [
              0.8888888888888888,
              "#fdca26"
             ],
             [
              1,
              "#f0f921"
             ]
            ],
            "type": "surface"
           }
          ],
          "table": [
           {
            "cells": {
             "fill": {
              "color": "#EBF0F8"
             },
             "line": {
              "color": "white"
             }
            },
            "header": {
             "fill": {
              "color": "#C8D4E3"
             },
             "line": {
              "color": "white"
             }
            },
            "type": "table"
           }
          ]
         },
         "layout": {
          "annotationdefaults": {
           "arrowcolor": "#2a3f5f",
           "arrowhead": 0,
           "arrowwidth": 1
          },
          "autotypenumbers": "strict",
          "coloraxis": {
           "colorbar": {
            "outlinewidth": 0,
            "ticks": ""
           }
          },
          "colorscale": {
           "diverging": [
            [
             0,
             "#8e0152"
            ],
            [
             0.1,
             "#c51b7d"
            ],
            [
             0.2,
             "#de77ae"
            ],
            [
             0.3,
             "#f1b6da"
            ],
            [
             0.4,
             "#fde0ef"
            ],
            [
             0.5,
             "#f7f7f7"
            ],
            [
             0.6,
             "#e6f5d0"
            ],
            [
             0.7,
             "#b8e186"
            ],
            [
             0.8,
             "#7fbc41"
            ],
            [
             0.9,
             "#4d9221"
            ],
            [
             1,
             "#276419"
            ]
           ],
           "sequential": [
            [
             0,
             "#0d0887"
            ],
            [
             0.1111111111111111,
             "#46039f"
            ],
            [
             0.2222222222222222,
             "#7201a8"
            ],
            [
             0.3333333333333333,
             "#9c179e"
            ],
            [
             0.4444444444444444,
             "#bd3786"
            ],
            [
             0.5555555555555556,
             "#d8576b"
            ],
            [
             0.6666666666666666,
             "#ed7953"
            ],
            [
             0.7777777777777778,
             "#fb9f3a"
            ],
            [
             0.8888888888888888,
             "#fdca26"
            ],
            [
             1,
             "#f0f921"
            ]
           ],
           "sequentialminus": [
            [
             0,
             "#0d0887"
            ],
            [
             0.1111111111111111,
             "#46039f"
            ],
            [
             0.2222222222222222,
             "#7201a8"
            ],
            [
             0.3333333333333333,
             "#9c179e"
            ],
            [
             0.4444444444444444,
             "#bd3786"
            ],
            [
             0.5555555555555556,
             "#d8576b"
            ],
            [
             0.6666666666666666,
             "#ed7953"
            ],
            [
             0.7777777777777778,
             "#fb9f3a"
            ],
            [
             0.8888888888888888,
             "#fdca26"
            ],
            [
             1,
             "#f0f921"
            ]
           ]
          },
          "colorway": [
           "#636efa",
           "#EF553B",
           "#00cc96",
           "#ab63fa",
           "#FFA15A",
           "#19d3f3",
           "#FF6692",
           "#B6E880",
           "#FF97FF",
           "#FECB52"
          ],
          "font": {
           "color": "#2a3f5f"
          },
          "geo": {
           "bgcolor": "white",
           "lakecolor": "white",
           "landcolor": "#E5ECF6",
           "showlakes": true,
           "showland": true,
           "subunitcolor": "white"
          },
          "hoverlabel": {
           "align": "left"
          },
          "hovermode": "closest",
          "mapbox": {
           "style": "light"
          },
          "paper_bgcolor": "white",
          "plot_bgcolor": "#E5ECF6",
          "polar": {
           "angularaxis": {
            "gridcolor": "white",
            "linecolor": "white",
            "ticks": ""
           },
           "bgcolor": "#E5ECF6",
           "radialaxis": {
            "gridcolor": "white",
            "linecolor": "white",
            "ticks": ""
           }
          },
          "scene": {
           "xaxis": {
            "backgroundcolor": "#E5ECF6",
            "gridcolor": "white",
            "gridwidth": 2,
            "linecolor": "white",
            "showbackground": true,
            "ticks": "",
            "zerolinecolor": "white"
           },
           "yaxis": {
            "backgroundcolor": "#E5ECF6",
            "gridcolor": "white",
            "gridwidth": 2,
            "linecolor": "white",
            "showbackground": true,
            "ticks": "",
            "zerolinecolor": "white"
           },
           "zaxis": {
            "backgroundcolor": "#E5ECF6",
            "gridcolor": "white",
            "gridwidth": 2,
            "linecolor": "white",
            "showbackground": true,
            "ticks": "",
            "zerolinecolor": "white"
           }
          },
          "shapedefaults": {
           "line": {
            "color": "#2a3f5f"
           }
          },
          "ternary": {
           "aaxis": {
            "gridcolor": "white",
            "linecolor": "white",
            "ticks": ""
           },
           "baxis": {
            "gridcolor": "white",
            "linecolor": "white",
            "ticks": ""
           },
           "bgcolor": "#E5ECF6",
           "caxis": {
            "gridcolor": "white",
            "linecolor": "white",
            "ticks": ""
           }
          },
          "title": {
           "x": 0.05
          },
          "xaxis": {
           "automargin": true,
           "gridcolor": "white",
           "linecolor": "white",
           "ticks": "",
           "title": {
            "standoff": 15
           },
           "zerolinecolor": "white",
           "zerolinewidth": 2
          },
          "yaxis": {
           "automargin": true,
           "gridcolor": "white",
           "linecolor": "white",
           "ticks": "",
           "title": {
            "standoff": 15
           },
           "zerolinecolor": "white",
           "zerolinewidth": 2
          }
         }
        },
        "title": {
         "text": "Mean Color Distribution"
        },
        "xaxis": {
         "autorange": true,
         "range": [
          -0.5,
          255.5
         ],
         "title": {
          "text": "Color Values"
         },
         "type": "linear"
        },
        "yaxis": {
         "autorange": true,
         "range": [
          0,
          129637.03106706237
         ],
         "title": {
          "text": "Number of Pixel"
         },
         "type": "linear"
        }
       }
      }
     },
     "metadata": {},
     "output_type": "display_data"
    }
   ],
   "source": [
    "import plotly.graph_objects as go\n",
    "mean_color_distributions = np.mean(color_distributions, axis = 0)\n",
    "fig = go.Figure(\n",
    "    go.Bar(x = np.arange(256), y = mean_color_distributions, name = \"Mean Color Distributions\"\n",
    "))\n",
    "fig.update_layout(\n",
    "    title = \"Mean Color Distribution\",\n",
    "    xaxis_title = \"Color Values\",\n",
    "    yaxis_title = \"Number of Pixel\"\n",
    ")\n",
    "fig.show()"
   ]
  },
  {
   "cell_type": "markdown",
   "id": "f9cd002e-5c7d-4ec7-bb16-635d8a048d05",
   "metadata": {},
   "source": [
    "#### Train & test "
   ]
  },
  {
   "cell_type": "code",
   "execution_count": 12,
   "id": "50460c27-f970-4d25-97e5-abd65d445917",
   "metadata": {},
   "outputs": [
    {
     "name": "stdout",
     "output_type": "stream",
     "text": [
      "Train shape = (1353, 2)\n",
      "Test shape = (290, 2)\n",
      "Validation shape = (290, 2)\n"
     ]
    }
   ],
   "source": [
    "train_ratio = 0.70\n",
    "test_ratio = 0.15\n",
    "val_ratio = 0.15\n",
    "\n",
    "df_train, df_test_val = train_test_split(df, train_size = train_ratio, random_state = 42)\n",
    "df_test, df_val = train_test_split(df_test_val, train_size = test_ratio/(test_ratio + val_ratio), random_state = 42)\n",
    "\n",
    "print(f\"Train shape = {df_train.shape}\")\n",
    "print(f\"Test shape = {df_test.shape}\")\n",
    "print(f\"Validation shape = {df_val.shape}\")"
   ]
  },
  {
   "cell_type": "markdown",
   "id": "4b3b6b85-b4e9-4229-adb0-2e2bed085486",
   "metadata": {},
   "source": [
    "#### DeNoise image using median blur"
   ]
  },
  {
   "cell_type": "code",
   "execution_count": 13,
   "id": "e60b3d21-68e7-4ca6-a74f-1093b3d6af98",
   "metadata": {},
   "outputs": [],
   "source": [
    "def preprocessing_denoise(img):\n",
    "    denoise_img = cv2.medianBlur(img, 1)\n",
    "    denoise_img = cv2.cvtColor(denoise_img, cv2.COLOR_BGR2RGB)\n",
    "    return denoise_img"
   ]
  },
  {
   "cell_type": "markdown",
   "id": "ca6994be-e0c5-4a4c-9528-72620074aa43",
   "metadata": {},
   "source": [
    "#### Data Agrumendations using ImageDataGenerator\n"
   ]
  },
  {
   "cell_type": "code",
   "execution_count": 14,
   "id": "cfc166f0-49c9-442a-999b-162fb91ebc02",
   "metadata": {},
   "outputs": [
    {
     "name": "stdout",
     "output_type": "stream",
     "text": [
      "Found 1353 validated image filenames belonging to 3 classes.\n",
      "Found 290 validated image filenames belonging to 3 classes.\n",
      "Found 290 validated image filenames belonging to 3 classes.\n"
     ]
    }
   ],
   "source": [
    "IMG_WIDTH = 256\n",
    "IMG_HEIGHT = 256\n",
    "\n",
    "image_size = (IMG_WIDTH, IMG_HEIGHT)\n",
    "batch_size = 32\n",
    "\n",
    "TRAIN_DATAGEN = ImageDataGenerator(rescale = 1./255.,\n",
    "                                   preprocessing_function = preprocessing_denoise,\n",
    "                                  rotation_range = 15,\n",
    "                                  width_shift_range = 0.1,\n",
    "                                  height_shift_range = 0.1,\n",
    "                                  shear_range = 0.1,\n",
    "                                  zoom_range = 0.2,\n",
    "                                  horizontal_flip = True,\n",
    "                                  )\n",
    "\n",
    "\n",
    "TEST_DATAGEN = ImageDataGenerator(rescale = 1./255.)\n",
    "\n",
    "#for training image \n",
    "train_generator = TRAIN_DATAGEN.flow_from_dataframe(\n",
    "    df_train,\n",
    "    x_col = \"img_path\",\n",
    "    y_col = \"label\",\n",
    "    traget_size = image_size,\n",
    "    batch_size = batch_size,\n",
    "    color_mode = 'rgb', \n",
    "    class_mode = \"categorical\",\n",
    "    shuffle = True\n",
    ")\n",
    "\n",
    "# for testing image \n",
    "test_generator = TEST_DATAGEN.flow_from_dataframe(\n",
    "    df_test,\n",
    "    x_col = \"img_path\",\n",
    "    y_col = \"label\",\n",
    "    traget_size = image_size,\n",
    "    batch_size = batch_size,\n",
    "    color_mode = 'rgb', \n",
    "    class_mode = \"categorical\",\n",
    "    shuffle = True\n",
    ")\n",
    "\n",
    "val_generator = TEST_DATAGEN.flow_from_dataframe(\n",
    "    df_val,\n",
    "    x_col = \"img_path\",\n",
    "    y_col = \"label\",\n",
    "    traget_size = image_size,\n",
    "    batch_size = batch_size,\n",
    "    color_mode = 'rgb', \n",
    "    class_mode = \"categorical\",\n",
    "    shuffle = True\n",
    ")\n"
   ]
  },
  {
   "cell_type": "markdown",
   "id": "d87616d0-8805-403e-a390-73247f916271",
   "metadata": {},
   "source": [
    "#### Class weight "
   ]
  },
  {
   "cell_type": "code",
   "execution_count": 15,
   "id": "755943d0-2a42-4dbb-93d8-0f0485c53a9c",
   "metadata": {},
   "outputs": [
    {
     "name": "stdout",
     "output_type": "stream",
     "text": [
      "Bengin cases : 1.3666666666666667\n",
      "Malignant cases : 0.6186556927297668\n",
      "Normal cases : 1.534013605442177\n"
     ]
    }
   ],
   "source": [
    "#The datasets is hightly imblace so we used Class weight for balancing the datasets \n",
    "\n",
    "#image categories\n",
    "classes = list(train_generator.class_indices.keys())\n",
    "\n",
    "class_weights = class_weight.compute_class_weight(\n",
    "           class_weight = 'balanced',\n",
    "            classes = np.unique(train_generator.classes),\n",
    "            y = train_generator.classes)\n",
    "train_class_weights = dict(enumerate(class_weights))\n",
    "\n",
    "#classes = list(train_generator.class_indices.keys())\n",
    "for idx, weight, in train_class_weights.items():\n",
    "    class_name = classes[idx]\n",
    "    print(f\"{class_name} : {weight}\")"
   ]
  },
  {
   "cell_type": "markdown",
   "id": "fefe49f8-ea03-409d-a289-b2ca353f9a43",
   "metadata": {},
   "source": [
    "#### Model  Implementations #3D-CNN Model "
   ]
  },
  {
   "cell_type": "code",
   "execution_count": 16,
   "id": "40701046-caf0-4766-b33a-d8b20f9ba392",
   "metadata": {},
   "outputs": [
    {
     "data": {
      "text/html": [
       "<pre style=\"white-space:pre;overflow-x:auto;line-height:normal;font-family:Menlo,'DejaVu Sans Mono',consolas,'Courier New',monospace\"><span style=\"font-weight: bold\">Model: \"sequential\"</span>\n",
       "</pre>\n"
      ],
      "text/plain": [
       "\u001b[1mModel: \"sequential\"\u001b[0m\n"
      ]
     },
     "metadata": {},
     "output_type": "display_data"
    },
    {
     "data": {
      "text/html": [
       "<pre style=\"white-space:pre;overflow-x:auto;line-height:normal;font-family:Menlo,'DejaVu Sans Mono',consolas,'Courier New',monospace\">┏━━━━━━━━━━━━━━━━━━━━━━━━━━━━━━━━━━━━━━┳━━━━━━━━━━━━━━━━━━━━━━━━━━━━━┳━━━━━━━━━━━━━━━━━┓\n",
       "┃<span style=\"font-weight: bold\"> Layer (type)                         </span>┃<span style=\"font-weight: bold\"> Output Shape                </span>┃<span style=\"font-weight: bold\">         Param # </span>┃\n",
       "┡━━━━━━━━━━━━━━━━━━━━━━━━━━━━━━━━━━━━━━╇━━━━━━━━━━━━━━━━━━━━━━━━━━━━━╇━━━━━━━━━━━━━━━━━┩\n",
       "│ conv2d (<span style=\"color: #0087ff; text-decoration-color: #0087ff\">Conv2D</span>)                      │ (<span style=\"color: #00d7ff; text-decoration-color: #00d7ff\">None</span>, <span style=\"color: #00af00; text-decoration-color: #00af00\">256</span>, <span style=\"color: #00af00; text-decoration-color: #00af00\">256</span>, <span style=\"color: #00af00; text-decoration-color: #00af00\">64</span>)        │           <span style=\"color: #00af00; text-decoration-color: #00af00\">1,792</span> │\n",
       "├──────────────────────────────────────┼─────────────────────────────┼─────────────────┤\n",
       "│ max_pooling2d (<span style=\"color: #0087ff; text-decoration-color: #0087ff\">MaxPooling2D</span>)         │ (<span style=\"color: #00d7ff; text-decoration-color: #00d7ff\">None</span>, <span style=\"color: #00af00; text-decoration-color: #00af00\">128</span>, <span style=\"color: #00af00; text-decoration-color: #00af00\">128</span>, <span style=\"color: #00af00; text-decoration-color: #00af00\">64</span>)        │               <span style=\"color: #00af00; text-decoration-color: #00af00\">0</span> │\n",
       "├──────────────────────────────────────┼─────────────────────────────┼─────────────────┤\n",
       "│ batch_normalization                  │ (<span style=\"color: #00d7ff; text-decoration-color: #00d7ff\">None</span>, <span style=\"color: #00af00; text-decoration-color: #00af00\">128</span>, <span style=\"color: #00af00; text-decoration-color: #00af00\">128</span>, <span style=\"color: #00af00; text-decoration-color: #00af00\">64</span>)        │             <span style=\"color: #00af00; text-decoration-color: #00af00\">256</span> │\n",
       "│ (<span style=\"color: #0087ff; text-decoration-color: #0087ff\">BatchNormalization</span>)                 │                             │                 │\n",
       "├──────────────────────────────────────┼─────────────────────────────┼─────────────────┤\n",
       "│ conv2d_1 (<span style=\"color: #0087ff; text-decoration-color: #0087ff\">Conv2D</span>)                    │ (<span style=\"color: #00d7ff; text-decoration-color: #00d7ff\">None</span>, <span style=\"color: #00af00; text-decoration-color: #00af00\">128</span>, <span style=\"color: #00af00; text-decoration-color: #00af00\">128</span>, <span style=\"color: #00af00; text-decoration-color: #00af00\">64</span>)        │          <span style=\"color: #00af00; text-decoration-color: #00af00\">36,928</span> │\n",
       "├──────────────────────────────────────┼─────────────────────────────┼─────────────────┤\n",
       "│ max_pooling2d_1 (<span style=\"color: #0087ff; text-decoration-color: #0087ff\">MaxPooling2D</span>)       │ (<span style=\"color: #00d7ff; text-decoration-color: #00d7ff\">None</span>, <span style=\"color: #00af00; text-decoration-color: #00af00\">64</span>, <span style=\"color: #00af00; text-decoration-color: #00af00\">64</span>, <span style=\"color: #00af00; text-decoration-color: #00af00\">64</span>)          │               <span style=\"color: #00af00; text-decoration-color: #00af00\">0</span> │\n",
       "├──────────────────────────────────────┼─────────────────────────────┼─────────────────┤\n",
       "│ batch_normalization_1                │ (<span style=\"color: #00d7ff; text-decoration-color: #00d7ff\">None</span>, <span style=\"color: #00af00; text-decoration-color: #00af00\">64</span>, <span style=\"color: #00af00; text-decoration-color: #00af00\">64</span>, <span style=\"color: #00af00; text-decoration-color: #00af00\">64</span>)          │             <span style=\"color: #00af00; text-decoration-color: #00af00\">256</span> │\n",
       "│ (<span style=\"color: #0087ff; text-decoration-color: #0087ff\">BatchNormalization</span>)                 │                             │                 │\n",
       "├──────────────────────────────────────┼─────────────────────────────┼─────────────────┤\n",
       "│ conv2d_2 (<span style=\"color: #0087ff; text-decoration-color: #0087ff\">Conv2D</span>)                    │ (<span style=\"color: #00d7ff; text-decoration-color: #00d7ff\">None</span>, <span style=\"color: #00af00; text-decoration-color: #00af00\">64</span>, <span style=\"color: #00af00; text-decoration-color: #00af00\">64</span>, <span style=\"color: #00af00; text-decoration-color: #00af00\">128</span>)         │          <span style=\"color: #00af00; text-decoration-color: #00af00\">73,856</span> │\n",
       "├──────────────────────────────────────┼─────────────────────────────┼─────────────────┤\n",
       "│ max_pooling2d_2 (<span style=\"color: #0087ff; text-decoration-color: #0087ff\">MaxPooling2D</span>)       │ (<span style=\"color: #00d7ff; text-decoration-color: #00d7ff\">None</span>, <span style=\"color: #00af00; text-decoration-color: #00af00\">32</span>, <span style=\"color: #00af00; text-decoration-color: #00af00\">32</span>, <span style=\"color: #00af00; text-decoration-color: #00af00\">128</span>)         │               <span style=\"color: #00af00; text-decoration-color: #00af00\">0</span> │\n",
       "├──────────────────────────────────────┼─────────────────────────────┼─────────────────┤\n",
       "│ batch_normalization_2                │ (<span style=\"color: #00d7ff; text-decoration-color: #00d7ff\">None</span>, <span style=\"color: #00af00; text-decoration-color: #00af00\">32</span>, <span style=\"color: #00af00; text-decoration-color: #00af00\">32</span>, <span style=\"color: #00af00; text-decoration-color: #00af00\">128</span>)         │             <span style=\"color: #00af00; text-decoration-color: #00af00\">512</span> │\n",
       "│ (<span style=\"color: #0087ff; text-decoration-color: #0087ff\">BatchNormalization</span>)                 │                             │                 │\n",
       "├──────────────────────────────────────┼─────────────────────────────┼─────────────────┤\n",
       "│ conv2d_3 (<span style=\"color: #0087ff; text-decoration-color: #0087ff\">Conv2D</span>)                    │ (<span style=\"color: #00d7ff; text-decoration-color: #00d7ff\">None</span>, <span style=\"color: #00af00; text-decoration-color: #00af00\">32</span>, <span style=\"color: #00af00; text-decoration-color: #00af00\">32</span>, <span style=\"color: #00af00; text-decoration-color: #00af00\">128</span>)         │         <span style=\"color: #00af00; text-decoration-color: #00af00\">147,584</span> │\n",
       "├──────────────────────────────────────┼─────────────────────────────┼─────────────────┤\n",
       "│ max_pooling2d_3 (<span style=\"color: #0087ff; text-decoration-color: #0087ff\">MaxPooling2D</span>)       │ (<span style=\"color: #00d7ff; text-decoration-color: #00d7ff\">None</span>, <span style=\"color: #00af00; text-decoration-color: #00af00\">16</span>, <span style=\"color: #00af00; text-decoration-color: #00af00\">16</span>, <span style=\"color: #00af00; text-decoration-color: #00af00\">128</span>)         │               <span style=\"color: #00af00; text-decoration-color: #00af00\">0</span> │\n",
       "├──────────────────────────────────────┼─────────────────────────────┼─────────────────┤\n",
       "│ batch_normalization_3                │ (<span style=\"color: #00d7ff; text-decoration-color: #00d7ff\">None</span>, <span style=\"color: #00af00; text-decoration-color: #00af00\">16</span>, <span style=\"color: #00af00; text-decoration-color: #00af00\">16</span>, <span style=\"color: #00af00; text-decoration-color: #00af00\">128</span>)         │             <span style=\"color: #00af00; text-decoration-color: #00af00\">512</span> │\n",
       "│ (<span style=\"color: #0087ff; text-decoration-color: #0087ff\">BatchNormalization</span>)                 │                             │                 │\n",
       "├──────────────────────────────────────┼─────────────────────────────┼─────────────────┤\n",
       "│ conv2d_4 (<span style=\"color: #0087ff; text-decoration-color: #0087ff\">Conv2D</span>)                    │ (<span style=\"color: #00d7ff; text-decoration-color: #00d7ff\">None</span>, <span style=\"color: #00af00; text-decoration-color: #00af00\">16</span>, <span style=\"color: #00af00; text-decoration-color: #00af00\">16</span>, <span style=\"color: #00af00; text-decoration-color: #00af00\">256</span>)         │         <span style=\"color: #00af00; text-decoration-color: #00af00\">295,168</span> │\n",
       "├──────────────────────────────────────┼─────────────────────────────┼─────────────────┤\n",
       "│ max_pooling2d_4 (<span style=\"color: #0087ff; text-decoration-color: #0087ff\">MaxPooling2D</span>)       │ (<span style=\"color: #00d7ff; text-decoration-color: #00d7ff\">None</span>, <span style=\"color: #00af00; text-decoration-color: #00af00\">8</span>, <span style=\"color: #00af00; text-decoration-color: #00af00\">8</span>, <span style=\"color: #00af00; text-decoration-color: #00af00\">256</span>)           │               <span style=\"color: #00af00; text-decoration-color: #00af00\">0</span> │\n",
       "├──────────────────────────────────────┼─────────────────────────────┼─────────────────┤\n",
       "│ batch_normalization_4                │ (<span style=\"color: #00d7ff; text-decoration-color: #00d7ff\">None</span>, <span style=\"color: #00af00; text-decoration-color: #00af00\">8</span>, <span style=\"color: #00af00; text-decoration-color: #00af00\">8</span>, <span style=\"color: #00af00; text-decoration-color: #00af00\">256</span>)           │           <span style=\"color: #00af00; text-decoration-color: #00af00\">1,024</span> │\n",
       "│ (<span style=\"color: #0087ff; text-decoration-color: #0087ff\">BatchNormalization</span>)                 │                             │                 │\n",
       "├──────────────────────────────────────┼─────────────────────────────┼─────────────────┤\n",
       "│ conv2d_5 (<span style=\"color: #0087ff; text-decoration-color: #0087ff\">Conv2D</span>)                    │ (<span style=\"color: #00d7ff; text-decoration-color: #00d7ff\">None</span>, <span style=\"color: #00af00; text-decoration-color: #00af00\">8</span>, <span style=\"color: #00af00; text-decoration-color: #00af00\">8</span>, <span style=\"color: #00af00; text-decoration-color: #00af00\">256</span>)           │         <span style=\"color: #00af00; text-decoration-color: #00af00\">590,080</span> │\n",
       "├──────────────────────────────────────┼─────────────────────────────┼─────────────────┤\n",
       "│ max_pooling2d_5 (<span style=\"color: #0087ff; text-decoration-color: #0087ff\">MaxPooling2D</span>)       │ (<span style=\"color: #00d7ff; text-decoration-color: #00d7ff\">None</span>, <span style=\"color: #00af00; text-decoration-color: #00af00\">4</span>, <span style=\"color: #00af00; text-decoration-color: #00af00\">4</span>, <span style=\"color: #00af00; text-decoration-color: #00af00\">256</span>)           │               <span style=\"color: #00af00; text-decoration-color: #00af00\">0</span> │\n",
       "├──────────────────────────────────────┼─────────────────────────────┼─────────────────┤\n",
       "│ batch_normalization_5                │ (<span style=\"color: #00d7ff; text-decoration-color: #00d7ff\">None</span>, <span style=\"color: #00af00; text-decoration-color: #00af00\">4</span>, <span style=\"color: #00af00; text-decoration-color: #00af00\">4</span>, <span style=\"color: #00af00; text-decoration-color: #00af00\">256</span>)           │           <span style=\"color: #00af00; text-decoration-color: #00af00\">1,024</span> │\n",
       "│ (<span style=\"color: #0087ff; text-decoration-color: #0087ff\">BatchNormalization</span>)                 │                             │                 │\n",
       "├──────────────────────────────────────┼─────────────────────────────┼─────────────────┤\n",
       "│ global_average_pooling2d             │ (<span style=\"color: #00d7ff; text-decoration-color: #00d7ff\">None</span>, <span style=\"color: #00af00; text-decoration-color: #00af00\">256</span>)                 │               <span style=\"color: #00af00; text-decoration-color: #00af00\">0</span> │\n",
       "│ (<span style=\"color: #0087ff; text-decoration-color: #0087ff\">GlobalAveragePooling2D</span>)             │                             │                 │\n",
       "├──────────────────────────────────────┼─────────────────────────────┼─────────────────┤\n",
       "│ dense (<span style=\"color: #0087ff; text-decoration-color: #0087ff\">Dense</span>)                        │ (<span style=\"color: #00d7ff; text-decoration-color: #00d7ff\">None</span>, <span style=\"color: #00af00; text-decoration-color: #00af00\">256</span>)                 │          <span style=\"color: #00af00; text-decoration-color: #00af00\">65,792</span> │\n",
       "├──────────────────────────────────────┼─────────────────────────────┼─────────────────┤\n",
       "│ dropout (<span style=\"color: #0087ff; text-decoration-color: #0087ff\">Dropout</span>)                    │ (<span style=\"color: #00d7ff; text-decoration-color: #00d7ff\">None</span>, <span style=\"color: #00af00; text-decoration-color: #00af00\">256</span>)                 │               <span style=\"color: #00af00; text-decoration-color: #00af00\">0</span> │\n",
       "├──────────────────────────────────────┼─────────────────────────────┼─────────────────┤\n",
       "│ dense_1 (<span style=\"color: #0087ff; text-decoration-color: #0087ff\">Dense</span>)                      │ (<span style=\"color: #00d7ff; text-decoration-color: #00d7ff\">None</span>, <span style=\"color: #00af00; text-decoration-color: #00af00\">3</span>)                   │             <span style=\"color: #00af00; text-decoration-color: #00af00\">771</span> │\n",
       "└──────────────────────────────────────┴─────────────────────────────┴─────────────────┘\n",
       "</pre>\n"
      ],
      "text/plain": [
       "┏━━━━━━━━━━━━━━━━━━━━━━━━━━━━━━━━━━━━━━┳━━━━━━━━━━━━━━━━━━━━━━━━━━━━━┳━━━━━━━━━━━━━━━━━┓\n",
       "┃\u001b[1m \u001b[0m\u001b[1mLayer (type)                        \u001b[0m\u001b[1m \u001b[0m┃\u001b[1m \u001b[0m\u001b[1mOutput Shape               \u001b[0m\u001b[1m \u001b[0m┃\u001b[1m \u001b[0m\u001b[1m        Param #\u001b[0m\u001b[1m \u001b[0m┃\n",
       "┡━━━━━━━━━━━━━━━━━━━━━━━━━━━━━━━━━━━━━━╇━━━━━━━━━━━━━━━━━━━━━━━━━━━━━╇━━━━━━━━━━━━━━━━━┩\n",
       "│ conv2d (\u001b[38;5;33mConv2D\u001b[0m)                      │ (\u001b[38;5;45mNone\u001b[0m, \u001b[38;5;34m256\u001b[0m, \u001b[38;5;34m256\u001b[0m, \u001b[38;5;34m64\u001b[0m)        │           \u001b[38;5;34m1,792\u001b[0m │\n",
       "├──────────────────────────────────────┼─────────────────────────────┼─────────────────┤\n",
       "│ max_pooling2d (\u001b[38;5;33mMaxPooling2D\u001b[0m)         │ (\u001b[38;5;45mNone\u001b[0m, \u001b[38;5;34m128\u001b[0m, \u001b[38;5;34m128\u001b[0m, \u001b[38;5;34m64\u001b[0m)        │               \u001b[38;5;34m0\u001b[0m │\n",
       "├──────────────────────────────────────┼─────────────────────────────┼─────────────────┤\n",
       "│ batch_normalization                  │ (\u001b[38;5;45mNone\u001b[0m, \u001b[38;5;34m128\u001b[0m, \u001b[38;5;34m128\u001b[0m, \u001b[38;5;34m64\u001b[0m)        │             \u001b[38;5;34m256\u001b[0m │\n",
       "│ (\u001b[38;5;33mBatchNormalization\u001b[0m)                 │                             │                 │\n",
       "├──────────────────────────────────────┼─────────────────────────────┼─────────────────┤\n",
       "│ conv2d_1 (\u001b[38;5;33mConv2D\u001b[0m)                    │ (\u001b[38;5;45mNone\u001b[0m, \u001b[38;5;34m128\u001b[0m, \u001b[38;5;34m128\u001b[0m, \u001b[38;5;34m64\u001b[0m)        │          \u001b[38;5;34m36,928\u001b[0m │\n",
       "├──────────────────────────────────────┼─────────────────────────────┼─────────────────┤\n",
       "│ max_pooling2d_1 (\u001b[38;5;33mMaxPooling2D\u001b[0m)       │ (\u001b[38;5;45mNone\u001b[0m, \u001b[38;5;34m64\u001b[0m, \u001b[38;5;34m64\u001b[0m, \u001b[38;5;34m64\u001b[0m)          │               \u001b[38;5;34m0\u001b[0m │\n",
       "├──────────────────────────────────────┼─────────────────────────────┼─────────────────┤\n",
       "│ batch_normalization_1                │ (\u001b[38;5;45mNone\u001b[0m, \u001b[38;5;34m64\u001b[0m, \u001b[38;5;34m64\u001b[0m, \u001b[38;5;34m64\u001b[0m)          │             \u001b[38;5;34m256\u001b[0m │\n",
       "│ (\u001b[38;5;33mBatchNormalization\u001b[0m)                 │                             │                 │\n",
       "├──────────────────────────────────────┼─────────────────────────────┼─────────────────┤\n",
       "│ conv2d_2 (\u001b[38;5;33mConv2D\u001b[0m)                    │ (\u001b[38;5;45mNone\u001b[0m, \u001b[38;5;34m64\u001b[0m, \u001b[38;5;34m64\u001b[0m, \u001b[38;5;34m128\u001b[0m)         │          \u001b[38;5;34m73,856\u001b[0m │\n",
       "├──────────────────────────────────────┼─────────────────────────────┼─────────────────┤\n",
       "│ max_pooling2d_2 (\u001b[38;5;33mMaxPooling2D\u001b[0m)       │ (\u001b[38;5;45mNone\u001b[0m, \u001b[38;5;34m32\u001b[0m, \u001b[38;5;34m32\u001b[0m, \u001b[38;5;34m128\u001b[0m)         │               \u001b[38;5;34m0\u001b[0m │\n",
       "├──────────────────────────────────────┼─────────────────────────────┼─────────────────┤\n",
       "│ batch_normalization_2                │ (\u001b[38;5;45mNone\u001b[0m, \u001b[38;5;34m32\u001b[0m, \u001b[38;5;34m32\u001b[0m, \u001b[38;5;34m128\u001b[0m)         │             \u001b[38;5;34m512\u001b[0m │\n",
       "│ (\u001b[38;5;33mBatchNormalization\u001b[0m)                 │                             │                 │\n",
       "├──────────────────────────────────────┼─────────────────────────────┼─────────────────┤\n",
       "│ conv2d_3 (\u001b[38;5;33mConv2D\u001b[0m)                    │ (\u001b[38;5;45mNone\u001b[0m, \u001b[38;5;34m32\u001b[0m, \u001b[38;5;34m32\u001b[0m, \u001b[38;5;34m128\u001b[0m)         │         \u001b[38;5;34m147,584\u001b[0m │\n",
       "├──────────────────────────────────────┼─────────────────────────────┼─────────────────┤\n",
       "│ max_pooling2d_3 (\u001b[38;5;33mMaxPooling2D\u001b[0m)       │ (\u001b[38;5;45mNone\u001b[0m, \u001b[38;5;34m16\u001b[0m, \u001b[38;5;34m16\u001b[0m, \u001b[38;5;34m128\u001b[0m)         │               \u001b[38;5;34m0\u001b[0m │\n",
       "├──────────────────────────────────────┼─────────────────────────────┼─────────────────┤\n",
       "│ batch_normalization_3                │ (\u001b[38;5;45mNone\u001b[0m, \u001b[38;5;34m16\u001b[0m, \u001b[38;5;34m16\u001b[0m, \u001b[38;5;34m128\u001b[0m)         │             \u001b[38;5;34m512\u001b[0m │\n",
       "│ (\u001b[38;5;33mBatchNormalization\u001b[0m)                 │                             │                 │\n",
       "├──────────────────────────────────────┼─────────────────────────────┼─────────────────┤\n",
       "│ conv2d_4 (\u001b[38;5;33mConv2D\u001b[0m)                    │ (\u001b[38;5;45mNone\u001b[0m, \u001b[38;5;34m16\u001b[0m, \u001b[38;5;34m16\u001b[0m, \u001b[38;5;34m256\u001b[0m)         │         \u001b[38;5;34m295,168\u001b[0m │\n",
       "├──────────────────────────────────────┼─────────────────────────────┼─────────────────┤\n",
       "│ max_pooling2d_4 (\u001b[38;5;33mMaxPooling2D\u001b[0m)       │ (\u001b[38;5;45mNone\u001b[0m, \u001b[38;5;34m8\u001b[0m, \u001b[38;5;34m8\u001b[0m, \u001b[38;5;34m256\u001b[0m)           │               \u001b[38;5;34m0\u001b[0m │\n",
       "├──────────────────────────────────────┼─────────────────────────────┼─────────────────┤\n",
       "│ batch_normalization_4                │ (\u001b[38;5;45mNone\u001b[0m, \u001b[38;5;34m8\u001b[0m, \u001b[38;5;34m8\u001b[0m, \u001b[38;5;34m256\u001b[0m)           │           \u001b[38;5;34m1,024\u001b[0m │\n",
       "│ (\u001b[38;5;33mBatchNormalization\u001b[0m)                 │                             │                 │\n",
       "├──────────────────────────────────────┼─────────────────────────────┼─────────────────┤\n",
       "│ conv2d_5 (\u001b[38;5;33mConv2D\u001b[0m)                    │ (\u001b[38;5;45mNone\u001b[0m, \u001b[38;5;34m8\u001b[0m, \u001b[38;5;34m8\u001b[0m, \u001b[38;5;34m256\u001b[0m)           │         \u001b[38;5;34m590,080\u001b[0m │\n",
       "├──────────────────────────────────────┼─────────────────────────────┼─────────────────┤\n",
       "│ max_pooling2d_5 (\u001b[38;5;33mMaxPooling2D\u001b[0m)       │ (\u001b[38;5;45mNone\u001b[0m, \u001b[38;5;34m4\u001b[0m, \u001b[38;5;34m4\u001b[0m, \u001b[38;5;34m256\u001b[0m)           │               \u001b[38;5;34m0\u001b[0m │\n",
       "├──────────────────────────────────────┼─────────────────────────────┼─────────────────┤\n",
       "│ batch_normalization_5                │ (\u001b[38;5;45mNone\u001b[0m, \u001b[38;5;34m4\u001b[0m, \u001b[38;5;34m4\u001b[0m, \u001b[38;5;34m256\u001b[0m)           │           \u001b[38;5;34m1,024\u001b[0m │\n",
       "│ (\u001b[38;5;33mBatchNormalization\u001b[0m)                 │                             │                 │\n",
       "├──────────────────────────────────────┼─────────────────────────────┼─────────────────┤\n",
       "│ global_average_pooling2d             │ (\u001b[38;5;45mNone\u001b[0m, \u001b[38;5;34m256\u001b[0m)                 │               \u001b[38;5;34m0\u001b[0m │\n",
       "│ (\u001b[38;5;33mGlobalAveragePooling2D\u001b[0m)             │                             │                 │\n",
       "├──────────────────────────────────────┼─────────────────────────────┼─────────────────┤\n",
       "│ dense (\u001b[38;5;33mDense\u001b[0m)                        │ (\u001b[38;5;45mNone\u001b[0m, \u001b[38;5;34m256\u001b[0m)                 │          \u001b[38;5;34m65,792\u001b[0m │\n",
       "├──────────────────────────────────────┼─────────────────────────────┼─────────────────┤\n",
       "│ dropout (\u001b[38;5;33mDropout\u001b[0m)                    │ (\u001b[38;5;45mNone\u001b[0m, \u001b[38;5;34m256\u001b[0m)                 │               \u001b[38;5;34m0\u001b[0m │\n",
       "├──────────────────────────────────────┼─────────────────────────────┼─────────────────┤\n",
       "│ dense_1 (\u001b[38;5;33mDense\u001b[0m)                      │ (\u001b[38;5;45mNone\u001b[0m, \u001b[38;5;34m3\u001b[0m)                   │             \u001b[38;5;34m771\u001b[0m │\n",
       "└──────────────────────────────────────┴─────────────────────────────┴─────────────────┘\n"
      ]
     },
     "metadata": {},
     "output_type": "display_data"
    },
    {
     "data": {
      "text/html": [
       "<pre style=\"white-space:pre;overflow-x:auto;line-height:normal;font-family:Menlo,'DejaVu Sans Mono',consolas,'Courier New',monospace\"><span style=\"font-weight: bold\"> Total params: </span><span style=\"color: #00af00; text-decoration-color: #00af00\">1,215,555</span> (4.64 MB)\n",
       "</pre>\n"
      ],
      "text/plain": [
       "\u001b[1m Total params: \u001b[0m\u001b[38;5;34m1,215,555\u001b[0m (4.64 MB)\n"
      ]
     },
     "metadata": {},
     "output_type": "display_data"
    },
    {
     "data": {
      "text/html": [
       "<pre style=\"white-space:pre;overflow-x:auto;line-height:normal;font-family:Menlo,'DejaVu Sans Mono',consolas,'Courier New',monospace\"><span style=\"font-weight: bold\"> Trainable params: </span><span style=\"color: #00af00; text-decoration-color: #00af00\">1,213,763</span> (4.63 MB)\n",
       "</pre>\n"
      ],
      "text/plain": [
       "\u001b[1m Trainable params: \u001b[0m\u001b[38;5;34m1,213,763\u001b[0m (4.63 MB)\n"
      ]
     },
     "metadata": {},
     "output_type": "display_data"
    },
    {
     "data": {
      "text/html": [
       "<pre style=\"white-space:pre;overflow-x:auto;line-height:normal;font-family:Menlo,'DejaVu Sans Mono',consolas,'Courier New',monospace\"><span style=\"font-weight: bold\"> Non-trainable params: </span><span style=\"color: #00af00; text-decoration-color: #00af00\">1,792</span> (7.00 KB)\n",
       "</pre>\n"
      ],
      "text/plain": [
       "\u001b[1m Non-trainable params: \u001b[0m\u001b[38;5;34m1,792\u001b[0m (7.00 KB)\n"
      ]
     },
     "metadata": {},
     "output_type": "display_data"
    }
   ],
   "source": [
    "\n",
    "model_2D = Sequential([\n",
    "    # Conv Block 1\n",
    "    Conv2D(64, (3,3), activation='relu', padding='same', input_shape=(256,256, 3)),\n",
    "    MaxPooling2D(pool_size=(2,2)),\n",
    "    BatchNormalization(),\n",
    "\n",
    "    # Conv Block 2\n",
    "    Conv2D(64, (3,3), activation='relu', padding='same'),\n",
    "    MaxPooling2D(pool_size=(2,2)),\n",
    "    BatchNormalization(),\n",
    "\n",
    "    # Conv Block 3\n",
    "    Conv2D(128, (3,3), activation='relu', padding='same'),\n",
    "    MaxPooling2D(pool_size=(2,2)),\n",
    "    BatchNormalization(),\n",
    "\n",
    "    # Conv Block 4\n",
    "    Conv2D(128, (3,3), activation='relu', padding='same'),\n",
    "    MaxPooling2D(pool_size=(2,2)),\n",
    "    BatchNormalization(),\n",
    "\n",
    "    # Conv Block 5\n",
    "    Conv2D(256, (3,3), activation='relu', padding='same'),\n",
    "    MaxPooling2D(pool_size=(2,2)),\n",
    "    BatchNormalization(),\n",
    "\n",
    "    # Conv Block 6\n",
    "    Conv2D(256, (3,3), activation='relu', padding='same'),\n",
    "    MaxPooling2D(pool_size=(2,2)),\n",
    "    BatchNormalization(),\n",
    "\n",
    "    # Global Average Pooling\n",
    "    GlobalAveragePooling2D(),\n",
    "\n",
    "    # Fully Connected Layers\n",
    "    Dense(256, activation='relu'),\n",
    "    Dropout(0.25),\n",
    "\n",
    "    Dense(3, activation='softmax')  # Assuming 3 classes\n",
    "]) \n",
    "\n",
    "model_2D.summary()\n"
   ]
  },
  {
   "cell_type": "code",
   "execution_count": 17,
   "id": "c28f0185-2eb5-4378-a8e6-84f2f18df130",
   "metadata": {},
   "outputs": [
    {
     "name": "stdout",
     "output_type": "stream",
     "text": [
      "Epoch 1/50\n",
      "\u001b[1m43/43\u001b[0m \u001b[32m━━━━━━━━━━━━━━━━━━━━\u001b[0m\u001b[37m\u001b[0m \u001b[1m329s\u001b[0m 7s/step - accuracy: 0.6269 - loss: 0.6510 - val_accuracy: 0.2172 - val_loss: 2.0686 - learning_rate: 3.0000e-04\n",
      "Epoch 2/50\n",
      "\u001b[1m43/43\u001b[0m \u001b[32m━━━━━━━━━━━━━━━━━━━━\u001b[0m\u001b[37m\u001b[0m \u001b[1m315s\u001b[0m 7s/step - accuracy: 0.7824 - loss: 0.3887 - val_accuracy: 0.2172 - val_loss: 5.5103 - learning_rate: 3.0000e-04\n",
      "Epoch 3/50\n",
      "\u001b[1m43/43\u001b[0m \u001b[32m━━━━━━━━━━━━━━━━━━━━\u001b[0m\u001b[37m\u001b[0m \u001b[1m308s\u001b[0m 7s/step - accuracy: 0.8189 - loss: 0.3123 - val_accuracy: 0.2172 - val_loss: 4.8267 - learning_rate: 3.0000e-04\n",
      "Epoch 4/50\n",
      "\u001b[1m43/43\u001b[0m \u001b[32m━━━━━━━━━━━━━━━━━━━━\u001b[0m\u001b[37m\u001b[0m \u001b[1m311s\u001b[0m 7s/step - accuracy: 0.8497 - loss: 0.2693 - val_accuracy: 0.2172 - val_loss: 5.8310 - learning_rate: 3.0000e-04\n",
      "Epoch 5/50\n",
      "\u001b[1m43/43\u001b[0m \u001b[32m━━━━━━━━━━━━━━━━━━━━\u001b[0m\u001b[37m\u001b[0m \u001b[1m315s\u001b[0m 7s/step - accuracy: 0.8566 - loss: 0.2634 - val_accuracy: 0.2172 - val_loss: 4.8082 - learning_rate: 3.0000e-04\n",
      "Epoch 6/50\n",
      "\u001b[1m43/43\u001b[0m \u001b[32m━━━━━━━━━━━━━━━━━━━━\u001b[0m\u001b[37m\u001b[0m \u001b[1m309s\u001b[0m 7s/step - accuracy: 0.8664 - loss: 0.2471 - val_accuracy: 0.2172 - val_loss: 5.8202 - learning_rate: 6.0000e-05\n"
     ]
    }
   ],
   "source": [
    "model_2D.compile(\n",
    "    loss = \"categorical_crossentropy\",\n",
    "    optimizer = Adam(learning_rate = 0.0003),\n",
    "    metrics = [\"accuracy\"],\n",
    ")\n",
    "epochs = 50\n",
    "history = model_2D.fit(train_generator,\n",
    "                   steps_per_epoch = len(train_generator),\n",
    "                   batch_size = 32,\n",
    "                   validation_data = val_generator,\n",
    "                   validation_steps = len(val_generator),\n",
    "                   class_weight = train_class_weights,\n",
    "                   callbacks=[\n",
    "                               EarlyStopping(monitor = \"val_loss\", # watch the val loss metric\n",
    "                               patience = 5,\n",
    "                               restore_best_weights = True),\n",
    "                               ReduceLROnPlateau(monitor='val_loss', factor=0.2, patience=4, mode='min')\n",
    "                              ],\n",
    "                   epochs = epochs)"
   ]
  },
  {
   "cell_type": "markdown",
   "id": "65373df5-8b4d-49b4-a339-393ce778b09f",
   "metadata": {},
   "source": [
    "##### Training & validation Acuracy loss"
   ]
  },
  {
   "cell_type": "code",
   "execution_count": 18,
   "id": "953e2192-f612-46db-84f6-6d9e962ca460",
   "metadata": {},
   "outputs": [
    {
     "data": {
      "application/vnd.plotly.v1+json": {
       "config": {
        "plotlyServerURL": "https://plot.ly"
       },
       "data": [
        {
         "name": "Training Accuracy",
         "type": "scatter",
         "x": {
          "_inputArray": {
           "0": 1,
           "1": 2,
           "10": 11,
           "11": 12,
           "12": 13,
           "13": 14,
           "14": 15,
           "15": 16,
           "16": 17,
           "17": 18,
           "18": 19,
           "19": 20,
           "2": 3,
           "20": 21,
           "21": 22,
           "22": 23,
           "23": 24,
           "24": 25,
           "25": 26,
           "26": 27,
           "27": 28,
           "28": 29,
           "29": 30,
           "3": 4,
           "30": 31,
           "31": 32,
           "32": 33,
           "33": 34,
           "34": 35,
           "35": 36,
           "36": 37,
           "37": 38,
           "38": 39,
           "39": 40,
           "4": 5,
           "40": 41,
           "41": 42,
           "42": 43,
           "43": 44,
           "44": 45,
           "45": 46,
           "46": 47,
           "47": 48,
           "48": 49,
           "49": 50,
           "5": 6,
           "6": 7,
           "7": 8,
           "8": 9,
           "9": 10,
           "bdata": "AQAAAAIAAAADAAAABAAAAAUAAAAGAAAABwAAAAgAAAAJAAAACgAAAAsAAAAMAAAADQAAAA4AAAAPAAAAEAAAABEAAAASAAAAEwAAABQAAAAVAAAAFgAAABcAAAAYAAAAGQAAABoAAAAbAAAAHAAAAB0AAAAeAAAAHwAAACAAAAAhAAAAIgAAACMAAAAkAAAAJQAAACYAAAAnAAAAKAAAACkAAAAqAAAAKwAAACwAAAAtAAAALgAAAC8AAAAwAAAAMQAAADIAAAA=",
           "dtype": "i4",
           "shape": "50"
          },
          "bdata": "AQAAAAIAAAADAAAABAAAAAUAAAAGAAAABwAAAAgAAAAJAAAACgAAAAsAAAAMAAAADQAAAA4AAAAPAAAAEAAAABEAAAASAAAAEwAAABQAAAAVAAAAFgAAABcAAAAYAAAAGQAAABoAAAAbAAAAHAAAAB0AAAAeAAAAHwAAACAAAAAhAAAAIgAAACMAAAAkAAAAJQAAACYAAAAnAAAAKAAAACkAAAAqAAAAKwAAACwAAAAtAAAALgAAAC8AAAAwAAAAMQAAADIAAAA=",
          "dtype": "i4"
         },
         "y": [
          0.693274199962616,
          0.7923133969306946,
          0.8144863247871399,
          0.8595713376998901,
          0.8551367521286011,
          0.8736141920089722
         ]
        },
        {
         "name": "Validation Accuracy",
         "type": "scatter",
         "x": {
          "_inputArray": {
           "0": 1,
           "1": 2,
           "10": 11,
           "11": 12,
           "12": 13,
           "13": 14,
           "14": 15,
           "15": 16,
           "16": 17,
           "17": 18,
           "18": 19,
           "19": 20,
           "2": 3,
           "20": 21,
           "21": 22,
           "22": 23,
           "23": 24,
           "24": 25,
           "25": 26,
           "26": 27,
           "27": 28,
           "28": 29,
           "29": 30,
           "3": 4,
           "30": 31,
           "31": 32,
           "32": 33,
           "33": 34,
           "34": 35,
           "35": 36,
           "36": 37,
           "37": 38,
           "38": 39,
           "39": 40,
           "4": 5,
           "40": 41,
           "41": 42,
           "42": 43,
           "43": 44,
           "44": 45,
           "45": 46,
           "46": 47,
           "47": 48,
           "48": 49,
           "49": 50,
           "5": 6,
           "6": 7,
           "7": 8,
           "8": 9,
           "9": 10,
           "bdata": "AQAAAAIAAAADAAAABAAAAAUAAAAGAAAABwAAAAgAAAAJAAAACgAAAAsAAAAMAAAADQAAAA4AAAAPAAAAEAAAABEAAAASAAAAEwAAABQAAAAVAAAAFgAAABcAAAAYAAAAGQAAABoAAAAbAAAAHAAAAB0AAAAeAAAAHwAAACAAAAAhAAAAIgAAACMAAAAkAAAAJQAAACYAAAAnAAAAKAAAACkAAAAqAAAAKwAAACwAAAAtAAAALgAAAC8AAAAwAAAAMQAAADIAAAA=",
           "dtype": "i4",
           "shape": "50"
          },
          "bdata": "AQAAAAIAAAADAAAABAAAAAUAAAAGAAAABwAAAAgAAAAJAAAACgAAAAsAAAAMAAAADQAAAA4AAAAPAAAAEAAAABEAAAASAAAAEwAAABQAAAAVAAAAFgAAABcAAAAYAAAAGQAAABoAAAAbAAAAHAAAAB0AAAAeAAAAHwAAACAAAAAhAAAAIgAAACMAAAAkAAAAJQAAACYAAAAnAAAAKAAAACkAAAAqAAAAKwAAACwAAAAtAAAALgAAAC8AAAAwAAAAMQAAADIAAAA=",
          "dtype": "i4"
         },
         "y": [
          0.21724137663841248,
          0.21724137663841248,
          0.21724137663841248,
          0.21724137663841248,
          0.21724137663841248,
          0.21724137663841248
         ]
        }
       ],
       "layout": {
        "autosize": true,
        "template": {
         "data": {
          "bar": [
           {
            "error_x": {
             "color": "#2a3f5f"
            },
            "error_y": {
             "color": "#2a3f5f"
            },
            "marker": {
             "line": {
              "color": "#E5ECF6",
              "width": 0.5
             },
             "pattern": {
              "fillmode": "overlay",
              "size": 10,
              "solidity": 0.2
             }
            },
            "type": "bar"
           }
          ],
          "barpolar": [
           {
            "marker": {
             "line": {
              "color": "#E5ECF6",
              "width": 0.5
             },
             "pattern": {
              "fillmode": "overlay",
              "size": 10,
              "solidity": 0.2
             }
            },
            "type": "barpolar"
           }
          ],
          "carpet": [
           {
            "aaxis": {
             "endlinecolor": "#2a3f5f",
             "gridcolor": "white",
             "linecolor": "white",
             "minorgridcolor": "white",
             "startlinecolor": "#2a3f5f"
            },
            "baxis": {
             "endlinecolor": "#2a3f5f",
             "gridcolor": "white",
             "linecolor": "white",
             "minorgridcolor": "white",
             "startlinecolor": "#2a3f5f"
            },
            "type": "carpet"
           }
          ],
          "choropleth": [
           {
            "colorbar": {
             "outlinewidth": 0,
             "ticks": ""
            },
            "type": "choropleth"
           }
          ],
          "contour": [
           {
            "colorbar": {
             "outlinewidth": 0,
             "ticks": ""
            },
            "colorscale": [
             [
              0,
              "#0d0887"
             ],
             [
              0.1111111111111111,
              "#46039f"
             ],
             [
              0.2222222222222222,
              "#7201a8"
             ],
             [
              0.3333333333333333,
              "#9c179e"
             ],
             [
              0.4444444444444444,
              "#bd3786"
             ],
             [
              0.5555555555555556,
              "#d8576b"
             ],
             [
              0.6666666666666666,
              "#ed7953"
             ],
             [
              0.7777777777777778,
              "#fb9f3a"
             ],
             [
              0.8888888888888888,
              "#fdca26"
             ],
             [
              1,
              "#f0f921"
             ]
            ],
            "type": "contour"
           }
          ],
          "contourcarpet": [
           {
            "colorbar": {
             "outlinewidth": 0,
             "ticks": ""
            },
            "type": "contourcarpet"
           }
          ],
          "heatmap": [
           {
            "colorbar": {
             "outlinewidth": 0,
             "ticks": ""
            },
            "colorscale": [
             [
              0,
              "#0d0887"
             ],
             [
              0.1111111111111111,
              "#46039f"
             ],
             [
              0.2222222222222222,
              "#7201a8"
             ],
             [
              0.3333333333333333,
              "#9c179e"
             ],
             [
              0.4444444444444444,
              "#bd3786"
             ],
             [
              0.5555555555555556,
              "#d8576b"
             ],
             [
              0.6666666666666666,
              "#ed7953"
             ],
             [
              0.7777777777777778,
              "#fb9f3a"
             ],
             [
              0.8888888888888888,
              "#fdca26"
             ],
             [
              1,
              "#f0f921"
             ]
            ],
            "type": "heatmap"
           }
          ],
          "histogram": [
           {
            "marker": {
             "pattern": {
              "fillmode": "overlay",
              "size": 10,
              "solidity": 0.2
             }
            },
            "type": "histogram"
           }
          ],
          "histogram2d": [
           {
            "colorbar": {
             "outlinewidth": 0,
             "ticks": ""
            },
            "colorscale": [
             [
              0,
              "#0d0887"
             ],
             [
              0.1111111111111111,
              "#46039f"
             ],
             [
              0.2222222222222222,
              "#7201a8"
             ],
             [
              0.3333333333333333,
              "#9c179e"
             ],
             [
              0.4444444444444444,
              "#bd3786"
             ],
             [
              0.5555555555555556,
              "#d8576b"
             ],
             [
              0.6666666666666666,
              "#ed7953"
             ],
             [
              0.7777777777777778,
              "#fb9f3a"
             ],
             [
              0.8888888888888888,
              "#fdca26"
             ],
             [
              1,
              "#f0f921"
             ]
            ],
            "type": "histogram2d"
           }
          ],
          "histogram2dcontour": [
           {
            "colorbar": {
             "outlinewidth": 0,
             "ticks": ""
            },
            "colorscale": [
             [
              0,
              "#0d0887"
             ],
             [
              0.1111111111111111,
              "#46039f"
             ],
             [
              0.2222222222222222,
              "#7201a8"
             ],
             [
              0.3333333333333333,
              "#9c179e"
             ],
             [
              0.4444444444444444,
              "#bd3786"
             ],
             [
              0.5555555555555556,
              "#d8576b"
             ],
             [
              0.6666666666666666,
              "#ed7953"
             ],
             [
              0.7777777777777778,
              "#fb9f3a"
             ],
             [
              0.8888888888888888,
              "#fdca26"
             ],
             [
              1,
              "#f0f921"
             ]
            ],
            "type": "histogram2dcontour"
           }
          ],
          "mesh3d": [
           {
            "colorbar": {
             "outlinewidth": 0,
             "ticks": ""
            },
            "type": "mesh3d"
           }
          ],
          "parcoords": [
           {
            "line": {
             "colorbar": {
              "outlinewidth": 0,
              "ticks": ""
             }
            },
            "type": "parcoords"
           }
          ],
          "pie": [
           {
            "automargin": true,
            "type": "pie"
           }
          ],
          "scatter": [
           {
            "fillpattern": {
             "fillmode": "overlay",
             "size": 10,
             "solidity": 0.2
            },
            "type": "scatter"
           }
          ],
          "scatter3d": [
           {
            "line": {
             "colorbar": {
              "outlinewidth": 0,
              "ticks": ""
             }
            },
            "marker": {
             "colorbar": {
              "outlinewidth": 0,
              "ticks": ""
             }
            },
            "type": "scatter3d"
           }
          ],
          "scattercarpet": [
           {
            "marker": {
             "colorbar": {
              "outlinewidth": 0,
              "ticks": ""
             }
            },
            "type": "scattercarpet"
           }
          ],
          "scattergeo": [
           {
            "marker": {
             "colorbar": {
              "outlinewidth": 0,
              "ticks": ""
             }
            },
            "type": "scattergeo"
           }
          ],
          "scattergl": [
           {
            "marker": {
             "colorbar": {
              "outlinewidth": 0,
              "ticks": ""
             }
            },
            "type": "scattergl"
           }
          ],
          "scattermap": [
           {
            "marker": {
             "colorbar": {
              "outlinewidth": 0,
              "ticks": ""
             }
            },
            "type": "scattermap"
           }
          ],
          "scattermapbox": [
           {
            "marker": {
             "colorbar": {
              "outlinewidth": 0,
              "ticks": ""
             }
            },
            "type": "scattermapbox"
           }
          ],
          "scatterpolar": [
           {
            "marker": {
             "colorbar": {
              "outlinewidth": 0,
              "ticks": ""
             }
            },
            "type": "scatterpolar"
           }
          ],
          "scatterpolargl": [
           {
            "marker": {
             "colorbar": {
              "outlinewidth": 0,
              "ticks": ""
             }
            },
            "type": "scatterpolargl"
           }
          ],
          "scatterternary": [
           {
            "marker": {
             "colorbar": {
              "outlinewidth": 0,
              "ticks": ""
             }
            },
            "type": "scatterternary"
           }
          ],
          "surface": [
           {
            "colorbar": {
             "outlinewidth": 0,
             "ticks": ""
            },
            "colorscale": [
             [
              0,
              "#0d0887"
             ],
             [
              0.1111111111111111,
              "#46039f"
             ],
             [
              0.2222222222222222,
              "#7201a8"
             ],
             [
              0.3333333333333333,
              "#9c179e"
             ],
             [
              0.4444444444444444,
              "#bd3786"
             ],
             [
              0.5555555555555556,
              "#d8576b"
             ],
             [
              0.6666666666666666,
              "#ed7953"
             ],
             [
              0.7777777777777778,
              "#fb9f3a"
             ],
             [
              0.8888888888888888,
              "#fdca26"
             ],
             [
              1,
              "#f0f921"
             ]
            ],
            "type": "surface"
           }
          ],
          "table": [
           {
            "cells": {
             "fill": {
              "color": "#EBF0F8"
             },
             "line": {
              "color": "white"
             }
            },
            "header": {
             "fill": {
              "color": "#C8D4E3"
             },
             "line": {
              "color": "white"
             }
            },
            "type": "table"
           }
          ]
         },
         "layout": {
          "annotationdefaults": {
           "arrowcolor": "#2a3f5f",
           "arrowhead": 0,
           "arrowwidth": 1
          },
          "autotypenumbers": "strict",
          "coloraxis": {
           "colorbar": {
            "outlinewidth": 0,
            "ticks": ""
           }
          },
          "colorscale": {
           "diverging": [
            [
             0,
             "#8e0152"
            ],
            [
             0.1,
             "#c51b7d"
            ],
            [
             0.2,
             "#de77ae"
            ],
            [
             0.3,
             "#f1b6da"
            ],
            [
             0.4,
             "#fde0ef"
            ],
            [
             0.5,
             "#f7f7f7"
            ],
            [
             0.6,
             "#e6f5d0"
            ],
            [
             0.7,
             "#b8e186"
            ],
            [
             0.8,
             "#7fbc41"
            ],
            [
             0.9,
             "#4d9221"
            ],
            [
             1,
             "#276419"
            ]
           ],
           "sequential": [
            [
             0,
             "#0d0887"
            ],
            [
             0.1111111111111111,
             "#46039f"
            ],
            [
             0.2222222222222222,
             "#7201a8"
            ],
            [
             0.3333333333333333,
             "#9c179e"
            ],
            [
             0.4444444444444444,
             "#bd3786"
            ],
            [
             0.5555555555555556,
             "#d8576b"
            ],
            [
             0.6666666666666666,
             "#ed7953"
            ],
            [
             0.7777777777777778,
             "#fb9f3a"
            ],
            [
             0.8888888888888888,
             "#fdca26"
            ],
            [
             1,
             "#f0f921"
            ]
           ],
           "sequentialminus": [
            [
             0,
             "#0d0887"
            ],
            [
             0.1111111111111111,
             "#46039f"
            ],
            [
             0.2222222222222222,
             "#7201a8"
            ],
            [
             0.3333333333333333,
             "#9c179e"
            ],
            [
             0.4444444444444444,
             "#bd3786"
            ],
            [
             0.5555555555555556,
             "#d8576b"
            ],
            [
             0.6666666666666666,
             "#ed7953"
            ],
            [
             0.7777777777777778,
             "#fb9f3a"
            ],
            [
             0.8888888888888888,
             "#fdca26"
            ],
            [
             1,
             "#f0f921"
            ]
           ]
          },
          "colorway": [
           "#636efa",
           "#EF553B",
           "#00cc96",
           "#ab63fa",
           "#FFA15A",
           "#19d3f3",
           "#FF6692",
           "#B6E880",
           "#FF97FF",
           "#FECB52"
          ],
          "font": {
           "color": "#2a3f5f"
          },
          "geo": {
           "bgcolor": "white",
           "lakecolor": "white",
           "landcolor": "#E5ECF6",
           "showlakes": true,
           "showland": true,
           "subunitcolor": "white"
          },
          "hoverlabel": {
           "align": "left"
          },
          "hovermode": "closest",
          "mapbox": {
           "style": "light"
          },
          "paper_bgcolor": "white",
          "plot_bgcolor": "#E5ECF6",
          "polar": {
           "angularaxis": {
            "gridcolor": "white",
            "linecolor": "white",
            "ticks": ""
           },
           "bgcolor": "#E5ECF6",
           "radialaxis": {
            "gridcolor": "white",
            "linecolor": "white",
            "ticks": ""
           }
          },
          "scene": {
           "xaxis": {
            "backgroundcolor": "#E5ECF6",
            "gridcolor": "white",
            "gridwidth": 2,
            "linecolor": "white",
            "showbackground": true,
            "ticks": "",
            "zerolinecolor": "white"
           },
           "yaxis": {
            "backgroundcolor": "#E5ECF6",
            "gridcolor": "white",
            "gridwidth": 2,
            "linecolor": "white",
            "showbackground": true,
            "ticks": "",
            "zerolinecolor": "white"
           },
           "zaxis": {
            "backgroundcolor": "#E5ECF6",
            "gridcolor": "white",
            "gridwidth": 2,
            "linecolor": "white",
            "showbackground": true,
            "ticks": "",
            "zerolinecolor": "white"
           }
          },
          "shapedefaults": {
           "line": {
            "color": "#2a3f5f"
           }
          },
          "ternary": {
           "aaxis": {
            "gridcolor": "white",
            "linecolor": "white",
            "ticks": ""
           },
           "baxis": {
            "gridcolor": "white",
            "linecolor": "white",
            "ticks": ""
           },
           "bgcolor": "#E5ECF6",
           "caxis": {
            "gridcolor": "white",
            "linecolor": "white",
            "ticks": ""
           }
          },
          "title": {
           "x": 0.05
          },
          "xaxis": {
           "automargin": true,
           "gridcolor": "white",
           "linecolor": "white",
           "ticks": "",
           "title": {
            "standoff": 15
           },
           "zerolinecolor": "white",
           "zerolinewidth": 2
          },
          "yaxis": {
           "automargin": true,
           "gridcolor": "white",
           "linecolor": "white",
           "ticks": "",
           "title": {
            "standoff": 15
           },
           "zerolinecolor": "white",
           "zerolinewidth": 2
          }
         }
        },
        "title": {
         "text": "Training and Validation Accuracy"
        },
        "xaxis": {
         "anchor": "y",
         "autorange": true,
         "domain": [
          0,
          1
         ],
         "range": [
          0.66796875,
          6.33203125
         ],
         "title": {
          "text": "Epoch"
         },
         "type": "linear"
        },
        "yaxis": {
         "anchor": "x",
         "autorange": true,
         "domain": [
          0,
          1
         ],
         "range": [
          0.16307468799132746,
          0.9277808806560572
         ],
         "title": {
          "text": "Accuracy"
         },
         "type": "linear"
        }
       }
      }
     },
     "metadata": {},
     "output_type": "display_data"
    },
    {
     "data": {
      "application/vnd.plotly.v1+json": {
       "config": {
        "plotlyServerURL": "https://plot.ly"
       },
       "data": [
        {
         "name": "Training Loss",
         "type": "scatter",
         "x": {
          "_inputArray": {
           "0": 1,
           "1": 2,
           "10": 11,
           "11": 12,
           "12": 13,
           "13": 14,
           "14": 15,
           "15": 16,
           "16": 17,
           "17": 18,
           "18": 19,
           "19": 20,
           "2": 3,
           "20": 21,
           "21": 22,
           "22": 23,
           "23": 24,
           "24": 25,
           "25": 26,
           "26": 27,
           "27": 28,
           "28": 29,
           "29": 30,
           "3": 4,
           "30": 31,
           "31": 32,
           "32": 33,
           "33": 34,
           "34": 35,
           "35": 36,
           "36": 37,
           "37": 38,
           "38": 39,
           "39": 40,
           "4": 5,
           "40": 41,
           "41": 42,
           "42": 43,
           "43": 44,
           "44": 45,
           "45": 46,
           "46": 47,
           "47": 48,
           "48": 49,
           "49": 50,
           "5": 6,
           "6": 7,
           "7": 8,
           "8": 9,
           "9": 10,
           "bdata": "AQAAAAIAAAADAAAABAAAAAUAAAAGAAAABwAAAAgAAAAJAAAACgAAAAsAAAAMAAAADQAAAA4AAAAPAAAAEAAAABEAAAASAAAAEwAAABQAAAAVAAAAFgAAABcAAAAYAAAAGQAAABoAAAAbAAAAHAAAAB0AAAAeAAAAHwAAACAAAAAhAAAAIgAAACMAAAAkAAAAJQAAACYAAAAnAAAAKAAAACkAAAAqAAAAKwAAACwAAAAtAAAALgAAAC8AAAAwAAAAMQAAADIAAAA=",
           "dtype": "i4",
           "shape": "50"
          },
          "bdata": "AQAAAAIAAAADAAAABAAAAAUAAAAGAAAABwAAAAgAAAAJAAAACgAAAAsAAAAMAAAADQAAAA4AAAAPAAAAEAAAABEAAAASAAAAEwAAABQAAAAVAAAAFgAAABcAAAAYAAAAGQAAABoAAAAbAAAAHAAAAB0AAAAeAAAAHwAAACAAAAAhAAAAIgAAACMAAAAkAAAAJQAAACYAAAAnAAAAKAAAACkAAAAqAAAAKwAAACwAAAAtAAAALgAAAC8AAAAwAAAAMQAAADIAAAA=",
          "dtype": "i4"
         },
         "y": [
          0.5147826075553894,
          0.3565349280834198,
          0.3126267194747925,
          0.25529831647872925,
          0.26323261857032776,
          0.22649908065795898
         ]
        },
        {
         "name": "Validation Loss",
         "type": "scatter",
         "x": {
          "_inputArray": {
           "0": 1,
           "1": 2,
           "10": 11,
           "11": 12,
           "12": 13,
           "13": 14,
           "14": 15,
           "15": 16,
           "16": 17,
           "17": 18,
           "18": 19,
           "19": 20,
           "2": 3,
           "20": 21,
           "21": 22,
           "22": 23,
           "23": 24,
           "24": 25,
           "25": 26,
           "26": 27,
           "27": 28,
           "28": 29,
           "29": 30,
           "3": 4,
           "30": 31,
           "31": 32,
           "32": 33,
           "33": 34,
           "34": 35,
           "35": 36,
           "36": 37,
           "37": 38,
           "38": 39,
           "39": 40,
           "4": 5,
           "40": 41,
           "41": 42,
           "42": 43,
           "43": 44,
           "44": 45,
           "45": 46,
           "46": 47,
           "47": 48,
           "48": 49,
           "49": 50,
           "5": 6,
           "6": 7,
           "7": 8,
           "8": 9,
           "9": 10,
           "bdata": "AQAAAAIAAAADAAAABAAAAAUAAAAGAAAABwAAAAgAAAAJAAAACgAAAAsAAAAMAAAADQAAAA4AAAAPAAAAEAAAABEAAAASAAAAEwAAABQAAAAVAAAAFgAAABcAAAAYAAAAGQAAABoAAAAbAAAAHAAAAB0AAAAeAAAAHwAAACAAAAAhAAAAIgAAACMAAAAkAAAAJQAAACYAAAAnAAAAKAAAACkAAAAqAAAAKwAAACwAAAAtAAAALgAAAC8AAAAwAAAAMQAAADIAAAA=",
           "dtype": "i4",
           "shape": "50"
          },
          "bdata": "AQAAAAIAAAADAAAABAAAAAUAAAAGAAAABwAAAAgAAAAJAAAACgAAAAsAAAAMAAAADQAAAA4AAAAPAAAAEAAAABEAAAASAAAAEwAAABQAAAAVAAAAFgAAABcAAAAYAAAAGQAAABoAAAAbAAAAHAAAAB0AAAAeAAAAHwAAACAAAAAhAAAAIgAAACMAAAAkAAAAJQAAACYAAAAnAAAAKAAAACkAAAAqAAAAKwAAACwAAAAtAAAALgAAAC8AAAAwAAAAMQAAADIAAAA=",
          "dtype": "i4"
         },
         "y": [
          2.0686116218566895,
          5.5102925300598145,
          4.826663017272949,
          5.830966472625732,
          4.808224678039551,
          5.820242404937744
         ]
        }
       ],
       "layout": {
        "autosize": true,
        "template": {
         "data": {
          "bar": [
           {
            "error_x": {
             "color": "#2a3f5f"
            },
            "error_y": {
             "color": "#2a3f5f"
            },
            "marker": {
             "line": {
              "color": "#E5ECF6",
              "width": 0.5
             },
             "pattern": {
              "fillmode": "overlay",
              "size": 10,
              "solidity": 0.2
             }
            },
            "type": "bar"
           }
          ],
          "barpolar": [
           {
            "marker": {
             "line": {
              "color": "#E5ECF6",
              "width": 0.5
             },
             "pattern": {
              "fillmode": "overlay",
              "size": 10,
              "solidity": 0.2
             }
            },
            "type": "barpolar"
           }
          ],
          "carpet": [
           {
            "aaxis": {
             "endlinecolor": "#2a3f5f",
             "gridcolor": "white",
             "linecolor": "white",
             "minorgridcolor": "white",
             "startlinecolor": "#2a3f5f"
            },
            "baxis": {
             "endlinecolor": "#2a3f5f",
             "gridcolor": "white",
             "linecolor": "white",
             "minorgridcolor": "white",
             "startlinecolor": "#2a3f5f"
            },
            "type": "carpet"
           }
          ],
          "choropleth": [
           {
            "colorbar": {
             "outlinewidth": 0,
             "ticks": ""
            },
            "type": "choropleth"
           }
          ],
          "contour": [
           {
            "colorbar": {
             "outlinewidth": 0,
             "ticks": ""
            },
            "colorscale": [
             [
              0,
              "#0d0887"
             ],
             [
              0.1111111111111111,
              "#46039f"
             ],
             [
              0.2222222222222222,
              "#7201a8"
             ],
             [
              0.3333333333333333,
              "#9c179e"
             ],
             [
              0.4444444444444444,
              "#bd3786"
             ],
             [
              0.5555555555555556,
              "#d8576b"
             ],
             [
              0.6666666666666666,
              "#ed7953"
             ],
             [
              0.7777777777777778,
              "#fb9f3a"
             ],
             [
              0.8888888888888888,
              "#fdca26"
             ],
             [
              1,
              "#f0f921"
             ]
            ],
            "type": "contour"
           }
          ],
          "contourcarpet": [
           {
            "colorbar": {
             "outlinewidth": 0,
             "ticks": ""
            },
            "type": "contourcarpet"
           }
          ],
          "heatmap": [
           {
            "colorbar": {
             "outlinewidth": 0,
             "ticks": ""
            },
            "colorscale": [
             [
              0,
              "#0d0887"
             ],
             [
              0.1111111111111111,
              "#46039f"
             ],
             [
              0.2222222222222222,
              "#7201a8"
             ],
             [
              0.3333333333333333,
              "#9c179e"
             ],
             [
              0.4444444444444444,
              "#bd3786"
             ],
             [
              0.5555555555555556,
              "#d8576b"
             ],
             [
              0.6666666666666666,
              "#ed7953"
             ],
             [
              0.7777777777777778,
              "#fb9f3a"
             ],
             [
              0.8888888888888888,
              "#fdca26"
             ],
             [
              1,
              "#f0f921"
             ]
            ],
            "type": "heatmap"
           }
          ],
          "histogram": [
           {
            "marker": {
             "pattern": {
              "fillmode": "overlay",
              "size": 10,
              "solidity": 0.2
             }
            },
            "type": "histogram"
           }
          ],
          "histogram2d": [
           {
            "colorbar": {
             "outlinewidth": 0,
             "ticks": ""
            },
            "colorscale": [
             [
              0,
              "#0d0887"
             ],
             [
              0.1111111111111111,
              "#46039f"
             ],
             [
              0.2222222222222222,
              "#7201a8"
             ],
             [
              0.3333333333333333,
              "#9c179e"
             ],
             [
              0.4444444444444444,
              "#bd3786"
             ],
             [
              0.5555555555555556,
              "#d8576b"
             ],
             [
              0.6666666666666666,
              "#ed7953"
             ],
             [
              0.7777777777777778,
              "#fb9f3a"
             ],
             [
              0.8888888888888888,
              "#fdca26"
             ],
             [
              1,
              "#f0f921"
             ]
            ],
            "type": "histogram2d"
           }
          ],
          "histogram2dcontour": [
           {
            "colorbar": {
             "outlinewidth": 0,
             "ticks": ""
            },
            "colorscale": [
             [
              0,
              "#0d0887"
             ],
             [
              0.1111111111111111,
              "#46039f"
             ],
             [
              0.2222222222222222,
              "#7201a8"
             ],
             [
              0.3333333333333333,
              "#9c179e"
             ],
             [
              0.4444444444444444,
              "#bd3786"
             ],
             [
              0.5555555555555556,
              "#d8576b"
             ],
             [
              0.6666666666666666,
              "#ed7953"
             ],
             [
              0.7777777777777778,
              "#fb9f3a"
             ],
             [
              0.8888888888888888,
              "#fdca26"
             ],
             [
              1,
              "#f0f921"
             ]
            ],
            "type": "histogram2dcontour"
           }
          ],
          "mesh3d": [
           {
            "colorbar": {
             "outlinewidth": 0,
             "ticks": ""
            },
            "type": "mesh3d"
           }
          ],
          "parcoords": [
           {
            "line": {
             "colorbar": {
              "outlinewidth": 0,
              "ticks": ""
             }
            },
            "type": "parcoords"
           }
          ],
          "pie": [
           {
            "automargin": true,
            "type": "pie"
           }
          ],
          "scatter": [
           {
            "fillpattern": {
             "fillmode": "overlay",
             "size": 10,
             "solidity": 0.2
            },
            "type": "scatter"
           }
          ],
          "scatter3d": [
           {
            "line": {
             "colorbar": {
              "outlinewidth": 0,
              "ticks": ""
             }
            },
            "marker": {
             "colorbar": {
              "outlinewidth": 0,
              "ticks": ""
             }
            },
            "type": "scatter3d"
           }
          ],
          "scattercarpet": [
           {
            "marker": {
             "colorbar": {
              "outlinewidth": 0,
              "ticks": ""
             }
            },
            "type": "scattercarpet"
           }
          ],
          "scattergeo": [
           {
            "marker": {
             "colorbar": {
              "outlinewidth": 0,
              "ticks": ""
             }
            },
            "type": "scattergeo"
           }
          ],
          "scattergl": [
           {
            "marker": {
             "colorbar": {
              "outlinewidth": 0,
              "ticks": ""
             }
            },
            "type": "scattergl"
           }
          ],
          "scattermap": [
           {
            "marker": {
             "colorbar": {
              "outlinewidth": 0,
              "ticks": ""
             }
            },
            "type": "scattermap"
           }
          ],
          "scattermapbox": [
           {
            "marker": {
             "colorbar": {
              "outlinewidth": 0,
              "ticks": ""
             }
            },
            "type": "scattermapbox"
           }
          ],
          "scatterpolar": [
           {
            "marker": {
             "colorbar": {
              "outlinewidth": 0,
              "ticks": ""
             }
            },
            "type": "scatterpolar"
           }
          ],
          "scatterpolargl": [
           {
            "marker": {
             "colorbar": {
              "outlinewidth": 0,
              "ticks": ""
             }
            },
            "type": "scatterpolargl"
           }
          ],
          "scatterternary": [
           {
            "marker": {
             "colorbar": {
              "outlinewidth": 0,
              "ticks": ""
             }
            },
            "type": "scatterternary"
           }
          ],
          "surface": [
           {
            "colorbar": {
             "outlinewidth": 0,
             "ticks": ""
            },
            "colorscale": [
             [
              0,
              "#0d0887"
             ],
             [
              0.1111111111111111,
              "#46039f"
             ],
             [
              0.2222222222222222,
              "#7201a8"
             ],
             [
              0.3333333333333333,
              "#9c179e"
             ],
             [
              0.4444444444444444,
              "#bd3786"
             ],
             [
              0.5555555555555556,
              "#d8576b"
             ],
             [
              0.6666666666666666,
              "#ed7953"
             ],
             [
              0.7777777777777778,
              "#fb9f3a"
             ],
             [
              0.8888888888888888,
              "#fdca26"
             ],
             [
              1,
              "#f0f921"
             ]
            ],
            "type": "surface"
           }
          ],
          "table": [
           {
            "cells": {
             "fill": {
              "color": "#EBF0F8"
             },
             "line": {
              "color": "white"
             }
            },
            "header": {
             "fill": {
              "color": "#C8D4E3"
             },
             "line": {
              "color": "white"
             }
            },
            "type": "table"
           }
          ]
         },
         "layout": {
          "annotationdefaults": {
           "arrowcolor": "#2a3f5f",
           "arrowhead": 0,
           "arrowwidth": 1
          },
          "autotypenumbers": "strict",
          "coloraxis": {
           "colorbar": {
            "outlinewidth": 0,
            "ticks": ""
           }
          },
          "colorscale": {
           "diverging": [
            [
             0,
             "#8e0152"
            ],
            [
             0.1,
             "#c51b7d"
            ],
            [
             0.2,
             "#de77ae"
            ],
            [
             0.3,
             "#f1b6da"
            ],
            [
             0.4,
             "#fde0ef"
            ],
            [
             0.5,
             "#f7f7f7"
            ],
            [
             0.6,
             "#e6f5d0"
            ],
            [
             0.7,
             "#b8e186"
            ],
            [
             0.8,
             "#7fbc41"
            ],
            [
             0.9,
             "#4d9221"
            ],
            [
             1,
             "#276419"
            ]
           ],
           "sequential": [
            [
             0,
             "#0d0887"
            ],
            [
             0.1111111111111111,
             "#46039f"
            ],
            [
             0.2222222222222222,
             "#7201a8"
            ],
            [
             0.3333333333333333,
             "#9c179e"
            ],
            [
             0.4444444444444444,
             "#bd3786"
            ],
            [
             0.5555555555555556,
             "#d8576b"
            ],
            [
             0.6666666666666666,
             "#ed7953"
            ],
            [
             0.7777777777777778,
             "#fb9f3a"
            ],
            [
             0.8888888888888888,
             "#fdca26"
            ],
            [
             1,
             "#f0f921"
            ]
           ],
           "sequentialminus": [
            [
             0,
             "#0d0887"
            ],
            [
             0.1111111111111111,
             "#46039f"
            ],
            [
             0.2222222222222222,
             "#7201a8"
            ],
            [
             0.3333333333333333,
             "#9c179e"
            ],
            [
             0.4444444444444444,
             "#bd3786"
            ],
            [
             0.5555555555555556,
             "#d8576b"
            ],
            [
             0.6666666666666666,
             "#ed7953"
            ],
            [
             0.7777777777777778,
             "#fb9f3a"
            ],
            [
             0.8888888888888888,
             "#fdca26"
            ],
            [
             1,
             "#f0f921"
            ]
           ]
          },
          "colorway": [
           "#636efa",
           "#EF553B",
           "#00cc96",
           "#ab63fa",
           "#FFA15A",
           "#19d3f3",
           "#FF6692",
           "#B6E880",
           "#FF97FF",
           "#FECB52"
          ],
          "font": {
           "color": "#2a3f5f"
          },
          "geo": {
           "bgcolor": "white",
           "lakecolor": "white",
           "landcolor": "#E5ECF6",
           "showlakes": true,
           "showland": true,
           "subunitcolor": "white"
          },
          "hoverlabel": {
           "align": "left"
          },
          "hovermode": "closest",
          "mapbox": {
           "style": "light"
          },
          "paper_bgcolor": "white",
          "plot_bgcolor": "#E5ECF6",
          "polar": {
           "angularaxis": {
            "gridcolor": "white",
            "linecolor": "white",
            "ticks": ""
           },
           "bgcolor": "#E5ECF6",
           "radialaxis": {
            "gridcolor": "white",
            "linecolor": "white",
            "ticks": ""
           }
          },
          "scene": {
           "xaxis": {
            "backgroundcolor": "#E5ECF6",
            "gridcolor": "white",
            "gridwidth": 2,
            "linecolor": "white",
            "showbackground": true,
            "ticks": "",
            "zerolinecolor": "white"
           },
           "yaxis": {
            "backgroundcolor": "#E5ECF6",
            "gridcolor": "white",
            "gridwidth": 2,
            "linecolor": "white",
            "showbackground": true,
            "ticks": "",
            "zerolinecolor": "white"
           },
           "zaxis": {
            "backgroundcolor": "#E5ECF6",
            "gridcolor": "white",
            "gridwidth": 2,
            "linecolor": "white",
            "showbackground": true,
            "ticks": "",
            "zerolinecolor": "white"
           }
          },
          "shapedefaults": {
           "line": {
            "color": "#2a3f5f"
           }
          },
          "ternary": {
           "aaxis": {
            "gridcolor": "white",
            "linecolor": "white",
            "ticks": ""
           },
           "baxis": {
            "gridcolor": "white",
            "linecolor": "white",
            "ticks": ""
           },
           "bgcolor": "#E5ECF6",
           "caxis": {
            "gridcolor": "white",
            "linecolor": "white",
            "ticks": ""
           }
          },
          "title": {
           "x": 0.05
          },
          "xaxis": {
           "automargin": true,
           "gridcolor": "white",
           "linecolor": "white",
           "ticks": "",
           "title": {
            "standoff": 15
           },
           "zerolinecolor": "white",
           "zerolinewidth": 2
          },
          "yaxis": {
           "automargin": true,
           "gridcolor": "white",
           "linecolor": "white",
           "ticks": "",
           "title": {
            "standoff": 15
           },
           "zerolinecolor": "white",
           "zerolinewidth": 2
          }
         }
        },
        "title": {
         "text": "Training and Validation Loss"
        },
        "xaxis": {
         "anchor": "y",
         "autorange": true,
         "domain": [
          0,
          1
         ],
         "range": [
          0.6711976487876561,
          6.328802351212344
         ],
         "title": {
          "text": "Epoch"
         },
         "type": "linear"
        },
        "yaxis": {
         "anchor": "x",
         "autorange": true,
         "domain": [
          0,
          1
         ],
         "range": [
          -0.23600550994132335,
          6.293471063225015
         ],
         "title": {
          "text": "Loss"
         },
         "type": "linear"
        }
       }
      }
     },
     "metadata": {},
     "output_type": "display_data"
    }
   ],
   "source": [
    "def history_plot(epochs, history):\n",
    "    fig1 = make_subplots()\n",
    "    fig1.add_trace(go.Scatter(x = np.arange(1,epochs+1), y = history.history[\"accuracy\"], name = \"Training Accuracy\"))\n",
    "    fig1.add_trace(go.Scatter(x = np.arange(1,epochs+1), y = history.history[\"val_accuracy\"], name = \"Validation Accuracy\"))\n",
    "    fig1.update_layout(title = \"Training and Validation Accuracy\", xaxis_title = \"Epoch\", yaxis_title = \"Accuracy\")\n",
    "    fig1.show()\n",
    "\n",
    "    fig2 = make_subplots()\n",
    "    fig2.add_trace(go.Scatter(x = np.arange(1,epochs+1), y = history.history[\"loss\"], name = \"Training Loss\"))\n",
    "    fig2.add_trace(go.Scatter(x = np.arange(1,epochs+1), y = history.history[\"val_loss\"], name = \"Validation Loss\"))\n",
    "    fig2.update_layout(title = \"Training and Validation Loss\", xaxis_title = \"Epoch\", yaxis_title = \"Loss\")\n",
    "    fig2.show()\n",
    "\n",
    "history_plot(epochs, history)"
   ]
  },
  {
   "cell_type": "code",
   "execution_count": 19,
   "id": "57328b49-3628-499b-90d4-3e4f47de324a",
   "metadata": {},
   "outputs": [
    {
     "name": "stdout",
     "output_type": "stream",
     "text": [
      "Test Loss = 2.103410005569458\n",
      "Test Accuracy = 0.20344828069210052\n"
     ]
    }
   ],
   "source": [
    "def evaluate_model(model, test_generator):\n",
    "    #Calculate test loss and accuracy\n",
    "    results = model.evaluate(test_generator, verbose = 0)\n",
    "    print(f\"Test Loss = {results[0]}\")\n",
    "    print(f\"Test Accuracy = {results[1]}\")\n",
    "evaluate_model(model_2D, test_generator)"
   ]
  },
  {
   "cell_type": "markdown",
   "id": "319a7a4b-dd9d-4892-b6f3-611686a1adab",
   "metadata": {},
   "source": [
    "#### Transfer learning for improving Accuray (using Fine tune Model Vgg16 and InceptionsV3)"
   ]
  },
  {
   "cell_type": "code",
   "execution_count": null,
   "id": "c169b8e9-b887-4bc5-b2eb-05d14f92de21",
   "metadata": {},
   "outputs": [],
   "source": [
    "#Define base_model of InceptionV3\n",
    "base_model = InceptionV3(input_shape = (256,256,3), include_top = False, weights = \"imagenet\")\n",
    "#Freeze all layers\n",
    "for layer in base_model.layers:\n",
    "    layer.trainable = False\n",
    "\n",
    "#Add Custom layers\n",
    "model_IV3 = Sequential()\n",
    "model_IV3.add(Input(shape = (256,256, 3)))\n",
    "model_IV3.add(base_model)\n",
    "model_IV3.add(GlobalAveragePooling2D())\n",
    "model_IV3.add(Dense(1024, activation = \"relu\"))\n",
    "model_IV3.add(Dropout(0.4))\n",
    "model_IV3.add(Dense(3, activation = \"softmax\"))\n",
    "#Compile and Training the model \n",
    "epochs = 50\n",
    "model_IV3.compile(optimizer = Adam(0.0003),\n",
    "             loss = \"categorical_crossentropy\",\n",
    "             metrics = [\"accuracy\"])\n",
    "history = model_IV3.fit(train_generator,\n",
    "                   steps_per_epoch = len(train_generator),\n",
    "                   batch_size = 64,\n",
    "                   validation_data = val_generator,\n",
    "                   validation_steps = len(val_generator),\n",
    "                   class_weight = train_class_weights,\n",
    "                   callbacks=[\n",
    "                               EarlyStopping(monitor = \"val_loss\", # watch the val loss metric\n",
    "                               patience = 5,\n",
    "                               restore_best_weights = True), \n",
    "                               ReduceLROnPlateau(monitor='val_loss', factor=0.2, patience=2, mode='min') \n",
    "                              ],\n",
    "                   epochs = epochs)"
   ]
  },
  {
   "cell_type": "code",
   "execution_count": null,
   "id": "59fcb4f0-eb4f-48a5-868f-ec8748c5e509",
   "metadata": {},
   "outputs": [],
   "source": [
    "#Plot the graph\n",
    "history_plot(epochs, history)"
   ]
  },
  {
   "cell_type": "code",
   "execution_count": null,
   "id": "82d5aeea-2ffe-405d-87bc-4a5080e808ab",
   "metadata": {},
   "outputs": [],
   "source": [
    "evaluate_model(model_IV3, test_generator)"
   ]
  },
  {
   "cell_type": "markdown",
   "id": "b4521069-deff-4232-8b23-6489cdd97767",
   "metadata": {},
   "source": [
    "### Fine tune InceptionsV3 Model"
   ]
  },
  {
   "cell_type": "code",
   "execution_count": null,
   "id": "c8800db4-abce-48c7-b209-06398485c306",
   "metadata": {},
   "outputs": [],
   "source": [
    "# All layers does not freeze\n",
    "base_model.trainable = True\n",
    "#Compile the model\n",
    "model_IV3.compile(optimizer = Adam(0.0001),\n",
    "              loss = \"categorical_crossentropy\",\n",
    "              metrics = [\"accuracy\"])\n",
    "#Training the model\n",
    "epochs = 50\n",
    "history = model_IV3.fit(train_generator,\n",
    "                   steps_per_epoch = len(train_generator),\n",
    "                   batch_size = 64,\n",
    "                   validation_data = val_generator,\n",
    "                   validation_steps = len(val_generator),\n",
    "                   class_weight = train_class_weights,\n",
    "                   callbacks=[\n",
    "                               EarlyStopping(monitor = \"val_loss\", # watch the val loss metric\n",
    "                               patience = 5,\n",
    "                               restore_best_weights = True), \n",
    "                               ReduceLROnPlateau(monitor='val_loss', factor=0.2, patience=2, mode='min') \n",
    "                              ],\n",
    "                   epochs = epochs)"
   ]
  },
  {
   "cell_type": "code",
   "execution_count": null,
   "id": "0d255009-180a-43ae-8ac1-949e1f8ee70d",
   "metadata": {},
   "outputs": [],
   "source": [
    "#Plot the graph\n",
    "history_plot(epochs, history)"
   ]
  },
  {
   "cell_type": "code",
   "execution_count": null,
   "id": "94b9bdb3-7834-40f7-b28f-716453e59f01",
   "metadata": {},
   "outputs": [],
   "source": [
    "evaluate_model(model_IV3, test_generator)"
   ]
  },
  {
   "cell_type": "markdown",
   "id": "a8d6926e-4b71-44a4-9d17-313daeb0547d",
   "metadata": {},
   "source": [
    "### Finetune VGG16 Model "
   ]
  },
  {
   "cell_type": "code",
   "execution_count": null,
   "id": "9a8d0138-6433-4022-b3e6-8bba261841ea",
   "metadata": {},
   "outputs": [],
   "source": [
    "#Define base mode of VGG16\n",
    "base_model_vgg16 = VGG16(input_shape = (256,256, 3), include_top = False, weights = \"imagenet\")\n",
    "\n",
    "#Freeze all layers VGG16 model\n",
    "for layer in base_model_vgg16.layers:\n",
    "    layer.trainable = False\n",
    "\n",
    "#Add custom layers\n",
    "model_VGG16 = Sequential()\n",
    "model_VGG16 .add(Input(shape = (256, 256, 3)))\n",
    "model_VGG16 .add(base_model)\n",
    "model_VGG16 .add(GlobalAveragePooling2D())\n",
    "model_VGG16 .add(Dense(1024, activation = \"relu\"))\n",
    "model_VGG16 .add(Dropout(0.4))\n",
    "model_VGG16 .add(Dense(3, activation = \"softmax\"))\n",
    "\n",
    "#Compile model\n",
    "model_VGG16 .compile(optimizer = Adam(0.0003),\n",
    "             loss = \"categorical_crossentropy\",\n",
    "             metrics = [\"accuracy\"])\n",
    "\n",
    "#Training the model\n",
    "epochs = 50\n",
    "history = model_VGG16 .fit(train_generator,\n",
    "                   steps_per_epoch = len(train_generator),\n",
    "                   batch_size = 64,\n",
    "                   validation_data = val_generator,\n",
    "                   validation_steps = len(val_generator),\n",
    "                   class_weight = train_class_weights,\n",
    "                   callbacks=[\n",
    "                               EarlyStopping(monitor = \"val_loss\", # watch the val loss metric\n",
    "                               patience = 5,\n",
    "                               restore_best_weights = True), \n",
    "                               ReduceLROnPlateau(monitor='val_loss', factor=0.2, patience=4, mode='min') \n",
    "                              ],\n",
    "                   epochs = epochs)"
   ]
  },
  {
   "cell_type": "code",
   "execution_count": null,
   "id": "af9a6388-5555-47e6-ad8a-e68b55966c47",
   "metadata": {},
   "outputs": [],
   "source": [
    "history_plot(epochs, history)"
   ]
  },
  {
   "cell_type": "code",
   "execution_count": null,
   "id": "5ee116f9-1ed1-4bf8-8ee7-4a0cb3dc4ddf",
   "metadata": {},
   "outputs": [],
   "source": [
    "evaluate_model(model_VGG16 ,test_generator)"
   ]
  },
  {
   "cell_type": "code",
   "execution_count": null,
   "id": "45717c48-22f1-4629-95f2-7982572866dc",
   "metadata": {},
   "outputs": [],
   "source": [
    "#Set the training layer jus block_conv1\n",
    "base_model_vgg16.trainable = True\n",
    "set_trainable = False\n",
    "for layer in base_model_vgg16.layers:\n",
    "    if layer.name == 'block5_conv1':\n",
    "        set_trainable = True\n",
    "    if set_trainable:\n",
    "        layer.trainable = True\n",
    "    else:\n",
    "        layer.trainable = False\n",
    "\n",
    "#Compile the model\n",
    "model_VGG16 .compile(optimizer = Adam(0.0001),\n",
    "              loss = \"categorical_crossentropy\",\n",
    "              metrics = [\"accuracy\"])   \n",
    "#Training the model\n",
    "epochs = 50\n",
    "history = model_VGG16.fit(train_generator,\n",
    "                   steps_per_epoch = len(train_generator),\n",
    "                   batch_size = 64,\n",
    "                   validation_data = val_generator,\n",
    "                   validation_steps = len(val_generator),\n",
    "                   class_weight = train_class_weights,\n",
    "                   callbacks=[\n",
    "                               EarlyStopping(monitor = \"val_loss\", # watch the val loss metric\n",
    "                               patience = 5,\n",
    "                               restore_best_weights = True), \n",
    "                               ReduceLROnPlateau(monitor='val_loss', factor=0.2, patience=4, mode='min') \n",
    "                              ],\n",
    "                   epochs = epochs)"
   ]
  },
  {
   "cell_type": "code",
   "execution_count": null,
   "id": "3c8a2ec0-7d88-4d33-bbf4-cfbbed72f702",
   "metadata": {},
   "outputs": [],
   "source": [
    "history_plot(epochs,history)"
   ]
  },
  {
   "cell_type": "code",
   "execution_count": null,
   "id": "796b9e48-0626-4811-8077-6d89dee7df9a",
   "metadata": {},
   "outputs": [],
   "source": [
    "evaluate_model(model_VGG16, test_generator)"
   ]
  },
  {
   "cell_type": "code",
   "execution_count": null,
   "id": "65e149a6-411c-4eed-acc4-3dda2fda5628",
   "metadata": {},
   "outputs": [],
   "source": [
    "#Results of the model\n",
    "models = [model_2D, model_IV3, model_VGG16 ]\n",
    "loss = []\n",
    "accuracy = []\n",
    "for model in models:\n",
    "    results = model.evaluate(test_generator, verbose = 0)\n",
    "    loss.append(results[0])\n",
    "    accuracy.append(results[1])\n",
    "\n",
    "name_models = [\"CNN (Custom)\", \"InceptionV3\", \"VGG16\"]\n",
    "df_loss_acc = pd.DataFrame(data = {\"Name_Models\" : name_models,\n",
    "                                  \"Loss\" : loss,\n",
    "                                  \"Accuracy\" : accuracy})\n",
    "\n",
    "fig = px.bar(data_frame = df_loss_acc, x = \"Name_Models\", y = [\"Accuracy\", \"Loss\"],\n",
    "            barmode = \"group\",\n",
    "            text_auto = \".3f\")\n",
    "fig.show()"
   ]
  }
 ],
 "metadata": {
  "kernelspec": {
   "display_name": "Python 3 (ipykernel)",
   "language": "python",
   "name": "python3"
  },
  "language_info": {
   "codemirror_mode": {
    "name": "ipython",
    "version": 3
   },
   "file_extension": ".py",
   "mimetype": "text/x-python",
   "name": "python",
   "nbconvert_exporter": "python",
   "pygments_lexer": "ipython3",
   "version": "3.12.3"
  }
 },
 "nbformat": 4,
 "nbformat_minor": 5
}
